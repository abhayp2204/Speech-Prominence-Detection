{
 "cells": [
  {
   "attachments": {},
   "cell_type": "markdown",
   "metadata": {},
   "source": [
    "# Speech Prominence Detection"
   ]
  },
  {
   "cell_type": "code",
   "execution_count": 1,
   "metadata": {},
   "outputs": [],
   "source": [
    "from matplotlib import pyplot as plt\n",
    "import random\n",
    "import pickle as pkl\n",
    "import pandas as pd\n",
    "import numpy as np\n",
    "import math\n",
    "from IPython.display import clear_output"
   ]
  },
  {
   "cell_type": "code",
   "execution_count": 2,
   "metadata": {},
   "outputs": [],
   "source": [
    "from sklearn.model_selection import train_test_split\n",
    "from sklearn.utils.class_weight import compute_class_weight\n",
    "from sklearn.preprocessing import MinMaxScaler"
   ]
  },
  {
   "cell_type": "code",
   "execution_count": 10,
   "metadata": {},
   "outputs": [
    {
     "name": "stdout",
     "output_type": "stream",
     "text": [
      "Collecting tensorflow==1.12.0\n",
      "  Downloading https://storage.googleapis.com/tensorflow/mac/cpu/tensorflow-1.12.0-py3-none-any.whl (62.0 MB)\n",
      "     ---------------------------------------- 0.0/62.0 MB ? eta -:--:--\n",
      "     ---------------------------------------- 0.0/62.0 MB ? eta -:--:--\n",
      "     ---------------------------------------- 0.0/62.0 MB ? eta -:--:--\n",
      "     --------------------------------------- 0.0/62.0 MB 146.3 kB/s eta 0:07:04\n",
      "     --------------------------------------- 0.0/62.0 MB 146.3 kB/s eta 0:07:04\n",
      "     --------------------------------------- 0.0/62.0 MB 131.3 kB/s eta 0:07:53\n",
      "     --------------------------------------- 0.0/62.0 MB 131.3 kB/s eta 0:07:53\n",
      "     --------------------------------------- 0.0/62.0 MB 131.3 kB/s eta 0:07:53\n",
      "     --------------------------------------- 0.1/62.0 MB 136.5 kB/s eta 0:07:34\n",
      "     --------------------------------------- 0.1/62.0 MB 151.3 kB/s eta 0:06:50\n",
      "     --------------------------------------- 0.1/62.0 MB 151.3 kB/s eta 0:06:50\n",
      "     --------------------------------------- 0.1/62.0 MB 151.3 kB/s eta 0:06:50\n",
      "     --------------------------------------- 0.1/62.0 MB 151.3 kB/s eta 0:06:50\n",
      "     --------------------------------------- 0.1/62.0 MB 138.1 kB/s eta 0:07:29\n",
      "     --------------------------------------- 0.1/62.0 MB 160.0 kB/s eta 0:06:27\n",
      "     --------------------------------------- 0.1/62.0 MB 189.4 kB/s eta 0:05:27\n",
      "     --------------------------------------- 0.2/62.0 MB 204.8 kB/s eta 0:05:03\n",
      "     --------------------------------------- 0.2/62.0 MB 231.6 kB/s eta 0:04:28\n",
      "     --------------------------------------- 0.2/62.0 MB 235.0 kB/s eta 0:04:24\n",
      "     --------------------------------------- 0.2/62.0 MB 253.1 kB/s eta 0:04:05\n",
      "     --------------------------------------- 0.3/62.0 MB 284.1 kB/s eta 0:03:38\n",
      "     --------------------------------------- 0.3/62.0 MB 312.2 kB/s eta 0:03:18\n",
      "     --------------------------------------- 0.4/62.0 MB 367.5 kB/s eta 0:02:48\n",
      "     --------------------------------------- 0.5/62.0 MB 431.0 kB/s eta 0:02:23\n",
      "     --------------------------------------- 0.6/62.0 MB 476.1 kB/s eta 0:02:10\n",
      "     --------------------------------------- 0.6/62.0 MB 526.2 kB/s eta 0:01:57\n",
      "     --------------------------------------- 0.7/62.0 MB 597.5 kB/s eta 0:01:43\n",
      "      -------------------------------------- 0.9/62.0 MB 687.5 kB/s eta 0:01:29\n",
      "      -------------------------------------- 1.1/62.0 MB 786.5 kB/s eta 0:01:18\n",
      "      -------------------------------------- 1.3/62.0 MB 908.6 kB/s eta 0:01:07\n",
      "      --------------------------------------- 1.5/62.0 MB 1.0 MB/s eta 0:01:00\n",
      "     - -------------------------------------- 1.7/62.0 MB 1.2 MB/s eta 0:00:53\n",
      "     - -------------------------------------- 2.0/62.0 MB 1.3 MB/s eta 0:00:47\n",
      "     - -------------------------------------- 2.2/62.0 MB 1.4 MB/s eta 0:00:44\n",
      "     - -------------------------------------- 2.4/62.0 MB 1.5 MB/s eta 0:00:40\n",
      "     - -------------------------------------- 2.7/62.0 MB 1.6 MB/s eta 0:00:38\n",
      "     - -------------------------------------- 2.9/62.0 MB 1.7 MB/s eta 0:00:35\n",
      "     -- ------------------------------------- 3.1/62.0 MB 1.8 MB/s eta 0:00:33\n",
      "     -- ------------------------------------- 3.4/62.0 MB 1.9 MB/s eta 0:00:32\n",
      "     -- ------------------------------------- 3.6/62.0 MB 2.0 MB/s eta 0:00:30\n",
      "     -- ------------------------------------- 3.9/62.0 MB 2.0 MB/s eta 0:00:29\n",
      "     -- ------------------------------------- 4.1/62.0 MB 2.1 MB/s eta 0:00:28\n",
      "     -- ------------------------------------- 4.3/62.0 MB 2.2 MB/s eta 0:00:27\n",
      "     -- ------------------------------------- 4.6/62.0 MB 2.2 MB/s eta 0:00:26\n",
      "     --- ------------------------------------ 4.8/62.0 MB 2.3 MB/s eta 0:00:25\n",
      "     --- ------------------------------------ 5.1/62.0 MB 2.4 MB/s eta 0:00:24\n",
      "     --- ------------------------------------ 5.3/62.0 MB 2.4 MB/s eta 0:00:24\n",
      "     --- ------------------------------------ 5.5/62.0 MB 2.5 MB/s eta 0:00:23\n",
      "     --- ------------------------------------ 5.8/62.0 MB 2.5 MB/s eta 0:00:23\n",
      "     --- ------------------------------------ 6.0/62.0 MB 2.6 MB/s eta 0:00:22\n",
      "     ---- ----------------------------------- 6.3/62.0 MB 2.7 MB/s eta 0:00:22\n",
      "     ---- ----------------------------------- 6.5/62.0 MB 2.7 MB/s eta 0:00:21\n",
      "     ---- ----------------------------------- 6.7/62.0 MB 2.7 MB/s eta 0:00:21\n",
      "     ---- ----------------------------------- 7.0/62.0 MB 2.8 MB/s eta 0:00:20\n",
      "     ---- ----------------------------------- 7.2/62.0 MB 2.8 MB/s eta 0:00:20\n",
      "     ---- ----------------------------------- 7.5/62.0 MB 2.9 MB/s eta 0:00:19\n",
      "     ----- ---------------------------------- 7.8/62.0 MB 3.0 MB/s eta 0:00:19\n",
      "     ----- ---------------------------------- 8.0/62.0 MB 3.0 MB/s eta 0:00:19\n",
      "     ----- ---------------------------------- 8.4/62.0 MB 3.1 MB/s eta 0:00:18\n",
      "     ----- ---------------------------------- 8.7/62.0 MB 3.1 MB/s eta 0:00:18\n",
      "     ----- ---------------------------------- 8.9/62.0 MB 3.2 MB/s eta 0:00:17\n",
      "     ----- ---------------------------------- 9.2/62.0 MB 3.2 MB/s eta 0:00:17\n",
      "     ------ --------------------------------- 9.5/62.0 MB 3.3 MB/s eta 0:00:17\n",
      "     ------ --------------------------------- 9.8/62.0 MB 3.3 MB/s eta 0:00:16\n",
      "     ------ --------------------------------- 10.1/62.0 MB 3.3 MB/s eta 0:00:16\n",
      "     ------ --------------------------------- 10.4/62.0 MB 4.3 MB/s eta 0:00:12\n",
      "     ------ --------------------------------- 10.6/62.0 MB 5.0 MB/s eta 0:00:11\n",
      "     ------- -------------------------------- 10.9/62.0 MB 5.2 MB/s eta 0:00:10\n",
      "     ------- -------------------------------- 11.2/62.0 MB 5.4 MB/s eta 0:00:10\n",
      "     ------- -------------------------------- 11.5/62.0 MB 5.5 MB/s eta 0:00:10\n",
      "     ------- -------------------------------- 11.8/62.0 MB 5.6 MB/s eta 0:00:10\n",
      "     ------- -------------------------------- 12.1/62.0 MB 5.5 MB/s eta 0:00:10\n",
      "     ------- -------------------------------- 12.4/62.0 MB 5.5 MB/s eta 0:00:09\n",
      "     -------- ------------------------------- 12.6/62.0 MB 5.5 MB/s eta 0:00:09\n",
      "     -------- ------------------------------- 12.9/62.0 MB 5.6 MB/s eta 0:00:09\n",
      "     -------- ------------------------------- 13.2/62.0 MB 5.6 MB/s eta 0:00:09\n",
      "     -------- ------------------------------- 13.5/62.0 MB 5.7 MB/s eta 0:00:09\n",
      "     -------- ------------------------------- 13.8/62.0 MB 5.7 MB/s eta 0:00:09\n",
      "     --------- ------------------------------ 14.1/62.0 MB 5.7 MB/s eta 0:00:09\n",
      "     --------- ------------------------------ 14.4/62.0 MB 5.7 MB/s eta 0:00:09\n",
      "     --------- ------------------------------ 14.6/62.0 MB 5.8 MB/s eta 0:00:09\n",
      "     --------- ------------------------------ 14.9/62.0 MB 5.8 MB/s eta 0:00:09\n",
      "     --------- ------------------------------ 15.2/62.0 MB 5.8 MB/s eta 0:00:09\n",
      "     --------- ------------------------------ 15.5/62.0 MB 5.8 MB/s eta 0:00:08\n",
      "     ---------- ----------------------------- 15.8/62.0 MB 5.9 MB/s eta 0:00:08\n",
      "     ---------- ----------------------------- 16.0/62.0 MB 6.0 MB/s eta 0:00:08\n",
      "     ---------- ----------------------------- 16.3/62.0 MB 6.0 MB/s eta 0:00:08\n",
      "     ---------- ----------------------------- 16.6/62.0 MB 6.0 MB/s eta 0:00:08\n",
      "     ---------- ----------------------------- 16.9/62.0 MB 6.0 MB/s eta 0:00:08\n",
      "     ----------- ---------------------------- 17.2/62.0 MB 6.1 MB/s eta 0:00:08\n",
      "     ----------- ---------------------------- 17.5/62.0 MB 6.1 MB/s eta 0:00:08\n",
      "     ----------- ---------------------------- 17.8/62.0 MB 6.1 MB/s eta 0:00:08\n",
      "     ----------- ---------------------------- 18.0/62.0 MB 6.1 MB/s eta 0:00:08\n",
      "     ----------- ---------------------------- 18.3/62.0 MB 6.1 MB/s eta 0:00:08\n",
      "     ----------- ---------------------------- 18.6/62.0 MB 6.1 MB/s eta 0:00:08\n",
      "     ------------ --------------------------- 18.9/62.0 MB 6.1 MB/s eta 0:00:08\n",
      "     ------------ --------------------------- 19.2/62.0 MB 6.1 MB/s eta 0:00:08\n",
      "     ------------ --------------------------- 19.5/62.0 MB 6.1 MB/s eta 0:00:08\n",
      "     ------------ --------------------------- 19.8/62.0 MB 6.1 MB/s eta 0:00:07\n",
      "     ------------ --------------------------- 20.0/62.0 MB 6.1 MB/s eta 0:00:07\n",
      "     ------------- -------------------------- 20.3/62.0 MB 6.1 MB/s eta 0:00:07\n",
      "     ------------- -------------------------- 20.6/62.0 MB 6.1 MB/s eta 0:00:07\n",
      "     ------------- -------------------------- 20.9/62.0 MB 6.1 MB/s eta 0:00:07\n",
      "     ------------- -------------------------- 21.2/62.0 MB 6.1 MB/s eta 0:00:07\n",
      "     ------------- -------------------------- 21.5/62.0 MB 6.1 MB/s eta 0:00:07\n",
      "     -------------- ------------------------- 21.7/62.0 MB 6.1 MB/s eta 0:00:07\n",
      "     -------------- ------------------------- 22.0/62.0 MB 6.1 MB/s eta 0:00:07\n",
      "     -------------- ------------------------- 22.3/62.0 MB 6.1 MB/s eta 0:00:07\n",
      "     -------------- ------------------------- 22.6/62.0 MB 6.1 MB/s eta 0:00:07\n",
      "     -------------- ------------------------- 22.9/62.0 MB 6.1 MB/s eta 0:00:07\n",
      "     -------------- ------------------------- 23.2/62.0 MB 6.1 MB/s eta 0:00:07\n",
      "     --------------- ------------------------ 23.4/62.0 MB 6.1 MB/s eta 0:00:07\n",
      "     --------------- ------------------------ 23.7/62.0 MB 6.1 MB/s eta 0:00:07\n",
      "     --------------- ------------------------ 24.0/62.0 MB 6.1 MB/s eta 0:00:07\n",
      "     --------------- ------------------------ 24.3/62.0 MB 6.1 MB/s eta 0:00:07\n",
      "     --------------- ------------------------ 24.6/62.0 MB 6.1 MB/s eta 0:00:07\n",
      "     ---------------- ----------------------- 24.9/62.0 MB 6.1 MB/s eta 0:00:07\n",
      "     ---------------- ----------------------- 25.1/62.0 MB 6.1 MB/s eta 0:00:07\n",
      "     ---------------- ----------------------- 25.4/62.0 MB 6.1 MB/s eta 0:00:07\n",
      "     ---------------- ----------------------- 25.7/62.0 MB 6.1 MB/s eta 0:00:06\n",
      "     ---------------- ----------------------- 26.0/62.0 MB 6.1 MB/s eta 0:00:06\n",
      "     ---------------- ----------------------- 26.3/62.0 MB 6.1 MB/s eta 0:00:06\n",
      "     ----------------- ---------------------- 26.5/62.0 MB 6.1 MB/s eta 0:00:06\n",
      "     ----------------- ---------------------- 26.9/62.0 MB 6.1 MB/s eta 0:00:06\n",
      "     ----------------- ---------------------- 27.1/62.0 MB 6.1 MB/s eta 0:00:06\n",
      "     ----------------- ---------------------- 27.4/62.0 MB 6.2 MB/s eta 0:00:06\n",
      "     ----------------- ---------------------- 27.7/62.0 MB 6.1 MB/s eta 0:00:06\n",
      "     ------------------ --------------------- 28.0/62.0 MB 6.1 MB/s eta 0:00:06\n",
      "     ------------------ --------------------- 28.3/62.0 MB 6.1 MB/s eta 0:00:06\n",
      "     ------------------ --------------------- 28.6/62.0 MB 6.1 MB/s eta 0:00:06\n",
      "     ------------------ --------------------- 28.8/62.0 MB 6.1 MB/s eta 0:00:06\n",
      "     ------------------ --------------------- 29.1/62.0 MB 6.1 MB/s eta 0:00:06\n",
      "     ------------------ --------------------- 29.4/62.0 MB 6.1 MB/s eta 0:00:06\n",
      "     ------------------- -------------------- 29.6/62.0 MB 6.0 MB/s eta 0:00:06\n",
      "     ------------------- -------------------- 29.8/62.0 MB 6.0 MB/s eta 0:00:06\n",
      "     ------------------- -------------------- 29.9/62.0 MB 5.8 MB/s eta 0:00:06\n",
      "     ------------------- -------------------- 30.0/62.0 MB 5.7 MB/s eta 0:00:06\n",
      "     ------------------- -------------------- 30.2/62.0 MB 5.7 MB/s eta 0:00:06\n",
      "     ------------------- -------------------- 30.4/62.0 MB 5.7 MB/s eta 0:00:06\n",
      "     ------------------- -------------------- 30.7/62.0 MB 5.7 MB/s eta 0:00:06\n",
      "     ------------------- -------------------- 31.0/62.0 MB 5.7 MB/s eta 0:00:06\n",
      "     -------------------- ------------------- 31.3/62.0 MB 5.7 MB/s eta 0:00:06\n",
      "     -------------------- ------------------- 31.6/62.0 MB 5.7 MB/s eta 0:00:06\n",
      "     -------------------- ------------------- 31.8/62.0 MB 5.7 MB/s eta 0:00:06\n",
      "     -------------------- ------------------- 32.1/62.0 MB 5.7 MB/s eta 0:00:06\n",
      "     -------------------- ------------------- 32.4/62.0 MB 5.7 MB/s eta 0:00:06\n",
      "     --------------------- ------------------ 32.7/62.0 MB 5.7 MB/s eta 0:00:06\n",
      "     --------------------- ------------------ 33.0/62.0 MB 5.7 MB/s eta 0:00:06\n",
      "     --------------------- ------------------ 33.2/62.0 MB 5.6 MB/s eta 0:00:06\n",
      "     --------------------- ------------------ 33.5/62.0 MB 5.7 MB/s eta 0:00:06\n",
      "     --------------------- ------------------ 33.8/62.0 MB 5.7 MB/s eta 0:00:05\n",
      "     --------------------- ------------------ 34.1/62.0 MB 5.6 MB/s eta 0:00:05\n",
      "     ---------------------- ----------------- 34.4/62.0 MB 5.6 MB/s eta 0:00:05\n",
      "     ---------------------- ----------------- 34.7/62.0 MB 5.6 MB/s eta 0:00:05\n",
      "     ---------------------- ----------------- 34.9/62.0 MB 5.6 MB/s eta 0:00:05\n",
      "     ---------------------- ----------------- 35.2/62.0 MB 5.6 MB/s eta 0:00:05\n",
      "     ---------------------- ----------------- 35.4/62.0 MB 5.6 MB/s eta 0:00:05\n",
      "     ----------------------- ---------------- 35.7/62.0 MB 5.6 MB/s eta 0:00:05\n",
      "     ----------------------- ---------------- 36.0/62.0 MB 5.6 MB/s eta 0:00:05\n",
      "     ----------------------- ---------------- 36.2/62.0 MB 5.6 MB/s eta 0:00:05\n",
      "     ----------------------- ---------------- 36.5/62.0 MB 5.6 MB/s eta 0:00:05\n",
      "     ----------------------- ---------------- 36.8/62.0 MB 5.6 MB/s eta 0:00:05\n",
      "     ----------------------- ---------------- 37.0/62.0 MB 5.6 MB/s eta 0:00:05\n",
      "     ------------------------ --------------- 37.3/62.0 MB 5.5 MB/s eta 0:00:05\n",
      "     ------------------------ --------------- 37.5/62.0 MB 5.5 MB/s eta 0:00:05\n",
      "     ------------------------ --------------- 37.8/62.0 MB 5.5 MB/s eta 0:00:05\n",
      "     ------------------------ --------------- 38.0/62.0 MB 5.5 MB/s eta 0:00:05\n",
      "     ------------------------ --------------- 38.3/62.0 MB 5.5 MB/s eta 0:00:05\n",
      "     ------------------------ --------------- 38.7/62.0 MB 5.5 MB/s eta 0:00:05\n",
      "     ------------------------- -------------- 39.0/62.0 MB 5.5 MB/s eta 0:00:05\n",
      "     ------------------------- -------------- 39.2/62.0 MB 5.5 MB/s eta 0:00:05\n",
      "     ------------------------- -------------- 39.5/62.0 MB 5.5 MB/s eta 0:00:05\n",
      "     ------------------------- -------------- 39.8/62.0 MB 5.5 MB/s eta 0:00:05\n",
      "     ------------------------- -------------- 40.1/62.0 MB 5.7 MB/s eta 0:00:04\n",
      "     -------------------------- ------------- 40.4/62.0 MB 5.8 MB/s eta 0:00:04\n",
      "     -------------------------- ------------- 40.6/62.0 MB 5.9 MB/s eta 0:00:04\n",
      "     -------------------------- ------------- 40.9/62.0 MB 6.0 MB/s eta 0:00:04\n",
      "     -------------------------- ------------- 41.2/62.0 MB 6.0 MB/s eta 0:00:04\n",
      "     -------------------------- ------------- 41.5/62.0 MB 5.9 MB/s eta 0:00:04\n",
      "     -------------------------- ------------- 41.8/62.0 MB 6.0 MB/s eta 0:00:04\n",
      "     --------------------------- ------------ 42.0/62.0 MB 6.0 MB/s eta 0:00:04\n",
      "     --------------------------- ------------ 42.3/62.0 MB 6.0 MB/s eta 0:00:04\n",
      "     --------------------------- ------------ 42.6/62.0 MB 6.0 MB/s eta 0:00:04\n",
      "     --------------------------- ------------ 42.9/62.0 MB 6.0 MB/s eta 0:00:04\n",
      "     --------------------------- ------------ 43.2/62.0 MB 6.0 MB/s eta 0:00:04\n",
      "     ---------------------------- ----------- 43.5/62.0 MB 6.0 MB/s eta 0:00:04\n",
      "     ---------------------------- ----------- 43.8/62.0 MB 6.0 MB/s eta 0:00:04\n",
      "     ---------------------------- ----------- 44.0/62.0 MB 6.0 MB/s eta 0:00:04\n",
      "     ---------------------------- ----------- 44.3/62.0 MB 6.1 MB/s eta 0:00:03\n",
      "     ---------------------------- ----------- 44.6/62.0 MB 6.0 MB/s eta 0:00:03\n",
      "     ---------------------------- ----------- 44.9/62.0 MB 6.0 MB/s eta 0:00:03\n",
      "     ----------------------------- ---------- 45.2/62.0 MB 6.0 MB/s eta 0:00:03\n",
      "     ----------------------------- ---------- 45.5/62.0 MB 6.0 MB/s eta 0:00:03\n",
      "     ----------------------------- ---------- 45.8/62.0 MB 6.0 MB/s eta 0:00:03\n",
      "     ----------------------------- ---------- 46.0/62.0 MB 6.0 MB/s eta 0:00:03\n",
      "     ----------------------------- ---------- 46.3/62.0 MB 6.0 MB/s eta 0:00:03\n",
      "     ------------------------------ --------- 46.6/62.0 MB 6.0 MB/s eta 0:00:03\n",
      "     ------------------------------ --------- 46.9/62.0 MB 6.1 MB/s eta 0:00:03\n",
      "     ------------------------------ --------- 47.2/62.0 MB 6.1 MB/s eta 0:00:03\n",
      "     ------------------------------ --------- 47.5/62.0 MB 6.1 MB/s eta 0:00:03\n",
      "     ------------------------------ --------- 47.7/62.0 MB 6.1 MB/s eta 0:00:03\n",
      "     ------------------------------ --------- 48.0/62.0 MB 6.1 MB/s eta 0:00:03\n",
      "     ------------------------------- -------- 48.3/62.0 MB 6.2 MB/s eta 0:00:03\n",
      "     ------------------------------- -------- 48.6/62.0 MB 6.1 MB/s eta 0:00:03\n",
      "     ------------------------------- -------- 48.9/62.0 MB 6.1 MB/s eta 0:00:03\n",
      "     ------------------------------- -------- 49.2/62.0 MB 6.1 MB/s eta 0:00:03\n",
      "     ------------------------------- -------- 49.4/62.0 MB 6.1 MB/s eta 0:00:03\n",
      "     -------------------------------- ------- 49.7/62.0 MB 6.1 MB/s eta 0:00:03\n",
      "     -------------------------------- ------- 50.0/62.0 MB 6.1 MB/s eta 0:00:02\n",
      "     -------------------------------- ------- 50.3/62.0 MB 6.1 MB/s eta 0:00:02\n",
      "     -------------------------------- ------- 50.6/62.0 MB 6.1 MB/s eta 0:00:02\n",
      "     -------------------------------- ------- 50.9/62.0 MB 6.1 MB/s eta 0:00:02\n",
      "     -------------------------------- ------- 51.1/62.0 MB 6.1 MB/s eta 0:00:02\n",
      "     --------------------------------- ------ 51.4/62.0 MB 6.1 MB/s eta 0:00:02\n",
      "     --------------------------------- ------ 51.7/62.0 MB 6.1 MB/s eta 0:00:02\n",
      "     --------------------------------- ------ 52.0/62.0 MB 6.1 MB/s eta 0:00:02\n",
      "     --------------------------------- ------ 52.3/62.0 MB 6.1 MB/s eta 0:00:02\n",
      "     --------------------------------- ------ 52.6/62.0 MB 6.1 MB/s eta 0:00:02\n",
      "     ---------------------------------- ----- 52.8/62.0 MB 6.1 MB/s eta 0:00:02\n",
      "     ---------------------------------- ----- 53.1/62.0 MB 6.1 MB/s eta 0:00:02\n",
      "     ---------------------------------- ----- 53.4/62.0 MB 6.1 MB/s eta 0:00:02\n",
      "     ---------------------------------- ----- 53.7/62.0 MB 6.1 MB/s eta 0:00:02\n",
      "     ---------------------------------- ----- 54.0/62.0 MB 6.1 MB/s eta 0:00:02\n",
      "     ---------------------------------- ----- 54.2/62.0 MB 6.1 MB/s eta 0:00:02\n",
      "     ----------------------------------- ---- 54.5/62.0 MB 6.1 MB/s eta 0:00:02\n",
      "     ----------------------------------- ---- 54.8/62.0 MB 6.1 MB/s eta 0:00:02\n",
      "     ----------------------------------- ---- 55.1/62.0 MB 6.1 MB/s eta 0:00:02\n",
      "     ----------------------------------- ---- 55.4/62.0 MB 6.1 MB/s eta 0:00:02\n",
      "     ----------------------------------- ---- 55.7/62.0 MB 6.1 MB/s eta 0:00:02\n",
      "     ------------------------------------ --- 55.9/62.0 MB 6.1 MB/s eta 0:00:02\n",
      "     ------------------------------------ --- 56.2/62.0 MB 6.1 MB/s eta 0:00:01\n",
      "     ------------------------------------ --- 56.4/62.0 MB 6.1 MB/s eta 0:00:01\n",
      "     ------------------------------------ --- 56.8/62.0 MB 6.1 MB/s eta 0:00:01\n",
      "     ------------------------------------ --- 57.1/62.0 MB 6.1 MB/s eta 0:00:01\n",
      "     ------------------------------------- -- 57.4/62.0 MB 6.1 MB/s eta 0:00:01\n",
      "     ------------------------------------- -- 57.7/62.0 MB 6.1 MB/s eta 0:00:01\n",
      "     ------------------------------------- -- 57.9/62.0 MB 6.2 MB/s eta 0:00:01\n",
      "     ------------------------------------- -- 58.2/62.0 MB 6.1 MB/s eta 0:00:01\n",
      "     ------------------------------------- -- 58.5/62.0 MB 6.1 MB/s eta 0:00:01\n",
      "     ------------------------------------- -- 58.8/62.0 MB 6.1 MB/s eta 0:00:01\n",
      "     -------------------------------------- - 59.1/62.0 MB 6.1 MB/s eta 0:00:01\n",
      "     -------------------------------------- - 59.4/62.0 MB 6.1 MB/s eta 0:00:01\n",
      "     -------------------------------------- - 59.6/62.0 MB 6.1 MB/s eta 0:00:01\n",
      "     -------------------------------------- - 59.9/62.0 MB 6.1 MB/s eta 0:00:01\n",
      "     -------------------------------------- - 60.2/62.0 MB 6.1 MB/s eta 0:00:01\n",
      "     ---------------------------------------  60.5/62.0 MB 6.1 MB/s eta 0:00:01\n",
      "     ---------------------------------------  60.8/62.0 MB 6.1 MB/s eta 0:00:01\n",
      "     ---------------------------------------  61.1/62.0 MB 6.1 MB/s eta 0:00:01\n",
      "     ---------------------------------------  61.3/62.0 MB 6.1 MB/s eta 0:00:01\n",
      "     ---------------------------------------  61.6/62.0 MB 6.1 MB/s eta 0:00:01\n",
      "     ---------------------------------------  61.9/62.0 MB 6.1 MB/s eta 0:00:01\n",
      "     ---------------------------------------  62.0/62.0 MB 6.1 MB/s eta 0:00:01\n",
      "     ---------------------------------------  62.0/62.0 MB 6.1 MB/s eta 0:00:01\n",
      "     ---------------------------------------  62.0/62.0 MB 6.1 MB/s eta 0:00:01\n",
      "     ---------------------------------------- 62.0/62.0 MB 5.5 MB/s eta 0:00:00\n",
      "Requirement already satisfied: absl-py>=0.1.6 in c:\\users\\abhay\\appdata\\local\\packages\\pythonsoftwarefoundation.python.3.11_qbz5n2kfra8p0\\localcache\\local-packages\\python311\\site-packages (from tensorflow==1.12.0) (1.4.0)\n",
      "Collecting astor>=0.6.0 (from tensorflow==1.12.0)\n",
      "  Downloading astor-0.8.1-py2.py3-none-any.whl (27 kB)\n",
      "Requirement already satisfied: gast>=0.2.0 in c:\\users\\abhay\\appdata\\local\\packages\\pythonsoftwarefoundation.python.3.11_qbz5n2kfra8p0\\localcache\\local-packages\\python311\\site-packages (from tensorflow==1.12.0) (0.4.0)\n",
      "Collecting keras-applications>=1.0.6 (from tensorflow==1.12.0)\n",
      "  Downloading Keras_Applications-1.0.8-py3-none-any.whl (50 kB)\n",
      "     ---------------------------------------- 0.0/50.7 kB ? eta -:--:--\n",
      "     ------------------------ --------------- 30.7/50.7 kB 1.4 MB/s eta 0:00:01\n",
      "     -------------------------------------- 50.7/50.7 kB 860.9 kB/s eta 0:00:00\n",
      "Collecting keras-preprocessing>=1.0.5 (from tensorflow==1.12.0)\n",
      "  Downloading Keras_Preprocessing-1.1.2-py2.py3-none-any.whl (42 kB)\n",
      "     ---------------------------------------- 0.0/42.6 kB ? eta -:--:--\n",
      "     ---------------------------------------- 42.6/42.6 kB 2.0 MB/s eta 0:00:00\n",
      "Requirement already satisfied: numpy>=1.13.3 in c:\\users\\abhay\\appdata\\local\\packages\\pythonsoftwarefoundation.python.3.11_qbz5n2kfra8p0\\localcache\\local-packages\\python311\\site-packages (from tensorflow==1.12.0) (1.24.3)\n",
      "Requirement already satisfied: six>=1.10.0 in c:\\users\\abhay\\appdata\\local\\packages\\pythonsoftwarefoundation.python.3.11_qbz5n2kfra8p0\\localcache\\local-packages\\python311\\site-packages (from tensorflow==1.12.0) (1.16.0)\n",
      "Requirement already satisfied: protobuf>=3.6.1 in c:\\users\\abhay\\appdata\\local\\packages\\pythonsoftwarefoundation.python.3.11_qbz5n2kfra8p0\\localcache\\local-packages\\python311\\site-packages (from tensorflow==1.12.0) (4.24.2)\n",
      "Collecting tensorboard<1.13.0,>=1.12.0 (from tensorflow==1.12.0)\n",
      "  Downloading tensorboard-1.12.2-py3-none-any.whl (3.0 MB)\n",
      "     ---------------------------------------- 0.0/3.0 MB ? eta -:--:--\n",
      "     - -------------------------------------- 0.1/3.0 MB 2.4 MB/s eta 0:00:02\n",
      "     ---- ----------------------------------- 0.3/3.0 MB 3.2 MB/s eta 0:00:01\n",
      "     ------- -------------------------------- 0.6/3.0 MB 4.1 MB/s eta 0:00:01\n",
      "     --------- ------------------------------ 0.7/3.0 MB 4.4 MB/s eta 0:00:01\n",
      "     ------------ --------------------------- 1.0/3.0 MB 4.0 MB/s eta 0:00:01\n",
      "     ----------------- ---------------------- 1.4/3.0 MB 4.8 MB/s eta 0:00:01\n",
      "     ----------------- ---------------------- 1.4/3.0 MB 4.8 MB/s eta 0:00:01\n",
      "     ---------------------- ----------------- 1.7/3.0 MB 4.5 MB/s eta 0:00:01\n",
      "     --------------------------- ------------ 2.1/3.0 MB 4.9 MB/s eta 0:00:01\n",
      "     ------------------------------- -------- 2.4/3.0 MB 5.2 MB/s eta 0:00:01\n",
      "     --------------------------------- ------ 2.5/3.0 MB 5.2 MB/s eta 0:00:01\n",
      "     --------------------------------- ------ 2.5/3.0 MB 5.2 MB/s eta 0:00:01\n",
      "     --------------------------------- ------ 2.5/3.0 MB 5.2 MB/s eta 0:00:01\n",
      "     --------------------------------- ------ 2.5/3.0 MB 5.2 MB/s eta 0:00:01\n",
      "     --------------------------------- ------ 2.5/3.0 MB 5.2 MB/s eta 0:00:01\n",
      "     --------------------------------- ------ 2.5/3.0 MB 5.2 MB/s eta 0:00:01\n",
      "     --------------------------------- ------ 2.5/3.0 MB 5.2 MB/s eta 0:00:01\n",
      "     --------------------------------- ------ 2.6/3.0 MB 3.1 MB/s eta 0:00:01\n",
      "     ---------------------------------------  3.0/3.0 MB 3.4 MB/s eta 0:00:01\n",
      "     ---------------------------------------- 3.0/3.0 MB 3.3 MB/s eta 0:00:00\n",
      "Requirement already satisfied: termcolor>=1.1.0 in c:\\users\\abhay\\appdata\\local\\packages\\pythonsoftwarefoundation.python.3.11_qbz5n2kfra8p0\\localcache\\local-packages\\python311\\site-packages (from tensorflow==1.12.0) (2.3.0)\n",
      "Requirement already satisfied: grpcio>=1.8.6 in c:\\users\\abhay\\appdata\\local\\packages\\pythonsoftwarefoundation.python.3.11_qbz5n2kfra8p0\\localcache\\local-packages\\python311\\site-packages (from tensorflow==1.12.0) (1.57.0)\n",
      "Requirement already satisfied: wheel>=0.26 in c:\\users\\abhay\\appdata\\local\\packages\\pythonsoftwarefoundation.python.3.11_qbz5n2kfra8p0\\localcache\\local-packages\\python311\\site-packages (from tensorflow==1.12.0) (0.41.2)\n",
      "Requirement already satisfied: h5py in c:\\users\\abhay\\appdata\\local\\packages\\pythonsoftwarefoundation.python.3.11_qbz5n2kfra8p0\\localcache\\local-packages\\python311\\site-packages (from keras-applications>=1.0.6->tensorflow==1.12.0) (3.9.0)\n",
      "Requirement already satisfied: markdown>=2.6.8 in c:\\users\\abhay\\appdata\\local\\packages\\pythonsoftwarefoundation.python.3.11_qbz5n2kfra8p0\\localcache\\local-packages\\python311\\site-packages (from tensorboard<1.13.0,>=1.12.0->tensorflow==1.12.0) (3.4.4)\n",
      "Requirement already satisfied: werkzeug>=0.11.10 in c:\\users\\abhay\\appdata\\local\\packages\\pythonsoftwarefoundation.python.3.11_qbz5n2kfra8p0\\localcache\\local-packages\\python311\\site-packages (from tensorboard<1.13.0,>=1.12.0->tensorflow==1.12.0) (2.3.7)\n",
      "Requirement already satisfied: MarkupSafe>=2.1.1 in c:\\users\\abhay\\appdata\\local\\packages\\pythonsoftwarefoundation.python.3.11_qbz5n2kfra8p0\\localcache\\local-packages\\python311\\site-packages (from werkzeug>=0.11.10->tensorboard<1.13.0,>=1.12.0->tensorflow==1.12.0) (2.1.3)\n",
      "Installing collected packages: keras-preprocessing, astor, tensorboard, keras-applications, tensorflow\n",
      "  Attempting uninstall: tensorboard\n",
      "    Found existing installation: tensorboard 2.13.0\n",
      "    Uninstalling tensorboard-2.13.0:\n",
      "      Successfully uninstalled tensorboard-2.13.0\n",
      "Note: you may need to restart the kernel to use updated packages.\n"
     ]
    },
    {
     "name": "stderr",
     "output_type": "stream",
     "text": [
      "ERROR: Could not install packages due to an OSError: [Errno 2] No such file or directory: 'C:\\\\Users\\\\abhay\\\\AppData\\\\Local\\\\Packages\\\\PythonSoftwareFoundation.Python.3.11_qbz5n2kfra8p0\\\\LocalCache\\\\local-packages\\\\Python311\\\\site-packages\\\\tensorflow\\\\include\\\\tensorflow\\\\include\\\\external\\\\eigen_archive\\\\Eigen\\\\src\\\\Core\\\\products\\\\GeneralMatrixMatrixTriangular_BLAS.h'\n",
      "\n"
     ]
    }
   ],
   "source": [
    "pip install --upgrade https://storage.googleapis.com/tensorflow/mac/cpu/tensorflow-1.12.0-py3-none-any.whl"
   ]
  },
  {
   "cell_type": "code",
   "execution_count": 13,
   "metadata": {},
   "outputs": [
    {
     "ename": "ImportError",
     "evalue": "Could not find the DLL(s) 'msvcp140_1.dll'. TensorFlow requires that these DLLs be installed in a directory that is named in your %PATH% environment variable. You may install these DLLs by downloading \"Microsoft C++ Redistributable for Visual Studio 2015, 2017 and 2019\" for your platform from this URL: https://support.microsoft.com/help/2977003/the-latest-supported-visual-c-downloads",
     "output_type": "error",
     "traceback": [
      "\u001b[1;31m---------------------------------------------------------------------------\u001b[0m",
      "\u001b[1;31mImportError\u001b[0m                               Traceback (most recent call last)",
      "Cell \u001b[1;32mIn[13], line 5\u001b[0m\n\u001b[0;32m      1\u001b[0m \u001b[39m# from keras.models import Sequential, Model\u001b[39;00m\n\u001b[0;32m      2\u001b[0m \u001b[39m# from keras.layers import Dense, Dropout, Flatten, LSTM, TimeDistributed, Input, Reshape, concatenate, Conv2D, Concatenate\u001b[39;00m\n\u001b[0;32m      3\u001b[0m \u001b[39m# from keras.callbacks import EarlyStopping\u001b[39;00m\n\u001b[0;32m      4\u001b[0m \u001b[39m# from keras.optimizers import Adam, SGD\u001b[39;00m\n\u001b[1;32m----> 5\u001b[0m \u001b[39mimport\u001b[39;00m \u001b[39mtensorflow\u001b[39;00m \u001b[39mas\u001b[39;00m \u001b[39mtf\u001b[39;00m\n",
      "File \u001b[1;32m~\\AppData\\Local\\Packages\\PythonSoftwareFoundation.Python.3.11_qbz5n2kfra8p0\\LocalCache\\local-packages\\Python311\\site-packages\\tensorflow\\__init__.py:38\u001b[0m\n\u001b[0;32m     35\u001b[0m \u001b[39mimport\u001b[39;00m \u001b[39msys\u001b[39;00m \u001b[39mas\u001b[39;00m \u001b[39m_sys\u001b[39;00m\n\u001b[0;32m     36\u001b[0m \u001b[39mimport\u001b[39;00m \u001b[39mtyping\u001b[39;00m \u001b[39mas\u001b[39;00m \u001b[39m_typing\u001b[39;00m\n\u001b[1;32m---> 38\u001b[0m \u001b[39mfrom\u001b[39;00m \u001b[39mtensorflow\u001b[39;00m\u001b[39m.\u001b[39;00m\u001b[39mpython\u001b[39;00m\u001b[39m.\u001b[39;00m\u001b[39mtools\u001b[39;00m \u001b[39mimport\u001b[39;00m module_util \u001b[39mas\u001b[39;00m _module_util\n\u001b[0;32m     39\u001b[0m \u001b[39mfrom\u001b[39;00m \u001b[39mtensorflow\u001b[39;00m\u001b[39m.\u001b[39;00m\u001b[39mpython\u001b[39;00m\u001b[39m.\u001b[39;00m\u001b[39mutil\u001b[39;00m\u001b[39m.\u001b[39;00m\u001b[39mlazy_loader\u001b[39;00m \u001b[39mimport\u001b[39;00m LazyLoader \u001b[39mas\u001b[39;00m _LazyLoader\n\u001b[0;32m     41\u001b[0m \u001b[39m# Make sure code inside the TensorFlow codebase can use tf2.enabled() at import.\u001b[39;00m\n",
      "File \u001b[1;32m~\\AppData\\Local\\Packages\\PythonSoftwareFoundation.Python.3.11_qbz5n2kfra8p0\\LocalCache\\local-packages\\Python311\\site-packages\\tensorflow\\python\\__init__.py:36\u001b[0m\n\u001b[0;32m     27\u001b[0m \u001b[39mimport\u001b[39;00m \u001b[39mtraceback\u001b[39;00m\n\u001b[0;32m     29\u001b[0m \u001b[39m# We aim to keep this file minimal and ideally remove completely.\u001b[39;00m\n\u001b[0;32m     30\u001b[0m \u001b[39m# If you are adding a new file with @tf_export decorators,\u001b[39;00m\n\u001b[0;32m     31\u001b[0m \u001b[39m# import it in modules_with_exports.py instead.\u001b[39;00m\n\u001b[0;32m     32\u001b[0m \n\u001b[0;32m     33\u001b[0m \u001b[39m# go/tf-wildcard-import\u001b[39;00m\n\u001b[0;32m     34\u001b[0m \u001b[39m# pylint: disable=wildcard-import,g-bad-import-order,g-import-not-at-top\u001b[39;00m\n\u001b[1;32m---> 36\u001b[0m \u001b[39mfrom\u001b[39;00m \u001b[39mtensorflow\u001b[39;00m\u001b[39m.\u001b[39;00m\u001b[39mpython\u001b[39;00m \u001b[39mimport\u001b[39;00m pywrap_tensorflow \u001b[39mas\u001b[39;00m _pywrap_tensorflow\n\u001b[0;32m     37\u001b[0m \u001b[39mfrom\u001b[39;00m \u001b[39mtensorflow\u001b[39;00m\u001b[39m.\u001b[39;00m\u001b[39mpython\u001b[39;00m\u001b[39m.\u001b[39;00m\u001b[39meager\u001b[39;00m \u001b[39mimport\u001b[39;00m context\n\u001b[0;32m     39\u001b[0m \u001b[39m# pylint: enable=wildcard-import\u001b[39;00m\n\u001b[0;32m     40\u001b[0m \n\u001b[0;32m     41\u001b[0m \u001b[39m# Bring in subpackages.\u001b[39;00m\n",
      "File \u001b[1;32m~\\AppData\\Local\\Packages\\PythonSoftwareFoundation.Python.3.11_qbz5n2kfra8p0\\LocalCache\\local-packages\\Python311\\site-packages\\tensorflow\\python\\pywrap_tensorflow.py:26\u001b[0m\n\u001b[0;32m     21\u001b[0m \u001b[39mfrom\u001b[39;00m \u001b[39mtensorflow\u001b[39;00m\u001b[39m.\u001b[39;00m\u001b[39mpython\u001b[39;00m\u001b[39m.\u001b[39;00m\u001b[39mplatform\u001b[39;00m \u001b[39mimport\u001b[39;00m self_check\n\u001b[0;32m     23\u001b[0m \u001b[39m# TODO(mdan): Cleanup antipattern: import for side effects.\u001b[39;00m\n\u001b[0;32m     24\u001b[0m \n\u001b[0;32m     25\u001b[0m \u001b[39m# Perform pre-load sanity checks in order to produce a more actionable error.\u001b[39;00m\n\u001b[1;32m---> 26\u001b[0m self_check\u001b[39m.\u001b[39;49mpreload_check()\n\u001b[0;32m     28\u001b[0m \u001b[39m# pylint: disable=wildcard-import,g-import-not-at-top,unused-import,line-too-long\u001b[39;00m\n\u001b[0;32m     30\u001b[0m \u001b[39mtry\u001b[39;00m:\n\u001b[0;32m     31\u001b[0m   \u001b[39m# This import is expected to fail if there is an explicit shared object\u001b[39;00m\n\u001b[0;32m     32\u001b[0m   \u001b[39m# dependency (with_framework_lib=true), since we do not need RTLD_GLOBAL.\u001b[39;00m\n",
      "File \u001b[1;32m~\\AppData\\Local\\Packages\\PythonSoftwareFoundation.Python.3.11_qbz5n2kfra8p0\\LocalCache\\local-packages\\Python311\\site-packages\\tensorflow\\python\\platform\\self_check.py:50\u001b[0m, in \u001b[0;36mpreload_check\u001b[1;34m()\u001b[0m\n\u001b[0;32m     48\u001b[0m         missing\u001b[39m.\u001b[39mappend(dll_name)\n\u001b[0;32m     49\u001b[0m     \u001b[39mif\u001b[39;00m missing:\n\u001b[1;32m---> 50\u001b[0m       \u001b[39mraise\u001b[39;00m \u001b[39mImportError\u001b[39;00m(\n\u001b[0;32m     51\u001b[0m           \u001b[39m\"\u001b[39m\u001b[39mCould not find the DLL(s) \u001b[39m\u001b[39m%r\u001b[39;00m\u001b[39m. TensorFlow requires that these DLLs \u001b[39m\u001b[39m\"\u001b[39m\n\u001b[0;32m     52\u001b[0m           \u001b[39m\"\u001b[39m\u001b[39mbe installed in a directory that is named in your \u001b[39m\u001b[39m%%\u001b[39;00m\u001b[39mPATH\u001b[39m\u001b[39m%%\u001b[39;00m\u001b[39m \u001b[39m\u001b[39m\"\u001b[39m\n\u001b[0;32m     53\u001b[0m           \u001b[39m\"\u001b[39m\u001b[39menvironment variable. You may install these DLLs by downloading \u001b[39m\u001b[39m\"\u001b[39m\n\u001b[0;32m     54\u001b[0m           \u001b[39m'\u001b[39m\u001b[39m\"\u001b[39m\u001b[39mMicrosoft C++ Redistributable for Visual Studio 2015, 2017 and \u001b[39m\u001b[39m'\u001b[39m\n\u001b[0;32m     55\u001b[0m           \u001b[39m'\u001b[39m\u001b[39m2019\u001b[39m\u001b[39m\"\u001b[39m\u001b[39m for your platform from this URL: \u001b[39m\u001b[39m'\u001b[39m\n\u001b[0;32m     56\u001b[0m           \u001b[39m\"\u001b[39m\u001b[39mhttps://support.microsoft.com/help/2977003/the-latest-supported-visual-c-downloads\u001b[39m\u001b[39m\"\u001b[39m\n\u001b[0;32m     57\u001b[0m           \u001b[39m%\u001b[39m \u001b[39m\"\u001b[39m\u001b[39m or \u001b[39m\u001b[39m\"\u001b[39m\u001b[39m.\u001b[39mjoin(missing))\n\u001b[0;32m     58\u001b[0m \u001b[39melse\u001b[39;00m:\n\u001b[0;32m     59\u001b[0m   \u001b[39m# Load a library that performs CPU feature guard checking.  Doing this here\u001b[39;00m\n\u001b[0;32m     60\u001b[0m   \u001b[39m# as a preload check makes it more likely that we detect any CPU feature\u001b[39;00m\n\u001b[0;32m     61\u001b[0m   \u001b[39m# incompatibilities before we trigger them (which would typically result in\u001b[39;00m\n\u001b[0;32m     62\u001b[0m   \u001b[39m# SIGILL).\u001b[39;00m\n\u001b[0;32m     63\u001b[0m   \u001b[39mfrom\u001b[39;00m \u001b[39mtensorflow\u001b[39;00m\u001b[39m.\u001b[39;00m\u001b[39mpython\u001b[39;00m\u001b[39m.\u001b[39;00m\u001b[39mplatform\u001b[39;00m \u001b[39mimport\u001b[39;00m _pywrap_cpu_feature_guard\n",
      "\u001b[1;31mImportError\u001b[0m: Could not find the DLL(s) 'msvcp140_1.dll'. TensorFlow requires that these DLLs be installed in a directory that is named in your %PATH% environment variable. You may install these DLLs by downloading \"Microsoft C++ Redistributable for Visual Studio 2015, 2017 and 2019\" for your platform from this URL: https://support.microsoft.com/help/2977003/the-latest-supported-visual-c-downloads"
     ]
    }
   ],
   "source": [
    "# from keras.models import Sequential, Model\n",
    "# from keras.layers import Dense, Dropout, Flatten, LSTM, TimeDistributed, Input, Reshape, concatenate, Conv2D, Concatenate\n",
    "# from keras.callbacks import EarlyStopping\n",
    "# from keras.optimizers import Adam, SGD\n",
    "import tensorflow as tf"
   ]
  },
  {
   "cell_type": "code",
   "execution_count": 124,
   "metadata": {},
   "outputs": [],
   "source": [
    "# load data in one line\n",
    "ger_train = pkl.load(open(\"../saved/ger_train_syls2.pkl\", \"rb\"))\n",
    "ger_test = pkl.load(open(\"../saved/ger_test_syls2.pkl\", \"rb\"))"
   ]
  },
  {
   "cell_type": "code",
   "execution_count": 214,
   "metadata": {},
   "outputs": [],
   "source": [
    "ger_train = ger_train[ger_train[\"contour\"].apply(len) > 0]\n",
    "ger_test = ger_test[ger_test[\"contour\"].apply(len) > 0]\n",
    "\n",
    "ger_train.reset_index(drop=True, inplace=True)\n",
    "ger_test.reset_index(drop=True, inplace=True)"
   ]
  },
  {
   "cell_type": "code",
   "execution_count": 215,
   "metadata": {},
   "outputs": [
    {
     "data": {
      "text/html": [
       "<div>\n",
       "<style scoped>\n",
       "    .dataframe tbody tr th:only-of-type {\n",
       "        vertical-align: middle;\n",
       "    }\n",
       "\n",
       "    .dataframe tbody tr th {\n",
       "        vertical-align: top;\n",
       "    }\n",
       "\n",
       "    .dataframe thead th {\n",
       "        text-align: right;\n",
       "    }\n",
       "</style>\n",
       "<table border=\"1\" class=\"dataframe\">\n",
       "  <thead>\n",
       "    <tr style=\"text-align: right;\">\n",
       "      <th></th>\n",
       "      <th>contour</th>\n",
       "      <th>labels</th>\n",
       "    </tr>\n",
       "  </thead>\n",
       "  <tbody>\n",
       "    <tr>\n",
       "      <th>0</th>\n",
       "      <td>[0.03177828067373946, 0.03102610675462413, 0.0...</td>\n",
       "      <td>1</td>\n",
       "    </tr>\n",
       "    <tr>\n",
       "      <th>1</th>\n",
       "      <td>[0.29295377456846683, 0.23372400800342857, 0.1...</td>\n",
       "      <td>0</td>\n",
       "    </tr>\n",
       "    <tr>\n",
       "      <th>2</th>\n",
       "      <td>[0.3558331626873156, 0.39491268819019043, 0.41...</td>\n",
       "      <td>1</td>\n",
       "    </tr>\n",
       "    <tr>\n",
       "      <th>3</th>\n",
       "      <td>[0.025010218876618886, 0.024972723808391342, 0...</td>\n",
       "      <td>1</td>\n",
       "    </tr>\n",
       "    <tr>\n",
       "      <th>4</th>\n",
       "      <td>[0.025146160970609517, 0.025325120014305074, 0...</td>\n",
       "      <td>0</td>\n",
       "    </tr>\n",
       "  </tbody>\n",
       "</table>\n",
       "</div>"
      ],
      "text/plain": [
       "                                             contour  labels\n",
       "0  [0.03177828067373946, 0.03102610675462413, 0.0...       1\n",
       "1  [0.29295377456846683, 0.23372400800342857, 0.1...       0\n",
       "2  [0.3558331626873156, 0.39491268819019043, 0.41...       1\n",
       "3  [0.025010218876618886, 0.024972723808391342, 0...       1\n",
       "4  [0.025146160970609517, 0.025325120014305074, 0...       0"
      ]
     },
     "execution_count": 215,
     "metadata": {},
     "output_type": "execute_result"
    }
   ],
   "source": [
    "ger_train.head()"
   ]
  },
  {
   "attachments": {},
   "cell_type": "markdown",
   "metadata": {},
   "source": [
    "---\n",
    "# Stressed and Unstressed Labels\n",
    "* How balanced is the dataset?\n",
    "* Number of stressed labels vs Number of unstressed labels"
   ]
  },
  {
   "cell_type": "code",
   "execution_count": 216,
   "metadata": {},
   "outputs": [
    {
     "name": "stdout",
     "output_type": "stream",
     "text": [
      "Train\n",
      "0s:  1586\n",
      "1s:  1603\n",
      "Percentage of 1s:  0.5026654123549702\n",
      "Percentage of 0s:  0.4973345876450298\n",
      "\n",
      "Test\n",
      "0s:  1436\n",
      "1s:  1434\n"
     ]
    }
   ],
   "source": [
    "# count 0s and 1s\n",
    "zeros_train = np.count_nonzero(ger_train_labels == 0)\n",
    "ones_train = np.count_nonzero(ger_train_labels == 1)\n",
    "\n",
    "zeros_test = np.count_nonzero(ger_test_labels == 0)\n",
    "ones_test = np.count_nonzero(ger_test_labels == 1)\n",
    "\n",
    "print(\"Train\")\n",
    "print(\"0s: \", zeros_train)\n",
    "print(\"1s: \", ones_train)\n",
    "# percentage of 1s\n",
    "print(\"Percentage of 1s: \", ones_train / (ones_train + zeros_train))\n",
    "print(\"Percentage of 0s: \", zeros_train / (ones_train + zeros_train))\n",
    "print()\n",
    "print(\"Test\")\n",
    "print(\"0s: \", zeros_test)\n",
    "print(\"1s: \", ones_test)"
   ]
  },
  {
   "cell_type": "markdown",
   "metadata": {},
   "source": [
    "---\n",
    "# Normalize Contours"
   ]
  },
  {
   "cell_type": "code",
   "execution_count": 217,
   "metadata": {},
   "outputs": [
    {
     "data": {
      "text/html": [
       "<div>\n",
       "<style scoped>\n",
       "    .dataframe tbody tr th:only-of-type {\n",
       "        vertical-align: middle;\n",
       "    }\n",
       "\n",
       "    .dataframe tbody tr th {\n",
       "        vertical-align: top;\n",
       "    }\n",
       "\n",
       "    .dataframe thead th {\n",
       "        text-align: right;\n",
       "    }\n",
       "</style>\n",
       "<table border=\"1\" class=\"dataframe\">\n",
       "  <thead>\n",
       "    <tr style=\"text-align: right;\">\n",
       "      <th></th>\n",
       "      <th>contour</th>\n",
       "      <th>labels</th>\n",
       "    </tr>\n",
       "  </thead>\n",
       "  <tbody>\n",
       "    <tr>\n",
       "      <th>0</th>\n",
       "      <td>[0.03177828067373946, 0.03102610675462413, 0.0...</td>\n",
       "      <td>1</td>\n",
       "    </tr>\n",
       "    <tr>\n",
       "      <th>1</th>\n",
       "      <td>[0.29295377456846683, 0.23372400800342857, 0.1...</td>\n",
       "      <td>0</td>\n",
       "    </tr>\n",
       "    <tr>\n",
       "      <th>2</th>\n",
       "      <td>[0.3558331626873156, 0.39491268819019043, 0.41...</td>\n",
       "      <td>1</td>\n",
       "    </tr>\n",
       "    <tr>\n",
       "      <th>3</th>\n",
       "      <td>[0.025010218876618886, 0.024972723808391342, 0...</td>\n",
       "      <td>1</td>\n",
       "    </tr>\n",
       "    <tr>\n",
       "      <th>4</th>\n",
       "      <td>[0.025146160970609517, 0.025325120014305074, 0...</td>\n",
       "      <td>0</td>\n",
       "    </tr>\n",
       "  </tbody>\n",
       "</table>\n",
       "</div>"
      ],
      "text/plain": [
       "                                             contour  labels\n",
       "0  [0.03177828067373946, 0.03102610675462413, 0.0...       1\n",
       "1  [0.29295377456846683, 0.23372400800342857, 0.1...       0\n",
       "2  [0.3558331626873156, 0.39491268819019043, 0.41...       1\n",
       "3  [0.025010218876618886, 0.024972723808391342, 0...       1\n",
       "4  [0.025146160970609517, 0.025325120014305074, 0...       0"
      ]
     },
     "execution_count": 217,
     "metadata": {},
     "output_type": "execute_result"
    }
   ],
   "source": [
    "# ger_train = ger_train[ger_train[\"contour\"].apply(lambda contour: len(contour) > 0)]\n",
    "# ger_test = ger_test[ger_test[\"contour\"].apply(lambda contour: len(contour) > 0)]\n",
    "\n",
    "ger_train_labels = np.array(ger_train[\"labels\"])\n",
    "ger_test_labels = np.array(ger_test[\"labels\"])\n",
    "ger_train.head()"
   ]
  },
  {
   "cell_type": "code",
   "execution_count": 218,
   "metadata": {},
   "outputs": [],
   "source": [
    "scaler = MinMaxScaler()\n",
    "contours_train_norm = ger_train[\"contour\"].apply(lambda contour: scaler.fit_transform(contour.reshape(-1, 1)).flatten())\n",
    "contours_test_norm = ger_test[\"contour\"].apply(lambda contour: scaler.fit_transform(contour.reshape(-1, 1)).flatten())"
   ]
  },
  {
   "cell_type": "code",
   "execution_count": 219,
   "metadata": {},
   "outputs": [],
   "source": [
    "ger_train_norm = pd.DataFrame({\n",
    "    \"contour\": contours_train_norm,\n",
    "    \"labels\": ger_train[\"labels\"]\n",
    "})\n",
    "ger_test_norm = pd.DataFrame({\n",
    "    \"contour\": contours_test_norm,\n",
    "    \"labels\": ger_test[\"labels\"]\n",
    "})"
   ]
  },
  {
   "attachments": {},
   "cell_type": "markdown",
   "metadata": {},
   "source": [
    "---\n",
    "## Contour Lengths"
   ]
  },
  {
   "cell_type": "code",
   "execution_count": 220,
   "metadata": {},
   "outputs": [
    {
     "name": "stdout",
     "output_type": "stream",
     "text": [
      "Train\n",
      "max length:  138\n",
      "mean length:  26.185010975227343\n",
      "\n",
      "Test\n",
      "max length:  135\n",
      "mean length:  26.329268292682926\n"
     ]
    }
   ],
   "source": [
    "# make a list of lengths of all contours\n",
    "lengths_train = np.array([len(contour) for contour in ger_train_norm[\"contour\"]])\n",
    "lengths_train.mean()\n",
    "\n",
    "lengths_test = np.array([len(contour) for contour in ger_test_norm[\"contour\"]])\n",
    "lengths_test.mean()\n",
    "\n",
    "print(\"Train\")\n",
    "print(\"max length: \", lengths_train.max())\n",
    "print(\"mean length: \", lengths_train.mean())\n",
    "print()\n",
    "print(\"Test\")\n",
    "print(\"max length: \", lengths_test.max())\n",
    "print(\"mean length: \", lengths_test.mean())"
   ]
  },
  {
   "cell_type": "code",
   "execution_count": 221,
   "metadata": {},
   "outputs": [],
   "source": [
    "# calculate the max length of all contours\n",
    "max_length_train = max([len(contour) for contour in ger_train_norm[\"contour\"]])\n",
    "max_length_test = max([len(contour) for contour in ger_test_norm[\"contour\"]])\n",
    "max_length = max(max_length_train, max_length_test)"
   ]
  },
  {
   "cell_type": "code",
   "execution_count": 222,
   "metadata": {},
   "outputs": [
    {
     "name": "stdout",
     "output_type": "stream",
     "text": [
      "Train max length =  138\n",
      "Test max length =  135\n",
      "Max Length =  138\n"
     ]
    }
   ],
   "source": [
    "print(\"Train max length = \", max_length_train)\n",
    "print(\"Test max length = \", max_length_test)\n",
    "print(\"Max Length = \", max_length)"
   ]
  },
  {
   "cell_type": "code",
   "execution_count": 223,
   "metadata": {},
   "outputs": [
    {
     "data": {
      "text/plain": [
       "(3189, 2)"
      ]
     },
     "execution_count": 223,
     "metadata": {},
     "output_type": "execute_result"
    }
   ],
   "source": [
    "ger_train_norm.shape"
   ]
  },
  {
   "cell_type": "markdown",
   "metadata": {},
   "source": [
    "---"
   ]
  },
  {
   "attachments": {},
   "cell_type": "markdown",
   "metadata": {},
   "source": [
    "## Padding"
   ]
  },
  {
   "cell_type": "code",
   "execution_count": 224,
   "metadata": {},
   "outputs": [],
   "source": [
    "# pad all contours to the same length using left padding, right padding, and both side padding\n",
    "def pad_contours(contours, length, padding=\"both\"):\n",
    "    padded_contours = []\n",
    "    for contour in contours:\n",
    "        if padding == \"left\":\n",
    "            padded_contours.append(np.pad(contour, (length-len(contour), 0), 'constant'))\n",
    "        elif padding == \"right\":\n",
    "            padded = np.pad(contour, (0, length-len(contour)), 'constant')\n",
    "            padded_contours.append(padded)\n",
    "        elif padding == \"both\":\n",
    "            padded = np.pad(contour, (math.floor((length-len(contour))/2), math.ceil((length-len(contour))/2)), 'constant')\n",
    "            padded_contours.append(padded)\n",
    "    return np.array(padded_contours)"
   ]
  },
  {
   "cell_type": "code",
   "execution_count": 225,
   "metadata": {},
   "outputs": [],
   "source": [
    "contours_train_rp = pad_contours(ger_train_norm[\"contour\"], max_length, padding=\"right\")\n",
    "contours_train_lp = pad_contours(ger_train_norm[\"contour\"], max_length, padding=\"left\")\n",
    "contours_train_bp = pad_contours(ger_train_norm[\"contour\"], max_length, padding=\"both\")\n",
    "\n",
    "contours_test_rp = pad_contours(ger_test_norm[\"contour\"], max_length, padding=\"right\")\n",
    "contours_test_lp = pad_contours(ger_test_norm[\"contour\"], max_length, padding=\"left\")\n",
    "contours_test_bp = pad_contours(ger_test_norm[\"contour\"], max_length, padding=\"both\")"
   ]
  },
  {
   "cell_type": "code",
   "execution_count": 226,
   "metadata": {},
   "outputs": [],
   "source": [
    "contours_train_rp_df = pd.DataFrame(contours_train_rp)\n",
    "contours_train_lp_df = pd.DataFrame(contours_train_lp)\n",
    "contours_train_bp_df = pd.DataFrame(contours_train_bp)"
   ]
  },
  {
   "cell_type": "code",
   "execution_count": 227,
   "metadata": {},
   "outputs": [
    {
     "name": "stdout",
     "output_type": "stream",
     "text": [
      "right\n"
     ]
    },
    {
     "data": {
      "image/png": "[encoded data removed]",
      "text/plain": [
       "<Figure size 2000x400 with 5 Axes>"
      ]
     },
     "metadata": {},
     "output_type": "display_data"
    },
    {
     "name": "stdout",
     "output_type": "stream",
     "text": [
      "left\n"
     ]
    },
    {
     "data": {
      "image/png": "[encoded data removed]",
      "text/plain": [
       "<Figure size 2000x400 with 5 Axes>"
      ]
     },
     "metadata": {},
     "output_type": "display_data"
    },
    {
     "name": "stdout",
     "output_type": "stream",
     "text": [
      "both\n"
     ]
    },
    {
     "data": {
      "image/png": "[encoded data removed]",
      "text/plain": [
       "<Figure size 2000x400 with 5 Axes>"
      ]
     },
     "metadata": {},
     "output_type": "display_data"
    }
   ],
   "source": [
    "# visualize the padded contours side by side with subplots\n",
    "def plot_contours(contours, labels, length, padding=\"both\"):\n",
    "    fig, axs = plt.subplots(1, 5, figsize=(20, 4))\n",
    "    print(padding)\n",
    "\n",
    "    for i in range(5):\n",
    "        r = random.randint(0, len(contours)-1)\n",
    "        z = i + 100\n",
    "        axs[i].plot(contours[z])\n",
    "        axs[i].set_title(\"Label: \" + str(labels[z]))\n",
    "\n",
    "\n",
    "        if padding == \"left\":\n",
    "            axs[i].set_xlim(0, length)\n",
    "\n",
    "        elif padding == \"right\":\n",
    "            axs[i].set_xlim(0, length)\n",
    "\n",
    "        elif padding == \"both\":\n",
    "            axs[i].set_xlim(0, length)\n",
    "    plt.show()\n",
    "\n",
    "plot_contours(contours_train_rp, ger_train_labels, max_length, padding=\"right\")\n",
    "plot_contours(contours_train_lp, ger_train_labels, max_length, padding=\"left\")\n",
    "plot_contours(contours_train_bp, ger_train_labels, max_length, padding=\"both\")"
   ]
  },
  {
   "attachments": {},
   "cell_type": "markdown",
   "metadata": {},
   "source": [
    "---\n",
    "# Model"
   ]
  },
  {
   "cell_type": "code",
   "execution_count": 147,
   "metadata": {},
   "outputs": [],
   "source": [
    "model = Sequential()\n",
    "model.add(Dense(64, input_dim=max_length, activation='relu'))\n",
    "model.add(Dense(128, activation='relu'))\n",
    "model.add(Dense(256, activation='relu'))\n",
    "model.add(Dense(512, activation='relu'))\n",
    "model.add(Dense(256, activation='relu'))\n",
    "model.add(Dropout(0.2))\n",
    "model.add(Dense(1, activation='sigmoid'))"
   ]
  },
  {
   "cell_type": "code",
   "execution_count": 148,
   "metadata": {},
   "outputs": [
    {
     "name": "stdout",
     "output_type": "stream",
     "text": [
      "Model: \"sequential_3\"\n",
      "_________________________________________________________________\n",
      " Layer (type)                Output Shape              Param #   \n",
      "=================================================================\n",
      " dense_15 (Dense)            (None, 64)                8896      \n",
      "                                                                 \n",
      " dense_16 (Dense)            (None, 128)               8320      \n",
      "                                                                 \n",
      " dense_17 (Dense)            (None, 256)               33024     \n",
      "                                                                 \n",
      " dense_18 (Dense)            (None, 512)               131584    \n",
      "                                                                 \n",
      " dense_19 (Dense)            (None, 256)               131328    \n",
      "                                                                 \n",
      " dropout_2 (Dropout)         (None, 256)               0         \n",
      "                                                                 \n",
      " dense_20 (Dense)            (None, 1)                 257       \n",
      "                                                                 \n",
      "=================================================================\n",
      "Total params: 313,409\n",
      "Trainable params: 313,409\n",
      "Non-trainable params: 0\n",
      "_________________________________________________________________\n"
     ]
    }
   ],
   "source": [
    "model.summary()"
   ]
  },
  {
   "cell_type": "code",
   "execution_count": 149,
   "metadata": {},
   "outputs": [
    {
     "name": "stdout",
     "output_type": "stream",
     "text": [
      "Epoch 1/40\n",
      "359/359 [==============================] - 3s 6ms/step - loss: 0.6950 - accuracy: 0.5035 - val_loss: 0.6929 - val_accuracy: 0.5016\n",
      "Epoch 2/40\n",
      "359/359 [==============================] - 2s 5ms/step - loss: 0.6937 - accuracy: 0.4916 - val_loss: 0.6946 - val_accuracy: 0.4639\n",
      "Epoch 3/40\n",
      "359/359 [==============================] - 2s 5ms/step - loss: 0.6945 - accuracy: 0.5042 - val_loss: 0.6963 - val_accuracy: 0.4953\n",
      "Epoch 4/40\n",
      "359/359 [==============================] - 2s 5ms/step - loss: 0.6934 - accuracy: 0.4805 - val_loss: 0.6960 - val_accuracy: 0.5172\n",
      "Epoch 5/40\n",
      "359/359 [==============================] - 2s 5ms/step - loss: 0.6936 - accuracy: 0.4976 - val_loss: 0.6952 - val_accuracy: 0.4953\n",
      "Epoch 6/40\n",
      "359/359 [==============================] - 2s 5ms/step - loss: 0.6924 - accuracy: 0.4993 - val_loss: 0.7460 - val_accuracy: 0.4734\n",
      "Epoch 7/40\n",
      "359/359 [==============================] - 2s 5ms/step - loss: 0.6962 - accuracy: 0.4965 - val_loss: 0.6944 - val_accuracy: 0.4922\n",
      "Epoch 8/40\n",
      "359/359 [==============================] - 2s 5ms/step - loss: 0.6929 - accuracy: 0.4979 - val_loss: 0.7017 - val_accuracy: 0.4984\n",
      "Epoch 9/40\n",
      "359/359 [==============================] - 2s 5ms/step - loss: 0.6931 - accuracy: 0.5031 - val_loss: 0.6961 - val_accuracy: 0.4984\n",
      "Epoch 10/40\n",
      "359/359 [==============================] - 2s 5ms/step - loss: 0.6923 - accuracy: 0.5024 - val_loss: 0.6983 - val_accuracy: 0.4890\n",
      "Epoch 11/40\n",
      "359/359 [==============================] - 2s 4ms/step - loss: 0.6933 - accuracy: 0.5017 - val_loss: 0.6940 - val_accuracy: 0.4922\n",
      "Epoch 12/40\n",
      "359/359 [==============================] - 2s 5ms/step - loss: 0.6925 - accuracy: 0.4997 - val_loss: 0.6978 - val_accuracy: 0.4953\n",
      "Epoch 13/40\n",
      "359/359 [==============================] - 2s 5ms/step - loss: 0.6902 - accuracy: 0.5007 - val_loss: 0.7128 - val_accuracy: 0.4984\n",
      "Epoch 14/40\n",
      "359/359 [==============================] - 2s 5ms/step - loss: 0.6898 - accuracy: 0.5056 - val_loss: 0.7139 - val_accuracy: 0.4953\n",
      "Epoch 15/40\n",
      "359/359 [==============================] - 2s 5ms/step - loss: 0.6903 - accuracy: 0.5087 - val_loss: 0.7128 - val_accuracy: 0.5047\n",
      "Epoch 16/40\n",
      "359/359 [==============================] - 2s 5ms/step - loss: 0.6846 - accuracy: 0.5216 - val_loss: 0.7466 - val_accuracy: 0.4984\n",
      "Epoch 17/40\n",
      "359/359 [==============================] - 2s 4ms/step - loss: 0.6833 - accuracy: 0.5373 - val_loss: 0.7605 - val_accuracy: 0.4859\n",
      "Epoch 18/40\n",
      "359/359 [==============================] - 2s 4ms/step - loss: 0.6822 - accuracy: 0.5341 - val_loss: 0.7816 - val_accuracy: 0.4922\n",
      "Epoch 19/40\n",
      "359/359 [==============================] - 2s 4ms/step - loss: 0.6826 - accuracy: 0.5251 - val_loss: 0.7405 - val_accuracy: 0.5016\n",
      "Epoch 20/40\n",
      "359/359 [==============================] - 2s 4ms/step - loss: 0.6790 - accuracy: 0.5425 - val_loss: 0.8093 - val_accuracy: 0.4828\n",
      "Epoch 21/40\n",
      "359/359 [==============================] - 2s 4ms/step - loss: 0.6756 - accuracy: 0.5404 - val_loss: 0.7993 - val_accuracy: 0.4796\n",
      "Epoch 22/40\n",
      "359/359 [==============================] - 2s 5ms/step - loss: 0.6769 - accuracy: 0.5456 - val_loss: 0.8081 - val_accuracy: 0.5016\n",
      "Epoch 23/40\n",
      "359/359 [==============================] - 2s 5ms/step - loss: 0.6757 - accuracy: 0.5627 - val_loss: 0.8116 - val_accuracy: 0.4765\n",
      "Epoch 24/40\n",
      "359/359 [==============================] - 2s 4ms/step - loss: 0.6727 - accuracy: 0.5463 - val_loss: 0.8570 - val_accuracy: 0.4639\n",
      "Epoch 25/40\n",
      "359/359 [==============================] - 2s 4ms/step - loss: 0.6694 - accuracy: 0.5631 - val_loss: 0.8662 - val_accuracy: 0.5110\n",
      "Epoch 26/40\n",
      "359/359 [==============================] - 2s 4ms/step - loss: 0.6629 - accuracy: 0.5648 - val_loss: 0.8638 - val_accuracy: 0.4922\n",
      "Epoch 27/40\n",
      "359/359 [==============================] - 2s 5ms/step - loss: 0.6663 - accuracy: 0.5732 - val_loss: 0.7820 - val_accuracy: 0.4953\n",
      "Epoch 28/40\n",
      "359/359 [==============================] - 2s 6ms/step - loss: 0.6623 - accuracy: 0.5613 - val_loss: 0.7992 - val_accuracy: 0.4953\n",
      "Epoch 29/40\n",
      "359/359 [==============================] - 2s 5ms/step - loss: 0.6644 - accuracy: 0.5711 - val_loss: 0.7407 - val_accuracy: 0.5047\n",
      "Epoch 30/40\n",
      "359/359 [==============================] - 2s 5ms/step - loss: 0.6594 - accuracy: 0.5725 - val_loss: 0.8552 - val_accuracy: 0.5078\n",
      "Epoch 31/40\n",
      "359/359 [==============================] - 2s 5ms/step - loss: 0.6564 - accuracy: 0.5662 - val_loss: 0.9240 - val_accuracy: 0.5110\n",
      "Epoch 32/40\n",
      "359/359 [==============================] - 2s 5ms/step - loss: 0.6539 - accuracy: 0.5725 - val_loss: 1.0400 - val_accuracy: 0.4483\n",
      "Epoch 33/40\n",
      "359/359 [==============================] - 2s 5ms/step - loss: 0.6580 - accuracy: 0.5777 - val_loss: 0.8735 - val_accuracy: 0.4734\n",
      "Epoch 34/40\n",
      "359/359 [==============================] - 2s 5ms/step - loss: 0.6456 - accuracy: 0.5920 - val_loss: 0.9015 - val_accuracy: 0.4828\n",
      "Epoch 35/40\n",
      "359/359 [==============================] - 2s 5ms/step - loss: 0.6432 - accuracy: 0.5913 - val_loss: 0.7655 - val_accuracy: 0.4639\n",
      "Epoch 36/40\n",
      "359/359 [==============================] - 2s 5ms/step - loss: 0.6411 - accuracy: 0.5920 - val_loss: 0.8398 - val_accuracy: 0.4734\n",
      "Epoch 37/40\n",
      "359/359 [==============================] - 2s 5ms/step - loss: 0.6359 - accuracy: 0.5958 - val_loss: 0.9861 - val_accuracy: 0.4702\n",
      "Epoch 38/40\n",
      "359/359 [==============================] - 2s 5ms/step - loss: 0.6303 - accuracy: 0.6094 - val_loss: 0.9538 - val_accuracy: 0.4984\n",
      "Epoch 39/40\n",
      "359/359 [==============================] - 2s 5ms/step - loss: 0.6244 - accuracy: 0.6129 - val_loss: 1.1774 - val_accuracy: 0.5047\n",
      "Epoch 40/40\n",
      "359/359 [==============================] - 2s 5ms/step - loss: 0.6303 - accuracy: 0.6080 - val_loss: 0.9484 - val_accuracy: 0.4577\n"
     ]
    },
    {
     "data": {
      "text/plain": [
       "<keras.callbacks.History at 0x1d5035a18d0>"
      ]
     },
     "execution_count": 149,
     "metadata": {},
     "output_type": "execute_result"
    }
   ],
   "source": [
    "model.compile(loss='binary_crossentropy', optimizer='adam', metrics=['accuracy'])\n",
    "model.fit(contours_train_rp, ger_train_labels, batch_size=8, epochs=40, validation_split=0.1)"
   ]
  },
  {
   "cell_type": "code",
   "execution_count": 150,
   "metadata": {},
   "outputs": [],
   "source": [
    "import seaborn as sns\n",
    "from sklearn.metrics import confusion_matrix\n",
    "\n",
    "def results(model, x_test, y_test):\n",
    "    y_pred = model.predict(x_test)\n",
    "    y_pred = np.round(y_pred)\n",
    "    y_pred = y_pred.astype(int)\n",
    "    y_pred = y_pred.flatten()\n",
    "\n",
    "    y_test = np.array(y_test)\n",
    "    y_test = y_test.astype(int)\n",
    "\n",
    "    # in percentage\n",
    "    print(\"Accuracy: \", np.sum(y_pred == y_test)/len(y_test)*100, \"%\")\n",
    "\n",
    "    cm = confusion_matrix(y_test, y_pred)\n",
    "    sns.heatmap(cm, annot=True, fmt='g')\n",
    "\n",
    "    return y_pred"
   ]
  },
  {
   "cell_type": "code",
   "execution_count": 171,
   "metadata": {},
   "outputs": [
    {
     "name": "stdout",
     "output_type": "stream",
     "text": [
      "2870\n",
      "2870\n"
     ]
    }
   ],
   "source": [
    "print(len(contours_test_rp))\n",
    "print(len(ger_test_labels))"
   ]
  },
  {
   "cell_type": "code",
   "execution_count": 172,
   "metadata": {},
   "outputs": [
    {
     "name": "stdout",
     "output_type": "stream",
     "text": [
      "90/90 [==============================] - 0s 2ms/step\n",
      "Accuracy:  51.184668989547035 %\n"
     ]
    },
    {
     "data": {
      "text/plain": [
       "array([1, 1, 0, ..., 1, 0, 1])"
      ]
     },
     "execution_count": 172,
     "metadata": {},
     "output_type": "execute_result"
    },
    {
     "data": {
      "image/png": "[encoded data removed]",
      "text/plain": [
       "<Figure size 640x480 with 2 Axes>"
      ]
     },
     "metadata": {},
     "output_type": "display_data"
    }
   ],
   "source": [
    "results(model, contours_test_rp, ger_test_labels)"
   ]
  },
  {
   "attachments": {},
   "cell_type": "markdown",
   "metadata": {},
   "source": [
    "# Combine the Datasets"
   ]
  },
  {
   "cell_type": "code",
   "execution_count": null,
   "metadata": {},
   "outputs": [
    {
     "name": "stdout",
     "output_type": "stream",
     "text": [
      "(6240, 138)\n",
      "(6240,)\n"
     ]
    }
   ],
   "source": [
    "# merge the train and test sets for german\n",
    "contours_merged = np.concatenate((contours_train_rp, contours_test_rp), axis=0)\n",
    "labels_merged = np.concatenate((ger_train_labels, ger_test_labels), axis=0)\n",
    "\n",
    "print(contours_merged.shape)\n",
    "print(labels_merged.shape)"
   ]
  },
  {
   "cell_type": "code",
   "execution_count": null,
   "metadata": {},
   "outputs": [
    {
     "name": "stdout",
     "output_type": "stream",
     "text": [
      "(6059, 138)\n",
      "(6059,)\n"
     ]
    }
   ],
   "source": [
    "# remove the contours whose max value is 0\n",
    "contours_merged_nonzero = contours_merged[contours_merged.max(axis=1) != 0]\n",
    "labels_merged_nonzero = labels_merged[contours_merged.max(axis=1) != 0]\n",
    "\n",
    "print(contours_merged_nonzero.shape)\n",
    "print(labels_merged_nonzero.shape)  "
   ]
  },
  {
   "cell_type": "markdown",
   "metadata": {},
   "source": [
    "## Normalize"
   ]
  },
  {
   "cell_type": "code",
   "execution_count": null,
   "metadata": {},
   "outputs": [
    {
     "data": {
      "text/plain": [
       "(6059, 138)"
      ]
     },
     "execution_count": 20,
     "metadata": {},
     "output_type": "execute_result"
    }
   ],
   "source": [
    "contours_merged_normalized = contours_merged_nonzero / contours_merged_nonzero.max(axis=1)[:,None]\n",
    "contours_merged_nonzero.shape"
   ]
  },
  {
   "cell_type": "code",
   "execution_count": null,
   "metadata": {},
   "outputs": [
    {
     "data": {
      "text/plain": [
       "array([[0.97150155, 0.94850666, 0.93340757, ..., 0.        , 0.        ,\n",
       "        0.        ],\n",
       "       [0.94444678, 0.75349733, 0.6220646 , ..., 0.        , 0.        ,\n",
       "        0.        ],\n",
       "       [0.46069308, 0.51128889, 0.53805957, ..., 0.        , 0.        ,\n",
       "        0.        ],\n",
       "       ...,\n",
       "       [1.        , 0.68841627, 0.41400728, ..., 0.        , 0.        ,\n",
       "        0.        ],\n",
       "       [1.        , 0.95066538, 0.91192892, ..., 0.        , 0.        ,\n",
       "        0.        ],\n",
       "       [0.66881956, 0.69185361, 0.73640195, ..., 0.        , 0.        ,\n",
       "        0.        ]])"
      ]
     },
     "execution_count": 21,
     "metadata": {},
     "output_type": "execute_result"
    }
   ],
   "source": [
    "contours_merged_normalized"
   ]
  },
  {
   "cell_type": "code",
   "execution_count": null,
   "metadata": {},
   "outputs": [],
   "source": [
    "# do a train test split\n",
    "contours_train_merged, contours_test_merged, labels_train_merged, labels_test_merged = train_test_split(contours_merged_normalized, labels_merged_nonzero, test_size=0.2, random_state=42)"
   ]
  },
  {
   "cell_type": "code",
   "execution_count": null,
   "metadata": {},
   "outputs": [
    {
     "name": "stdout",
     "output_type": "stream",
     "text": [
      "(4847, 138)\n",
      "(1212, 138)\n",
      "Train\n",
      "0s:  2409\n",
      "1s:  2438\n",
      "\n",
      "Test\n",
      "0s:  613\n",
      "1s:  599\n"
     ]
    }
   ],
   "source": [
    "print(contours_train_merged.shape)\n",
    "print(contours_test_merged.shape)\n",
    "\n",
    "# count 0s and 1s in the train and test sets\n",
    "print(\"Train\")\n",
    "print(\"0s: \", np.sum(labels_train_merged == 0))\n",
    "print(\"1s: \", np.sum(labels_train_merged == 1))\n",
    "\n",
    "print()\n",
    "print(\"Test\")\n",
    "print(\"0s: \", np.sum(labels_test_merged == 0))\n",
    "print(\"1s: \", np.sum(labels_test_merged == 1))"
   ]
  },
  {
   "cell_type": "code",
   "execution_count": null,
   "metadata": {},
   "outputs": [
    {
     "name": "stdout",
     "output_type": "stream",
     "text": [
      "Class weights:\n",
      "0:    1.01\n",
      "1:    0.99\n"
     ]
    }
   ],
   "source": [
    "# class weights\n",
    "class_weights = compute_class_weight(\"balanced\", classes=[0, 1], y=labels_train_merged)\n",
    "class_weights_dict = dict(enumerate(class_weights))\n",
    "print(\"Class weights:\")\n",
    "for label, weight in class_weights_dict.items():\n",
    "    print(f\"{label}:    {weight:.2f}\")"
   ]
  },
  {
   "cell_type": "code",
   "execution_count": null,
   "metadata": {},
   "outputs": [],
   "source": [
    "# early stopping\n",
    "early_stopping = EarlyStopping(monitor='val_loss', patience=5)"
   ]
  },
  {
   "cell_type": "code",
   "execution_count": null,
   "metadata": {},
   "outputs": [
    {
     "name": "stdout",
     "output_type": "stream",
     "text": [
      "Model: \"sequential_10\"\n",
      "_________________________________________________________________\n",
      " Layer (type)                Output Shape              Param #   \n",
      "=================================================================\n",
      " dense_59 (Dense)            (None, 64)                4608      \n",
      "                                                                 \n",
      " dense_60 (Dense)            (None, 128)               8320      \n",
      "                                                                 \n",
      " dense_61 (Dense)            (None, 256)               33024     \n",
      "                                                                 \n",
      " dense_62 (Dense)            (None, 512)               131584    \n",
      "                                                                 \n",
      " dense_63 (Dense)            (None, 256)               131328    \n",
      "                                                                 \n",
      " dense_64 (Dense)            (None, 128)               32896     \n",
      "                                                                 \n",
      " dense_65 (Dense)            (None, 64)                8256      \n",
      "                                                                 \n",
      " dense_66 (Dense)            (None, 1)                 65        \n",
      "                                                                 \n",
      "=================================================================\n",
      "Total params: 350,081\n",
      "Trainable params: 350,081\n",
      "Non-trainable params: 0\n",
      "_________________________________________________________________\n"
     ]
    }
   ],
   "source": [
    "# Define the model\n",
    "model = Sequential()\n",
    "model.add(Dense(64, input_dim=max_length, activation='relu'))\n",
    "model.add(Dense(128, activation='relu'))\n",
    "model.add(Dense(256, activation='relu'))\n",
    "model.add(Dense(512, activation='relu'))\n",
    "model.add(Dense(256, activation='relu'))\n",
    "model.add(Dense(128, activation='relu'))\n",
    "model.add(Dense(64, activation='relu'))\n",
    "model.add(Dense(1, activation='sigmoid'))\n",
    "\n",
    "model.summary()"
   ]
  },
  {
   "cell_type": "code",
   "execution_count": null,
   "metadata": {},
   "outputs": [],
   "source": [
    "# compile with adam optimizer with learning rate 0.0001\n",
    "model.compile(loss='binary_crossentropy', optimizer=Adam(learning_rate=0.0001), metrics=['accuracy'])"
   ]
  },
  {
   "cell_type": "code",
   "execution_count": null,
   "metadata": {},
   "outputs": [
    {
     "name": "stdout",
     "output_type": "stream",
     "text": [
      "Epoch 1/100\n",
      "554/554 [==============================] - 3s 4ms/step - loss: 0.6295 - accuracy: 0.6658 - val_loss: 0.6176 - val_accuracy: 0.6606\n",
      "Epoch 2/100\n",
      "554/554 [==============================] - 2s 4ms/step - loss: 0.5983 - accuracy: 0.6694 - val_loss: 0.6084 - val_accuracy: 0.6606\n",
      "Epoch 3/100\n",
      "554/554 [==============================] - 2s 4ms/step - loss: 0.5852 - accuracy: 0.6802 - val_loss: 0.6083 - val_accuracy: 0.6606\n",
      "Epoch 4/100\n",
      "554/554 [==============================] - 3s 5ms/step - loss: 0.5719 - accuracy: 0.6911 - val_loss: 0.6158 - val_accuracy: 0.6354\n",
      "Epoch 5/100\n",
      "554/554 [==============================] - 2s 4ms/step - loss: 0.5624 - accuracy: 0.7010 - val_loss: 0.6360 - val_accuracy: 0.6426\n",
      "Epoch 6/100\n",
      "554/554 [==============================] - 2s 4ms/step - loss: 0.5523 - accuracy: 0.7019 - val_loss: 0.6346 - val_accuracy: 0.6643\n",
      "Epoch 7/100\n",
      "554/554 [==============================] - 2s 4ms/step - loss: 0.5507 - accuracy: 0.7028 - val_loss: 0.6486 - val_accuracy: 0.6390\n",
      "Epoch 8/100\n",
      "554/554 [==============================] - 2s 4ms/step - loss: 0.5392 - accuracy: 0.7173 - val_loss: 0.6633 - val_accuracy: 0.6426\n"
     ]
    },
    {
     "data": {
      "text/plain": [
       "<keras.callbacks.History at 0x173d3aaf460>"
      ]
     },
     "execution_count": 111,
     "metadata": {},
     "output_type": "execute_result"
    }
   ],
   "source": [
    "model.fit(\n",
    "    contours_train_merged, labels_train_merged,\n",
    "    batch_size=2, epochs=100, validation_split=0.2,\n",
    "    callbacks=[early_stopping]\n",
    ")"
   ]
  },
  {
   "cell_type": "code",
   "execution_count": null,
   "metadata": {},
   "outputs": [
    {
     "name": "stdout",
     "output_type": "stream",
     "text": [
      "11/11 [==============================] - 0s 2ms/step\n",
      "Accuracy:  66.28242074927954 %\n"
     ]
    },
    {
     "data": {
      "image/png": "[encoded data removed]",
      "text/plain": [
       "<Figure size 640x480 with 2 Axes>"
      ]
     },
     "metadata": {},
     "output_type": "display_data"
    }
   ],
   "source": [
    "ans = results(model, contours_test_merged, labels_test_merged)"
   ]
  },
  {
   "cell_type": "code",
   "execution_count": null,
   "metadata": {},
   "outputs": [
    {
     "data": {
      "text/plain": [
       "array([1, 1, 0, ..., 1, 0, 1])"
      ]
     },
     "execution_count": 45,
     "metadata": {},
     "output_type": "execute_result"
    }
   ],
   "source": [
    "ans"
   ]
  },
  {
   "cell_type": "code",
   "execution_count": null,
   "metadata": {},
   "outputs": [
    {
     "data": {
      "text/plain": [
       "138"
      ]
     },
     "execution_count": 25,
     "metadata": {},
     "output_type": "execute_result"
    }
   ],
   "source": [
    "max_length"
   ]
  },
  {
   "attachments": {},
   "cell_type": "markdown",
   "metadata": {},
   "source": [
    "# Augmentation"
   ]
  },
  {
   "cell_type": "code",
   "execution_count": 229,
   "metadata": {},
   "outputs": [],
   "source": [
    "# augment the data\n",
    "def augment(contours, labels, length):\n",
    "    contours_aug = []\n",
    "    labels_aug = []\n",
    "\n",
    "    for i, contour in enumerate(contours):\n",
    "        label = labels[i]\n",
    "\n",
    "        for p in range(0, length - len(contour), 10):\n",
    "            padded_contour = np.pad(contour, (p, length-len(contour) - p), 'constant')\n",
    "            contours_aug.append(padded_contour)\n",
    "            labels_aug.append(label)\n",
    "        clear_output(wait=True)\n",
    "        \n",
    "        \n",
    "        # print progress\n",
    "        if i % 100 == 0:\n",
    "            print(f\"Augmenting contour {i} out of {len(contours)}\")\n",
    "            print(\"Percentage: \", i/len(contours)*100, \"%\")\n",
    "\n",
    "        if i == len(contours) - 1:\n",
    "            print(\"Done\")\n",
    "            return contours_aug, labels_aug"
   ]
  },
  {
   "cell_type": "code",
   "execution_count": 231,
   "metadata": {},
   "outputs": [
    {
     "name": "stdout",
     "output_type": "stream",
     "text": [
      "Done\n"
     ]
    },
    {
     "ename": "KeyboardInterrupt",
     "evalue": "",
     "output_type": "error",
     "traceback": [
      "\u001b[1;31m---------------------------------------------------------------------------\u001b[0m",
      "\u001b[1;31mKeyboardInterrupt\u001b[0m                         Traceback (most recent call last)",
      "\u001b[1;32mc:\\Users\\abhay\\Desktop\\Code\\Speech-Prominence-Detection\\Pranjal_Abhay\\codes\\model.ipynb Cell 50\u001b[0m in \u001b[0;36m3\n\u001b[0;32m      <a href='vscode-notebook-cell:/c%3A/Users/abhay/Desktop/Code/Speech-Prominence-Detection/Pranjal_Abhay/codes/model.ipynb#X63sZmlsZQ%3D%3D?line=0'>1</a>\u001b[0m \u001b[39m# get augmented data\u001b[39;00m\n\u001b[0;32m      <a href='vscode-notebook-cell:/c%3A/Users/abhay/Desktop/Code/Speech-Prominence-Detection/Pranjal_Abhay/codes/model.ipynb#X63sZmlsZQ%3D%3D?line=1'>2</a>\u001b[0m contours_aug, labels_aug \u001b[39m=\u001b[39m augment(ger_train_norm[\u001b[39m\"\u001b[39m\u001b[39mcontour\u001b[39m\u001b[39m\"\u001b[39m], ger_train_norm[\u001b[39m\"\u001b[39m\u001b[39mlabels\u001b[39m\u001b[39m\"\u001b[39m], max_length)\n\u001b[1;32m----> <a href='vscode-notebook-cell:/c%3A/Users/abhay/Desktop/Code/Speech-Prominence-Detection/Pranjal_Abhay/codes/model.ipynb#X63sZmlsZQ%3D%3D?line=2'>3</a>\u001b[0m \u001b[39mprint\u001b[39;49m(contours_aug)\n",
      "File \u001b[1;32m~\\AppData\\Local\\Packages\\PythonSoftwareFoundation.Python.3.10_qbz5n2kfra8p0\\LocalCache\\local-packages\\Python310\\site-packages\\numpy\\core\\arrayprint.py:1488\u001b[0m, in \u001b[0;36m_array_repr_implementation\u001b[1;34m(arr, max_line_width, precision, suppress_small, array2string)\u001b[0m\n\u001b[0;32m   1486\u001b[0m     lst \u001b[39m=\u001b[39m \u001b[39mrepr\u001b[39m(arr\u001b[39m.\u001b[39mitem())\n\u001b[0;32m   1487\u001b[0m \u001b[39melif\u001b[39;00m arr\u001b[39m.\u001b[39msize \u001b[39m>\u001b[39m \u001b[39m0\u001b[39m \u001b[39mor\u001b[39;00m arr\u001b[39m.\u001b[39mshape \u001b[39m==\u001b[39m (\u001b[39m0\u001b[39m,):\n\u001b[1;32m-> 1488\u001b[0m     lst \u001b[39m=\u001b[39m array2string(arr, max_line_width, precision, suppress_small,\n\u001b[0;32m   1489\u001b[0m                        \u001b[39m'\u001b[39;49m\u001b[39m, \u001b[39;49m\u001b[39m'\u001b[39;49m, prefix, suffix\u001b[39m=\u001b[39;49msuffix)\n\u001b[0;32m   1490\u001b[0m \u001b[39melse\u001b[39;00m:  \u001b[39m# show zero-length shape unless it is (0,)\u001b[39;00m\n\u001b[0;32m   1491\u001b[0m     lst \u001b[39m=\u001b[39m \u001b[39m\"\u001b[39m\u001b[39m[], shape=\u001b[39m\u001b[39m%s\u001b[39;00m\u001b[39m\"\u001b[39m \u001b[39m%\u001b[39m (\u001b[39mrepr\u001b[39m(arr\u001b[39m.\u001b[39mshape),)\n",
      "File \u001b[1;32m~\\AppData\\Local\\Packages\\PythonSoftwareFoundation.Python.3.10_qbz5n2kfra8p0\\LocalCache\\local-packages\\Python310\\site-packages\\numpy\\core\\arrayprint.py:736\u001b[0m, in \u001b[0;36marray2string\u001b[1;34m(a, max_line_width, precision, suppress_small, separator, prefix, style, formatter, threshold, edgeitems, sign, floatmode, suffix, legacy)\u001b[0m\n\u001b[0;32m    733\u001b[0m \u001b[39mif\u001b[39;00m a\u001b[39m.\u001b[39msize \u001b[39m==\u001b[39m \u001b[39m0\u001b[39m:\n\u001b[0;32m    734\u001b[0m     \u001b[39mreturn\u001b[39;00m \u001b[39m\"\u001b[39m\u001b[39m[]\u001b[39m\u001b[39m\"\u001b[39m\n\u001b[1;32m--> 736\u001b[0m \u001b[39mreturn\u001b[39;00m _array2string(a, options, separator, prefix)\n",
      "File \u001b[1;32m~\\AppData\\Local\\Packages\\PythonSoftwareFoundation.Python.3.10_qbz5n2kfra8p0\\LocalCache\\local-packages\\Python310\\site-packages\\numpy\\core\\arrayprint.py:513\u001b[0m, in \u001b[0;36m_recursive_guard.<locals>.decorating_function.<locals>.wrapper\u001b[1;34m(self, *args, **kwargs)\u001b[0m\n\u001b[0;32m    511\u001b[0m repr_running\u001b[39m.\u001b[39madd(key)\n\u001b[0;32m    512\u001b[0m \u001b[39mtry\u001b[39;00m:\n\u001b[1;32m--> 513\u001b[0m     \u001b[39mreturn\u001b[39;00m f(\u001b[39mself\u001b[39m, \u001b[39m*\u001b[39margs, \u001b[39m*\u001b[39m\u001b[39m*\u001b[39mkwargs)\n\u001b[0;32m    514\u001b[0m \u001b[39mfinally\u001b[39;00m:\n\u001b[0;32m    515\u001b[0m     repr_running\u001b[39m.\u001b[39mdiscard(key)\n",
      "File \u001b[1;32m~\\AppData\\Local\\Packages\\PythonSoftwareFoundation.Python.3.10_qbz5n2kfra8p0\\LocalCache\\local-packages\\Python310\\site-packages\\numpy\\core\\arrayprint.py:546\u001b[0m, in \u001b[0;36m_array2string\u001b[1;34m(a, options, separator, prefix)\u001b[0m\n\u001b[0;32m    543\u001b[0m \u001b[39m# skip over array(\u001b[39;00m\n\u001b[0;32m    544\u001b[0m next_line_prefix \u001b[39m+\u001b[39m\u001b[39m=\u001b[39m \u001b[39m\"\u001b[39m\u001b[39m \u001b[39m\u001b[39m\"\u001b[39m\u001b[39m*\u001b[39m\u001b[39mlen\u001b[39m(prefix)\n\u001b[1;32m--> 546\u001b[0m lst \u001b[39m=\u001b[39m _formatArray(a, format_function, options[\u001b[39m'\u001b[39;49m\u001b[39mlinewidth\u001b[39;49m\u001b[39m'\u001b[39;49m],\n\u001b[0;32m    547\u001b[0m                    next_line_prefix, separator, options[\u001b[39m'\u001b[39;49m\u001b[39medgeitems\u001b[39;49m\u001b[39m'\u001b[39;49m],\n\u001b[0;32m    548\u001b[0m                    summary_insert, options[\u001b[39m'\u001b[39;49m\u001b[39mlegacy\u001b[39;49m\u001b[39m'\u001b[39;49m])\n\u001b[0;32m    549\u001b[0m \u001b[39mreturn\u001b[39;00m lst\n",
      "File \u001b[1;32m~\\AppData\\Local\\Packages\\PythonSoftwareFoundation.Python.3.10_qbz5n2kfra8p0\\LocalCache\\local-packages\\Python310\\site-packages\\numpy\\core\\arrayprint.py:889\u001b[0m, in \u001b[0;36m_formatArray\u001b[1;34m(a, format_function, line_width, next_line_prefix, separator, edge_items, summary_insert, legacy)\u001b[0m\n\u001b[0;32m    885\u001b[0m     \u001b[39mreturn\u001b[39;00m s\n\u001b[0;32m    887\u001b[0m \u001b[39mtry\u001b[39;00m:\n\u001b[0;32m    888\u001b[0m     \u001b[39m# invoke the recursive part with an initial index and prefix\u001b[39;00m\n\u001b[1;32m--> 889\u001b[0m     \u001b[39mreturn\u001b[39;00m recurser(index\u001b[39m=\u001b[39;49m(),\n\u001b[0;32m    890\u001b[0m                     hanging_indent\u001b[39m=\u001b[39;49mnext_line_prefix,\n\u001b[0;32m    891\u001b[0m                     curr_width\u001b[39m=\u001b[39;49mline_width)\n\u001b[0;32m    892\u001b[0m \u001b[39mfinally\u001b[39;00m:\n\u001b[0;32m    893\u001b[0m     \u001b[39m# recursive closures have a cyclic reference to themselves, which\u001b[39;00m\n\u001b[0;32m    894\u001b[0m     \u001b[39m# requires gc to collect (gh-10620). To avoid this problem, for\u001b[39;00m\n\u001b[0;32m    895\u001b[0m     \u001b[39m# performance and PyPy friendliness, we break the cycle:\u001b[39;00m\n\u001b[0;32m    896\u001b[0m     recurser \u001b[39m=\u001b[39m \u001b[39mNone\u001b[39;00m\n",
      "File \u001b[1;32m~\\AppData\\Local\\Packages\\PythonSoftwareFoundation.Python.3.10_qbz5n2kfra8p0\\LocalCache\\local-packages\\Python310\\site-packages\\numpy\\core\\arrayprint.py:845\u001b[0m, in \u001b[0;36m_formatArray.<locals>.recurser\u001b[1;34m(index, hanging_indent, curr_width)\u001b[0m\n\u001b[0;32m    842\u001b[0m         line \u001b[39m+\u001b[39m\u001b[39m=\u001b[39m separator\n\u001b[0;32m    844\u001b[0m \u001b[39mfor\u001b[39;00m i \u001b[39min\u001b[39;00m \u001b[39mrange\u001b[39m(trailing_items, \u001b[39m1\u001b[39m, \u001b[39m-\u001b[39m\u001b[39m1\u001b[39m):\n\u001b[1;32m--> 845\u001b[0m     word \u001b[39m=\u001b[39m recurser(index \u001b[39m+\u001b[39;49m (\u001b[39m-\u001b[39;49mi,), next_hanging_indent, next_width)\n\u001b[0;32m    846\u001b[0m     s, line \u001b[39m=\u001b[39m _extendLine_pretty(\n\u001b[0;32m    847\u001b[0m         s, line, word, elem_width, hanging_indent, legacy)\n\u001b[0;32m    848\u001b[0m     line \u001b[39m+\u001b[39m\u001b[39m=\u001b[39m separator\n",
      "File \u001b[1;32m~\\AppData\\Local\\Packages\\PythonSoftwareFoundation.Python.3.10_qbz5n2kfra8p0\\LocalCache\\local-packages\\Python310\\site-packages\\numpy\\core\\arrayprint.py:799\u001b[0m, in \u001b[0;36m_formatArray.<locals>.recurser\u001b[1;34m(index, hanging_indent, curr_width)\u001b[0m\n\u001b[0;32m    796\u001b[0m axes_left \u001b[39m=\u001b[39m a\u001b[39m.\u001b[39mndim \u001b[39m-\u001b[39m axis\n\u001b[0;32m    798\u001b[0m \u001b[39mif\u001b[39;00m axes_left \u001b[39m==\u001b[39m \u001b[39m0\u001b[39m:\n\u001b[1;32m--> 799\u001b[0m     \u001b[39mreturn\u001b[39;00m format_function(a[index])\n\u001b[0;32m    801\u001b[0m \u001b[39m# when recursing, add a space to align with the [ added, and reduce the\u001b[39;00m\n\u001b[0;32m    802\u001b[0m \u001b[39m# length of the line by 1\u001b[39;00m\n\u001b[0;32m    803\u001b[0m next_hanging_indent \u001b[39m=\u001b[39m hanging_indent \u001b[39m+\u001b[39m \u001b[39m'\u001b[39m\u001b[39m \u001b[39m\u001b[39m'\u001b[39m\n",
      "\u001b[1;31mKeyboardInterrupt\u001b[0m: "
     ]
    }
   ],
   "source": [
    "# get augmented data\n",
    "contours_aug, labels_aug = augment(ger_train_norm[\"contour\"], ger_train_norm[\"labels\"], max_length)\n",
    "print(contours_aug)"
   ]
  },
  {
   "cell_type": "code",
   "execution_count": 232,
   "metadata": {},
   "outputs": [
    {
     "name": "stdout",
     "output_type": "stream",
     "text": [
      "37096\n",
      "37096\n"
     ]
    }
   ],
   "source": [
    "print(len(contours_aug))\n",
    "print(len(labels_aug))"
   ]
  },
  {
   "cell_type": "code",
   "execution_count": 233,
   "metadata": {},
   "outputs": [],
   "source": [
    "# convert to numpy arrays\n",
    "contours_aug = np.array(contours_aug)\n",
    "labels_aug = np.array(labels_aug)"
   ]
  },
  {
   "cell_type": "code",
   "execution_count": 234,
   "metadata": {},
   "outputs": [
    {
     "data": {
      "text/plain": [
       "array([[0.92002808, 0.85550016, 0.81312932, ..., 0.        , 0.        ,\n",
       "        0.        ],\n",
       "       [0.        , 0.        , 0.        , ..., 0.        , 0.        ,\n",
       "        0.        ],\n",
       "       [0.        , 0.        , 0.        , ..., 0.        , 0.        ,\n",
       "        0.        ],\n",
       "       ...,\n",
       "       [0.        , 0.        , 0.        , ..., 0.        , 0.        ,\n",
       "        0.        ],\n",
       "       [0.        , 0.        , 0.        , ..., 0.        , 0.        ,\n",
       "        0.        ],\n",
       "       [0.        , 0.        , 0.        , ..., 0.06832175, 0.        ,\n",
       "        0.        ]])"
      ]
     },
     "execution_count": 234,
     "metadata": {},
     "output_type": "execute_result"
    }
   ],
   "source": [
    "contours_aug"
   ]
  },
  {
   "cell_type": "code",
   "execution_count": 235,
   "metadata": {},
   "outputs": [
    {
     "name": "stdout",
     "output_type": "stream",
     "text": [
      "18840\n",
      "18256\n"
     ]
    }
   ],
   "source": [
    "zeros_aug = np.count_nonzero(labels_aug == 0)\n",
    "ones_aug = np.count_nonzero(labels_aug == 1)\n",
    "\n",
    "print(zeros_aug)\n",
    "print(ones_aug)"
   ]
  },
  {
   "cell_type": "markdown",
   "metadata": {},
   "source": [
    "## Drop records to make dataset balanced"
   ]
  },
  {
   "cell_type": "code",
   "execution_count": null,
   "metadata": {},
   "outputs": [],
   "source": [
    "N = 2000\n",
    "indices_to_drop = np.where(labels_aug == 0)[0][:N]\n",
    "\n",
    "filtered_contours_aug = np.delete(contours_aug, indices_to_drop, axis=0)\n",
    "filtered_labels_aug = np.delete(labels_aug, indices_to_drop)"
   ]
  },
  {
   "cell_type": "code",
   "execution_count": null,
   "metadata": {},
   "outputs": [
    {
     "name": "stdout",
     "output_type": "stream",
     "text": [
      "1723\n",
      "1854\n"
     ]
    }
   ],
   "source": [
    "zeros_aug = np.count_nonzero(filtered_labels_aug == 0)\n",
    "ones_aug = np.count_nonzero(filtered_labels_aug == 1)\n",
    "\n",
    "print(zeros_aug)\n",
    "print(ones_aug)"
   ]
  },
  {
   "cell_type": "code",
   "execution_count": null,
   "metadata": {},
   "outputs": [],
   "source": [
    "# visualize the padded contours side by side with subplots\n",
    "def plot_contours(contours, labels, length, padding=\"both\"):\n",
    "    fig, axs = plt.subplots(1, 5, figsize=(20, 4))\n",
    "    print(padding)\n",
    "\n",
    "    for i in range(5):\n",
    "        r = random.randint(0, len(contours)-1)\n",
    "        z = i * 10\n",
    "        axs[i].plot(contours[z])\n",
    "        axs[i].set_title(\"Label: \" + str(labels[z]))\n",
    "\n",
    "\n",
    "        if padding == \"left\":\n",
    "            axs[i].set_xlim(0, length)\n",
    "\n",
    "        elif padding == \"right\":\n",
    "            axs[i].set_xlim(0, length)\n",
    "\n",
    "        elif padding == \"both\":\n",
    "            axs[i].set_xlim(0, length)\n",
    "    plt.show()"
   ]
  },
  {
   "cell_type": "code",
   "execution_count": null,
   "metadata": {},
   "outputs": [
    {
     "name": "stdout",
     "output_type": "stream",
     "text": [
      "both\n"
     ]
    },
    {
     "data": {
      "image/png": "[encoded data removed]",
      "text/plain": [
       "<Figure size 2000x400 with 5 Axes>"
      ]
     },
     "metadata": {},
     "output_type": "display_data"
    }
   ],
   "source": [
    "plot_contours(contours_aug, labels_aug, max_length)"
   ]
  },
  {
   "cell_type": "code",
   "execution_count": null,
   "metadata": {},
   "outputs": [
    {
     "ename": "NameError",
     "evalue": "name 'filtered_contours_aug' is not defined",
     "output_type": "error",
     "traceback": [
      "\u001b[1;31m---------------------------------------------------------------------------\u001b[0m",
      "\u001b[1;31mNameError\u001b[0m                                 Traceback (most recent call last)",
      "\u001b[1;32mc:\\Users\\abhay\\Desktop\\Code\\Speech-Prominence-Detection\\Pranjal_Abhay\\codes\\model.ipynb Cell 51\u001b[0m in \u001b[0;36m1\n\u001b[1;32m----> <a href='vscode-notebook-cell:/c%3A/Users/abhay/Desktop/Code/Speech-Prominence-Detection/Pranjal_Abhay/codes/model.ipynb#Y100sZmlsZQ%3D%3D?line=0'>1</a>\u001b[0m \u001b[39mprint\u001b[39m(filtered_contours_aug\u001b[39m.\u001b[39mshape)\n\u001b[0;32m      <a href='vscode-notebook-cell:/c%3A/Users/abhay/Desktop/Code/Speech-Prominence-Detection/Pranjal_Abhay/codes/model.ipynb#Y100sZmlsZQ%3D%3D?line=1'>2</a>\u001b[0m \u001b[39mprint\u001b[39m(filtered_labels_aug\u001b[39m.\u001b[39mshape)\n",
      "\u001b[1;31mNameError\u001b[0m: name 'filtered_contours_aug' is not defined"
     ]
    }
   ],
   "source": [
    "print(filtered_contours_aug.shape)\n",
    "print(filtered_labels_aug.shape)"
   ]
  },
  {
   "attachments": {},
   "cell_type": "markdown",
   "metadata": {},
   "source": [
    "# Augmented Contours Skewed"
   ]
  },
  {
   "cell_type": "code",
   "execution_count": 236,
   "metadata": {},
   "outputs": [
    {
     "name": "stdout",
     "output_type": "stream",
     "text": [
      "Model: \"sequential_4\"\n"
     ]
    },
    {
     "name": "stdout",
     "output_type": "stream",
     "text": [
      "_________________________________________________________________\n",
      " Layer (type)                Output Shape              Param #   \n",
      "=================================================================\n",
      " dense_21 (Dense)            (None, 128)               17792     \n",
      "                                                                 \n",
      " dense_22 (Dense)            (None, 64)                8256      \n",
      "                                                                 \n",
      " dense_23 (Dense)            (None, 1)                 65        \n",
      "                                                                 \n",
      "=================================================================\n",
      "Total params: 26,113\n",
      "Trainable params: 26,113\n",
      "Non-trainable params: 0\n",
      "_________________________________________________________________\n"
     ]
    }
   ],
   "source": [
    "# Define the input shape\n",
    "input_shape = (max_length,)\n",
    "\n",
    "# Define the model\n",
    "model = Sequential()\n",
    "model.add(Dense(128, activation='relu', input_shape=input_shape))\n",
    "model.add(Dense(64, activation='relu'))\n",
    "model.add(Dense(1, activation='sigmoid'))\n",
    "\n",
    "model.summary()"
   ]
  },
  {
   "cell_type": "code",
   "execution_count": 237,
   "metadata": {},
   "outputs": [],
   "source": [
    "# Compile the model\n",
    "model.compile(optimizer='adam', loss='binary_crossentropy', metrics=['accuracy'])"
   ]
  },
  {
   "cell_type": "code",
   "execution_count": 238,
   "metadata": {},
   "outputs": [
    {
     "name": "stdout",
     "output_type": "stream",
     "text": [
      "Epoch 1/20\n",
      "14838/14838 [==============================] - 29s 2ms/step - loss: 0.6831 - accuracy: 0.5570 - val_loss: 0.6662 - val_accuracy: 0.5945\n",
      "Epoch 2/20\n",
      "14838/14838 [==============================] - 27s 2ms/step - loss: 0.6751 - accuracy: 0.5766 - val_loss: 0.6646 - val_accuracy: 0.5939\n",
      "Epoch 3/20\n",
      "14838/14838 [==============================] - 27s 2ms/step - loss: 0.6715 - accuracy: 0.5859 - val_loss: 0.6643 - val_accuracy: 0.5871\n",
      "Epoch 4/20\n",
      "14838/14838 [==============================] - 27s 2ms/step - loss: 0.6695 - accuracy: 0.5889 - val_loss: 0.6640 - val_accuracy: 0.5880\n",
      "Epoch 5/20\n",
      "14838/14838 [==============================] - 26s 2ms/step - loss: 0.6674 - accuracy: 0.5884 - val_loss: 0.6631 - val_accuracy: 0.5857\n",
      "Epoch 6/20\n",
      "14838/14838 [==============================] - 29s 2ms/step - loss: 0.6660 - accuracy: 0.5933 - val_loss: 0.6677 - val_accuracy: 0.5780\n",
      "Epoch 7/20\n",
      "14838/14838 [==============================] - 26s 2ms/step - loss: 0.6641 - accuracy: 0.5941 - val_loss: 0.6646 - val_accuracy: 0.5885\n",
      "Epoch 8/20\n",
      "14838/14838 [==============================] - 25s 2ms/step - loss: 0.6623 - accuracy: 0.5940 - val_loss: 0.6667 - val_accuracy: 0.5836\n",
      "Epoch 9/20\n",
      "14838/14838 [==============================] - 25s 2ms/step - loss: 0.6615 - accuracy: 0.5970 - val_loss: 0.6647 - val_accuracy: 0.5832\n",
      "Epoch 10/20\n",
      "14838/14838 [==============================] - 26s 2ms/step - loss: 0.6604 - accuracy: 0.5975 - val_loss: 0.6654 - val_accuracy: 0.5898\n",
      "Epoch 11/20\n",
      "14838/14838 [==============================] - 25s 2ms/step - loss: 0.6581 - accuracy: 0.6010 - val_loss: 0.6642 - val_accuracy: 0.5864\n",
      "Epoch 12/20\n",
      "14838/14838 [==============================] - 26s 2ms/step - loss: 0.6573 - accuracy: 0.6049 - val_loss: 0.6644 - val_accuracy: 0.5933\n",
      "Epoch 13/20\n",
      "14838/14838 [==============================] - 25s 2ms/step - loss: 0.6561 - accuracy: 0.6024 - val_loss: 0.6643 - val_accuracy: 0.5888\n",
      "Epoch 14/20\n",
      "14838/14838 [==============================] - 26s 2ms/step - loss: 0.6540 - accuracy: 0.6040 - val_loss: 0.6637 - val_accuracy: 0.5837\n",
      "Epoch 15/20\n",
      "14838/14838 [==============================] - 25s 2ms/step - loss: 0.6525 - accuracy: 0.6055 - val_loss: 0.6650 - val_accuracy: 0.5860\n",
      "Epoch 16/20\n",
      "14838/14838 [==============================] - 25s 2ms/step - loss: 0.6504 - accuracy: 0.6058 - val_loss: 0.6647 - val_accuracy: 0.5911\n",
      "Epoch 17/20\n",
      "14838/14838 [==============================] - 27s 2ms/step - loss: 0.6493 - accuracy: 0.6092 - val_loss: 0.6687 - val_accuracy: 0.5892\n",
      "Epoch 18/20\n",
      "14838/14838 [==============================] - 29s 2ms/step - loss: 0.6473 - accuracy: 0.6116 - val_loss: 0.6735 - val_accuracy: 0.5845\n",
      "Epoch 19/20\n",
      "14838/14838 [==============================] - 30s 2ms/step - loss: 0.6447 - accuracy: 0.6115 - val_loss: 0.6705 - val_accuracy: 0.5857\n",
      "Epoch 20/20\n",
      "14838/14838 [==============================] - 30s 2ms/step - loss: 0.6417 - accuracy: 0.6141 - val_loss: 0.6719 - val_accuracy: 0.5903\n"
     ]
    },
    {
     "data": {
      "text/plain": [
       "<keras.callbacks.History at 0x1d57eca10c0>"
      ]
     },
     "execution_count": 238,
     "metadata": {},
     "output_type": "execute_result"
    }
   ],
   "source": [
    "model.fit(contours_aug, labels_aug, epochs=20, batch_size=2, validation_split=0.2)"
   ]
  },
  {
   "cell_type": "code",
   "execution_count": 46,
   "metadata": {},
   "outputs": [
    {
     "data": {
      "text/plain": [
       "array([[0.01916269, 0.01875746, 0.01863201, ..., 0.        , 0.        ,\n",
       "        0.        ],\n",
       "       [0.01852994, 0.0187813 , 0.01916331, ..., 0.        , 0.        ,\n",
       "        0.        ],\n",
       "       [0.11961875, 0.12168225, 0.12773345, ..., 0.        , 0.        ,\n",
       "        0.        ],\n",
       "       ...,\n",
       "       [0.00637176, 0.0065912 , 0.00701561, ..., 0.        , 0.        ,\n",
       "        0.        ],\n",
       "       [0.        , 0.        , 0.        , ..., 0.        , 0.        ,\n",
       "        0.        ],\n",
       "       [0.        , 0.        , 0.        , ..., 0.        , 0.        ,\n",
       "        0.        ]])"
      ]
     },
     "execution_count": 46,
     "metadata": {},
     "output_type": "execute_result"
    }
   ],
   "source": [
    "# contourNormTest = ger_test[\"contour_normalized\"]\n",
    "# labelTest = ger_test[\"labels\"]\n",
    "\n",
    "contours_test_rp"
   ]
  },
  {
   "cell_type": "code",
   "execution_count": 52,
   "metadata": {},
   "outputs": [
    {
     "name": "stdout",
     "output_type": "stream",
     "text": [
      "2928\n",
      "2928\n"
     ]
    }
   ],
   "source": [
    "print(len(contours_test_rp))\n",
    "print(len(ger_test[\"labels\"]))"
   ]
  },
  {
   "cell_type": "code",
   "execution_count": 239,
   "metadata": {},
   "outputs": [
    {
     "name": "stdout",
     "output_type": "stream",
     "text": [
      "90/90 [==============================] - 0s 2ms/step\n",
      "Accuracy:  56.23693379790941 %\n"
     ]
    },
    {
     "data": {
      "text/plain": [
       "array([1, 1, 0, ..., 0, 1, 0])"
      ]
     },
     "execution_count": 239,
     "metadata": {},
     "output_type": "execute_result"
    },
    {
     "data": {
      "image/png": "[encoded data removed]",
      "text/plain": [
       "<Figure size 640x480 with 2 Axes>"
      ]
     },
     "metadata": {},
     "output_type": "display_data"
    }
   ],
   "source": [
    "results(model, contours_test_rp, ger_test[\"labels\"])"
   ]
  },
  {
   "attachments": {},
   "cell_type": "markdown",
   "metadata": {},
   "source": [
    "# Augmented Contours Balanced"
   ]
  },
  {
   "cell_type": "code",
   "execution_count": null,
   "metadata": {},
   "outputs": [
    {
     "name": "stdout",
     "output_type": "stream",
     "text": [
      "Model: \"sequential_14\"\n",
      "_________________________________________________________________\n",
      " Layer (type)                Output Shape              Param #   \n",
      "=================================================================\n",
      " dense_76 (Dense)            (None, 128)               9216      \n",
      "                                                                 \n",
      " dense_77 (Dense)            (None, 64)                8256      \n",
      "                                                                 \n",
      " dense_78 (Dense)            (None, 1)                 65        \n",
      "                                                                 \n",
      "=================================================================\n",
      "Total params: 17,537\n",
      "Trainable params: 17,537\n",
      "Non-trainable params: 0\n",
      "_________________________________________________________________\n"
     ]
    }
   ],
   "source": [
    "# Define the input shape\n",
    "input_shape = (max_length,)\n",
    " \n",
    "# Define the model\n",
    "model = Sequential()\n",
    "model.add(Dense(128, activation='relu', input_shape=input_shape))\n",
    "model.add(Dense(64, activation='relu'))\n",
    "model.add(Dense(1, activation='sigmoid'))\n",
    "\n",
    "model.summary()"
   ]
  },
  {
   "cell_type": "code",
   "execution_count": null,
   "metadata": {},
   "outputs": [],
   "source": [
    "# Compile the model\n",
    "model.compile(optimizer='adam', loss='binary_crossentropy', metrics=['accuracy'])"
   ]
  },
  {
   "cell_type": "code",
   "execution_count": null,
   "metadata": {},
   "outputs": [
    {
     "name": "stdout",
     "output_type": "stream",
     "text": [
      "Epoch 1/20\n",
      "1431/1431 [==============================] - 4s 2ms/step - loss: 0.6685 - accuracy: 0.5809 - val_loss: 0.7396 - val_accuracy: 0.5405\n",
      "Epoch 2/20\n",
      "1431/1431 [==============================] - 3s 2ms/step - loss: 0.6583 - accuracy: 0.5904 - val_loss: 0.6667 - val_accuracy: 0.6173\n",
      "Epoch 3/20\n",
      "1431/1431 [==============================] - 3s 2ms/step - loss: 0.6544 - accuracy: 0.5907 - val_loss: 0.7045 - val_accuracy: 0.5824\n",
      "Epoch 4/20\n",
      "1431/1431 [==============================] - 3s 2ms/step - loss: 0.6483 - accuracy: 0.5956 - val_loss: 0.7193 - val_accuracy: 0.5894\n",
      "Epoch 5/20\n",
      "1431/1431 [==============================] - 3s 2ms/step - loss: 0.6403 - accuracy: 0.6022 - val_loss: 0.6837 - val_accuracy: 0.6285\n",
      "Epoch 6/20\n",
      "1431/1431 [==============================] - 3s 2ms/step - loss: 0.6356 - accuracy: 0.6078 - val_loss: 0.7154 - val_accuracy: 0.6103\n",
      "Epoch 7/20\n",
      "1431/1431 [==============================] - 3s 2ms/step - loss: 0.6271 - accuracy: 0.6089 - val_loss: 0.6854 - val_accuracy: 0.6355\n",
      "Epoch 8/20\n",
      "1431/1431 [==============================] - 2s 2ms/step - loss: 0.6196 - accuracy: 0.6141 - val_loss: 0.7750 - val_accuracy: 0.6020\n",
      "Epoch 9/20\n",
      "1431/1431 [==============================] - 3s 2ms/step - loss: 0.6124 - accuracy: 0.6264 - val_loss: 0.7598 - val_accuracy: 0.6075\n",
      "Epoch 10/20\n",
      "1431/1431 [==============================] - 3s 2ms/step - loss: 0.6031 - accuracy: 0.6365 - val_loss: 0.7951 - val_accuracy: 0.6061\n",
      "Epoch 11/20\n",
      "1431/1431 [==============================] - 3s 2ms/step - loss: 0.5968 - accuracy: 0.6491 - val_loss: 0.7481 - val_accuracy: 0.6313\n",
      "Epoch 12/20\n",
      "1431/1431 [==============================] - 2s 2ms/step - loss: 0.5888 - accuracy: 0.6505 - val_loss: 0.7533 - val_accuracy: 0.5936\n",
      "Epoch 13/20\n",
      "1431/1431 [==============================] - 3s 2ms/step - loss: 0.5837 - accuracy: 0.6596 - val_loss: 0.6973 - val_accuracy: 0.6564\n",
      "Epoch 14/20\n",
      "1431/1431 [==============================] - 3s 2ms/step - loss: 0.5734 - accuracy: 0.6596 - val_loss: 0.7832 - val_accuracy: 0.6243\n",
      "Epoch 15/20\n",
      "1431/1431 [==============================] - 3s 2ms/step - loss: 0.5695 - accuracy: 0.6718 - val_loss: 0.7311 - val_accuracy: 0.6369\n",
      "Epoch 16/20\n",
      "1431/1431 [==============================] - 3s 2ms/step - loss: 0.5638 - accuracy: 0.6805 - val_loss: 0.7227 - val_accuracy: 0.5810\n",
      "Epoch 17/20\n",
      "1431/1431 [==============================] - 2s 2ms/step - loss: 0.5514 - accuracy: 0.6809 - val_loss: 0.7169 - val_accuracy: 0.5978\n",
      "Epoch 18/20\n",
      "1431/1431 [==============================] - 3s 2ms/step - loss: 0.5470 - accuracy: 0.6945 - val_loss: 0.8007 - val_accuracy: 0.6075\n",
      "Epoch 19/20\n",
      "1431/1431 [==============================] - 3s 2ms/step - loss: 0.5421 - accuracy: 0.7053 - val_loss: 0.7528 - val_accuracy: 0.5545\n",
      "Epoch 20/20\n",
      "1431/1431 [==============================] - 2s 2ms/step - loss: 0.5309 - accuracy: 0.6994 - val_loss: 0.7745 - val_accuracy: 0.6229\n"
     ]
    },
    {
     "data": {
      "text/plain": [
       "<keras.callbacks.History at 0x173d26a56c0>"
      ]
     },
     "execution_count": 146,
     "metadata": {},
     "output_type": "execute_result"
    }
   ],
   "source": [
    "model.fit(filtered_contours_aug, filtered_labels_aug, epochs=20, batch_size=2, validation_split=0.2)"
   ]
  },
  {
   "cell_type": "code",
   "execution_count": null,
   "metadata": {},
   "outputs": [
    {
     "name": "stdout",
     "output_type": "stream",
     "text": [
      " 31/112 [=======>......................] - ETA: 0s"
     ]
    },
    {
     "name": "stdout",
     "output_type": "stream",
     "text": [
      "112/112 [==============================] - 0s 2ms/step\n",
      "Accuracy:  70.11462119094213 %\n"
     ]
    },
    {
     "data": {
      "text/plain": [
       "array([1, 0, 1, ..., 0, 0, 0])"
      ]
     },
     "execution_count": 148,
     "metadata": {},
     "output_type": "execute_result"
    },
    {
     "data": {
      "image/png": "[encoded data removed]",
      "text/plain": [
       "<Figure size 640x480 with 2 Axes>"
      ]
     },
     "metadata": {},
     "output_type": "display_data"
    }
   ],
   "source": [
    "results(model, filtered_contours_aug, filtered_labels_aug)    "
   ]
  },
  {
   "attachments": {},
   "cell_type": "markdown",
   "metadata": {},
   "source": [
    "# Augmented Contours Balanced - More Layers"
   ]
  },
  {
   "cell_type": "code",
   "execution_count": 240,
   "metadata": {},
   "outputs": [
    {
     "name": "stdout",
     "output_type": "stream",
     "text": [
      "Model: \"sequential_5\"\n",
      "_________________________________________________________________\n",
      " Layer (type)                Output Shape              Param #   \n",
      "=================================================================\n",
      " dense_24 (Dense)            (None, 256)               35584     \n",
      "                                                                 \n",
      " dropout_3 (Dropout)         (None, 256)               0         \n",
      "                                                                 \n",
      " dense_25 (Dense)            (None, 128)               32896     \n",
      "                                                                 \n",
      " dropout_4 (Dropout)         (None, 128)               0         \n",
      "                                                                 \n",
      " dense_26 (Dense)            (None, 64)                8256      \n",
      "                                                                 \n",
      " dropout_5 (Dropout)         (None, 64)                0         \n",
      "                                                                 \n",
      " dense_27 (Dense)            (None, 32)                2080      \n",
      "                                                                 \n",
      " dropout_6 (Dropout)         (None, 32)                0         \n",
      "                                                                 \n",
      " dense_28 (Dense)            (None, 16)                528       \n",
      "                                                                 \n",
      " dropout_7 (Dropout)         (None, 16)                0         \n",
      "                                                                 \n",
      " dense_29 (Dense)            (None, 8)                 136       \n",
      "                                                                 \n",
      " dropout_8 (Dropout)         (None, 8)                 0         \n",
      "                                                                 \n",
      " dense_30 (Dense)            (None, 1)                 9         \n",
      "                                                                 \n",
      "=================================================================\n",
      "Total params: 79,489\n",
      "Trainable params: 79,489\n",
      "Non-trainable params: 0\n",
      "_________________________________________________________________\n"
     ]
    }
   ],
   "source": [
    "# Define the model\n",
    "model = Sequential()\n",
    "model.add(Dense(256, activation='relu', input_shape=input_shape))\n",
    "model.add(Dropout(0.5))  # Dropout layer after the first Dense layer\n",
    "model.add(Dense(128, activation='relu', input_shape=input_shape))\n",
    "model.add(Dropout(0.5))  # Dropout layer after the second Dense layer\n",
    "model.add(Dense(64, activation='relu'))\n",
    "model.add(Dropout(0.3))  # New Dropout layer\n",
    "model.add(Dense(32, activation='relu'))  # New layer\n",
    "model.add(Dropout(0.3))  # New Dropout layer\n",
    "model.add(Dense(16, activation='relu'))  # New layer\n",
    "model.add(Dropout(0.2))  # New Dropout layer\n",
    "model.add(Dense(8, activation='relu'))   # New layer\n",
    "model.add(Dropout(0.2))  # New Dropout layer\n",
    "model.add(Dense(1, activation='sigmoid'))\n",
    "\n",
    "model.summary()"
   ]
  },
  {
   "cell_type": "code",
   "execution_count": 241,
   "metadata": {},
   "outputs": [],
   "source": [
    "# Compile the model\n",
    "model.compile(optimizer='adam', loss='binary_crossentropy', metrics=['accuracy'])"
   ]
  },
  {
   "cell_type": "code",
   "execution_count": 242,
   "metadata": {},
   "outputs": [
    {
     "name": "stdout",
     "output_type": "stream",
     "text": [
      "Epoch 1/20\n",
      "7419/7419 [==============================] - 21s 3ms/step - loss: 0.6932 - accuracy: 0.5196 - val_loss: 0.6869 - val_accuracy: 0.5582\n",
      "Epoch 2/20\n",
      "7419/7419 [==============================] - 17s 2ms/step - loss: 0.6886 - accuracy: 0.5442 - val_loss: 0.6753 - val_accuracy: 0.5809\n",
      "Epoch 3/20\n",
      "7419/7419 [==============================] - 17s 2ms/step - loss: 0.6853 - accuracy: 0.5512 - val_loss: 0.6733 - val_accuracy: 0.5915\n",
      "Epoch 4/20\n",
      "7419/7419 [==============================] - 34s 5ms/step - loss: 0.6847 - accuracy: 0.5541 - val_loss: 0.6723 - val_accuracy: 0.5801\n",
      "Epoch 5/20\n",
      "7419/7419 [==============================] - 25s 3ms/step - loss: 0.6833 - accuracy: 0.5506 - val_loss: 0.6695 - val_accuracy: 0.5883\n",
      "Epoch 6/20\n",
      "7419/7419 [==============================] - 27s 4ms/step - loss: 0.6821 - accuracy: 0.5581 - val_loss: 0.6712 - val_accuracy: 0.5941\n",
      "Epoch 7/20\n",
      "7419/7419 [==============================] - 22s 3ms/step - loss: 0.6825 - accuracy: 0.5599 - val_loss: 0.6743 - val_accuracy: 0.5922\n",
      "Epoch 8/20\n",
      "7419/7419 [==============================] - 22s 3ms/step - loss: 0.6822 - accuracy: 0.5592 - val_loss: 0.6663 - val_accuracy: 0.5978\n",
      "Epoch 9/20\n",
      "7419/7419 [==============================] - 22s 3ms/step - loss: 0.6820 - accuracy: 0.5616 - val_loss: 0.6686 - val_accuracy: 0.5912\n",
      "Epoch 10/20\n",
      "7419/7419 [==============================] - 22s 3ms/step - loss: 0.6809 - accuracy: 0.5627 - val_loss: 0.6702 - val_accuracy: 0.5914\n",
      "Epoch 11/20\n",
      "7419/7419 [==============================] - 22s 3ms/step - loss: 0.6809 - accuracy: 0.5663 - val_loss: 0.6682 - val_accuracy: 0.5833\n",
      "Epoch 12/20\n",
      "7419/7419 [==============================] - 22s 3ms/step - loss: 0.6802 - accuracy: 0.5651 - val_loss: 0.6728 - val_accuracy: 0.5888\n",
      "Epoch 13/20\n",
      "7419/7419 [==============================] - 21s 3ms/step - loss: 0.6823 - accuracy: 0.5633 - val_loss: 0.6746 - val_accuracy: 0.5826\n",
      "Epoch 14/20\n",
      "7419/7419 [==============================] - 21s 3ms/step - loss: 0.6813 - accuracy: 0.5655 - val_loss: 0.6716 - val_accuracy: 0.5844\n",
      "Epoch 15/20\n",
      "7419/7419 [==============================] - 22s 3ms/step - loss: 0.6811 - accuracy: 0.5652 - val_loss: 0.6725 - val_accuracy: 0.5803\n",
      "Epoch 16/20\n",
      "7419/7419 [==============================] - 22s 3ms/step - loss: 0.6810 - accuracy: 0.5683 - val_loss: 0.6712 - val_accuracy: 0.5823\n",
      "Epoch 17/20\n",
      "7419/7419 [==============================] - 22s 3ms/step - loss: 0.6801 - accuracy: 0.5723 - val_loss: 0.6713 - val_accuracy: 0.5868\n",
      "Epoch 18/20\n",
      "7419/7419 [==============================] - 24s 3ms/step - loss: 0.6796 - accuracy: 0.5683 - val_loss: 0.6700 - val_accuracy: 0.5930\n",
      "Epoch 19/20\n",
      "7419/7419 [==============================] - 23s 3ms/step - loss: 0.6812 - accuracy: 0.5672 - val_loss: 0.6754 - val_accuracy: 0.5806\n",
      "Epoch 20/20\n",
      "7419/7419 [==============================] - 22s 3ms/step - loss: 0.6802 - accuracy: 0.5703 - val_loss: 0.6743 - val_accuracy: 0.5857\n"
     ]
    },
    {
     "data": {
      "text/plain": [
       "<keras.callbacks.History at 0x1d57f008190>"
      ]
     },
     "execution_count": 242,
     "metadata": {},
     "output_type": "execute_result"
    }
   ],
   "source": [
    "model.fit(contours_aug, labels_aug, epochs=20, batch_size=4, validation_split=0.2)"
   ]
  },
  {
   "cell_type": "code",
   "execution_count": 243,
   "metadata": {},
   "outputs": [
    {
     "name": "stdout",
     "output_type": "stream",
     "text": [
      "1160/1160 [==============================] - 2s 1ms/step\n",
      "Accuracy:  58.61548414923442 %\n"
     ]
    },
    {
     "data": {
      "text/plain": [
       "array([1, 1, 1, ..., 1, 1, 1])"
      ]
     },
     "execution_count": 243,
     "metadata": {},
     "output_type": "execute_result"
    },
    {
     "data": {
      "image/png": "[encoded data removed]",
      "text/plain": [
       "<Figure size 640x480 with 2 Axes>"
      ]
     },
     "metadata": {},
     "output_type": "display_data"
    }
   ],
   "source": [
    "results(model, contours_aug, labels_aug)  "
   ]
  },
  {
   "attachments": {},
   "cell_type": "markdown",
   "metadata": {},
   "source": [
    "# Merging CNN and DNN"
   ]
  },
  {
   "cell_type": "code",
   "execution_count": null,
   "metadata": {},
   "outputs": [],
   "source": [
    "# Define the input shapes\n",
    "input_shape1 = (138, 1)\n",
    "input_shape2 = (1,)\n",
    "\n",
    "# Define the input layers\n",
    "input1 = Input(shape=input_shape1)\n",
    "input2 = Input(shape=input_shape2)\n"
   ]
  },
  {
   "cell_type": "code",
   "execution_count": null,
   "metadata": {},
   "outputs": [],
   "source": [
    "# Define the LSTM layer\n",
    "lstm_output = LSTM(128)(input1)\n",
    "\n",
    "# Concatenate the LSTM output and the length input\n",
    "concatenated = Concatenate()([lstm_output, input2])\n",
    "\n",
    "# reduce the dimension, 128 is too high (32, 16, ...)\n",
    "# dropouts"
   ]
  },
  {
   "cell_type": "code",
   "execution_count": null,
   "metadata": {},
   "outputs": [],
   "source": [
    "# Define the dense layers\n",
    "dense1 = Dense(64, activation='relu')(concatenated)\n",
    "dense2 = Dense(1, activation='sigmoid')(dense1)"
   ]
  },
  {
   "cell_type": "code",
   "execution_count": null,
   "metadata": {},
   "outputs": [],
   "source": [
    "# Define the model with two inputs\n",
    "model = Model(inputs=[input1, input2], outputs=dense2)"
   ]
  },
  {
   "cell_type": "code",
   "execution_count": null,
   "metadata": {},
   "outputs": [
    {
     "name": "stdout",
     "output_type": "stream",
     "text": [
      "Model: \"model\"\n",
      "__________________________________________________________________________________________________\n",
      " Layer (type)                   Output Shape         Param #     Connected to                     \n",
      "==================================================================================================\n",
      " input_1 (InputLayer)           [(None, 138, 1)]     0           []                               \n",
      "                                                                                                  \n",
      " lstm (LSTM)                    (None, 128)          66560       ['input_1[0][0]']                \n",
      "                                                                                                  \n",
      " input_2 (InputLayer)           [(None, 1)]          0           []                               \n",
      "                                                                                                  \n",
      " concatenate (Concatenate)      (None, 129)          0           ['lstm[0][0]',                   \n",
      "                                                                  'input_2[0][0]']                \n",
      "                                                                                                  \n",
      " dense_17 (Dense)               (None, 64)           8320        ['concatenate[0][0]']            \n",
      "                                                                                                  \n",
      " dense_18 (Dense)               (None, 1)            65          ['dense_17[0][0]']               \n",
      "                                                                                                  \n",
      "==================================================================================================\n",
      "Total params: 74,945\n",
      "Trainable params: 74,945\n",
      "Non-trainable params: 0\n",
      "__________________________________________________________________________________________________\n"
     ]
    }
   ],
   "source": [
    "# Print the model summary\n",
    "model.summary()"
   ]
  },
  {
   "cell_type": "code",
   "execution_count": null,
   "metadata": {},
   "outputs": [],
   "source": [
    "# Compile the model\n",
    "model.compile(optimizer='adam', loss='binary_crossentropy', metrics=['accuracy'])\n"
   ]
  },
  {
   "cell_type": "code",
   "execution_count": null,
   "metadata": {},
   "outputs": [
    {
     "data": {
      "text/plain": [
       "(12195,)"
      ]
     },
     "execution_count": 55,
     "metadata": {},
     "output_type": "execute_result"
    }
   ],
   "source": [
    "ger_train_contours = ger_train[\"chunks\"]\n",
    "type(ger_train_contours)\n",
    "ger_train_contours.shape"
   ]
  },
  {
   "cell_type": "code",
   "execution_count": null,
   "metadata": {},
   "outputs": [
    {
     "data": {
      "text/plain": [
       "numpy.ndarray"
      ]
     },
     "execution_count": 56,
     "metadata": {},
     "output_type": "execute_result"
    }
   ],
   "source": [
    "ger_train_contours = np.array(ger_train_contours)\n",
    "type(ger_train_contours)"
   ]
  },
  {
   "cell_type": "code",
   "execution_count": null,
   "metadata": {},
   "outputs": [],
   "source": [
    "ger_train_contours\n",
    "ger_train_2d = np.stack(contours_train_rp)"
   ]
  },
  {
   "cell_type": "code",
   "execution_count": null,
   "metadata": {},
   "outputs": [],
   "source": [
    "# Convert the input data to TensorFlow tensors\n",
    "X_tensor = tf.convert_to_tensor(ger_train_2d, dtype=tf.float32)\n",
    "y_tensor = tf.convert_to_tensor(ger_train_labels, dtype=tf.float32)"
   ]
  },
  {
   "cell_type": "code",
   "execution_count": null,
   "metadata": {},
   "outputs": [
    {
     "name": "stdout",
     "output_type": "stream",
     "text": [
      "Epoch 1/10\n"
     ]
    },
    {
     "ename": "ValueError",
     "evalue": "in user code:\n\n    File \"C:\\Users\\abhay\\AppData\\Local\\Packages\\PythonSoftwareFoundation.Python.3.10_qbz5n2kfra8p0\\LocalCache\\local-packages\\Python310\\site-packages\\keras\\engine\\training.py\", line 1249, in train_function  *\n        return step_function(self, iterator)\n    File \"C:\\Users\\abhay\\AppData\\Local\\Packages\\PythonSoftwareFoundation.Python.3.10_qbz5n2kfra8p0\\LocalCache\\local-packages\\Python310\\site-packages\\keras\\engine\\training.py\", line 1233, in step_function  **\n        outputs = model.distribute_strategy.run(run_step, args=(data,))\n    File \"C:\\Users\\abhay\\AppData\\Local\\Packages\\PythonSoftwareFoundation.Python.3.10_qbz5n2kfra8p0\\LocalCache\\local-packages\\Python310\\site-packages\\keras\\engine\\training.py\", line 1222, in run_step  **\n        outputs = model.train_step(data)\n    File \"C:\\Users\\abhay\\AppData\\Local\\Packages\\PythonSoftwareFoundation.Python.3.10_qbz5n2kfra8p0\\LocalCache\\local-packages\\Python310\\site-packages\\keras\\engine\\training.py\", line 1023, in train_step\n        y_pred = self(x, training=True)\n    File \"C:\\Users\\abhay\\AppData\\Local\\Packages\\PythonSoftwareFoundation.Python.3.10_qbz5n2kfra8p0\\LocalCache\\local-packages\\Python310\\site-packages\\keras\\utils\\traceback_utils.py\", line 70, in error_handler\n        raise e.with_traceback(filtered_tb) from None\n    File \"C:\\Users\\abhay\\AppData\\Local\\Packages\\PythonSoftwareFoundation.Python.3.10_qbz5n2kfra8p0\\LocalCache\\local-packages\\Python310\\site-packages\\keras\\engine\\input_spec.py\", line 295, in assert_input_compatibility\n        raise ValueError(\n\n    ValueError: Input 0 of layer \"model\" is incompatible with the layer: expected shape=(None, 138, 1), found shape=(None, 285)\n",
     "output_type": "error",
     "traceback": [
      "\u001b[1;31m---------------------------------------------------------------------------\u001b[0m",
      "\u001b[1;31mValueError\u001b[0m                                Traceback (most recent call last)",
      "\u001b[1;32mc:\\Users\\abhay\\Desktop\\Code\\Speech-Prominence-Detection\\Pranjal_Abhay\\codes\\model.ipynb Cell 61\u001b[0m in \u001b[0;36m1\n\u001b[1;32m----> <a href='vscode-notebook-cell:/c%3A/Users/abhay/Desktop/Code/Speech-Prominence-Detection/Pranjal_Abhay/codes/model.ipynb#Y122sZmlsZQ%3D%3D?line=0'>1</a>\u001b[0m model\u001b[39m.\u001b[39;49mfit([ger_train_2d, lengths_train], ger_train_labels, epochs\u001b[39m=\u001b[39;49m\u001b[39m10\u001b[39;49m, batch_size\u001b[39m=\u001b[39;49m\u001b[39m32\u001b[39;49m, validation_split\u001b[39m=\u001b[39;49m\u001b[39m0.2\u001b[39;49m)\n",
      "File \u001b[1;32m~\\AppData\\Local\\Packages\\PythonSoftwareFoundation.Python.3.10_qbz5n2kfra8p0\\LocalCache\\local-packages\\Python310\\site-packages\\keras\\utils\\traceback_utils.py:70\u001b[0m, in \u001b[0;36mfilter_traceback.<locals>.error_handler\u001b[1;34m(*args, **kwargs)\u001b[0m\n\u001b[0;32m     67\u001b[0m     filtered_tb \u001b[39m=\u001b[39m _process_traceback_frames(e\u001b[39m.\u001b[39m__traceback__)\n\u001b[0;32m     68\u001b[0m     \u001b[39m# To get the full stack trace, call:\u001b[39;00m\n\u001b[0;32m     69\u001b[0m     \u001b[39m# `tf.debugging.disable_traceback_filtering()`\u001b[39;00m\n\u001b[1;32m---> 70\u001b[0m     \u001b[39mraise\u001b[39;00m e\u001b[39m.\u001b[39mwith_traceback(filtered_tb) \u001b[39mfrom\u001b[39;00m \u001b[39mNone\u001b[39m\n\u001b[0;32m     71\u001b[0m \u001b[39mfinally\u001b[39;00m:\n\u001b[0;32m     72\u001b[0m     \u001b[39mdel\u001b[39;00m filtered_tb\n",
      "File \u001b[1;32m~\\AppData\\Local\\Temp\\__autograph_generated_filewt_09y06.py:15\u001b[0m, in \u001b[0;36mouter_factory.<locals>.inner_factory.<locals>.tf__train_function\u001b[1;34m(iterator)\u001b[0m\n\u001b[0;32m     13\u001b[0m \u001b[39mtry\u001b[39;00m:\n\u001b[0;32m     14\u001b[0m     do_return \u001b[39m=\u001b[39m \u001b[39mTrue\u001b[39;00m\n\u001b[1;32m---> 15\u001b[0m     retval_ \u001b[39m=\u001b[39m ag__\u001b[39m.\u001b[39mconverted_call(ag__\u001b[39m.\u001b[39mld(step_function), (ag__\u001b[39m.\u001b[39mld(\u001b[39mself\u001b[39m), ag__\u001b[39m.\u001b[39mld(iterator)), \u001b[39mNone\u001b[39;00m, fscope)\n\u001b[0;32m     16\u001b[0m \u001b[39mexcept\u001b[39;00m:\n\u001b[0;32m     17\u001b[0m     do_return \u001b[39m=\u001b[39m \u001b[39mFalse\u001b[39;00m\n",
      "\u001b[1;31mValueError\u001b[0m: in user code:\n\n    File \"C:\\Users\\abhay\\AppData\\Local\\Packages\\PythonSoftwareFoundation.Python.3.10_qbz5n2kfra8p0\\LocalCache\\local-packages\\Python310\\site-packages\\keras\\engine\\training.py\", line 1249, in train_function  *\n        return step_function(self, iterator)\n    File \"C:\\Users\\abhay\\AppData\\Local\\Packages\\PythonSoftwareFoundation.Python.3.10_qbz5n2kfra8p0\\LocalCache\\local-packages\\Python310\\site-packages\\keras\\engine\\training.py\", line 1233, in step_function  **\n        outputs = model.distribute_strategy.run(run_step, args=(data,))\n    File \"C:\\Users\\abhay\\AppData\\Local\\Packages\\PythonSoftwareFoundation.Python.3.10_qbz5n2kfra8p0\\LocalCache\\local-packages\\Python310\\site-packages\\keras\\engine\\training.py\", line 1222, in run_step  **\n        outputs = model.train_step(data)\n    File \"C:\\Users\\abhay\\AppData\\Local\\Packages\\PythonSoftwareFoundation.Python.3.10_qbz5n2kfra8p0\\LocalCache\\local-packages\\Python310\\site-packages\\keras\\engine\\training.py\", line 1023, in train_step\n        y_pred = self(x, training=True)\n    File \"C:\\Users\\abhay\\AppData\\Local\\Packages\\PythonSoftwareFoundation.Python.3.10_qbz5n2kfra8p0\\LocalCache\\local-packages\\Python310\\site-packages\\keras\\utils\\traceback_utils.py\", line 70, in error_handler\n        raise e.with_traceback(filtered_tb) from None\n    File \"C:\\Users\\abhay\\AppData\\Local\\Packages\\PythonSoftwareFoundation.Python.3.10_qbz5n2kfra8p0\\LocalCache\\local-packages\\Python310\\site-packages\\keras\\engine\\input_spec.py\", line 295, in assert_input_compatibility\n        raise ValueError(\n\n    ValueError: Input 0 of layer \"model\" is incompatible with the layer: expected shape=(None, 138, 1), found shape=(None, 285)\n"
     ]
    }
   ],
   "source": [
    "model.fit([ger_train_2d, lengths_train], ger_train_labels, epochs=10, batch_size=32, validation_split=0.2)"
   ]
  },
  {
   "attachments": {},
   "cell_type": "markdown",
   "metadata": {},
   "source": [
    "# Duration - Method 1"
   ]
  },
  {
   "cell_type": "code",
   "execution_count": null,
   "metadata": {},
   "outputs": [],
   "source": [
    "# append length of contours to the end of each contour\n",
    "def append_length_end(contours):\n",
    "    appended_contours = []\n",
    "    for contour in contours:\n",
    "        appended_contours.append(np.append(contour, len(contour)))\n",
    "    return np.array(appended_contours)\n",
    "\n",
    "# append length of contours to the beginning of each contour\n",
    "def append_length_start(contours):\n",
    "    appended_contours = []\n",
    "    for contour in contours:\n",
    "        appended_contours.append(np.append(len(contour), contour))\n",
    "    return np.array(appended_contours)\n",
    "\n",
    "contours_train_rp_duration = append_length_end(contours_train_rp)\n",
    "contours_test_rp_duration = append_length_end(contours_test_rp)\n",
    "contours_train_lp_duration = append_length_start(contours_train_lp)\n",
    "contours_test_lp_duration = append_length_start(contours_test_lp)"
   ]
  },
  {
   "cell_type": "code",
   "execution_count": null,
   "metadata": {},
   "outputs": [
    {
     "data": {
      "text/plain": [
       "(12195, 286)"
      ]
     },
     "execution_count": 75,
     "metadata": {},
     "output_type": "execute_result"
    }
   ],
   "source": [
    "contours_train_rp_duration.shape"
   ]
  },
  {
   "cell_type": "code",
   "execution_count": null,
   "metadata": {},
   "outputs": [],
   "source": [
    "model = Sequential()\n",
    "model.add(Dense(64, input_dim=max_length + 1, activation='relu'))\n",
    "model.add(Dense(128, activation='relu'))\n",
    "model.add(Dense(256, activation='relu'))\n",
    "model.add(Dense(512, activation='relu'))\n",
    "model.add(Dense(256, activation='relu'))\n",
    "model.add(Dropout(0.2))\n",
    "model.add(Dense(1, activation='sigmoid'))"
   ]
  },
  {
   "cell_type": "code",
   "execution_count": null,
   "metadata": {},
   "outputs": [
    {
     "name": "stdout",
     "output_type": "stream",
     "text": [
      "Epoch 1/50\n",
      "610/610 [==============================] - 4s 6ms/step - loss: 0.6109 - accuracy: 0.7487 - val_loss: 0.5440 - val_accuracy: 0.7552\n",
      "Epoch 2/50\n",
      "610/610 [==============================] - 3s 5ms/step - loss: 0.5326 - accuracy: 0.7556 - val_loss: 0.5375 - val_accuracy: 0.7552\n",
      "Epoch 3/50\n",
      "610/610 [==============================] - 3s 5ms/step - loss: 0.5221 - accuracy: 0.7558 - val_loss: 0.5103 - val_accuracy: 0.7552\n",
      "Epoch 4/50\n",
      "610/610 [==============================] - 3s 5ms/step - loss: 0.5087 - accuracy: 0.7558 - val_loss: 0.5185 - val_accuracy: 0.7552\n",
      "Epoch 5/50\n",
      "610/610 [==============================] - 3s 5ms/step - loss: 0.5050 - accuracy: 0.7558 - val_loss: 0.5186 - val_accuracy: 0.7552\n",
      "Epoch 6/50\n",
      "610/610 [==============================] - 3s 5ms/step - loss: 0.4981 - accuracy: 0.7558 - val_loss: 0.4914 - val_accuracy: 0.7552\n",
      "Epoch 7/50\n",
      "610/610 [==============================] - 3s 5ms/step - loss: 0.4955 - accuracy: 0.7556 - val_loss: 0.5131 - val_accuracy: 0.7552\n",
      "Epoch 8/50\n",
      "610/610 [==============================] - 3s 5ms/step - loss: 0.4902 - accuracy: 0.7549 - val_loss: 0.5247 - val_accuracy: 0.7552\n",
      "Epoch 9/50\n",
      "610/610 [==============================] - 3s 5ms/step - loss: 0.4896 - accuracy: 0.7562 - val_loss: 0.4833 - val_accuracy: 0.7548\n",
      "Epoch 10/50\n",
      "610/610 [==============================] - 3s 5ms/step - loss: 0.4887 - accuracy: 0.7556 - val_loss: 0.5348 - val_accuracy: 0.7560\n",
      "Epoch 11/50\n",
      "610/610 [==============================] - 3s 5ms/step - loss: 0.4876 - accuracy: 0.7550 - val_loss: 0.4775 - val_accuracy: 0.7770\n",
      "Epoch 12/50\n",
      "610/610 [==============================] - 3s 5ms/step - loss: 0.4833 - accuracy: 0.7672 - val_loss: 0.5018 - val_accuracy: 0.7581\n",
      "Epoch 13/50\n",
      "610/610 [==============================] - 3s 5ms/step - loss: 0.4830 - accuracy: 0.7596 - val_loss: 0.4865 - val_accuracy: 0.7778\n",
      "Epoch 14/50\n",
      "610/610 [==============================] - 3s 5ms/step - loss: 0.4824 - accuracy: 0.7641 - val_loss: 0.4756 - val_accuracy: 0.7614\n",
      "Epoch 15/50\n",
      "610/610 [==============================] - 3s 5ms/step - loss: 0.4778 - accuracy: 0.7687 - val_loss: 0.4743 - val_accuracy: 0.7782\n",
      "Epoch 16/50\n",
      "610/610 [==============================] - 3s 4ms/step - loss: 0.4799 - accuracy: 0.7677 - val_loss: 0.4708 - val_accuracy: 0.7708\n",
      "Epoch 17/50\n",
      "610/610 [==============================] - 3s 4ms/step - loss: 0.4769 - accuracy: 0.7726 - val_loss: 0.4775 - val_accuracy: 0.7909\n",
      "Epoch 18/50\n",
      "610/610 [==============================] - 3s 5ms/step - loss: 0.4761 - accuracy: 0.7727 - val_loss: 0.4797 - val_accuracy: 0.7688\n",
      "Epoch 19/50\n",
      "610/610 [==============================] - 3s 4ms/step - loss: 0.4754 - accuracy: 0.7735 - val_loss: 0.4601 - val_accuracy: 0.7790\n",
      "Epoch 20/50\n",
      "610/610 [==============================] - 3s 5ms/step - loss: 0.4724 - accuracy: 0.7759 - val_loss: 0.4672 - val_accuracy: 0.7872\n",
      "Epoch 21/50\n",
      "610/610 [==============================] - 3s 4ms/step - loss: 0.4713 - accuracy: 0.7778 - val_loss: 0.4481 - val_accuracy: 0.7983\n",
      "Epoch 22/50\n",
      "610/610 [==============================] - 3s 5ms/step - loss: 0.4692 - accuracy: 0.7817 - val_loss: 0.4705 - val_accuracy: 0.7774\n",
      "Epoch 23/50\n",
      "610/610 [==============================] - 3s 5ms/step - loss: 0.4679 - accuracy: 0.7813 - val_loss: 0.4631 - val_accuracy: 0.8036\n",
      "Epoch 24/50\n",
      "610/610 [==============================] - 3s 4ms/step - loss: 0.4679 - accuracy: 0.7826 - val_loss: 0.4772 - val_accuracy: 0.7884\n",
      "Epoch 25/50\n",
      "610/610 [==============================] - 3s 5ms/step - loss: 0.4656 - accuracy: 0.7834 - val_loss: 0.4488 - val_accuracy: 0.7975\n",
      "Epoch 26/50\n",
      "610/610 [==============================] - 3s 5ms/step - loss: 0.4665 - accuracy: 0.7857 - val_loss: 0.4662 - val_accuracy: 0.7749\n",
      "Epoch 27/50\n",
      "610/610 [==============================] - 3s 4ms/step - loss: 0.4635 - accuracy: 0.7852 - val_loss: 0.5321 - val_accuracy: 0.7729\n",
      "Epoch 28/50\n",
      "610/610 [==============================] - 3s 4ms/step - loss: 0.4630 - accuracy: 0.7883 - val_loss: 0.4451 - val_accuracy: 0.8020\n",
      "Epoch 29/50\n",
      "610/610 [==============================] - 3s 4ms/step - loss: 0.4597 - accuracy: 0.7912 - val_loss: 0.4487 - val_accuracy: 0.7983\n",
      "Epoch 30/50\n",
      "610/610 [==============================] - 3s 4ms/step - loss: 0.4609 - accuracy: 0.7899 - val_loss: 0.4529 - val_accuracy: 0.7995\n",
      "Epoch 31/50\n",
      "610/610 [==============================] - 3s 4ms/step - loss: 0.4612 - accuracy: 0.7879 - val_loss: 0.4504 - val_accuracy: 0.8016\n",
      "Epoch 32/50\n",
      "610/610 [==============================] - 3s 4ms/step - loss: 0.4618 - accuracy: 0.7896 - val_loss: 0.4557 - val_accuracy: 0.8011\n",
      "Epoch 33/50\n",
      "610/610 [==============================] - 3s 4ms/step - loss: 0.4602 - accuracy: 0.7921 - val_loss: 0.4738 - val_accuracy: 0.7909\n",
      "Epoch 34/50\n",
      "610/610 [==============================] - 3s 4ms/step - loss: 0.4624 - accuracy: 0.7902 - val_loss: 0.4928 - val_accuracy: 0.7774\n",
      "Epoch 35/50\n",
      "610/610 [==============================] - 3s 4ms/step - loss: 0.4595 - accuracy: 0.7922 - val_loss: 0.4457 - val_accuracy: 0.8036\n",
      "Epoch 36/50\n",
      "610/610 [==============================] - 3s 4ms/step - loss: 0.4589 - accuracy: 0.7904 - val_loss: 0.4554 - val_accuracy: 0.8016\n",
      "Epoch 37/50\n",
      "610/610 [==============================] - 3s 4ms/step - loss: 0.4581 - accuracy: 0.7934 - val_loss: 0.4491 - val_accuracy: 0.7966\n",
      "Epoch 38/50\n",
      "610/610 [==============================] - 3s 4ms/step - loss: 0.4545 - accuracy: 0.7963 - val_loss: 0.4795 - val_accuracy: 0.7983\n",
      "Epoch 39/50\n",
      "610/610 [==============================] - 3s 4ms/step - loss: 0.4552 - accuracy: 0.7946 - val_loss: 0.4510 - val_accuracy: 0.7987\n",
      "Epoch 40/50\n",
      "610/610 [==============================] - 3s 4ms/step - loss: 0.4533 - accuracy: 0.7935 - val_loss: 0.4597 - val_accuracy: 0.7901\n",
      "Epoch 41/50\n",
      "610/610 [==============================] - 3s 4ms/step - loss: 0.4542 - accuracy: 0.7952 - val_loss: 0.5062 - val_accuracy: 0.7893\n",
      "Epoch 42/50\n",
      "610/610 [==============================] - 3s 4ms/step - loss: 0.4538 - accuracy: 0.7944 - val_loss: 0.4546 - val_accuracy: 0.7934\n",
      "Epoch 43/50\n",
      "610/610 [==============================] - 3s 4ms/step - loss: 0.4568 - accuracy: 0.7943 - val_loss: 0.4435 - val_accuracy: 0.8065\n",
      "Epoch 44/50\n",
      "610/610 [==============================] - 3s 4ms/step - loss: 0.4572 - accuracy: 0.7901 - val_loss: 0.4581 - val_accuracy: 0.7958\n",
      "Epoch 45/50\n",
      "610/610 [==============================] - 3s 4ms/step - loss: 0.4546 - accuracy: 0.7956 - val_loss: 0.4689 - val_accuracy: 0.7884\n",
      "Epoch 46/50\n",
      "610/610 [==============================] - 3s 4ms/step - loss: 0.4579 - accuracy: 0.7918 - val_loss: 0.4468 - val_accuracy: 0.7946\n",
      "Epoch 47/50\n",
      "610/610 [==============================] - 3s 4ms/step - loss: 0.4543 - accuracy: 0.7924 - val_loss: 0.4475 - val_accuracy: 0.8110\n",
      "Epoch 48/50\n",
      "610/610 [==============================] - 3s 5ms/step - loss: 0.4513 - accuracy: 0.7968 - val_loss: 0.4698 - val_accuracy: 0.8048\n",
      "Epoch 49/50\n",
      "610/610 [==============================] - 3s 5ms/step - loss: 0.4527 - accuracy: 0.7978 - val_loss: 0.4786 - val_accuracy: 0.7991\n",
      "Epoch 50/50\n",
      "610/610 [==============================] - 3s 4ms/step - loss: 0.4503 - accuracy: 0.7980 - val_loss: 0.4523 - val_accuracy: 0.8065\n"
     ]
    },
    {
     "data": {
      "text/plain": [
       "<keras.callbacks.History at 0x2271ff67820>"
      ]
     },
     "execution_count": 78,
     "metadata": {},
     "output_type": "execute_result"
    }
   ],
   "source": [
    "model.compile(loss='binary_crossentropy', optimizer='rmsprop', metrics=['accuracy'])\n",
    "model.fit(contours_train_rp_duration, ger_train[\"labels\"], batch_size=16, epochs=50, validation_split=0.2)"
   ]
  },
  {
   "cell_type": "code",
   "execution_count": null,
   "metadata": {},
   "outputs": [
    {
     "name": "stdout",
     "output_type": "stream",
     "text": [
      "331/331 [==============================] - 1s 2ms/step\n",
      "Accuracy:  80.19465180005669 %\n"
     ]
    },
    {
     "data": {
      "text/plain": [
       "array([1, 0, 1, ..., 1, 0, 1])"
      ]
     },
     "execution_count": 80,
     "metadata": {},
     "output_type": "execute_result"
    },
    {
     "data": {
      "image/png": "[encoded data removed]",
      "text/plain": [
       "<Figure size 640x480 with 2 Axes>"
      ]
     },
     "metadata": {},
     "output_type": "display_data"
    }
   ],
   "source": [
    "results(model, contours_test_rp_duration, ger_test[\"labels\"])"
   ]
  },
  {
   "cell_type": "code",
   "execution_count": null,
   "metadata": {},
   "outputs": [
    {
     "name": "stdout",
     "output_type": "stream",
     "text": [
      "137/137 [==============================] - 0s 2ms/step\n"
     ]
    }
   ],
   "source": [
    "# predict on test set\n",
    "pred = model.predict(contours_test_rp_duration)\n",
    "threshold = 0.5\n",
    "pred[pred >= threshold] = 1\n",
    "pred[pred < threshold] = 0\n",
    "pred = pred.reshape(-1)"
   ]
  },
  {
   "cell_type": "code",
   "execution_count": null,
   "metadata": {},
   "outputs": [],
   "source": [
    "# calculate accuracy\n",
    "num_correct = np.count_nonzero(ger_test_labels == pred)\n",
    "num_wrong = len(ger_test_labels) - num_correct\n",
    "accuracy = num_correct / len(ger_test_labels)\n",
    "num_1as0 = np.count_nonzero((ger_test_labels == 1) & (pred == 0))\n",
    "num_1 = np.count_nonzero(ger_test_labels == 1)\n",
    "num_0as1 = np.count_nonzero((ger_test_labels == 0) & (pred == 1))\n",
    "num_0 = np.count_nonzero(ger_test_labels == 0)\n",
    "perc0as1 = (num_0as1 / num_0 )* 100"
   ]
  },
  {
   "cell_type": "code",
   "execution_count": null,
   "metadata": {},
   "outputs": [
    {
     "name": "stdout",
     "output_type": "stream",
     "text": [
      "Accuracy: 62.93%\n",
      "Num 1 as 0: 1023 out of 1919\n",
      "Num 0 as 1: 598 out of 2454\n",
      "0 as 1 percentage: 24.37%\n"
     ]
    }
   ],
   "source": [
    "# display results\n",
    "print(f\"Accuracy: {accuracy * 100:.2f}%\")\n",
    "print(f\"Num 1 as 0: {num_1as0} out of {num_1}\")\n",
    "print(f\"Num 0 as 1: {num_0as1} out of {num_0}\")\n",
    "print(f\"0 as 1 percentage: {perc0as1:.2f}%\")"
   ]
  },
  {
   "cell_type": "code",
   "execution_count": null,
   "metadata": {},
   "outputs": [
    {
     "name": "stdout",
     "output_type": "stream",
     "text": [
      "Epoch 1/50\n",
      "254/254 [==============================] - 2s 5ms/step - loss: 0.6951 - accuracy: 0.5505 - val_loss: 0.6902 - val_accuracy: 0.5621\n",
      "Epoch 2/50\n",
      "254/254 [==============================] - 1s 5ms/step - loss: 0.6882 - accuracy: 0.5514 - val_loss: 0.6822 - val_accuracy: 0.5621\n",
      "Epoch 3/50\n",
      "254/254 [==============================] - 1s 5ms/step - loss: 0.6819 - accuracy: 0.5662 - val_loss: 0.6634 - val_accuracy: 0.6124\n",
      "Epoch 4/50\n",
      "254/254 [==============================] - 1s 5ms/step - loss: 0.6719 - accuracy: 0.5951 - val_loss: 0.7431 - val_accuracy: 0.5759\n",
      "Epoch 5/50\n",
      "254/254 [==============================] - 1s 5ms/step - loss: 0.6693 - accuracy: 0.6040 - val_loss: 0.6585 - val_accuracy: 0.6262\n",
      "Epoch 6/50\n",
      "254/254 [==============================] - 1s 5ms/step - loss: 0.6662 - accuracy: 0.6077 - val_loss: 0.6631 - val_accuracy: 0.6183\n",
      "Epoch 7/50\n",
      "254/254 [==============================] - 1s 5ms/step - loss: 0.6625 - accuracy: 0.6190 - val_loss: 0.6533 - val_accuracy: 0.6410\n",
      "Epoch 8/50\n",
      "254/254 [==============================] - 1s 5ms/step - loss: 0.6609 - accuracy: 0.6161 - val_loss: 0.6568 - val_accuracy: 0.6183\n",
      "Epoch 9/50\n",
      "254/254 [==============================] - 1s 5ms/step - loss: 0.6637 - accuracy: 0.6161 - val_loss: 0.6613 - val_accuracy: 0.6174\n",
      "Epoch 10/50\n",
      "254/254 [==============================] - 1s 5ms/step - loss: 0.6624 - accuracy: 0.6203 - val_loss: 0.6795 - val_accuracy: 0.5888\n",
      "Epoch 11/50\n",
      "254/254 [==============================] - 1s 5ms/step - loss: 0.6616 - accuracy: 0.6163 - val_loss: 0.6604 - val_accuracy: 0.6233\n",
      "Epoch 12/50\n",
      "254/254 [==============================] - 1s 5ms/step - loss: 0.6596 - accuracy: 0.6205 - val_loss: 0.6566 - val_accuracy: 0.6351\n",
      "Epoch 13/50\n",
      "254/254 [==============================] - 1s 5ms/step - loss: 0.6606 - accuracy: 0.6279 - val_loss: 0.6531 - val_accuracy: 0.6381\n",
      "Epoch 14/50\n",
      "254/254 [==============================] - 1s 5ms/step - loss: 0.6614 - accuracy: 0.6208 - val_loss: 0.6579 - val_accuracy: 0.6203\n",
      "Epoch 15/50\n",
      "254/254 [==============================] - 1s 5ms/step - loss: 0.6608 - accuracy: 0.6176 - val_loss: 0.6557 - val_accuracy: 0.6400\n",
      "Epoch 16/50\n",
      "254/254 [==============================] - 1s 5ms/step - loss: 0.6621 - accuracy: 0.6161 - val_loss: 0.6607 - val_accuracy: 0.6262\n",
      "Epoch 17/50\n",
      "254/254 [==============================] - 1s 5ms/step - loss: 0.6584 - accuracy: 0.6218 - val_loss: 0.6794 - val_accuracy: 0.5976\n",
      "Epoch 18/50\n",
      "254/254 [==============================] - 1s 5ms/step - loss: 0.6592 - accuracy: 0.6252 - val_loss: 0.6562 - val_accuracy: 0.6183\n",
      "Epoch 19/50\n",
      "254/254 [==============================] - 1s 5ms/step - loss: 0.6582 - accuracy: 0.6227 - val_loss: 0.6589 - val_accuracy: 0.6272\n",
      "Epoch 20/50\n",
      "254/254 [==============================] - 1s 5ms/step - loss: 0.6597 - accuracy: 0.6210 - val_loss: 0.6547 - val_accuracy: 0.6193\n",
      "Epoch 21/50\n",
      "254/254 [==============================] - 1s 5ms/step - loss: 0.6601 - accuracy: 0.6183 - val_loss: 0.6546 - val_accuracy: 0.6292\n",
      "Epoch 22/50\n",
      "254/254 [==============================] - 1s 5ms/step - loss: 0.6576 - accuracy: 0.6213 - val_loss: 0.6625 - val_accuracy: 0.6223\n",
      "Epoch 23/50\n",
      "254/254 [==============================] - 1s 5ms/step - loss: 0.6606 - accuracy: 0.6213 - val_loss: 0.6557 - val_accuracy: 0.6223\n",
      "Epoch 24/50\n",
      "254/254 [==============================] - 1s 5ms/step - loss: 0.6560 - accuracy: 0.6220 - val_loss: 0.6550 - val_accuracy: 0.6371\n",
      "Epoch 25/50\n",
      "254/254 [==============================] - 1s 4ms/step - loss: 0.6563 - accuracy: 0.6208 - val_loss: 0.6528 - val_accuracy: 0.6351\n",
      "Epoch 26/50\n",
      "254/254 [==============================] - 1s 4ms/step - loss: 0.6573 - accuracy: 0.6225 - val_loss: 0.6548 - val_accuracy: 0.6331\n",
      "Epoch 27/50\n",
      "254/254 [==============================] - 1s 5ms/step - loss: 0.6591 - accuracy: 0.6208 - val_loss: 0.6567 - val_accuracy: 0.6144\n",
      "Epoch 28/50\n",
      "254/254 [==============================] - 1s 4ms/step - loss: 0.6564 - accuracy: 0.6227 - val_loss: 0.6601 - val_accuracy: 0.6262\n",
      "Epoch 29/50\n",
      "254/254 [==============================] - 1s 5ms/step - loss: 0.6591 - accuracy: 0.6186 - val_loss: 0.6611 - val_accuracy: 0.6193\n",
      "Epoch 30/50\n",
      "254/254 [==============================] - 1s 5ms/step - loss: 0.6567 - accuracy: 0.6255 - val_loss: 0.6525 - val_accuracy: 0.6351\n",
      "Epoch 31/50\n",
      "254/254 [==============================] - 1s 4ms/step - loss: 0.6582 - accuracy: 0.6210 - val_loss: 0.6668 - val_accuracy: 0.5986\n",
      "Epoch 32/50\n",
      "254/254 [==============================] - 1s 5ms/step - loss: 0.6562 - accuracy: 0.6260 - val_loss: 0.6588 - val_accuracy: 0.6243\n",
      "Epoch 33/50\n",
      "254/254 [==============================] - 1s 5ms/step - loss: 0.6583 - accuracy: 0.6156 - val_loss: 0.6536 - val_accuracy: 0.6381\n",
      "Epoch 34/50\n",
      "254/254 [==============================] - 1s 4ms/step - loss: 0.6572 - accuracy: 0.6218 - val_loss: 0.6564 - val_accuracy: 0.6075\n",
      "Epoch 35/50\n",
      "254/254 [==============================] - 1s 5ms/step - loss: 0.6571 - accuracy: 0.6215 - val_loss: 0.6558 - val_accuracy: 0.6361\n",
      "Epoch 36/50\n",
      "254/254 [==============================] - 1s 4ms/step - loss: 0.6583 - accuracy: 0.6223 - val_loss: 0.6531 - val_accuracy: 0.6302\n",
      "Epoch 37/50\n",
      "254/254 [==============================] - 1s 4ms/step - loss: 0.6571 - accuracy: 0.6208 - val_loss: 0.6534 - val_accuracy: 0.6361\n",
      "Epoch 38/50\n",
      "254/254 [==============================] - 1s 4ms/step - loss: 0.6566 - accuracy: 0.6220 - val_loss: 0.6529 - val_accuracy: 0.6371\n",
      "Epoch 39/50\n",
      "254/254 [==============================] - 1s 5ms/step - loss: 0.6574 - accuracy: 0.6240 - val_loss: 0.6535 - val_accuracy: 0.6331\n",
      "Epoch 40/50\n",
      "254/254 [==============================] - 1s 5ms/step - loss: 0.6568 - accuracy: 0.6235 - val_loss: 0.6612 - val_accuracy: 0.6223\n",
      "Epoch 41/50\n",
      "254/254 [==============================] - 1s 5ms/step - loss: 0.6557 - accuracy: 0.6279 - val_loss: 0.6553 - val_accuracy: 0.6193\n",
      "Epoch 42/50\n",
      "254/254 [==============================] - 1s 5ms/step - loss: 0.6577 - accuracy: 0.6220 - val_loss: 0.6530 - val_accuracy: 0.6371\n",
      "Epoch 43/50\n",
      "254/254 [==============================] - 1s 4ms/step - loss: 0.6560 - accuracy: 0.6203 - val_loss: 0.6555 - val_accuracy: 0.6331\n",
      "Epoch 44/50\n",
      "254/254 [==============================] - 1s 5ms/step - loss: 0.6567 - accuracy: 0.6200 - val_loss: 0.6573 - val_accuracy: 0.6262\n",
      "Epoch 45/50\n",
      "254/254 [==============================] - 1s 5ms/step - loss: 0.6545 - accuracy: 0.6247 - val_loss: 0.6571 - val_accuracy: 0.6351\n",
      "Epoch 46/50\n",
      "254/254 [==============================] - 1s 4ms/step - loss: 0.6562 - accuracy: 0.6267 - val_loss: 0.6571 - val_accuracy: 0.6272\n",
      "Epoch 47/50\n",
      "254/254 [==============================] - 1s 4ms/step - loss: 0.6571 - accuracy: 0.6242 - val_loss: 0.6586 - val_accuracy: 0.6233\n",
      "Epoch 48/50\n",
      "254/254 [==============================] - 1s 4ms/step - loss: 0.6557 - accuracy: 0.6297 - val_loss: 0.6592 - val_accuracy: 0.6075\n",
      "Epoch 49/50\n",
      "254/254 [==============================] - 1s 4ms/step - loss: 0.6558 - accuracy: 0.6225 - val_loss: 0.6550 - val_accuracy: 0.6292\n",
      "Epoch 50/50\n",
      "254/254 [==============================] - 1s 4ms/step - loss: 0.6555 - accuracy: 0.6220 - val_loss: 0.6545 - val_accuracy: 0.6233\n"
     ]
    },
    {
     "data": {
      "text/plain": [
       "<keras.callbacks.History at 0x2042e9517b0>"
      ]
     },
     "execution_count": 88,
     "metadata": {},
     "output_type": "execute_result"
    }
   ],
   "source": [
    "model.compile(loss='binary_crossentropy', optimizer='rmsprop', metrics=['accuracy'])\n",
    "model.fit(contours_train_lp_duration, train_labels, batch_size=16, epochs=50, validation_split=0.2)"
   ]
  },
  {
   "cell_type": "code",
   "execution_count": null,
   "metadata": {},
   "outputs": [
    {
     "name": "stdout",
     "output_type": "stream",
     "text": [
      "137/137 [==============================] - 0s 2ms/step\n"
     ]
    }
   ],
   "source": [
    "# predict on test set\n",
    "pred = model.predict(contours_test_lp_duration)\n",
    "threshold = 0.5\n",
    "pred[pred >= threshold] = 1\n",
    "pred[pred < threshold] = 0\n",
    "pred = pred.reshape(-1)"
   ]
  },
  {
   "cell_type": "code",
   "execution_count": null,
   "metadata": {},
   "outputs": [],
   "source": [
    "# calculate accuracy\n",
    "num_correct = np.count_nonzero(ger_test_labels == pred)\n",
    "num_wrong = len(ger_test_labels) - num_correct\n",
    "accuracy = num_correct / len(ger_test_labels)\n",
    "num_1as0 = np.count_nonzero((ger_test_labels == 1) & (pred == 0))\n",
    "num_1 = np.count_nonzero(ger_test_labels == 1)\n",
    "num_0as1 = np.count_nonzero((ger_test_labels == 0) & (pred == 1))\n",
    "num_0 = np.count_nonzero(ger_test_labels == 0)\n",
    "perc0as1 = (num_0as1 / num_0 )* 100"
   ]
  },
  {
   "cell_type": "code",
   "execution_count": null,
   "metadata": {},
   "outputs": [
    {
     "name": "stdout",
     "output_type": "stream",
     "text": [
      "Accuracy: 63.11%\n",
      "Num 1 as 0: 800 out of 1919\n",
      "Num 0 as 1: 813 out of 2454\n",
      "0 as 1 percentage: 33.13%\n"
     ]
    }
   ],
   "source": [
    "# display results\n",
    "print(f\"Accuracy: {accuracy * 100:.2f}%\")\n",
    "print(f\"Num 1 as 0: {num_1as0} out of {num_1}\")\n",
    "print(f\"Num 0 as 1: {num_0as1} out of {num_0}\")\n",
    "print(f\"0 as 1 percentage: {perc0as1:.2f}%\")"
   ]
  },
  {
   "cell_type": "code",
   "execution_count": null,
   "metadata": {},
   "outputs": [
    {
     "data": {
      "text/plain": [
       "(4373, 139)"
      ]
     },
     "execution_count": 95,
     "metadata": {},
     "output_type": "execute_result"
    }
   ],
   "source": [
    "contours_test_lp_duration.shape"
   ]
  },
  {
   "attachments": {},
   "cell_type": "markdown",
   "metadata": {},
   "source": [
    "# Duration - Method 2"
   ]
  },
  {
   "cell_type": "code",
   "execution_count": null,
   "metadata": {},
   "outputs": [],
   "source": [
    "# Define input shapes\n",
    "contour_shape = (138, )\n",
    "duration_shape = (1, )\n",
    "\n",
    "# Define inputs\n",
    "contour_input = Input(shape=contour_shape, name='contour_input')\n",
    "duration_input = Input(shape=duration_shape, name='duration_input')"
   ]
  },
  {
   "cell_type": "code",
   "execution_count": null,
   "metadata": {},
   "outputs": [],
   "source": [
    "# Reshape contour input to 3D tensor\n",
    "contour_3d = Reshape(target_shape=(contour_shape[0], 1))(contour_input)\n",
    "\n",
    "# Define RNN layer\n",
    "rnn_layer = LSTM(units=64, name='rnn')(contour_3d)"
   ]
  },
  {
   "cell_type": "code",
   "execution_count": null,
   "metadata": {},
   "outputs": [],
   "source": [
    "# Concatenate duration and RNN layer outputs\n",
    "concat_layer = concatenate([rnn_layer, duration_input])"
   ]
  },
  {
   "cell_type": "code",
   "execution_count": null,
   "metadata": {},
   "outputs": [],
   "source": [
    "# Define stress label prediction layer\n",
    "stress_pred = Dense(units=1, activation='sigmoid', name='stress')(concat_layer)"
   ]
  },
  {
   "cell_type": "code",
   "execution_count": null,
   "metadata": {},
   "outputs": [],
   "source": [
    "# Define model\n",
    "model = Model(inputs=[contour_input, duration_input], outputs=stress_pred)\n",
    "model.compile(optimizer='adam', loss='binary_crossentropy')"
   ]
  },
  {
   "cell_type": "code",
   "execution_count": null,
   "metadata": {},
   "outputs": [
    {
     "name": "stdout",
     "output_type": "stream",
     "text": [
      "Model: \"model\"\n",
      "__________________________________________________________________________________________________\n",
      " Layer (type)                   Output Shape         Param #     Connected to                     \n",
      "==================================================================================================\n",
      " contour_input (InputLayer)     [(None, 138)]        0           []                               \n",
      "                                                                                                  \n",
      " reshape_1 (Reshape)            (None, 138, 1)       0           ['contour_input[0][0]']          \n",
      "                                                                                                  \n",
      " rnn (LSTM)                     (None, 64)           16896       ['reshape_1[0][0]']              \n",
      "                                                                                                  \n",
      " duration_input (InputLayer)    [(None, 1)]          0           []                               \n",
      "                                                                                                  \n",
      " concatenate (Concatenate)      (None, 65)           0           ['rnn[0][0]',                    \n",
      "                                                                  'duration_input[0][0]']         \n",
      "                                                                                                  \n",
      " stress (Dense)                 (None, 1)            66          ['concatenate[0][0]']            \n",
      "                                                                                                  \n",
      "==================================================================================================\n",
      "Total params: 16,962\n",
      "Trainable params: 16,962\n",
      "Non-trainable params: 0\n",
      "__________________________________________________________________________________________________\n"
     ]
    }
   ],
   "source": [
    "model.summary()"
   ]
  },
  {
   "cell_type": "code",
   "execution_count": null,
   "metadata": {},
   "outputs": [
    {
     "name": "stdout",
     "output_type": "stream",
     "text": [
      "Epoch 1/50\n",
      "159/159 [==============================] - 6s 39ms/step - loss: 0.6721\n",
      "Epoch 2/50\n",
      "159/159 [==============================] - 6s 40ms/step - loss: 0.6719\n",
      "Epoch 3/50\n",
      "159/159 [==============================] - 6s 36ms/step - loss: 0.6712\n",
      "Epoch 4/50\n",
      "159/159 [==============================] - 6s 36ms/step - loss: 0.6719\n",
      "Epoch 5/50\n",
      "159/159 [==============================] - 6s 36ms/step - loss: 0.6720\n",
      "Epoch 6/50\n",
      "159/159 [==============================] - 6s 35ms/step - loss: 0.6727\n",
      "Epoch 7/50\n",
      "159/159 [==============================] - 6s 36ms/step - loss: 0.6715\n",
      "Epoch 8/50\n",
      "159/159 [==============================] - 6s 35ms/step - loss: 0.6715\n",
      "Epoch 9/50\n",
      "159/159 [==============================] - 6s 35ms/step - loss: 0.6725\n",
      "Epoch 10/50\n",
      "159/159 [==============================] - 6s 37ms/step - loss: 0.6718\n",
      "Epoch 11/50\n",
      "159/159 [==============================] - 6s 36ms/step - loss: 0.6715\n",
      "Epoch 12/50\n",
      "159/159 [==============================] - 6s 35ms/step - loss: 0.6727\n",
      "Epoch 13/50\n",
      "159/159 [==============================] - 6s 35ms/step - loss: 0.6724\n",
      "Epoch 14/50\n",
      "159/159 [==============================] - 6s 35ms/step - loss: 0.6719\n",
      "Epoch 15/50\n",
      "159/159 [==============================] - 6s 35ms/step - loss: 0.6728\n",
      "Epoch 16/50\n",
      "159/159 [==============================] - 6s 35ms/step - loss: 0.6725\n",
      "Epoch 17/50\n",
      "159/159 [==============================] - 6s 35ms/step - loss: 0.6715\n",
      "Epoch 18/50\n",
      "159/159 [==============================] - 6s 35ms/step - loss: 0.6713\n",
      "Epoch 19/50\n",
      "159/159 [==============================] - 6s 35ms/step - loss: 0.6716\n",
      "Epoch 20/50\n",
      "159/159 [==============================] - 6s 35ms/step - loss: 0.6716\n",
      "Epoch 21/50\n",
      "159/159 [==============================] - 6s 35ms/step - loss: 0.6719\n",
      "Epoch 22/50\n",
      "159/159 [==============================] - 6s 35ms/step - loss: 0.6726\n",
      "Epoch 23/50\n",
      "159/159 [==============================] - 6s 35ms/step - loss: 0.6718\n",
      "Epoch 24/50\n",
      "159/159 [==============================] - 6s 35ms/step - loss: 0.6722\n",
      "Epoch 25/50\n",
      "159/159 [==============================] - 6s 35ms/step - loss: 0.6727\n",
      "Epoch 26/50\n",
      "159/159 [==============================] - 6s 35ms/step - loss: 0.6714\n",
      "Epoch 27/50\n",
      "  9/159 [>.............................] - ETA: 5s - loss: 0.6707"
     ]
    },
    {
     "ename": "KeyboardInterrupt",
     "evalue": "",
     "output_type": "error",
     "traceback": [
      "\u001b[1;31m---------------------------------------------------------------------------\u001b[0m",
      "\u001b[1;31mKeyboardInterrupt\u001b[0m                         Traceback (most recent call last)",
      "\u001b[1;32mc:\\Users\\abhay\\Desktop\\Code\\Speech-Prominence-Detection\\Pranjal_Abhay\\codes\\model.ipynb Cell 51\u001b[0m in \u001b[0;36m2\n\u001b[0;32m      <a href='vscode-notebook-cell:/c%3A/Users/abhay/Desktop/Code/Speech-Prominence-Detection/Pranjal_Abhay/codes/model.ipynb#Y163sZmlsZQ%3D%3D?line=0'>1</a>\u001b[0m \u001b[39m# Train model\u001b[39;00m\n\u001b[1;32m----> <a href='vscode-notebook-cell:/c%3A/Users/abhay/Desktop/Code/Speech-Prominence-Detection/Pranjal_Abhay/codes/model.ipynb#Y163sZmlsZQ%3D%3D?line=1'>2</a>\u001b[0m model\u001b[39m.\u001b[39;49mfit(x\u001b[39m=\u001b[39;49m[contours_train_rp, lengths], y\u001b[39m=\u001b[39;49mtrain_labels, epochs\u001b[39m=\u001b[39;49m\u001b[39m50\u001b[39;49m, batch_size\u001b[39m=\u001b[39;49m\u001b[39m32\u001b[39;49m)\n",
      "File \u001b[1;32m~\\AppData\\Local\\Packages\\PythonSoftwareFoundation.Python.3.10_qbz5n2kfra8p0\\LocalCache\\local-packages\\Python310\\site-packages\\keras\\utils\\traceback_utils.py:65\u001b[0m, in \u001b[0;36mfilter_traceback.<locals>.error_handler\u001b[1;34m(*args, **kwargs)\u001b[0m\n\u001b[0;32m     63\u001b[0m filtered_tb \u001b[39m=\u001b[39m \u001b[39mNone\u001b[39;00m\n\u001b[0;32m     64\u001b[0m \u001b[39mtry\u001b[39;00m:\n\u001b[1;32m---> 65\u001b[0m     \u001b[39mreturn\u001b[39;00m fn(\u001b[39m*\u001b[39margs, \u001b[39m*\u001b[39m\u001b[39m*\u001b[39mkwargs)\n\u001b[0;32m     66\u001b[0m \u001b[39mexcept\u001b[39;00m \u001b[39mException\u001b[39;00m \u001b[39mas\u001b[39;00m e:\n\u001b[0;32m     67\u001b[0m     filtered_tb \u001b[39m=\u001b[39m _process_traceback_frames(e\u001b[39m.\u001b[39m__traceback__)\n",
      "File \u001b[1;32m~\\AppData\\Local\\Packages\\PythonSoftwareFoundation.Python.3.10_qbz5n2kfra8p0\\LocalCache\\local-packages\\Python310\\site-packages\\keras\\engine\\training.py:1650\u001b[0m, in \u001b[0;36mModel.fit\u001b[1;34m(self, x, y, batch_size, epochs, verbose, callbacks, validation_split, validation_data, shuffle, class_weight, sample_weight, initial_epoch, steps_per_epoch, validation_steps, validation_batch_size, validation_freq, max_queue_size, workers, use_multiprocessing)\u001b[0m\n\u001b[0;32m   1642\u001b[0m \u001b[39mwith\u001b[39;00m tf\u001b[39m.\u001b[39mprofiler\u001b[39m.\u001b[39mexperimental\u001b[39m.\u001b[39mTrace(\n\u001b[0;32m   1643\u001b[0m     \u001b[39m\"\u001b[39m\u001b[39mtrain\u001b[39m\u001b[39m\"\u001b[39m,\n\u001b[0;32m   1644\u001b[0m     epoch_num\u001b[39m=\u001b[39mepoch,\n\u001b[1;32m   (...)\u001b[0m\n\u001b[0;32m   1647\u001b[0m     _r\u001b[39m=\u001b[39m\u001b[39m1\u001b[39m,\n\u001b[0;32m   1648\u001b[0m ):\n\u001b[0;32m   1649\u001b[0m     callbacks\u001b[39m.\u001b[39mon_train_batch_begin(step)\n\u001b[1;32m-> 1650\u001b[0m     tmp_logs \u001b[39m=\u001b[39m \u001b[39mself\u001b[39;49m\u001b[39m.\u001b[39;49mtrain_function(iterator)\n\u001b[0;32m   1651\u001b[0m     \u001b[39mif\u001b[39;00m data_handler\u001b[39m.\u001b[39mshould_sync:\n\u001b[0;32m   1652\u001b[0m         context\u001b[39m.\u001b[39masync_wait()\n",
      "File \u001b[1;32m~\\AppData\\Local\\Packages\\PythonSoftwareFoundation.Python.3.10_qbz5n2kfra8p0\\LocalCache\\local-packages\\Python310\\site-packages\\tensorflow\\python\\util\\traceback_utils.py:150\u001b[0m, in \u001b[0;36mfilter_traceback.<locals>.error_handler\u001b[1;34m(*args, **kwargs)\u001b[0m\n\u001b[0;32m    148\u001b[0m filtered_tb \u001b[39m=\u001b[39m \u001b[39mNone\u001b[39;00m\n\u001b[0;32m    149\u001b[0m \u001b[39mtry\u001b[39;00m:\n\u001b[1;32m--> 150\u001b[0m   \u001b[39mreturn\u001b[39;00m fn(\u001b[39m*\u001b[39margs, \u001b[39m*\u001b[39m\u001b[39m*\u001b[39mkwargs)\n\u001b[0;32m    151\u001b[0m \u001b[39mexcept\u001b[39;00m \u001b[39mException\u001b[39;00m \u001b[39mas\u001b[39;00m e:\n\u001b[0;32m    152\u001b[0m   filtered_tb \u001b[39m=\u001b[39m _process_traceback_frames(e\u001b[39m.\u001b[39m__traceback__)\n",
      "File \u001b[1;32m~\\AppData\\Local\\Packages\\PythonSoftwareFoundation.Python.3.10_qbz5n2kfra8p0\\LocalCache\\local-packages\\Python310\\site-packages\\tensorflow\\python\\eager\\polymorphic_function\\polymorphic_function.py:880\u001b[0m, in \u001b[0;36mFunction.__call__\u001b[1;34m(self, *args, **kwds)\u001b[0m\n\u001b[0;32m    877\u001b[0m compiler \u001b[39m=\u001b[39m \u001b[39m\"\u001b[39m\u001b[39mxla\u001b[39m\u001b[39m\"\u001b[39m \u001b[39mif\u001b[39;00m \u001b[39mself\u001b[39m\u001b[39m.\u001b[39m_jit_compile \u001b[39melse\u001b[39;00m \u001b[39m\"\u001b[39m\u001b[39mnonXla\u001b[39m\u001b[39m\"\u001b[39m\n\u001b[0;32m    879\u001b[0m \u001b[39mwith\u001b[39;00m OptionalXlaContext(\u001b[39mself\u001b[39m\u001b[39m.\u001b[39m_jit_compile):\n\u001b[1;32m--> 880\u001b[0m   result \u001b[39m=\u001b[39m \u001b[39mself\u001b[39m\u001b[39m.\u001b[39m_call(\u001b[39m*\u001b[39margs, \u001b[39m*\u001b[39m\u001b[39m*\u001b[39mkwds)\n\u001b[0;32m    882\u001b[0m new_tracing_count \u001b[39m=\u001b[39m \u001b[39mself\u001b[39m\u001b[39m.\u001b[39mexperimental_get_tracing_count()\n\u001b[0;32m    883\u001b[0m without_tracing \u001b[39m=\u001b[39m (tracing_count \u001b[39m==\u001b[39m new_tracing_count)\n",
      "File \u001b[1;32m~\\AppData\\Local\\Packages\\PythonSoftwareFoundation.Python.3.10_qbz5n2kfra8p0\\LocalCache\\local-packages\\Python310\\site-packages\\tensorflow\\python\\eager\\polymorphic_function\\polymorphic_function.py:912\u001b[0m, in \u001b[0;36mFunction._call\u001b[1;34m(self, *args, **kwds)\u001b[0m\n\u001b[0;32m    909\u001b[0m   \u001b[39mself\u001b[39m\u001b[39m.\u001b[39m_lock\u001b[39m.\u001b[39mrelease()\n\u001b[0;32m    910\u001b[0m   \u001b[39m# In this case we have created variables on the first call, so we run the\u001b[39;00m\n\u001b[0;32m    911\u001b[0m   \u001b[39m# defunned version which is guaranteed to never create variables.\u001b[39;00m\n\u001b[1;32m--> 912\u001b[0m   \u001b[39mreturn\u001b[39;00m \u001b[39mself\u001b[39m\u001b[39m.\u001b[39m_no_variable_creation_fn(\u001b[39m*\u001b[39margs, \u001b[39m*\u001b[39m\u001b[39m*\u001b[39mkwds)  \u001b[39m# pylint: disable=not-callable\u001b[39;00m\n\u001b[0;32m    913\u001b[0m \u001b[39melif\u001b[39;00m \u001b[39mself\u001b[39m\u001b[39m.\u001b[39m_variable_creation_fn \u001b[39mis\u001b[39;00m \u001b[39mnot\u001b[39;00m \u001b[39mNone\u001b[39;00m:\n\u001b[0;32m    914\u001b[0m   \u001b[39m# Release the lock early so that multiple threads can perform the call\u001b[39;00m\n\u001b[0;32m    915\u001b[0m   \u001b[39m# in parallel.\u001b[39;00m\n\u001b[0;32m    916\u001b[0m   \u001b[39mself\u001b[39m\u001b[39m.\u001b[39m_lock\u001b[39m.\u001b[39mrelease()\n",
      "File \u001b[1;32m~\\AppData\\Local\\Packages\\PythonSoftwareFoundation.Python.3.10_qbz5n2kfra8p0\\LocalCache\\local-packages\\Python310\\site-packages\\tensorflow\\python\\eager\\polymorphic_function\\tracing_compiler.py:134\u001b[0m, in \u001b[0;36mTracingCompiler.__call__\u001b[1;34m(self, *args, **kwargs)\u001b[0m\n\u001b[0;32m    131\u001b[0m \u001b[39mwith\u001b[39;00m \u001b[39mself\u001b[39m\u001b[39m.\u001b[39m_lock:\n\u001b[0;32m    132\u001b[0m   (concrete_function,\n\u001b[0;32m    133\u001b[0m    filtered_flat_args) \u001b[39m=\u001b[39m \u001b[39mself\u001b[39m\u001b[39m.\u001b[39m_maybe_define_function(args, kwargs)\n\u001b[1;32m--> 134\u001b[0m \u001b[39mreturn\u001b[39;00m concrete_function\u001b[39m.\u001b[39;49m_call_flat(\n\u001b[0;32m    135\u001b[0m     filtered_flat_args, captured_inputs\u001b[39m=\u001b[39;49mconcrete_function\u001b[39m.\u001b[39;49mcaptured_inputs)\n",
      "File \u001b[1;32m~\\AppData\\Local\\Packages\\PythonSoftwareFoundation.Python.3.10_qbz5n2kfra8p0\\LocalCache\\local-packages\\Python310\\site-packages\\tensorflow\\python\\eager\\polymorphic_function\\monomorphic_function.py:1745\u001b[0m, in \u001b[0;36mConcreteFunction._call_flat\u001b[1;34m(self, args, captured_inputs, cancellation_manager)\u001b[0m\n\u001b[0;32m   1741\u001b[0m possible_gradient_type \u001b[39m=\u001b[39m gradients_util\u001b[39m.\u001b[39mPossibleTapeGradientTypes(args)\n\u001b[0;32m   1742\u001b[0m \u001b[39mif\u001b[39;00m (possible_gradient_type \u001b[39m==\u001b[39m gradients_util\u001b[39m.\u001b[39mPOSSIBLE_GRADIENT_TYPES_NONE\n\u001b[0;32m   1743\u001b[0m     \u001b[39mand\u001b[39;00m executing_eagerly):\n\u001b[0;32m   1744\u001b[0m   \u001b[39m# No tape is watching; skip to running the function.\u001b[39;00m\n\u001b[1;32m-> 1745\u001b[0m   \u001b[39mreturn\u001b[39;00m \u001b[39mself\u001b[39m\u001b[39m.\u001b[39m_build_call_outputs(\u001b[39mself\u001b[39;49m\u001b[39m.\u001b[39;49m_inference_function\u001b[39m.\u001b[39;49mcall(\n\u001b[0;32m   1746\u001b[0m       ctx, args, cancellation_manager\u001b[39m=\u001b[39;49mcancellation_manager))\n\u001b[0;32m   1747\u001b[0m forward_backward \u001b[39m=\u001b[39m \u001b[39mself\u001b[39m\u001b[39m.\u001b[39m_select_forward_and_backward_functions(\n\u001b[0;32m   1748\u001b[0m     args,\n\u001b[0;32m   1749\u001b[0m     possible_gradient_type,\n\u001b[0;32m   1750\u001b[0m     executing_eagerly)\n\u001b[0;32m   1751\u001b[0m forward_function, args_with_tangents \u001b[39m=\u001b[39m forward_backward\u001b[39m.\u001b[39mforward()\n",
      "File \u001b[1;32m~\\AppData\\Local\\Packages\\PythonSoftwareFoundation.Python.3.10_qbz5n2kfra8p0\\LocalCache\\local-packages\\Python310\\site-packages\\tensorflow\\python\\eager\\polymorphic_function\\monomorphic_function.py:378\u001b[0m, in \u001b[0;36m_EagerDefinedFunction.call\u001b[1;34m(self, ctx, args, cancellation_manager)\u001b[0m\n\u001b[0;32m    376\u001b[0m \u001b[39mwith\u001b[39;00m _InterpolateFunctionError(\u001b[39mself\u001b[39m):\n\u001b[0;32m    377\u001b[0m   \u001b[39mif\u001b[39;00m cancellation_manager \u001b[39mis\u001b[39;00m \u001b[39mNone\u001b[39;00m:\n\u001b[1;32m--> 378\u001b[0m     outputs \u001b[39m=\u001b[39m execute\u001b[39m.\u001b[39;49mexecute(\n\u001b[0;32m    379\u001b[0m         \u001b[39mstr\u001b[39;49m(\u001b[39mself\u001b[39;49m\u001b[39m.\u001b[39;49msignature\u001b[39m.\u001b[39;49mname),\n\u001b[0;32m    380\u001b[0m         num_outputs\u001b[39m=\u001b[39;49m\u001b[39mself\u001b[39;49m\u001b[39m.\u001b[39;49m_num_outputs,\n\u001b[0;32m    381\u001b[0m         inputs\u001b[39m=\u001b[39;49margs,\n\u001b[0;32m    382\u001b[0m         attrs\u001b[39m=\u001b[39;49mattrs,\n\u001b[0;32m    383\u001b[0m         ctx\u001b[39m=\u001b[39;49mctx)\n\u001b[0;32m    384\u001b[0m   \u001b[39melse\u001b[39;00m:\n\u001b[0;32m    385\u001b[0m     outputs \u001b[39m=\u001b[39m execute\u001b[39m.\u001b[39mexecute_with_cancellation(\n\u001b[0;32m    386\u001b[0m         \u001b[39mstr\u001b[39m(\u001b[39mself\u001b[39m\u001b[39m.\u001b[39msignature\u001b[39m.\u001b[39mname),\n\u001b[0;32m    387\u001b[0m         num_outputs\u001b[39m=\u001b[39m\u001b[39mself\u001b[39m\u001b[39m.\u001b[39m_num_outputs,\n\u001b[1;32m   (...)\u001b[0m\n\u001b[0;32m    390\u001b[0m         ctx\u001b[39m=\u001b[39mctx,\n\u001b[0;32m    391\u001b[0m         cancellation_manager\u001b[39m=\u001b[39mcancellation_manager)\n",
      "File \u001b[1;32m~\\AppData\\Local\\Packages\\PythonSoftwareFoundation.Python.3.10_qbz5n2kfra8p0\\LocalCache\\local-packages\\Python310\\site-packages\\tensorflow\\python\\eager\\execute.py:52\u001b[0m, in \u001b[0;36mquick_execute\u001b[1;34m(op_name, num_outputs, inputs, attrs, ctx, name)\u001b[0m\n\u001b[0;32m     50\u001b[0m \u001b[39mtry\u001b[39;00m:\n\u001b[0;32m     51\u001b[0m   ctx\u001b[39m.\u001b[39mensure_initialized()\n\u001b[1;32m---> 52\u001b[0m   tensors \u001b[39m=\u001b[39m pywrap_tfe\u001b[39m.\u001b[39;49mTFE_Py_Execute(ctx\u001b[39m.\u001b[39;49m_handle, device_name, op_name,\n\u001b[0;32m     53\u001b[0m                                       inputs, attrs, num_outputs)\n\u001b[0;32m     54\u001b[0m \u001b[39mexcept\u001b[39;00m core\u001b[39m.\u001b[39m_NotOkStatusException \u001b[39mas\u001b[39;00m e:\n\u001b[0;32m     55\u001b[0m   \u001b[39mif\u001b[39;00m name \u001b[39mis\u001b[39;00m \u001b[39mnot\u001b[39;00m \u001b[39mNone\u001b[39;00m:\n",
      "\u001b[1;31mKeyboardInterrupt\u001b[0m: "
     ]
    }
   ],
   "source": [
    "# Train model\n",
    "model.fit(x=[contours_train_rp, max_length], y=ger_train['labels'], epochs=50, batch_size=32)"
   ]
  },
  {
   "cell_type": "code",
   "execution_count": null,
   "metadata": {},
   "outputs": [
    {
     "name": "stdout",
     "output_type": "stream",
     "text": [
      "137/137 [==============================] - 2s 15ms/step\n"
     ]
    }
   ],
   "source": [
    "# predict on test set\n",
    "pred = model.predict([contours_test_rp, lengths_test])  \n",
    "threshold = 0.5\n",
    "pred[pred >= threshold] = 1\n",
    "pred[pred < threshold] = 0\n",
    "pred = pred.reshape(-1)"
   ]
  },
  {
   "attachments": {},
   "cell_type": "markdown",
   "metadata": {},
   "source": [
    "## Class Weights\n",
    "* 75% of the labels are stressed\n",
    "* Hence the model is biased towards stressed data\n",
    "* Half the time, the unstressed labels were predicted as stressed\n",
    "* Class weights place a greater importance in getting the unstressed labels correct than the stressed labels"
   ]
  },
  {
   "cell_type": "code",
   "execution_count": null,
   "metadata": {},
   "outputs": [
    {
     "name": "stdout",
     "output_type": "stream",
     "text": [
      "Model: \"sequential_3\"\n",
      "_________________________________________________________________\n",
      " Layer (type)                Output Shape              Param #   \n",
      "=================================================================\n",
      " dense_19 (Dense)            (None, 64)                18304     \n",
      "                                                                 \n",
      " dense_20 (Dense)            (None, 128)               8320      \n",
      "                                                                 \n",
      " dense_21 (Dense)            (None, 256)               33024     \n",
      "                                                                 \n",
      " dense_22 (Dense)            (None, 1)                 257       \n",
      "                                                                 \n",
      "=================================================================\n",
      "Total params: 59,905\n",
      "Trainable params: 59,905\n",
      "Non-trainable params: 0\n",
      "_________________________________________________________________\n"
     ]
    }
   ],
   "source": [
    "# define the model\n",
    "model = Sequential()\n",
    "model.add(Dense(64, input_dim=max_length, activation='relu'))\n",
    "model.add(Dense(128, activation='relu'))\n",
    "model.add(Dense(256, activation='relu'))\n",
    "model.add(Dense(1, activation='sigmoid'))\n",
    "\n",
    "model.summary()"
   ]
  },
  {
   "cell_type": "code",
   "execution_count": null,
   "metadata": {},
   "outputs": [],
   "source": [
    "model.compile(loss='binary_crossentropy', optimizer='rmsprop', metrics=['accuracy'])"
   ]
  },
  {
   "cell_type": "code",
   "execution_count": null,
   "metadata": {},
   "outputs": [
    {
     "name": "stdout",
     "output_type": "stream",
     "text": [
      "Epoch 1/100\n",
      "770/770 [==============================] - 2s 2ms/step - loss: 0.5816 - accuracy: 0.6864 - val_loss: 0.5096 - val_accuracy: 0.7715\n",
      "Epoch 2/100\n",
      "770/770 [==============================] - 2s 2ms/step - loss: 0.5477 - accuracy: 0.7421 - val_loss: 0.8136 - val_accuracy: 0.5934\n",
      "Epoch 3/100\n",
      "770/770 [==============================] - 2s 2ms/step - loss: 0.5350 - accuracy: 0.7556 - val_loss: 0.4843 - val_accuracy: 0.7985\n",
      "Epoch 4/100\n",
      "770/770 [==============================] - 2s 2ms/step - loss: 0.5262 - accuracy: 0.7654 - val_loss: 0.5009 - val_accuracy: 0.7914\n",
      "Epoch 5/100\n",
      "770/770 [==============================] - 2s 2ms/step - loss: 0.5164 - accuracy: 0.7657 - val_loss: 0.4640 - val_accuracy: 0.7871\n",
      "Epoch 6/100\n",
      "770/770 [==============================] - 2s 2ms/step - loss: 0.5124 - accuracy: 0.7651 - val_loss: 0.4577 - val_accuracy: 0.7943\n",
      "Epoch 7/100\n",
      "770/770 [==============================] - 2s 2ms/step - loss: 0.5095 - accuracy: 0.7672 - val_loss: 0.4733 - val_accuracy: 0.7920\n",
      "Epoch 8/100\n",
      "770/770 [==============================] - 2s 2ms/step - loss: 0.5061 - accuracy: 0.7707 - val_loss: 0.5234 - val_accuracy: 0.7449\n",
      "Epoch 9/100\n",
      "770/770 [==============================] - 2s 2ms/step - loss: 0.5030 - accuracy: 0.7711 - val_loss: 0.5262 - val_accuracy: 0.7728\n",
      "Epoch 10/100\n",
      "770/770 [==============================] - 2s 2ms/step - loss: 0.5011 - accuracy: 0.7772 - val_loss: 0.4720 - val_accuracy: 0.7894\n",
      "Epoch 11/100\n",
      "770/770 [==============================] - 2s 2ms/step - loss: 0.5006 - accuracy: 0.7779 - val_loss: 0.4608 - val_accuracy: 0.7888\n"
     ]
    },
    {
     "data": {
      "text/plain": [
       "<keras.callbacks.History at 0x125955ab070>"
      ]
     },
     "execution_count": 57,
     "metadata": {},
     "output_type": "execute_result"
    }
   ],
   "source": [
    "model.fit(\n",
    "    contours_train_merged, labels_train_merged,\n",
    "    batch_size=16, epochs=100, validation_split=0.2,\n",
    "    callbacks=[early_stopping],\n",
    "    class_weight=class_weights_dict\n",
    ")"
   ]
  },
  {
   "cell_type": "code",
   "execution_count": null,
   "metadata": {},
   "outputs": [
    {
     "name": "stdout",
     "output_type": "stream",
     "text": [
      "121/121 [==============================] - 0s 1ms/step\n"
     ]
    }
   ],
   "source": [
    "# predict on test set\n",
    "pred = model.predict(contours_test_merged)\n",
    "threshold = 0.5\n",
    "pred[pred >= threshold] = 1\n",
    "pred[pred < threshold] = 0\n",
    "pred = pred.reshape(-1)"
   ]
  },
  {
   "cell_type": "code",
   "execution_count": null,
   "metadata": {},
   "outputs": [],
   "source": [
    "# calculate accuracy\n",
    "num_correct = np.count_nonzero(labels_test_merged == pred)\n",
    "num_wrong = len(labels_test_merged) - num_correct\n",
    "accuracy = (num_correct / len(labels_test_merged)) * 100\n",
    "\n",
    "num_1as0 = np.count_nonzero((labels_test_merged == 1) & (pred == 0))\n",
    "num_1 = np.count_nonzero(labels_test_merged == 1)\n",
    "perc1as0 = (num_1as0 / num_1 )* 100\n",
    "\n",
    "num_0as1 = np.count_nonzero((labels_test_merged == 0) & (pred == 1))\n",
    "num_0 = np.count_nonzero(labels_test_merged == 0)\n",
    "perc0as1 = (num_0as1 / num_0 )* 100"
   ]
  },
  {
   "cell_type": "code",
   "execution_count": null,
   "metadata": {},
   "outputs": [
    {
     "name": "stdout",
     "output_type": "stream",
     "text": [
      "Accuracy: 78.45%\n",
      "1 as 0 percentage: 15.68%\n",
      "0 as 1 percentage: 36.50%\n"
     ]
    }
   ],
   "source": [
    "# display results\n",
    "print(f\"Accuracy: {accuracy:.2f}%\")\n",
    "print(f\"1 as 0 percentage: {perc1as0:.2f}%\")\n",
    "print(f\"0 as 1 percentage: {perc0as1:.2f}%\")"
   ]
  },
  {
   "attachments": {},
   "cell_type": "markdown",
   "metadata": {},
   "source": [
    "## Capture the duration\n",
    "The TimeDistributed layer is a wrapper in Keras that allows you to apply a layer to each time step of an input sequence. It is useful for processing sequential data such as time series or video frames where each time step or frame has the same structure and the same layer(s) need to be applied to each time step/frame."
   ]
  },
  {
   "cell_type": "code",
   "execution_count": null,
   "metadata": {},
   "outputs": [
    {
     "name": "stdout",
     "output_type": "stream",
     "text": [
      "Model: \"sequential_9\"\n",
      "_________________________________________________________________\n",
      " Layer (type)                Output Shape              Param #   \n",
      "=================================================================\n",
      " time_distributed_20 (TimeDi  (None, 1, 64)            18304     \n",
      " stributed)                                                      \n",
      "                                                                 \n",
      " time_distributed_21 (TimeDi  (None, 1, 128)           8320      \n",
      " stributed)                                                      \n",
      "                                                                 \n",
      " time_distributed_22 (TimeDi  (None, 1, 256)           33024     \n",
      " stributed)                                                      \n",
      "                                                                 \n",
      " time_distributed_23 (TimeDi  (None, 1, 1)             257       \n",
      " stributed)                                                      \n",
      "                                                                 \n",
      " flatten_5 (Flatten)         (None, 1)                 0         \n",
      "                                                                 \n",
      "=================================================================\n",
      "Total params: 59,905\n",
      "Trainable params: 59,905\n",
      "Non-trainable params: 0\n",
      "_________________________________________________________________\n"
     ]
    }
   ],
   "source": [
    "# use time distributed layer to capture temporal information\n",
    "model = Sequential()\n",
    "model.add(TimeDistributed(Dense(64, input_dim=max_length, activation='relu')))\n",
    "model.add(TimeDistributed(Dense(128, activation='relu')))\n",
    "model.add(TimeDistributed(Dense(256, activation='relu')))\n",
    "model.add(TimeDistributed(Dense(1, activation='sigmoid')))\n",
    "model.add(Flatten())\n",
    "\n",
    "# build the model with model.build()\n",
    "model.build(input_shape=(None, 1, max_length))\n",
    "\n",
    "model.summary()"
   ]
  },
  {
   "cell_type": "code",
   "execution_count": null,
   "metadata": {},
   "outputs": [],
   "source": [
    "model.compile(loss='binary_crossentropy', optimizer='rmsprop', metrics=['accuracy'])\n",
    "contours_train_merged_rs = np.reshape(contours_train_merged, (contours_train_merged.shape[0], 1, contours_train_merged.shape[1]))"
   ]
  },
  {
   "cell_type": "code",
   "execution_count": null,
   "metadata": {},
   "outputs": [
    {
     "name": "stdout",
     "output_type": "stream",
     "text": [
      "Epoch 1/100\n",
      "912/912 [==============================] - 3s 3ms/step - loss: 0.4498 - accuracy: 0.7974 - val_loss: 0.5247 - val_accuracy: 0.7698\n",
      "Epoch 2/100\n",
      "912/912 [==============================] - 2s 2ms/step - loss: 0.4219 - accuracy: 0.8134 - val_loss: 0.4713 - val_accuracy: 0.8016\n",
      "Epoch 3/100\n",
      "912/912 [==============================] - 2s 2ms/step - loss: 0.4082 - accuracy: 0.8226 - val_loss: 0.4569 - val_accuracy: 0.8044\n",
      "Epoch 4/100\n",
      "912/912 [==============================] - 2s 2ms/step - loss: 0.3983 - accuracy: 0.8297 - val_loss: 0.4091 - val_accuracy: 0.8274\n",
      "Epoch 5/100\n",
      "912/912 [==============================] - 2s 2ms/step - loss: 0.3927 - accuracy: 0.8336 - val_loss: 0.4151 - val_accuracy: 0.8228\n",
      "Epoch 6/100\n",
      "912/912 [==============================] - 2s 2ms/step - loss: 0.3908 - accuracy: 0.8336 - val_loss: 0.4263 - val_accuracy: 0.8203\n",
      "Epoch 7/100\n",
      "912/912 [==============================] - 2s 2ms/step - loss: 0.3849 - accuracy: 0.8373 - val_loss: 0.4099 - val_accuracy: 0.8332\n",
      "Epoch 8/100\n",
      "912/912 [==============================] - 2s 2ms/step - loss: 0.3832 - accuracy: 0.8384 - val_loss: 0.4169 - val_accuracy: 0.8299\n",
      "Epoch 9/100\n",
      "912/912 [==============================] - 2s 2ms/step - loss: 0.3813 - accuracy: 0.8404 - val_loss: 0.4443 - val_accuracy: 0.8225\n"
     ]
    },
    {
     "data": {
      "text/plain": [
       "<keras.callbacks.History at 0x20a7f17f760>"
      ]
     },
     "execution_count": 175,
     "metadata": {},
     "output_type": "execute_result"
    }
   ],
   "source": [
    "model.fit(\n",
    "    contours_train_merged_rs, labels_train_merged,\n",
    "    batch_size=16, epochs=100, validation_split=0.2,\n",
    "    callbacks=[early_stopping],\n",
    ")"
   ]
  },
  {
   "cell_type": "code",
   "execution_count": null,
   "metadata": {},
   "outputs": [
    {
     "name": "stdout",
     "output_type": "stream",
     "text": [
      "143/143 [==============================] - 0s 1ms/step\n"
     ]
    }
   ],
   "source": [
    "# predict on test set\n",
    "pred = model.predict(contours_test_merged.reshape((contours_test_merged.shape[0], 1, contours_test_merged.shape[1])))\n",
    "# pred = model.predict(contours_test_merged)\n",
    "threshold = 0.5\n",
    "pred[pred >= threshold] = 1\n",
    "pred[pred < threshold] = 0\n",
    "pred = pred.reshape(-1)"
   ]
  },
  {
   "cell_type": "code",
   "execution_count": null,
   "metadata": {},
   "outputs": [],
   "source": [
    "# calculate accuracy\n",
    "num_correct = np.count_nonzero(labels_test_merged == pred)\n",
    "num_wrong = len(labels_test_merged) - num_correct\n",
    "accuracy = (num_correct / len(labels_test_merged)) * 100\n",
    "\n",
    "num_1as0 = np.count_nonzero((labels_test_merged == 1) & (pred == 0))\n",
    "num_1 = np.count_nonzero(labels_test_merged == 1)\n",
    "perc1as0 = (num_1as0 / num_1 )* 100\n",
    "\n",
    "num_0as1 = np.count_nonzero((labels_test_merged == 0) & (pred == 1))\n",
    "num_0 = np.count_nonzero(labels_test_merged == 0)\n",
    "perc0as1 = (num_0as1 / num_0 )* 100"
   ]
  },
  {
   "cell_type": "code",
   "execution_count": null,
   "metadata": {},
   "outputs": [
    {
     "name": "stdout",
     "output_type": "stream",
     "text": [
      "Accuracy: 82.53%\n",
      "1 as 0 percentage: 0.90%\n",
      "0 as 1 percentage: 67.88%\n"
     ]
    }
   ],
   "source": [
    "# display results\n",
    "print(f\"Accuracy: {accuracy:.2f}%\")\n",
    "print(f\"1 as 0 percentage: {perc1as0:.2f}%\")\n",
    "print(f\"0 as 1 percentage: {perc0as1:.2f}%\")"
   ]
  },
  {
   "attachments": {},
   "cell_type": "markdown",
   "metadata": {},
   "source": [
    "## Capture the Duration - Class Weights"
   ]
  },
  {
   "cell_type": "code",
   "execution_count": null,
   "metadata": {},
   "outputs": [
    {
     "name": "stdout",
     "output_type": "stream",
     "text": [
      "Epoch 1/100\n"
     ]
    },
    {
     "ename": "ValueError",
     "evalue": "in user code:\n\n    File \"C:\\Users\\abhay\\AppData\\Local\\Packages\\PythonSoftwareFoundation.Python.3.10_qbz5n2kfra8p0\\LocalCache\\local-packages\\Python310\\site-packages\\keras\\engine\\training.py\", line 1249, in train_function  *\n        return step_function(self, iterator)\n    File \"C:\\Users\\abhay\\AppData\\Local\\Packages\\PythonSoftwareFoundation.Python.3.10_qbz5n2kfra8p0\\LocalCache\\local-packages\\Python310\\site-packages\\keras\\engine\\training.py\", line 1233, in step_function  **\n        outputs = model.distribute_strategy.run(run_step, args=(data,))\n    File \"C:\\Users\\abhay\\AppData\\Local\\Packages\\PythonSoftwareFoundation.Python.3.10_qbz5n2kfra8p0\\LocalCache\\local-packages\\Python310\\site-packages\\keras\\engine\\training.py\", line 1222, in run_step  **\n        outputs = model.train_step(data)\n    File \"C:\\Users\\abhay\\AppData\\Local\\Packages\\PythonSoftwareFoundation.Python.3.10_qbz5n2kfra8p0\\LocalCache\\local-packages\\Python310\\site-packages\\keras\\engine\\training.py\", line 1023, in train_step\n        y_pred = self(x, training=True)\n    File \"C:\\Users\\abhay\\AppData\\Local\\Packages\\PythonSoftwareFoundation.Python.3.10_qbz5n2kfra8p0\\LocalCache\\local-packages\\Python310\\site-packages\\keras\\utils\\traceback_utils.py\", line 70, in error_handler\n        raise e.with_traceback(filtered_tb) from None\n    File \"C:\\Users\\abhay\\AppData\\Local\\Packages\\PythonSoftwareFoundation.Python.3.10_qbz5n2kfra8p0\\LocalCache\\local-packages\\Python310\\site-packages\\keras\\engine\\input_spec.py\", line 295, in assert_input_compatibility\n        raise ValueError(\n\n    ValueError: Input 0 of layer \"sequential_3\" is incompatible with the layer: expected shape=(None, 285), found shape=(None, 1, 285)\n",
     "output_type": "error",
     "traceback": [
      "\u001b[1;31m---------------------------------------------------------------------------\u001b[0m",
      "\u001b[1;31mValueError\u001b[0m                                Traceback (most recent call last)",
      "\u001b[1;32mc:\\Users\\abhay\\Desktop\\Code\\Speech-Prominence-Detection\\Pranjal_Abhay\\codes\\model.ipynb Cell 100\u001b[0m in \u001b[0;36m1\n\u001b[1;32m----> <a href='vscode-notebook-cell:/c%3A/Users/abhay/Desktop/Code/Speech-Prominence-Detection/Pranjal_Abhay/codes/model.ipynb#Y206sZmlsZQ%3D%3D?line=0'>1</a>\u001b[0m model\u001b[39m.\u001b[39;49mfit(\n\u001b[0;32m      <a href='vscode-notebook-cell:/c%3A/Users/abhay/Desktop/Code/Speech-Prominence-Detection/Pranjal_Abhay/codes/model.ipynb#Y206sZmlsZQ%3D%3D?line=1'>2</a>\u001b[0m     contours_train_merged_rs, labels_train_merged,\n\u001b[0;32m      <a href='vscode-notebook-cell:/c%3A/Users/abhay/Desktop/Code/Speech-Prominence-Detection/Pranjal_Abhay/codes/model.ipynb#Y206sZmlsZQ%3D%3D?line=2'>3</a>\u001b[0m     batch_size\u001b[39m=\u001b[39;49m\u001b[39m16\u001b[39;49m, epochs\u001b[39m=\u001b[39;49m\u001b[39m100\u001b[39;49m, validation_split\u001b[39m=\u001b[39;49m\u001b[39m0.2\u001b[39;49m,\n\u001b[0;32m      <a href='vscode-notebook-cell:/c%3A/Users/abhay/Desktop/Code/Speech-Prominence-Detection/Pranjal_Abhay/codes/model.ipynb#Y206sZmlsZQ%3D%3D?line=3'>4</a>\u001b[0m     callbacks\u001b[39m=\u001b[39;49m[early_stopping],\n\u001b[0;32m      <a href='vscode-notebook-cell:/c%3A/Users/abhay/Desktop/Code/Speech-Prominence-Detection/Pranjal_Abhay/codes/model.ipynb#Y206sZmlsZQ%3D%3D?line=4'>5</a>\u001b[0m     class_weight\u001b[39m=\u001b[39;49mclass_weights_dict\n\u001b[0;32m      <a href='vscode-notebook-cell:/c%3A/Users/abhay/Desktop/Code/Speech-Prominence-Detection/Pranjal_Abhay/codes/model.ipynb#Y206sZmlsZQ%3D%3D?line=5'>6</a>\u001b[0m )\n",
      "File \u001b[1;32m~\\AppData\\Local\\Packages\\PythonSoftwareFoundation.Python.3.10_qbz5n2kfra8p0\\LocalCache\\local-packages\\Python310\\site-packages\\keras\\utils\\traceback_utils.py:70\u001b[0m, in \u001b[0;36mfilter_traceback.<locals>.error_handler\u001b[1;34m(*args, **kwargs)\u001b[0m\n\u001b[0;32m     67\u001b[0m     filtered_tb \u001b[39m=\u001b[39m _process_traceback_frames(e\u001b[39m.\u001b[39m__traceback__)\n\u001b[0;32m     68\u001b[0m     \u001b[39m# To get the full stack trace, call:\u001b[39;00m\n\u001b[0;32m     69\u001b[0m     \u001b[39m# `tf.debugging.disable_traceback_filtering()`\u001b[39;00m\n\u001b[1;32m---> 70\u001b[0m     \u001b[39mraise\u001b[39;00m e\u001b[39m.\u001b[39mwith_traceback(filtered_tb) \u001b[39mfrom\u001b[39;00m \u001b[39mNone\u001b[39m\n\u001b[0;32m     71\u001b[0m \u001b[39mfinally\u001b[39;00m:\n\u001b[0;32m     72\u001b[0m     \u001b[39mdel\u001b[39;00m filtered_tb\n",
      "File \u001b[1;32m~\\AppData\\Local\\Temp\\__autograph_generated_filewt_09y06.py:15\u001b[0m, in \u001b[0;36mouter_factory.<locals>.inner_factory.<locals>.tf__train_function\u001b[1;34m(iterator)\u001b[0m\n\u001b[0;32m     13\u001b[0m \u001b[39mtry\u001b[39;00m:\n\u001b[0;32m     14\u001b[0m     do_return \u001b[39m=\u001b[39m \u001b[39mTrue\u001b[39;00m\n\u001b[1;32m---> 15\u001b[0m     retval_ \u001b[39m=\u001b[39m ag__\u001b[39m.\u001b[39mconverted_call(ag__\u001b[39m.\u001b[39mld(step_function), (ag__\u001b[39m.\u001b[39mld(\u001b[39mself\u001b[39m), ag__\u001b[39m.\u001b[39mld(iterator)), \u001b[39mNone\u001b[39;00m, fscope)\n\u001b[0;32m     16\u001b[0m \u001b[39mexcept\u001b[39;00m:\n\u001b[0;32m     17\u001b[0m     do_return \u001b[39m=\u001b[39m \u001b[39mFalse\u001b[39;00m\n",
      "\u001b[1;31mValueError\u001b[0m: in user code:\n\n    File \"C:\\Users\\abhay\\AppData\\Local\\Packages\\PythonSoftwareFoundation.Python.3.10_qbz5n2kfra8p0\\LocalCache\\local-packages\\Python310\\site-packages\\keras\\engine\\training.py\", line 1249, in train_function  *\n        return step_function(self, iterator)\n    File \"C:\\Users\\abhay\\AppData\\Local\\Packages\\PythonSoftwareFoundation.Python.3.10_qbz5n2kfra8p0\\LocalCache\\local-packages\\Python310\\site-packages\\keras\\engine\\training.py\", line 1233, in step_function  **\n        outputs = model.distribute_strategy.run(run_step, args=(data,))\n    File \"C:\\Users\\abhay\\AppData\\Local\\Packages\\PythonSoftwareFoundation.Python.3.10_qbz5n2kfra8p0\\LocalCache\\local-packages\\Python310\\site-packages\\keras\\engine\\training.py\", line 1222, in run_step  **\n        outputs = model.train_step(data)\n    File \"C:\\Users\\abhay\\AppData\\Local\\Packages\\PythonSoftwareFoundation.Python.3.10_qbz5n2kfra8p0\\LocalCache\\local-packages\\Python310\\site-packages\\keras\\engine\\training.py\", line 1023, in train_step\n        y_pred = self(x, training=True)\n    File \"C:\\Users\\abhay\\AppData\\Local\\Packages\\PythonSoftwareFoundation.Python.3.10_qbz5n2kfra8p0\\LocalCache\\local-packages\\Python310\\site-packages\\keras\\utils\\traceback_utils.py\", line 70, in error_handler\n        raise e.with_traceback(filtered_tb) from None\n    File \"C:\\Users\\abhay\\AppData\\Local\\Packages\\PythonSoftwareFoundation.Python.3.10_qbz5n2kfra8p0\\LocalCache\\local-packages\\Python310\\site-packages\\keras\\engine\\input_spec.py\", line 295, in assert_input_compatibility\n        raise ValueError(\n\n    ValueError: Input 0 of layer \"sequential_3\" is incompatible with the layer: expected shape=(None, 285), found shape=(None, 1, 285)\n"
     ]
    }
   ],
   "source": [
    "model.fit(\n",
    "    contours_train_merged_rs, labels_train_merged,\n",
    "    batch_size=16, epochs=100, validation_split=0.2,\n",
    "    callbacks=[early_stopping],\n",
    "    class_weight=class_weights_dict\n",
    ")"
   ]
  },
  {
   "cell_type": "code",
   "execution_count": null,
   "metadata": {},
   "outputs": [
    {
     "name": "stdout",
     "output_type": "stream",
     "text": [
      "143/143 [==============================] - 0s 2ms/step\n"
     ]
    }
   ],
   "source": [
    "# predict on test set\n",
    "pred = model.predict(contours_test_merged.reshape((contours_test_merged.shape[0], 1, contours_test_merged.shape[1])))\n",
    "# pred = model.predict(contours_test_merged)\n",
    "threshold = 0.5\n",
    "pred[pred >= threshold] = 1\n",
    "pred[pred < threshold] = 0\n",
    "pred = pred.reshape(-1)"
   ]
  },
  {
   "cell_type": "code",
   "execution_count": null,
   "metadata": {},
   "outputs": [],
   "source": [
    "# calculate accuracy\n",
    "num_correct = np.count_nonzero(labels_test_merged == pred)\n",
    "num_wrong = len(labels_test_merged) - num_correct\n",
    "accuracy = (num_correct / len(labels_test_merged)) * 100\n",
    "\n",
    "num_1as0 = np.count_nonzero((labels_test_merged == 1) & (pred == 0))\n",
    "num_1 = np.count_nonzero(labels_test_merged == 1)\n",
    "perc1as0 = (num_1as0 / num_1 )* 100\n",
    "\n",
    "num_0as1 = np.count_nonzero((labels_test_merged == 0) & (pred == 1))\n",
    "num_0 = np.count_nonzero(labels_test_merged == 0)\n",
    "perc0as1 = (num_0as1 / num_0 )* 100"
   ]
  },
  {
   "cell_type": "code",
   "execution_count": null,
   "metadata": {},
   "outputs": [
    {
     "name": "stdout",
     "output_type": "stream",
     "text": [
      "Accuracy: 65.06%\n",
      "1 as 0 percentage: 41.67%\n",
      "0 as 1 percentage: 14.46%\n"
     ]
    }
   ],
   "source": [
    "# display results\n",
    "print(f\"Accuracy: {accuracy:.2f}%\")\n",
    "print(f\"1 as 0 percentage: {perc1as0:.2f}%\")\n",
    "print(f\"0 as 1 percentage: {perc0as1:.2f}%\")"
   ]
  }
 ],
 "metadata": {
  "kernelspec": {
   "display_name": "Python 3",
   "language": "python",
   "name": "python3"
  },
  "language_info": {
   "codemirror_mode": {
    "name": "ipython",
    "version": 3
   },
   "file_extension": ".py",
   "mimetype": "text/x-python",
   "name": "python",
   "nbconvert_exporter": "python",
   "pygments_lexer": "ipython3",
   "version": "3.11.5"
  },
  "orig_nbformat": 4
 },
 "nbformat": 4,
 "nbformat_minor": 2
}
