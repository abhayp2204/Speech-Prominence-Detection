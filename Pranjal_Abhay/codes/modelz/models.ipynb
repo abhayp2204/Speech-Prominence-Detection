{
 "cells": [
  {
   "attachments": {},
   "cell_type": "markdown",
   "metadata": {},
   "source": [
    "# Speech Prominence Detection"
   ]
  },
  {
   "cell_type": "code",
   "execution_count": 2,
   "metadata": {},
   "outputs": [],
   "source": [
    "from matplotlib import pyplot as plt\n",
    "import random\n",
    "import pickle as pkl\n",
    "import pandas as pd\n",
    "import numpy as np\n",
    "import math\n",
    "from IPython.display import clear_output"
   ]
  },
  {
   "cell_type": "code",
   "execution_count": 3,
   "metadata": {},
   "outputs": [
    {
     "name": "stdout",
     "output_type": "stream",
     "text": [
      "WARNING:tensorflow:From C:\\Users\\abhay\\AppData\\Local\\Packages\\PythonSoftwareFoundation.Python.3.10_qbz5n2kfra8p0\\LocalCache\\local-packages\\Python310\\site-packages\\keras\\src\\losses.py:2976: The name tf.losses.sparse_softmax_cross_entropy is deprecated. Please use tf.compat.v1.losses.sparse_softmax_cross_entropy instead.\n",
      "\n"
     ]
    }
   ],
   "source": [
    "import tensorflow as tf"
   ]
  },
  {
   "cell_type": "code",
   "execution_count": 4,
   "metadata": {},
   "outputs": [],
   "source": [
    "from keras.models import Sequential, Model\n",
    "from keras.layers import Dense, Dropout, Activation, Flatten, LSTM, Conv1D, MaxPooling1D, MaxPooling2D, TimeDistributed, Input, Reshape, concatenate, Conv2D, Concatenate\n",
    "from keras.callbacks import EarlyStopping\n",
    "from keras.optimizers import Adam, SGD"
   ]
  },
  {
   "cell_type": "code",
   "execution_count": 5,
   "metadata": {},
   "outputs": [],
   "source": [
    "from sklearn.model_selection import train_test_split\n",
    "from sklearn.utils.class_weight import compute_class_weight"
   ]
  },
  {
   "cell_type": "code",
   "execution_count": 6,
   "metadata": {},
   "outputs": [],
   "source": [
    "# load data in one line\n",
    "ger_train = pkl.load(open(\"../../saved/ger_train.pkl\", \"rb\"))\n",
    "ger_test = pkl.load(open(\"../../saved/ger_test.pkl\", \"rb\"))"
   ]
  },
  {
   "attachments": {},
   "cell_type": "markdown",
   "metadata": {},
   "source": [
    "## Stressed and Unstressed Labels"
   ]
  },
  {
   "cell_type": "code",
   "execution_count": 7,
   "metadata": {},
   "outputs": [
    {
     "name": "stdout",
     "output_type": "stream",
     "text": [
      "Train\n",
      "0s:  2979\n",
      "1s:  9216\n",
      "Percentage of 1s:  0.7557195571955719\n",
      "Percentage of 0s:  0.24428044280442804\n",
      "\n",
      "Test\n",
      "0s:  2548\n",
      "1s:  8035\n"
     ]
    }
   ],
   "source": [
    "ger_train_labels = np.array(ger_train[\"labels\"])\n",
    "ger_test_labels = np.array(ger_test[\"labels\"])\n",
    "\n",
    "# count 0s and 1s\n",
    "zeros_train = np.count_nonzero(ger_train_labels == 0)\n",
    "ones_train = np.count_nonzero(ger_train_labels == 1)\n",
    "\n",
    "zeros_test = np.count_nonzero(ger_test_labels == 0)\n",
    "ones_test = np.count_nonzero(ger_test_labels == 1)\n",
    "\n",
    "print(\"Train\")\n",
    "print(\"0s: \", zeros_train)\n",
    "print(\"1s: \", ones_train)\n",
    "# percentage of 1s\n",
    "print(\"Percentage of 1s: \", ones_train / (ones_train + zeros_train))\n",
    "print(\"Percentage of 0s: \", zeros_train / (ones_train + zeros_train))\n",
    "print()\n",
    "print(\"Test\")\n",
    "print(\"0s: \", zeros_test)\n",
    "print(\"1s: \", ones_test)"
   ]
  },
  {
   "attachments": {},
   "cell_type": "markdown",
   "metadata": {},
   "source": [
    "## Contour Lengths"
   ]
  },
  {
   "cell_type": "code",
   "execution_count": 8,
   "metadata": {},
   "outputs": [
    {
     "name": "stdout",
     "output_type": "stream",
     "text": [
      "Train\n",
      "max length:  247\n",
      "min length:  3\n",
      "mean length:  25.35662156621566\n",
      "\n",
      "Test\n",
      "max length:  285\n",
      "mean length:  25.306812813001983\n"
     ]
    }
   ],
   "source": [
    "# make a list of lengths of all contours\n",
    "lengths_train = np.array([len(contour) for contour in ger_train[\"chunks\"]])\n",
    "lengths_train.mean()\n",
    "\n",
    "lengths_test = np.array([len(contour) for contour in ger_test[\"contour\"]])\n",
    "lengths_test.mean()\n",
    "\n",
    "print(\"Train\")\n",
    "print(\"max length: \", lengths_train.max())\n",
    "print(\"min length: \", lengths_train.min())\n",
    "\n",
    "print(\"mean length: \", lengths_train.mean())\n",
    "print()\n",
    "print(\"Test\")\n",
    "print(\"max length: \", lengths_test.max())\n",
    "print(\"mean length: \", lengths_test.mean())"
   ]
  },
  {
   "cell_type": "code",
   "execution_count": 9,
   "metadata": {},
   "outputs": [],
   "source": [
    "# calculate the max length of all contours\n",
    "max_length_train = max([len(contour) for contour in ger_train[\"chunks\"]])\n",
    "max_length_test = max([len(contour) for contour in ger_test[\"contour\"]])\n",
    "max_length = max(max_length_train, max_length_test)"
   ]
  },
  {
   "attachments": {},
   "cell_type": "markdown",
   "metadata": {},
   "source": [
    "## Padding"
   ]
  },
  {
   "cell_type": "code",
   "execution_count": 10,
   "metadata": {},
   "outputs": [],
   "source": [
    "# pad all contours to the same length using left padding, right padding, and both side padding\n",
    "def pad_contours(contours, length, padding=\"both\"):\n",
    "    padded_contours = []\n",
    "    for contour in contours:\n",
    "        if padding == \"left\":\n",
    "            padded_contours.append(np.pad(contour, (length-len(contour), 0), 'constant'))\n",
    "        elif padding == \"right\":\n",
    "            padded = np.pad(contour, (0, length-len(contour)), 'constant')\n",
    "            padded_contours.append(padded)\n",
    "        elif padding == \"both\":\n",
    "            padded = np.pad(contour, (math.floor((length-len(contour))/2), math.ceil((length-len(contour))/2)), 'constant')\n",
    "            padded_contours.append(padded)\n",
    "    return np.array(padded_contours)"
   ]
  },
  {
   "cell_type": "code",
   "execution_count": 11,
   "metadata": {},
   "outputs": [],
   "source": [
    "contours_train_rp = pad_contours(ger_train[\"chunks\"], max_length, padding=\"right\")\n",
    "contours_train_lp = pad_contours(ger_train[\"chunks\"], max_length, padding=\"left\")\n",
    "contours_train_bp = pad_contours(ger_train[\"chunks\"], max_length, padding=\"both\")\n",
    "\n",
    "contours_test_rp = pad_contours(ger_test[\"contour\"], max_length, padding=\"right\")\n",
    "contours_test_lp = pad_contours(ger_test[\"contour\"], max_length, padding=\"left\")\n",
    "contours_test_bp = pad_contours(ger_test[\"contour\"], max_length, padding=\"both\")"
   ]
  },
  {
   "cell_type": "code",
   "execution_count": 12,
   "metadata": {},
   "outputs": [],
   "source": [
    "contours_train_rp_df = pd.DataFrame(contours_train_rp)\n",
    "contours_train_lp_df = pd.DataFrame(contours_train_lp)\n",
    "contours_train_bp_df = pd.DataFrame(contours_train_bp)"
   ]
  },
  {
   "cell_type": "code",
   "execution_count": 13,
   "metadata": {},
   "outputs": [
    {
     "name": "stdout",
     "output_type": "stream",
     "text": [
      "right\n"
     ]
    },
    {
     "data": {
      "image/png": "[encoded data removed]",
      "text/plain": [
       "<Figure size 2000x400 with 5 Axes>"
      ]
     },
     "metadata": {},
     "output_type": "display_data"
    },
    {
     "name": "stdout",
     "output_type": "stream",
     "text": [
      "left\n"
     ]
    },
    {
     "data": {
      "image/png": "[encoded data removed]",
      "text/plain": [
       "<Figure size 2000x400 with 5 Axes>"
      ]
     },
     "metadata": {},
     "output_type": "display_data"
    },
    {
     "name": "stdout",
     "output_type": "stream",
     "text": [
      "both\n"
     ]
    },
    {
     "data": {
      "image/png": "[encoded data removed]",
      "text/plain": [
       "<Figure size 2000x400 with 5 Axes>"
      ]
     },
     "metadata": {},
     "output_type": "display_data"
    }
   ],
   "source": [
    "# visualize the padded contours side by side with subplots\n",
    "def plot_contours(contours, labels, length, padding=\"both\"):\n",
    "    fig, axs = plt.subplots(1, 5, figsize=(20, 4))\n",
    "    print(padding)\n",
    "\n",
    "    for i in range(5):\n",
    "        r = random.randint(0, len(contours)-1)\n",
    "        z = i + 100\n",
    "        axs[i].plot(contours[z])\n",
    "        axs[i].set_title(\"Label: \" + str(labels[z]))\n",
    "\n",
    "\n",
    "        if padding == \"left\":\n",
    "            axs[i].set_xlim(0, length)\n",
    "\n",
    "        elif padding == \"right\":\n",
    "            axs[i].set_xlim(0, length)\n",
    "\n",
    "        elif padding == \"both\":\n",
    "            axs[i].set_xlim(0, length)\n",
    "    plt.show()\n",
    "\n",
    "plot_contours(contours_train_rp, ger_train_labels, max_length, padding=\"right\")\n",
    "plot_contours(contours_train_lp, ger_train_labels, max_length, padding=\"left\")\n",
    "plot_contours(contours_train_bp, ger_train_labels, max_length, padding=\"both\")"
   ]
  },
  {
   "attachments": {},
   "cell_type": "markdown",
   "metadata": {},
   "source": [
    "## Basic DNN Model"
   ]
  },
  {
   "cell_type": "code",
   "execution_count": 14,
   "metadata": {},
   "outputs": [
    {
     "name": "stdout",
     "output_type": "stream",
     "text": [
      "WARNING:tensorflow:From C:\\Users\\abhay\\AppData\\Local\\Packages\\PythonSoftwareFoundation.Python.3.10_qbz5n2kfra8p0\\LocalCache\\local-packages\\Python310\\site-packages\\keras\\src\\backend.py:873: The name tf.get_default_graph is deprecated. Please use tf.compat.v1.get_default_graph instead.\n",
      "\n"
     ]
    }
   ],
   "source": [
    "model = Sequential()\n",
    "model.add(Dense(64, input_dim=max_length, activation='relu'))\n",
    "model.add(Dense(128, activation='relu'))\n",
    "model.add(Dense(256, activation='relu'))\n",
    "model.add(Dense(512, activation='relu'))\n",
    "model.add(Dense(256, activation='relu'))\n",
    "model.add(Dropout(0.2))\n",
    "model.add(Dense(1, activation='sigmoid'))"
   ]
  },
  {
   "cell_type": "code",
   "execution_count": 15,
   "metadata": {},
   "outputs": [
    {
     "name": "stdout",
     "output_type": "stream",
     "text": [
      "Model: \"sequential\"\n",
      "_________________________________________________________________\n",
      " Layer (type)                Output Shape              Param #   \n",
      "=================================================================\n",
      " dense (Dense)               (None, 64)                18304     \n",
      "                                                                 \n",
      " dense_1 (Dense)             (None, 128)               8320      \n",
      "                                                                 \n",
      " dense_2 (Dense)             (None, 256)               33024     \n",
      "                                                                 \n",
      " dense_3 (Dense)             (None, 512)               131584    \n",
      "                                                                 \n",
      " dense_4 (Dense)             (None, 256)               131328    \n",
      "                                                                 \n",
      " dropout (Dropout)           (None, 256)               0         \n",
      "                                                                 \n",
      " dense_5 (Dense)             (None, 1)                 257       \n",
      "                                                                 \n",
      "=================================================================\n",
      "Total params: 322817 (1.23 MB)\n",
      "Trainable params: 322817 (1.23 MB)\n",
      "Non-trainable params: 0 (0.00 Byte)\n",
      "_________________________________________________________________\n"
     ]
    }
   ],
   "source": [
    "model.summary()"
   ]
  },
  {
   "cell_type": "code",
   "execution_count": 16,
   "metadata": {},
   "outputs": [
    {
     "name": "stdout",
     "output_type": "stream",
     "text": [
      "WARNING:tensorflow:From C:\\Users\\abhay\\AppData\\Local\\Packages\\PythonSoftwareFoundation.Python.3.10_qbz5n2kfra8p0\\LocalCache\\local-packages\\Python310\\site-packages\\keras\\src\\optimizers\\__init__.py:309: The name tf.train.Optimizer is deprecated. Please use tf.compat.v1.train.Optimizer instead.\n",
      "\n",
      "Epoch 1/40\n",
      "WARNING:tensorflow:From C:\\Users\\abhay\\AppData\\Local\\Packages\\PythonSoftwareFoundation.Python.3.10_qbz5n2kfra8p0\\LocalCache\\local-packages\\Python310\\site-packages\\keras\\src\\utils\\tf_utils.py:492: The name tf.ragged.RaggedTensorValue is deprecated. Please use tf.compat.v1.ragged.RaggedTensorValue instead.\n",
      "\n",
      "WARNING:tensorflow:From C:\\Users\\abhay\\AppData\\Local\\Packages\\PythonSoftwareFoundation.Python.3.10_qbz5n2kfra8p0\\LocalCache\\local-packages\\Python310\\site-packages\\keras\\src\\engine\\base_layer_utils.py:384: The name tf.executing_eagerly_outside_functions is deprecated. Please use tf.compat.v1.executing_eagerly_outside_functions instead.\n",
      "\n",
      "1372/1372 [==============================] - 9s 5ms/step - loss: 0.4660 - accuracy: 0.7886 - val_loss: 0.4536 - val_accuracy: 0.8164\n",
      "Epoch 2/40\n",
      "1372/1372 [==============================] - 7s 5ms/step - loss: 0.4312 - accuracy: 0.8116 - val_loss: 0.4211 - val_accuracy: 0.8238\n",
      "Epoch 3/40\n",
      "1372/1372 [==============================] - 7s 5ms/step - loss: 0.4232 - accuracy: 0.8166 - val_loss: 0.4208 - val_accuracy: 0.8279\n",
      "Epoch 4/40\n",
      "1372/1372 [==============================] - 7s 5ms/step - loss: 0.4104 - accuracy: 0.8214 - val_loss: 0.4075 - val_accuracy: 0.8262\n",
      "Epoch 5/40\n",
      "1372/1372 [==============================] - 7s 5ms/step - loss: 0.4023 - accuracy: 0.8272 - val_loss: 0.3916 - val_accuracy: 0.8320\n",
      "Epoch 6/40\n",
      "1372/1372 [==============================] - 7s 5ms/step - loss: 0.3945 - accuracy: 0.8282 - val_loss: 0.4098 - val_accuracy: 0.8320\n",
      "Epoch 7/40\n",
      "1372/1372 [==============================] - 6s 5ms/step - loss: 0.3924 - accuracy: 0.8315 - val_loss: 0.3828 - val_accuracy: 0.8336\n",
      "Epoch 8/40\n",
      "1372/1372 [==============================] - 7s 5ms/step - loss: 0.3860 - accuracy: 0.8353 - val_loss: 0.4157 - val_accuracy: 0.8139\n",
      "Epoch 9/40\n",
      "1372/1372 [==============================] - 7s 5ms/step - loss: 0.3811 - accuracy: 0.8377 - val_loss: 0.3900 - val_accuracy: 0.8361\n",
      "Epoch 10/40\n",
      "1372/1372 [==============================] - 7s 5ms/step - loss: 0.3793 - accuracy: 0.8345 - val_loss: 0.4092 - val_accuracy: 0.8139\n",
      "Epoch 11/40\n",
      "1372/1372 [==============================] - 7s 5ms/step - loss: 0.3738 - accuracy: 0.8392 - val_loss: 0.3906 - val_accuracy: 0.8402\n",
      "Epoch 12/40\n",
      "1372/1372 [==============================] - 6s 5ms/step - loss: 0.3742 - accuracy: 0.8410 - val_loss: 0.3927 - val_accuracy: 0.8320\n",
      "Epoch 13/40\n",
      "1372/1372 [==============================] - 6s 5ms/step - loss: 0.3716 - accuracy: 0.8410 - val_loss: 0.3858 - val_accuracy: 0.8418\n",
      "Epoch 14/40\n",
      "1372/1372 [==============================] - 7s 5ms/step - loss: 0.3710 - accuracy: 0.8376 - val_loss: 0.3755 - val_accuracy: 0.8402\n",
      "Epoch 15/40\n",
      "1372/1372 [==============================] - 8s 6ms/step - loss: 0.3651 - accuracy: 0.8447 - val_loss: 0.3747 - val_accuracy: 0.8443\n",
      "Epoch 16/40\n",
      "1372/1372 [==============================] - 8s 6ms/step - loss: 0.3601 - accuracy: 0.8470 - val_loss: 0.3864 - val_accuracy: 0.8393\n",
      "Epoch 17/40\n",
      "1372/1372 [==============================] - 9s 7ms/step - loss: 0.3604 - accuracy: 0.8446 - val_loss: 0.3779 - val_accuracy: 0.8385\n",
      "Epoch 18/40\n",
      "1372/1372 [==============================] - 8s 6ms/step - loss: 0.3586 - accuracy: 0.8435 - val_loss: 0.3775 - val_accuracy: 0.8426\n",
      "Epoch 19/40\n",
      "1372/1372 [==============================] - 7s 5ms/step - loss: 0.3552 - accuracy: 0.8467 - val_loss: 0.3722 - val_accuracy: 0.8426\n",
      "Epoch 20/40\n",
      "1372/1372 [==============================] - 7s 5ms/step - loss: 0.3539 - accuracy: 0.8463 - val_loss: 0.3794 - val_accuracy: 0.8434\n",
      "Epoch 21/40\n",
      "1372/1372 [==============================] - 8s 6ms/step - loss: 0.3508 - accuracy: 0.8500 - val_loss: 0.3709 - val_accuracy: 0.8426\n",
      "Epoch 22/40\n",
      "1372/1372 [==============================] - 9s 7ms/step - loss: 0.3526 - accuracy: 0.8494 - val_loss: 0.3723 - val_accuracy: 0.8467\n",
      "Epoch 23/40\n",
      "1372/1372 [==============================] - 9s 7ms/step - loss: 0.3469 - accuracy: 0.8521 - val_loss: 0.3785 - val_accuracy: 0.8426\n",
      "Epoch 24/40\n",
      "1372/1372 [==============================] - 7s 5ms/step - loss: 0.3460 - accuracy: 0.8540 - val_loss: 0.3919 - val_accuracy: 0.8279\n",
      "Epoch 25/40\n",
      "1372/1372 [==============================] - 8s 6ms/step - loss: 0.3573 - accuracy: 0.8523 - val_loss: 0.4059 - val_accuracy: 0.8262\n",
      "Epoch 26/40\n",
      "1372/1372 [==============================] - 9s 7ms/step - loss: 0.3391 - accuracy: 0.8512 - val_loss: 0.3801 - val_accuracy: 0.8418\n",
      "Epoch 27/40\n",
      "1372/1372 [==============================] - 9s 7ms/step - loss: 0.3364 - accuracy: 0.8553 - val_loss: 0.3769 - val_accuracy: 0.8516\n",
      "Epoch 28/40\n",
      "1372/1372 [==============================] - 9s 7ms/step - loss: 0.3367 - accuracy: 0.8599 - val_loss: 0.4106 - val_accuracy: 0.8139\n",
      "Epoch 29/40\n",
      "1372/1372 [==============================] - 9s 6ms/step - loss: 0.3368 - accuracy: 0.8587 - val_loss: 0.3848 - val_accuracy: 0.8443\n",
      "Epoch 30/40\n",
      "1372/1372 [==============================] - 7s 5ms/step - loss: 0.3374 - accuracy: 0.8588 - val_loss: 0.3677 - val_accuracy: 0.8467\n",
      "Epoch 31/40\n",
      "1372/1372 [==============================] - 7s 5ms/step - loss: 0.3318 - accuracy: 0.8601 - val_loss: 0.3750 - val_accuracy: 0.8410\n",
      "Epoch 32/40\n",
      "1372/1372 [==============================] - 7s 5ms/step - loss: 0.3321 - accuracy: 0.8623 - val_loss: 0.3874 - val_accuracy: 0.8443\n",
      "Epoch 33/40\n",
      "1372/1372 [==============================] - 7s 5ms/step - loss: 0.3283 - accuracy: 0.8621 - val_loss: 0.3915 - val_accuracy: 0.8393\n",
      "Epoch 34/40\n",
      "1372/1372 [==============================] - 7s 5ms/step - loss: 0.3287 - accuracy: 0.8623 - val_loss: 0.3775 - val_accuracy: 0.8500\n",
      "Epoch 35/40\n",
      "1372/1372 [==============================] - 7s 5ms/step - loss: 0.3257 - accuracy: 0.8641 - val_loss: 0.3688 - val_accuracy: 0.8516\n",
      "Epoch 36/40\n",
      "1372/1372 [==============================] - 7s 5ms/step - loss: 0.3233 - accuracy: 0.8639 - val_loss: 0.3775 - val_accuracy: 0.8549\n",
      "Epoch 37/40\n",
      "1372/1372 [==============================] - 7s 5ms/step - loss: 0.3191 - accuracy: 0.8672 - val_loss: 0.3935 - val_accuracy: 0.8443\n",
      "Epoch 38/40\n",
      "1372/1372 [==============================] - 7s 5ms/step - loss: 0.3220 - accuracy: 0.8659 - val_loss: 0.3944 - val_accuracy: 0.8410\n",
      "Epoch 39/40\n",
      "1372/1372 [==============================] - 7s 5ms/step - loss: 0.3306 - accuracy: 0.8666 - val_loss: 0.3859 - val_accuracy: 0.8426\n",
      "Epoch 40/40\n",
      "1372/1372 [==============================] - 7s 5ms/step - loss: 0.3188 - accuracy: 0.8690 - val_loss: 0.3900 - val_accuracy: 0.8426\n"
     ]
    },
    {
     "data": {
      "text/plain": [
       "<keras.src.callbacks.History at 0x24f2106a440>"
      ]
     },
     "execution_count": 16,
     "metadata": {},
     "output_type": "execute_result"
    }
   ],
   "source": [
    "model.compile(loss='binary_crossentropy', optimizer='adam', metrics=['accuracy'])\n",
    "model.fit(contours_train_rp, ger_train_labels, batch_size=8, epochs=40, validation_split=0.1)"
   ]
  },
  {
   "cell_type": "code",
   "execution_count": 17,
   "metadata": {},
   "outputs": [],
   "source": [
    "import seaborn as sns\n",
    "from sklearn.metrics import confusion_matrix\n",
    "\n",
    "def results(model, x_test, y_test):\n",
    "    y_pred = model.predict(x_test)\n",
    "    y_pred = np.round(y_pred)\n",
    "    y_pred = y_pred.astype(int)\n",
    "    y_pred = y_pred.flatten()\n",
    "\n",
    "    y_test = np.array(y_test)\n",
    "    y_test = y_test.astype(int)\n",
    "\n",
    "    # in percentage\n",
    "    print(\"Accuracy: \", np.sum(y_pred == y_test)/len(y_test)*100, \"%\")\n",
    "\n",
    "    cm = confusion_matrix(y_test, y_pred)\n",
    "    sns.heatmap(cm, annot=True, fmt='g')\n",
    "\n",
    "    return y_pred"
   ]
  },
  {
   "cell_type": "code",
   "execution_count": 18,
   "metadata": {},
   "outputs": [
    {
     "name": "stdout",
     "output_type": "stream",
     "text": [
      "331/331 [==============================] - 1s 2ms/step\n",
      "Accuracy:  84.28611924785032 %\n"
     ]
    },
    {
     "data": {
      "text/plain": [
       "array([1, 1, 1, ..., 1, 1, 0])"
      ]
     },
     "execution_count": 18,
     "metadata": {},
     "output_type": "execute_result"
    },
    {
     "data": {
      "image/png": "[encoded data removed]",
      "text/plain": [
       "<Figure size 640x480 with 2 Axes>"
      ]
     },
     "metadata": {},
     "output_type": "display_data"
    }
   ],
   "source": [
    "results(model, contours_test_rp, ger_test_labels)"
   ]
  },
  {
   "attachments": {},
   "cell_type": "markdown",
   "metadata": {},
   "source": [
    "# Combine the Datasets"
   ]
  },
  {
   "cell_type": "code",
   "execution_count": 19,
   "metadata": {},
   "outputs": [
    {
     "name": "stdout",
     "output_type": "stream",
     "text": [
      "(22778, 285)\n",
      "(22778,)\n"
     ]
    }
   ],
   "source": [
    "# merge the train and test sets for german\n",
    "contours_merged = np.concatenate((contours_train_rp, contours_test_rp), axis=0)\n",
    "labels_merged = np.concatenate((ger_train_labels, ger_test_labels), axis=0)\n",
    "\n",
    "print(contours_merged.shape)\n",
    "print(labels_merged.shape)"
   ]
  },
  {
   "cell_type": "code",
   "execution_count": 20,
   "metadata": {},
   "outputs": [
    {
     "name": "stdout",
     "output_type": "stream",
     "text": [
      "(22778, 285)\n",
      "(22778,)\n"
     ]
    }
   ],
   "source": [
    "# remove the contours whose max value is 0\n",
    "contours_merged_nonzero = contours_merged[contours_merged.max(axis=1) != 0]\n",
    "labels_merged_nonzero = labels_merged[contours_merged.max(axis=1) != 0]\n",
    "\n",
    "print(contours_merged_nonzero.shape)\n",
    "print(labels_merged_nonzero.shape)  "
   ]
  },
  {
   "cell_type": "code",
   "execution_count": 21,
   "metadata": {},
   "outputs": [
    {
     "data": {
      "text/plain": [
       "(22778, 285)"
      ]
     },
     "execution_count": 21,
     "metadata": {},
     "output_type": "execute_result"
    }
   ],
   "source": [
    "contours_merged_normalized = contours_merged_nonzero / contours_merged_nonzero.max(axis=1)[:,None]\n",
    "contours_merged_nonzero.shape"
   ]
  },
  {
   "cell_type": "code",
   "execution_count": 22,
   "metadata": {},
   "outputs": [
    {
     "data": {
      "text/plain": [
       "array([[0.02056509, 0.02056509, 0.03322696, ..., 0.        , 0.        ,\n",
       "        0.        ],\n",
       "       [0.49618718, 0.49618718, 0.30855722, ..., 0.        , 0.        ,\n",
       "        0.        ],\n",
       "       [0.08576533, 0.08576533, 0.08576533, ..., 0.        , 0.        ,\n",
       "        0.        ],\n",
       "       ...,\n",
       "       [1.        , 1.        , 1.        , ..., 0.        , 0.        ,\n",
       "        0.        ],\n",
       "       [1.        , 1.        , 0.89507442, ..., 0.        , 0.        ,\n",
       "        0.        ],\n",
       "       [0.38546821, 0.2496948 , 0.14544928, ..., 0.        , 0.        ,\n",
       "        0.        ]])"
      ]
     },
     "execution_count": 22,
     "metadata": {},
     "output_type": "execute_result"
    }
   ],
   "source": [
    "contours_merged_normalized"
   ]
  },
  {
   "cell_type": "code",
   "execution_count": 23,
   "metadata": {},
   "outputs": [],
   "source": [
    "# do a train test split\n",
    "contours_train_merged, contours_test_merged, labels_train_merged, labels_test_merged = train_test_split(contours_merged_normalized, labels_merged_nonzero, test_size=0.2, random_state=42)"
   ]
  },
  {
   "cell_type": "code",
   "execution_count": 24,
   "metadata": {},
   "outputs": [
    {
     "name": "stdout",
     "output_type": "stream",
     "text": [
      "(18222, 285)\n",
      "(4556, 285)\n",
      "Train\n",
      "0s:  4400\n",
      "1s:  13822\n",
      "\n",
      "Test\n",
      "0s:  1127\n",
      "1s:  3429\n"
     ]
    }
   ],
   "source": [
    "print(contours_train_merged.shape)\n",
    "print(contours_test_merged.shape)\n",
    "\n",
    "# count 0s and 1s in the train and test sets\n",
    "print(\"Train\")\n",
    "print(\"0s: \", np.sum(labels_train_merged == 0))\n",
    "print(\"1s: \", np.sum(labels_train_merged == 1))\n",
    "\n",
    "print()\n",
    "print(\"Test\")\n",
    "print(\"0s: \", np.sum(labels_test_merged == 0))\n",
    "print(\"1s: \", np.sum(labels_test_merged == 1))"
   ]
  },
  {
   "cell_type": "code",
   "execution_count": 25,
   "metadata": {},
   "outputs": [
    {
     "name": "stdout",
     "output_type": "stream",
     "text": [
      "Class weights:\n",
      "0:    2.07\n",
      "1:    0.66\n"
     ]
    }
   ],
   "source": [
    "# class weights\n",
    "class_weights = compute_class_weight(\"balanced\", classes=[0, 1], y=labels_train_merged)\n",
    "class_weights_dict = dict(enumerate(class_weights))\n",
    "print(\"Class weights:\")\n",
    "for label, weight in class_weights_dict.items():\n",
    "    print(f\"{label}:    {weight:.2f}\")"
   ]
  },
  {
   "cell_type": "code",
   "execution_count": 26,
   "metadata": {},
   "outputs": [],
   "source": [
    "# early stopping\n",
    "early_stopping = EarlyStopping(monitor='val_loss', patience=5)"
   ]
  },
  {
   "cell_type": "code",
   "execution_count": 27,
   "metadata": {},
   "outputs": [
    {
     "name": "stdout",
     "output_type": "stream",
     "text": [
      "Model: \"sequential_1\"\n",
      "_________________________________________________________________\n",
      " Layer (type)                Output Shape              Param #   \n",
      "=================================================================\n",
      " dense_6 (Dense)             (None, 64)                18304     \n",
      "                                                                 \n",
      " dense_7 (Dense)             (None, 128)               8320      \n",
      "                                                                 \n",
      " dense_8 (Dense)             (None, 256)               33024     \n",
      "                                                                 \n",
      " dense_9 (Dense)             (None, 512)               131584    \n",
      "                                                                 \n",
      " dense_10 (Dense)            (None, 256)               131328    \n",
      "                                                                 \n",
      " dense_11 (Dense)            (None, 128)               32896     \n",
      "                                                                 \n",
      " dense_12 (Dense)            (None, 64)                8256      \n",
      "                                                                 \n",
      " dense_13 (Dense)            (None, 1)                 65        \n",
      "                                                                 \n",
      "=================================================================\n",
      "Total params: 363777 (1.39 MB)\n",
      "Trainable params: 363777 (1.39 MB)\n",
      "Non-trainable params: 0 (0.00 Byte)\n",
      "_________________________________________________________________\n"
     ]
    }
   ],
   "source": [
    "# Define the model\n",
    "model = Sequential()\n",
    "model.add(Dense(64, input_dim=max_length, activation='relu'))\n",
    "model.add(Dense(128, activation='relu'))\n",
    "model.add(Dense(256, activation='relu'))\n",
    "model.add(Dense(512, activation='relu'))\n",
    "model.add(Dense(256, activation='relu'))\n",
    "model.add(Dense(128, activation='relu'))\n",
    "model.add(Dense(64, activation='relu'))\n",
    "model.add(Dense(1, activation='sigmoid'))\n",
    "\n",
    "model.summary()"
   ]
  },
  {
   "cell_type": "code",
   "execution_count": 28,
   "metadata": {},
   "outputs": [],
   "source": [
    "# compile with adam optimizer with learning rate 0.0001\n",
    "model.compile(loss='binary_crossentropy', optimizer=Adam(learning_rate=0.0001), metrics=['accuracy'])"
   ]
  },
  {
   "cell_type": "code",
   "execution_count": 30,
   "metadata": {},
   "outputs": [
    {
     "name": "stdout",
     "output_type": "stream",
     "text": [
      "Epoch 1/20\n",
      "7289/7289 [==============================] - 40s 5ms/step - loss: 0.3755 - accuracy: 0.8443 - val_loss: 0.4203 - val_accuracy: 0.8302\n",
      "Epoch 2/20\n",
      "7289/7289 [==============================] - 41s 6ms/step - loss: 0.3682 - accuracy: 0.8480 - val_loss: 0.3989 - val_accuracy: 0.8384\n",
      "Epoch 3/20\n",
      "7289/7289 [==============================] - 41s 6ms/step - loss: 0.3628 - accuracy: 0.8537 - val_loss: 0.4031 - val_accuracy: 0.8370\n",
      "Epoch 4/20\n",
      "7289/7289 [==============================] - 41s 6ms/step - loss: 0.3597 - accuracy: 0.8548 - val_loss: 0.3984 - val_accuracy: 0.8335\n",
      "Epoch 5/20\n",
      "7289/7289 [==============================] - 43s 6ms/step - loss: 0.3554 - accuracy: 0.8556 - val_loss: 0.3992 - val_accuracy: 0.8401\n",
      "Epoch 6/20\n",
      "7289/7289 [==============================] - 41s 6ms/step - loss: 0.3522 - accuracy: 0.8574 - val_loss: 0.3974 - val_accuracy: 0.8436\n",
      "Epoch 7/20\n",
      "7289/7289 [==============================] - 41s 6ms/step - loss: 0.3485 - accuracy: 0.8583 - val_loss: 0.3930 - val_accuracy: 0.8439\n",
      "Epoch 8/20\n",
      "7289/7289 [==============================] - 41s 6ms/step - loss: 0.3464 - accuracy: 0.8615 - val_loss: 0.4244 - val_accuracy: 0.8442\n",
      "Epoch 9/20\n",
      "7289/7289 [==============================] - 42s 6ms/step - loss: 0.3424 - accuracy: 0.8616 - val_loss: 0.4271 - val_accuracy: 0.8321\n",
      "Epoch 10/20\n",
      "7289/7289 [==============================] - 38s 5ms/step - loss: 0.3374 - accuracy: 0.8627 - val_loss: 0.4154 - val_accuracy: 0.8469\n",
      "Epoch 11/20\n",
      "7289/7289 [==============================] - 38s 5ms/step - loss: 0.3354 - accuracy: 0.8650 - val_loss: 0.4078 - val_accuracy: 0.8420\n",
      "Epoch 12/20\n",
      "7289/7289 [==============================] - 37s 5ms/step - loss: 0.3324 - accuracy: 0.8671 - val_loss: 0.4107 - val_accuracy: 0.8557\n"
     ]
    },
    {
     "data": {
      "text/plain": [
       "<keras.src.callbacks.History at 0x24f2e3385b0>"
      ]
     },
     "execution_count": 30,
     "metadata": {},
     "output_type": "execute_result"
    }
   ],
   "source": [
    "model.fit(\n",
    "    contours_train_merged, labels_train_merged,\n",
    "    batch_size=2, epochs=20, validation_split=0.2,\n",
    "    callbacks=[early_stopping]\n",
    ")"
   ]
  },
  {
   "cell_type": "code",
   "execution_count": 31,
   "metadata": {},
   "outputs": [
    {
     "name": "stdout",
     "output_type": "stream",
     "text": [
      "143/143 [==============================] - 0s 2ms/step\n",
      "Accuracy:  85.35996488147498 %\n"
     ]
    },
    {
     "data": {
      "image/png": "[encoded data removed]",
      "text/plain": [
       "<Figure size 640x480 with 2 Axes>"
      ]
     },
     "metadata": {},
     "output_type": "display_data"
    }
   ],
   "source": [
    "ans = results(model, contours_test_merged, labels_test_merged)"
   ]
  },
  {
   "cell_type": "code",
   "execution_count": 32,
   "metadata": {},
   "outputs": [
    {
     "data": {
      "text/plain": [
       "array([0, 1, 0, ..., 1, 1, 1])"
      ]
     },
     "execution_count": 32,
     "metadata": {},
     "output_type": "execute_result"
    }
   ],
   "source": [
    "ans"
   ]
  },
  {
   "cell_type": "code",
   "execution_count": 33,
   "metadata": {},
   "outputs": [
    {
     "data": {
      "text/plain": [
       "285"
      ]
     },
     "execution_count": 33,
     "metadata": {},
     "output_type": "execute_result"
    }
   ],
   "source": [
    "max_length"
   ]
  },
  {
   "attachments": {},
   "cell_type": "markdown",
   "metadata": {},
   "source": [
    "# Augmentation"
   ]
  },
  {
   "cell_type": "code",
   "execution_count": 34,
   "metadata": {},
   "outputs": [
    {
     "data": {
      "text/html": [
       "<div>\n",
       "<style scoped>\n",
       "    .dataframe tbody tr th:only-of-type {\n",
       "        vertical-align: middle;\n",
       "    }\n",
       "\n",
       "    .dataframe tbody tr th {\n",
       "        vertical-align: top;\n",
       "    }\n",
       "\n",
       "    .dataframe thead th {\n",
       "        text-align: right;\n",
       "    }\n",
       "</style>\n",
       "<table border=\"1\" class=\"dataframe\">\n",
       "  <thead>\n",
       "    <tr style=\"text-align: right;\">\n",
       "      <th></th>\n",
       "      <th>chunks</th>\n",
       "      <th>labels</th>\n",
       "    </tr>\n",
       "  </thead>\n",
       "  <tbody>\n",
       "    <tr>\n",
       "      <th>0</th>\n",
       "      <td>[0.01659550862520646, 0.01659550862520646, 0.0...</td>\n",
       "      <td>1</td>\n",
       "    </tr>\n",
       "    <tr>\n",
       "      <th>1</th>\n",
       "      <td>[0.20705475938828283, 0.20705475938828283, 0.1...</td>\n",
       "      <td>1</td>\n",
       "    </tr>\n",
       "    <tr>\n",
       "      <th>2</th>\n",
       "      <td>[0.0853309212266154, 0.0853309212266154, 0.085...</td>\n",
       "      <td>1</td>\n",
       "    </tr>\n",
       "    <tr>\n",
       "      <th>3</th>\n",
       "      <td>[0.017483717247693344, 0.017483717247693344, 0...</td>\n",
       "      <td>1</td>\n",
       "    </tr>\n",
       "    <tr>\n",
       "      <th>4</th>\n",
       "      <td>[0.015928296040650866, 0.015928296040650866, 0...</td>\n",
       "      <td>1</td>\n",
       "    </tr>\n",
       "    <tr>\n",
       "      <th>...</th>\n",
       "      <td>...</td>\n",
       "      <td>...</td>\n",
       "    </tr>\n",
       "    <tr>\n",
       "      <th>12190</th>\n",
       "      <td>[0.36702525527922875, 0.36702525527922875, 0.3...</td>\n",
       "      <td>1</td>\n",
       "    </tr>\n",
       "    <tr>\n",
       "      <th>12191</th>\n",
       "      <td>[0.06277111831880124, 0.06277111831880124, 0.0...</td>\n",
       "      <td>1</td>\n",
       "    </tr>\n",
       "    <tr>\n",
       "      <th>12192</th>\n",
       "      <td>[0.28230350823965955, 0.28230350823965955, 0.2...</td>\n",
       "      <td>1</td>\n",
       "    </tr>\n",
       "    <tr>\n",
       "      <th>12193</th>\n",
       "      <td>[0.24910009552447568, 0.24910009552447568, 0.2...</td>\n",
       "      <td>1</td>\n",
       "    </tr>\n",
       "    <tr>\n",
       "      <th>12194</th>\n",
       "      <td>[0.12609668108774758, 0.07950427159330224, 0.0...</td>\n",
       "      <td>0</td>\n",
       "    </tr>\n",
       "  </tbody>\n",
       "</table>\n",
       "<p>12195 rows × 2 columns</p>\n",
       "</div>"
      ],
      "text/plain": [
       "                                                  chunks  labels\n",
       "0      [0.01659550862520646, 0.01659550862520646, 0.0...       1\n",
       "1      [0.20705475938828283, 0.20705475938828283, 0.1...       1\n",
       "2      [0.0853309212266154, 0.0853309212266154, 0.085...       1\n",
       "3      [0.017483717247693344, 0.017483717247693344, 0...       1\n",
       "4      [0.015928296040650866, 0.015928296040650866, 0...       1\n",
       "...                                                  ...     ...\n",
       "12190  [0.36702525527922875, 0.36702525527922875, 0.3...       1\n",
       "12191  [0.06277111831880124, 0.06277111831880124, 0.0...       1\n",
       "12192  [0.28230350823965955, 0.28230350823965955, 0.2...       1\n",
       "12193  [0.24910009552447568, 0.24910009552447568, 0.2...       1\n",
       "12194  [0.12609668108774758, 0.07950427159330224, 0.0...       0\n",
       "\n",
       "[12195 rows x 2 columns]"
      ]
     },
     "execution_count": 34,
     "metadata": {},
     "output_type": "execute_result"
    }
   ],
   "source": [
    "ger_train"
   ]
  },
  {
   "cell_type": "code",
   "execution_count": 35,
   "metadata": {},
   "outputs": [
    {
     "data": {
      "text/plain": [
       "(12195, 2)"
      ]
     },
     "execution_count": 35,
     "metadata": {},
     "output_type": "execute_result"
    }
   ],
   "source": [
    "ger_train.shape"
   ]
  },
  {
   "cell_type": "code",
   "execution_count": 36,
   "metadata": {},
   "outputs": [],
   "source": [
    "# augment the data\n",
    "def augment(contours, labels, length):\n",
    "    contours_aug = []\n",
    "    labels_aug = []\n",
    "\n",
    "    for i, contour in enumerate(contours):\n",
    "        label = labels[i]\n",
    "\n",
    "        for p in range(0, length - len(contour), 10):\n",
    "            padded_contour = np.pad(contour, (p, length-len(contour) - p), 'constant')\n",
    "            contours_aug.append(padded_contour)\n",
    "            labels_aug.append(label)\n",
    "        clear_output(wait=True)\n",
    "        \n",
    "        \n",
    "        # print progress\n",
    "        if i % 100 == 0:\n",
    "            print(f\"Augmenting contour {i} out of {len(contours)}\")\n",
    "            print(\"Percentage: \", i/len(contours)*100, \"%\")\n",
    "\n",
    "        if i == len(contours) - 1:\n",
    "            print(\"Done\")\n",
    "            return contours_aug, labels_aug"
   ]
  },
  {
   "cell_type": "code",
   "execution_count": 37,
   "metadata": {},
   "outputs": [
    {
     "name": "stdout",
     "output_type": "stream",
     "text": [
      "Done\n"
     ]
    },
    {
     "ename": "KeyboardInterrupt",
     "evalue": "",
     "output_type": "error",
     "traceback": [
      "\u001b[1;31m---------------------------------------------------------------------------\u001b[0m",
      "\u001b[1;31mKeyboardInterrupt\u001b[0m                         Traceback (most recent call last)",
      "Cell \u001b[1;32mIn[37], line 3\u001b[0m\n\u001b[0;32m      1\u001b[0m \u001b[38;5;66;03m# get augmented data\u001b[39;00m\n\u001b[0;32m      2\u001b[0m contours_aug, labels_aug \u001b[38;5;241m=\u001b[39m augment(ger_train[\u001b[38;5;124m\"\u001b[39m\u001b[38;5;124mchunks\u001b[39m\u001b[38;5;124m\"\u001b[39m], ger_train[\u001b[38;5;124m\"\u001b[39m\u001b[38;5;124mlabels\u001b[39m\u001b[38;5;124m\"\u001b[39m], max_length)\n\u001b[1;32m----> 3\u001b[0m \u001b[38;5;28;43mprint\u001b[39;49m\u001b[43m(\u001b[49m\u001b[43mcontours_aug\u001b[49m\u001b[43m)\u001b[49m\n",
      "File \u001b[1;32m~\\AppData\\Local\\Packages\\PythonSoftwareFoundation.Python.3.10_qbz5n2kfra8p0\\LocalCache\\local-packages\\Python310\\site-packages\\numpy\\core\\arrayprint.py:1508\u001b[0m, in \u001b[0;36m_array_repr_implementation\u001b[1;34m(arr, max_line_width, precision, suppress_small, array2string)\u001b[0m\n\u001b[0;32m   1506\u001b[0m     lst \u001b[38;5;241m=\u001b[39m \u001b[38;5;28mrepr\u001b[39m(arr\u001b[38;5;241m.\u001b[39mitem())\n\u001b[0;32m   1507\u001b[0m \u001b[38;5;28;01melif\u001b[39;00m arr\u001b[38;5;241m.\u001b[39msize \u001b[38;5;241m>\u001b[39m \u001b[38;5;241m0\u001b[39m \u001b[38;5;129;01mor\u001b[39;00m arr\u001b[38;5;241m.\u001b[39mshape \u001b[38;5;241m==\u001b[39m (\u001b[38;5;241m0\u001b[39m,):\n\u001b[1;32m-> 1508\u001b[0m     lst \u001b[38;5;241m=\u001b[39m \u001b[43marray2string\u001b[49m\u001b[43m(\u001b[49m\u001b[43marr\u001b[49m\u001b[43m,\u001b[49m\u001b[43m \u001b[49m\u001b[43mmax_line_width\u001b[49m\u001b[43m,\u001b[49m\u001b[43m \u001b[49m\u001b[43mprecision\u001b[49m\u001b[43m,\u001b[49m\u001b[43m \u001b[49m\u001b[43msuppress_small\u001b[49m\u001b[43m,\u001b[49m\n\u001b[0;32m   1509\u001b[0m \u001b[43m                       \u001b[49m\u001b[38;5;124;43m'\u001b[39;49m\u001b[38;5;124;43m, \u001b[39;49m\u001b[38;5;124;43m'\u001b[39;49m\u001b[43m,\u001b[49m\u001b[43m \u001b[49m\u001b[43mprefix\u001b[49m\u001b[43m,\u001b[49m\u001b[43m \u001b[49m\u001b[43msuffix\u001b[49m\u001b[38;5;241;43m=\u001b[39;49m\u001b[43msuffix\u001b[49m\u001b[43m)\u001b[49m\n\u001b[0;32m   1510\u001b[0m \u001b[38;5;28;01melse\u001b[39;00m:  \u001b[38;5;66;03m# show zero-length shape unless it is (0,)\u001b[39;00m\n\u001b[0;32m   1511\u001b[0m     lst \u001b[38;5;241m=\u001b[39m \u001b[38;5;124m\"\u001b[39m\u001b[38;5;124m[], shape=\u001b[39m\u001b[38;5;132;01m%s\u001b[39;00m\u001b[38;5;124m\"\u001b[39m \u001b[38;5;241m%\u001b[39m (\u001b[38;5;28mrepr\u001b[39m(arr\u001b[38;5;241m.\u001b[39mshape),)\n",
      "File \u001b[1;32m~\\AppData\\Local\\Packages\\PythonSoftwareFoundation.Python.3.10_qbz5n2kfra8p0\\LocalCache\\local-packages\\Python310\\site-packages\\numpy\\core\\arrayprint.py:736\u001b[0m, in \u001b[0;36marray2string\u001b[1;34m(a, max_line_width, precision, suppress_small, separator, prefix, style, formatter, threshold, edgeitems, sign, floatmode, suffix, legacy)\u001b[0m\n\u001b[0;32m    733\u001b[0m \u001b[38;5;28;01mif\u001b[39;00m a\u001b[38;5;241m.\u001b[39msize \u001b[38;5;241m==\u001b[39m \u001b[38;5;241m0\u001b[39m:\n\u001b[0;32m    734\u001b[0m     \u001b[38;5;28;01mreturn\u001b[39;00m \u001b[38;5;124m\"\u001b[39m\u001b[38;5;124m[]\u001b[39m\u001b[38;5;124m\"\u001b[39m\n\u001b[1;32m--> 736\u001b[0m \u001b[38;5;28;01mreturn\u001b[39;00m \u001b[43m_array2string\u001b[49m\u001b[43m(\u001b[49m\u001b[43ma\u001b[49m\u001b[43m,\u001b[49m\u001b[43m \u001b[49m\u001b[43moptions\u001b[49m\u001b[43m,\u001b[49m\u001b[43m \u001b[49m\u001b[43mseparator\u001b[49m\u001b[43m,\u001b[49m\u001b[43m \u001b[49m\u001b[43mprefix\u001b[49m\u001b[43m)\u001b[49m\n",
      "File \u001b[1;32m~\\AppData\\Local\\Packages\\PythonSoftwareFoundation.Python.3.10_qbz5n2kfra8p0\\LocalCache\\local-packages\\Python310\\site-packages\\numpy\\core\\arrayprint.py:513\u001b[0m, in \u001b[0;36m_recursive_guard.<locals>.decorating_function.<locals>.wrapper\u001b[1;34m(self, *args, **kwargs)\u001b[0m\n\u001b[0;32m    511\u001b[0m repr_running\u001b[38;5;241m.\u001b[39madd(key)\n\u001b[0;32m    512\u001b[0m \u001b[38;5;28;01mtry\u001b[39;00m:\n\u001b[1;32m--> 513\u001b[0m     \u001b[38;5;28;01mreturn\u001b[39;00m f(\u001b[38;5;28mself\u001b[39m, \u001b[38;5;241m*\u001b[39margs, \u001b[38;5;241m*\u001b[39m\u001b[38;5;241m*\u001b[39mkwargs)\n\u001b[0;32m    514\u001b[0m \u001b[38;5;28;01mfinally\u001b[39;00m:\n\u001b[0;32m    515\u001b[0m     repr_running\u001b[38;5;241m.\u001b[39mdiscard(key)\n",
      "File \u001b[1;32m~\\AppData\\Local\\Packages\\PythonSoftwareFoundation.Python.3.10_qbz5n2kfra8p0\\LocalCache\\local-packages\\Python310\\site-packages\\numpy\\core\\arrayprint.py:546\u001b[0m, in \u001b[0;36m_array2string\u001b[1;34m(a, options, separator, prefix)\u001b[0m\n\u001b[0;32m    543\u001b[0m \u001b[38;5;66;03m# skip over array(\u001b[39;00m\n\u001b[0;32m    544\u001b[0m next_line_prefix \u001b[38;5;241m+\u001b[39m\u001b[38;5;241m=\u001b[39m \u001b[38;5;124m\"\u001b[39m\u001b[38;5;124m \u001b[39m\u001b[38;5;124m\"\u001b[39m\u001b[38;5;241m*\u001b[39m\u001b[38;5;28mlen\u001b[39m(prefix)\n\u001b[1;32m--> 546\u001b[0m lst \u001b[38;5;241m=\u001b[39m \u001b[43m_formatArray\u001b[49m\u001b[43m(\u001b[49m\u001b[43ma\u001b[49m\u001b[43m,\u001b[49m\u001b[43m \u001b[49m\u001b[43mformat_function\u001b[49m\u001b[43m,\u001b[49m\u001b[43m \u001b[49m\u001b[43moptions\u001b[49m\u001b[43m[\u001b[49m\u001b[38;5;124;43m'\u001b[39;49m\u001b[38;5;124;43mlinewidth\u001b[39;49m\u001b[38;5;124;43m'\u001b[39;49m\u001b[43m]\u001b[49m\u001b[43m,\u001b[49m\n\u001b[0;32m    547\u001b[0m \u001b[43m                   \u001b[49m\u001b[43mnext_line_prefix\u001b[49m\u001b[43m,\u001b[49m\u001b[43m \u001b[49m\u001b[43mseparator\u001b[49m\u001b[43m,\u001b[49m\u001b[43m \u001b[49m\u001b[43moptions\u001b[49m\u001b[43m[\u001b[49m\u001b[38;5;124;43m'\u001b[39;49m\u001b[38;5;124;43medgeitems\u001b[39;49m\u001b[38;5;124;43m'\u001b[39;49m\u001b[43m]\u001b[49m\u001b[43m,\u001b[49m\n\u001b[0;32m    548\u001b[0m \u001b[43m                   \u001b[49m\u001b[43msummary_insert\u001b[49m\u001b[43m,\u001b[49m\u001b[43m \u001b[49m\u001b[43moptions\u001b[49m\u001b[43m[\u001b[49m\u001b[38;5;124;43m'\u001b[39;49m\u001b[38;5;124;43mlegacy\u001b[39;49m\u001b[38;5;124;43m'\u001b[39;49m\u001b[43m]\u001b[49m\u001b[43m)\u001b[49m\n\u001b[0;32m    549\u001b[0m \u001b[38;5;28;01mreturn\u001b[39;00m lst\n",
      "File \u001b[1;32m~\\AppData\\Local\\Packages\\PythonSoftwareFoundation.Python.3.10_qbz5n2kfra8p0\\LocalCache\\local-packages\\Python310\\site-packages\\numpy\\core\\arrayprint.py:889\u001b[0m, in \u001b[0;36m_formatArray\u001b[1;34m(a, format_function, line_width, next_line_prefix, separator, edge_items, summary_insert, legacy)\u001b[0m\n\u001b[0;32m    885\u001b[0m     \u001b[38;5;28;01mreturn\u001b[39;00m s\n\u001b[0;32m    887\u001b[0m \u001b[38;5;28;01mtry\u001b[39;00m:\n\u001b[0;32m    888\u001b[0m     \u001b[38;5;66;03m# invoke the recursive part with an initial index and prefix\u001b[39;00m\n\u001b[1;32m--> 889\u001b[0m     \u001b[38;5;28;01mreturn\u001b[39;00m \u001b[43mrecurser\u001b[49m\u001b[43m(\u001b[49m\u001b[43mindex\u001b[49m\u001b[38;5;241;43m=\u001b[39;49m\u001b[43m(\u001b[49m\u001b[43m)\u001b[49m\u001b[43m,\u001b[49m\n\u001b[0;32m    890\u001b[0m \u001b[43m                    \u001b[49m\u001b[43mhanging_indent\u001b[49m\u001b[38;5;241;43m=\u001b[39;49m\u001b[43mnext_line_prefix\u001b[49m\u001b[43m,\u001b[49m\n\u001b[0;32m    891\u001b[0m \u001b[43m                    \u001b[49m\u001b[43mcurr_width\u001b[49m\u001b[38;5;241;43m=\u001b[39;49m\u001b[43mline_width\u001b[49m\u001b[43m)\u001b[49m\n\u001b[0;32m    892\u001b[0m \u001b[38;5;28;01mfinally\u001b[39;00m:\n\u001b[0;32m    893\u001b[0m     \u001b[38;5;66;03m# recursive closures have a cyclic reference to themselves, which\u001b[39;00m\n\u001b[0;32m    894\u001b[0m     \u001b[38;5;66;03m# requires gc to collect (gh-10620). To avoid this problem, for\u001b[39;00m\n\u001b[0;32m    895\u001b[0m     \u001b[38;5;66;03m# performance and PyPy friendliness, we break the cycle:\u001b[39;00m\n\u001b[0;32m    896\u001b[0m     recurser \u001b[38;5;241m=\u001b[39m \u001b[38;5;28;01mNone\u001b[39;00m\n",
      "File \u001b[1;32m~\\AppData\\Local\\Packages\\PythonSoftwareFoundation.Python.3.10_qbz5n2kfra8p0\\LocalCache\\local-packages\\Python310\\site-packages\\numpy\\core\\arrayprint.py:846\u001b[0m, in \u001b[0;36m_formatArray.<locals>.recurser\u001b[1;34m(index, hanging_indent, curr_width)\u001b[0m\n\u001b[0;32m    844\u001b[0m \u001b[38;5;28;01mfor\u001b[39;00m i \u001b[38;5;129;01min\u001b[39;00m \u001b[38;5;28mrange\u001b[39m(trailing_items, \u001b[38;5;241m1\u001b[39m, \u001b[38;5;241m-\u001b[39m\u001b[38;5;241m1\u001b[39m):\n\u001b[0;32m    845\u001b[0m     word \u001b[38;5;241m=\u001b[39m recurser(index \u001b[38;5;241m+\u001b[39m (\u001b[38;5;241m-\u001b[39mi,), next_hanging_indent, next_width)\n\u001b[1;32m--> 846\u001b[0m     s, line \u001b[38;5;241m=\u001b[39m \u001b[43m_extendLine_pretty\u001b[49m\u001b[43m(\u001b[49m\n\u001b[0;32m    847\u001b[0m \u001b[43m        \u001b[49m\u001b[43ms\u001b[49m\u001b[43m,\u001b[49m\u001b[43m \u001b[49m\u001b[43mline\u001b[49m\u001b[43m,\u001b[49m\u001b[43m \u001b[49m\u001b[43mword\u001b[49m\u001b[43m,\u001b[49m\u001b[43m \u001b[49m\u001b[43melem_width\u001b[49m\u001b[43m,\u001b[49m\u001b[43m \u001b[49m\u001b[43mhanging_indent\u001b[49m\u001b[43m,\u001b[49m\u001b[43m \u001b[49m\u001b[43mlegacy\u001b[49m\u001b[43m)\u001b[49m\n\u001b[0;32m    848\u001b[0m     line \u001b[38;5;241m+\u001b[39m\u001b[38;5;241m=\u001b[39m separator\n\u001b[0;32m    850\u001b[0m \u001b[38;5;28;01mif\u001b[39;00m legacy \u001b[38;5;241m<\u001b[39m\u001b[38;5;241m=\u001b[39m \u001b[38;5;241m113\u001b[39m:\n\u001b[0;32m    851\u001b[0m     \u001b[38;5;66;03m# width of the separator is not considered on 1.13\u001b[39;00m\n",
      "File \u001b[1;32m~\\AppData\\Local\\Packages\\PythonSoftwareFoundation.Python.3.10_qbz5n2kfra8p0\\LocalCache\\local-packages\\Python310\\site-packages\\numpy\\core\\arrayprint.py:757\u001b[0m, in \u001b[0;36m_extendLine_pretty\u001b[1;34m(s, line, word, line_width, next_line_prefix, legacy)\u001b[0m\n\u001b[0;32m    753\u001b[0m \u001b[38;5;28;01mdef\u001b[39;00m \u001b[38;5;21m_extendLine_pretty\u001b[39m(s, line, word, line_width, next_line_prefix, legacy):\n\u001b[0;32m    754\u001b[0m \u001b[38;5;250m    \u001b[39m\u001b[38;5;124;03m\"\"\"\u001b[39;00m\n\u001b[0;32m    755\u001b[0m \u001b[38;5;124;03m    Extends line with nicely formatted (possibly multi-line) string ``word``.\u001b[39;00m\n\u001b[0;32m    756\u001b[0m \u001b[38;5;124;03m    \"\"\"\u001b[39;00m\n\u001b[1;32m--> 757\u001b[0m     words \u001b[38;5;241m=\u001b[39m \u001b[43mword\u001b[49m\u001b[38;5;241;43m.\u001b[39;49m\u001b[43msplitlines\u001b[49m\u001b[43m(\u001b[49m\u001b[43m)\u001b[49m\n\u001b[0;32m    758\u001b[0m     \u001b[38;5;28;01mif\u001b[39;00m \u001b[38;5;28mlen\u001b[39m(words) \u001b[38;5;241m==\u001b[39m \u001b[38;5;241m1\u001b[39m \u001b[38;5;129;01mor\u001b[39;00m legacy \u001b[38;5;241m<\u001b[39m\u001b[38;5;241m=\u001b[39m \u001b[38;5;241m113\u001b[39m:\n\u001b[0;32m    759\u001b[0m         \u001b[38;5;28;01mreturn\u001b[39;00m _extendLine(s, line, word, line_width, next_line_prefix, legacy)\n",
      "\u001b[1;31mKeyboardInterrupt\u001b[0m: "
     ]
    }
   ],
   "source": [
    "# get augmented data\n",
    "contours_aug, labels_aug = augment(ger_train[\"chunks\"], ger_train[\"labels\"], max_length)\n",
    "print(contours_aug)"
   ]
  },
  {
   "cell_type": "code",
   "execution_count": 38,
   "metadata": {},
   "outputs": [],
   "source": [
    "# convert to numpy arrays\n",
    "contours_aug = np.array(contours_aug)\n",
    "labels_aug = np.array(labels_aug)"
   ]
  },
  {
   "cell_type": "code",
   "execution_count": 39,
   "metadata": {},
   "outputs": [
    {
     "data": {
      "text/plain": [
       "(322196, 285)"
      ]
     },
     "execution_count": 39,
     "metadata": {},
     "output_type": "execute_result"
    }
   ],
   "source": [
    "contours_aug.shape"
   ]
  },
  {
   "cell_type": "code",
   "execution_count": 40,
   "metadata": {},
   "outputs": [
    {
     "name": "stdout",
     "output_type": "stream",
     "text": [
      "79509\n",
      "242687\n"
     ]
    }
   ],
   "source": [
    "zeros_aug = np.count_nonzero(labels_aug == 0)\n",
    "ones_aug = np.count_nonzero(labels_aug == 1)\n",
    "\n",
    "print(zeros_aug)\n",
    "print(ones_aug)"
   ]
  },
  {
   "cell_type": "code",
   "execution_count": 41,
   "metadata": {},
   "outputs": [],
   "source": [
    "N = 160000\n",
    "indices_to_drop = np.where(labels_aug == 1)[0][:N]\n",
    "\n",
    "filtered_contours_aug = np.delete(contours_aug, indices_to_drop, axis=0)\n",
    "filtered_labels_aug = np.delete(labels_aug, indices_to_drop)"
   ]
  },
  {
   "cell_type": "code",
   "execution_count": 42,
   "metadata": {},
   "outputs": [
    {
     "name": "stdout",
     "output_type": "stream",
     "text": [
      "79509\n",
      "82687\n"
     ]
    }
   ],
   "source": [
    "zeros_aug = np.count_nonzero(labels_aug == 0)\n",
    "ones_aug = np.count_nonzero(filtered_labels_aug == 1)\n",
    "\n",
    "print(zeros_aug)\n",
    "print(ones_aug)"
   ]
  },
  {
   "cell_type": "code",
   "execution_count": 43,
   "metadata": {},
   "outputs": [],
   "source": [
    "# visualize the padded contours side by side with subplots\n",
    "def plot_contours(contours, labels, length, padding=\"both\"):\n",
    "    fig, axs = plt.subplots(1, 5, figsize=(20, 4))\n",
    "    print(padding)\n",
    "\n",
    "    for i in range(5):\n",
    "        r = random.randint(0, len(contours)-1)\n",
    "        z = i * 3\n",
    "        axs[i].plot(contours[z])\n",
    "        axs[i].set_title(\"Label: \" + str(labels[z]))\n",
    "\n",
    "\n",
    "        if padding == \"left\":\n",
    "            axs[i].set_xlim(0, length)\n",
    "\n",
    "        elif padding == \"right\":\n",
    "            axs[i].set_xlim(0, length)\n",
    "\n",
    "        elif padding == \"both\":\n",
    "            axs[i].set_xlim(0, length)\n",
    "    plt.show()"
   ]
  },
  {
   "cell_type": "code",
   "execution_count": 44,
   "metadata": {},
   "outputs": [
    {
     "name": "stdout",
     "output_type": "stream",
     "text": [
      "both\n"
     ]
    },
    {
     "data": {
      "image/png": "[encoded data removed]",
      "text/plain": [
       "<Figure size 2000x400 with 5 Axes>"
      ]
     },
     "metadata": {},
     "output_type": "display_data"
    }
   ],
   "source": [
    "plot_contours(filtered_contours_aug, filtered_labels_aug, max_length)"
   ]
  },
  {
   "cell_type": "code",
   "execution_count": 45,
   "metadata": {},
   "outputs": [
    {
     "name": "stdout",
     "output_type": "stream",
     "text": [
      "(162196, 285)\n",
      "(162196,)\n"
     ]
    }
   ],
   "source": [
    "print(filtered_contours_aug.shape)\n",
    "print(filtered_labels_aug.shape)"
   ]
  },
  {
   "attachments": {},
   "cell_type": "markdown",
   "metadata": {},
   "source": [
    "# Augmented Contours Skewed"
   ]
  },
  {
   "cell_type": "code",
   "execution_count": 46,
   "metadata": {},
   "outputs": [
    {
     "name": "stdout",
     "output_type": "stream",
     "text": [
      "Model: \"sequential_2\"\n",
      "_________________________________________________________________\n",
      " Layer (type)                Output Shape              Param #   \n",
      "=================================================================\n",
      " dense_14 (Dense)            (None, 128)               36608     \n",
      "                                                                 \n",
      " dense_15 (Dense)            (None, 64)                8256      \n",
      "                                                                 \n",
      " dense_16 (Dense)            (None, 1)                 65        \n",
      "                                                                 \n",
      "=================================================================\n",
      "Total params: 44929 (175.50 KB)\n",
      "Trainable params: 44929 (175.50 KB)\n",
      "Non-trainable params: 0 (0.00 Byte)\n",
      "_________________________________________________________________\n"
     ]
    }
   ],
   "source": [
    "# Define the input shape\n",
    "input_shape = (285,)\n",
    "\n",
    "# Define the model\n",
    "model = Sequential()\n",
    "model.add(Dense(128, activation='relu', input_shape=input_shape))\n",
    "model.add(Dense(64, activation='relu'))\n",
    "model.add(Dense(1, activation='sigmoid'))\n",
    "\n",
    "model.summary()"
   ]
  },
  {
   "cell_type": "code",
   "execution_count": 47,
   "metadata": {},
   "outputs": [],
   "source": [
    "# Compile the model\n",
    "model.compile(optimizer='adam', loss='binary_crossentropy', metrics=['accuracy'])"
   ]
  },
  {
   "cell_type": "code",
   "execution_count": 50,
   "metadata": {},
   "outputs": [
    {
     "name": "stdout",
     "output_type": "stream",
     "text": [
      "Epoch 1/10\n",
      "16110/16110 [==============================] - 43s 3ms/step - loss: 0.4198 - accuracy: 0.8149 - val_loss: 0.4218 - val_accuracy: 0.8143\n",
      "Epoch 2/10\n",
      "16110/16110 [==============================] - 45s 3ms/step - loss: 0.4133 - accuracy: 0.8183 - val_loss: 0.4187 - val_accuracy: 0.8187\n",
      "Epoch 3/10\n",
      "16110/16110 [==============================] - 48s 3ms/step - loss: 0.4070 - accuracy: 0.8223 - val_loss: 0.4073 - val_accuracy: 0.8224\n",
      "Epoch 4/10\n",
      "16110/16110 [==============================] - 49s 3ms/step - loss: 0.4020 - accuracy: 0.8248 - val_loss: 0.4036 - val_accuracy: 0.8240\n",
      "Epoch 5/10\n",
      "16110/16110 [==============================] - 48s 3ms/step - loss: 0.3980 - accuracy: 0.8275 - val_loss: 0.4008 - val_accuracy: 0.8254\n",
      "Epoch 6/10\n",
      "16110/16110 [==============================] - 48s 3ms/step - loss: 0.3943 - accuracy: 0.8290 - val_loss: 0.3979 - val_accuracy: 0.8275\n",
      "Epoch 7/10\n",
      "16110/16110 [==============================] - 48s 3ms/step - loss: 0.3912 - accuracy: 0.8309 - val_loss: 0.3937 - val_accuracy: 0.8293\n",
      "Epoch 8/10\n",
      "16110/16110 [==============================] - 48s 3ms/step - loss: 0.3890 - accuracy: 0.8325 - val_loss: 0.3969 - val_accuracy: 0.8290\n",
      "Epoch 9/10\n",
      "16110/16110 [==============================] - 49s 3ms/step - loss: 0.3869 - accuracy: 0.8339 - val_loss: 0.3949 - val_accuracy: 0.8311\n",
      "Epoch 10/10\n",
      "16110/16110 [==============================] - 48s 3ms/step - loss: 0.3850 - accuracy: 0.8353 - val_loss: 0.3921 - val_accuracy: 0.8301\n"
     ]
    },
    {
     "data": {
      "text/plain": [
       "<keras.src.callbacks.History at 0x24f36bd1810>"
      ]
     },
     "execution_count": 50,
     "metadata": {},
     "output_type": "execute_result"
    }
   ],
   "source": [
    "model.fit(contours_aug, labels_aug, epochs=10, batch_size=16, validation_split=0.2)"
   ]
  },
  {
   "cell_type": "code",
   "execution_count": 51,
   "metadata": {},
   "outputs": [
    {
     "name": "stdout",
     "output_type": "stream",
     "text": [
      "10069/10069 [==============================] - 14s 1ms/step\n",
      "Accuracy:  83.49265664378206 %\n"
     ]
    },
    {
     "data": {
      "text/plain": [
       "array([1, 1, 1, ..., 0, 0, 0])"
      ]
     },
     "execution_count": 51,
     "metadata": {},
     "output_type": "execute_result"
    },
    {
     "data": {
      "image/png": "[encoded data removed]",
      "text/plain": [
       "<Figure size 640x480 with 2 Axes>"
      ]
     },
     "metadata": {},
     "output_type": "display_data"
    }
   ],
   "source": [
    "results(model, contours_aug, labels_aug)"
   ]
  },
  {
   "attachments": {},
   "cell_type": "markdown",
   "metadata": {},
   "source": [
    "# Augmented Contours Balanced"
   ]
  },
  {
   "cell_type": "code",
   "execution_count": 52,
   "metadata": {},
   "outputs": [
    {
     "name": "stdout",
     "output_type": "stream",
     "text": [
      "Model: \"sequential_3\"\n",
      "_________________________________________________________________\n",
      " Layer (type)                Output Shape              Param #   \n",
      "=================================================================\n",
      " dense_17 (Dense)            (None, 128)               36608     \n",
      "                                                                 \n",
      " dense_18 (Dense)            (None, 64)                8256      \n",
      "                                                                 \n",
      " dense_19 (Dense)            (None, 1)                 65        \n",
      "                                                                 \n",
      "=================================================================\n",
      "Total params: 44929 (175.50 KB)\n",
      "Trainable params: 44929 (175.50 KB)\n",
      "Non-trainable params: 0 (0.00 Byte)\n",
      "_________________________________________________________________\n"
     ]
    }
   ],
   "source": [
    "# Define the input shape\n",
    "input_shape = (285,)\n",
    "\n",
    "# Define the model\n",
    "model = Sequential()\n",
    "model.add(Dense(128, activation='relu', input_shape=input_shape))\n",
    "model.add(Dense(64, activation='relu'))\n",
    "model.add(Dense(1, activation='sigmoid'))\n",
    "\n",
    "model.summary()"
   ]
  },
  {
   "cell_type": "code",
   "execution_count": 53,
   "metadata": {},
   "outputs": [],
   "source": [
    "# Compile the model\n",
    "model.compile(optimizer='adam', loss='binary_crossentropy', metrics=['accuracy'])"
   ]
  },
  {
   "cell_type": "code",
   "execution_count": 54,
   "metadata": {},
   "outputs": [
    {
     "name": "stdout",
     "output_type": "stream",
     "text": [
      "Epoch 1/10\n",
      "16220/16220 [==============================] - 40s 2ms/step - loss: 0.5509 - accuracy: 0.7224 - val_loss: 0.6923 - val_accuracy: 0.6490\n",
      "Epoch 2/10\n",
      "16220/16220 [==============================] - 38s 2ms/step - loss: 0.5128 - accuracy: 0.7535 - val_loss: 0.6046 - val_accuracy: 0.7003\n",
      "Epoch 3/10\n",
      "16220/16220 [==============================] - 42s 3ms/step - loss: 0.5009 - accuracy: 0.7607 - val_loss: 0.7070 - val_accuracy: 0.6505\n",
      "Epoch 4/10\n",
      "16220/16220 [==============================] - 42s 3ms/step - loss: 0.4938 - accuracy: 0.7636 - val_loss: 0.6822 - val_accuracy: 0.6502\n",
      "Epoch 5/10\n",
      "16220/16220 [==============================] - 42s 3ms/step - loss: 0.4869 - accuracy: 0.7681 - val_loss: 0.6607 - val_accuracy: 0.6701\n",
      "Epoch 6/10\n",
      "16220/16220 [==============================] - 42s 3ms/step - loss: 0.4815 - accuracy: 0.7703 - val_loss: 0.6035 - val_accuracy: 0.6962\n",
      "Epoch 7/10\n",
      "16220/16220 [==============================] - 43s 3ms/step - loss: 0.4760 - accuracy: 0.7730 - val_loss: 0.6349 - val_accuracy: 0.6691\n",
      "Epoch 8/10\n",
      "16220/16220 [==============================] - 42s 3ms/step - loss: 0.4713 - accuracy: 0.7756 - val_loss: 0.6291 - val_accuracy: 0.6824\n",
      "Epoch 9/10\n",
      "16220/16220 [==============================] - 43s 3ms/step - loss: 0.4673 - accuracy: 0.7780 - val_loss: 0.6002 - val_accuracy: 0.6884\n",
      "Epoch 10/10\n",
      "16220/16220 [==============================] - 42s 3ms/step - loss: 0.4630 - accuracy: 0.7786 - val_loss: 0.5922 - val_accuracy: 0.7001\n"
     ]
    },
    {
     "data": {
      "text/plain": [
       "<keras.src.callbacks.History at 0x24fa934a3e0>"
      ]
     },
     "execution_count": 54,
     "metadata": {},
     "output_type": "execute_result"
    }
   ],
   "source": [
    "model.fit(filtered_contours_aug, filtered_labels_aug, epochs=10, batch_size=8, validation_split=0.2)"
   ]
  },
  {
   "cell_type": "code",
   "execution_count": 55,
   "metadata": {},
   "outputs": [
    {
     "name": "stdout",
     "output_type": "stream",
     "text": [
      "10069/10069 [==============================] - 17s 2ms/step\n",
      "Accuracy:  72.42610088269252 %\n"
     ]
    },
    {
     "data": {
      "text/plain": [
       "array([1, 1, 1, ..., 0, 0, 0])"
      ]
     },
     "execution_count": 55,
     "metadata": {},
     "output_type": "execute_result"
    },
    {
     "data": {
      "image/png": "[encoded data removed]",
      "text/plain": [
       "<Figure size 640x480 with 2 Axes>"
      ]
     },
     "metadata": {},
     "output_type": "display_data"
    }
   ],
   "source": [
    "results(model, contours_aug, labels_aug)    "
   ]
  },
  {
   "attachments": {},
   "cell_type": "markdown",
   "metadata": {},
   "source": [
    "# Merging CNN and DNN"
   ]
  },
  {
   "cell_type": "code",
   "execution_count": 56,
   "metadata": {},
   "outputs": [],
   "source": [
    "# Define the input shapes\n",
    "input_shape1 = (138, 1)\n",
    "input_shape2 = (1,)\n",
    "\n",
    "# Define the input layers\n",
    "input1 = Input(shape=input_shape1)\n",
    "input2 = Input(shape=input_shape2)\n"
   ]
  },
  {
   "cell_type": "code",
   "execution_count": 57,
   "metadata": {},
   "outputs": [],
   "source": [
    "# Define the LSTM layer\n",
    "lstm_output = LSTM(128)(input1)\n",
    "\n",
    "# Concatenate the LSTM output and the length input\n",
    "concatenated = Concatenate()([lstm_output, input2])\n",
    "\n",
    "# reduce the dimension, 128 is too high (32, 16, ...)\n",
    "# dropouts"
   ]
  },
  {
   "cell_type": "code",
   "execution_count": 58,
   "metadata": {},
   "outputs": [],
   "source": [
    "# Define the dense layers\n",
    "dense1 = Dense(64, activation='relu')(concatenated)\n",
    "dense2 = Dense(1, activation='sigmoid')(dense1)"
   ]
  },
  {
   "cell_type": "code",
   "execution_count": 59,
   "metadata": {},
   "outputs": [],
   "source": [
    "# Define the model with two inputs\n",
    "model = Model(inputs=[input1, input2], outputs=dense2)"
   ]
  },
  {
   "cell_type": "code",
   "execution_count": 60,
   "metadata": {},
   "outputs": [
    {
     "name": "stdout",
     "output_type": "stream",
     "text": [
      "Model: \"model\"\n",
      "__________________________________________________________________________________________________\n",
      " Layer (type)                Output Shape                 Param #   Connected to                  \n",
      "==================================================================================================\n",
      " input_1 (InputLayer)        [(None, 138, 1)]             0         []                            \n",
      "                                                                                                  \n",
      " lstm (LSTM)                 (None, 128)                  66560     ['input_1[0][0]']             \n",
      "                                                                                                  \n",
      " input_2 (InputLayer)        [(None, 1)]                  0         []                            \n",
      "                                                                                                  \n",
      " concatenate (Concatenate)   (None, 129)                  0         ['lstm[0][0]',                \n",
      "                                                                     'input_2[0][0]']             \n",
      "                                                                                                  \n",
      " dense_20 (Dense)            (None, 64)                   8320      ['concatenate[0][0]']         \n",
      "                                                                                                  \n",
      " dense_21 (Dense)            (None, 1)                    65        ['dense_20[0][0]']            \n",
      "                                                                                                  \n",
      "==================================================================================================\n",
      "Total params: 74945 (292.75 KB)\n",
      "Trainable params: 74945 (292.75 KB)\n",
      "Non-trainable params: 0 (0.00 Byte)\n",
      "__________________________________________________________________________________________________\n"
     ]
    }
   ],
   "source": [
    "# Print the model summary\n",
    "model.summary()"
   ]
  },
  {
   "cell_type": "code",
   "execution_count": 61,
   "metadata": {},
   "outputs": [],
   "source": [
    "# Compile the model\n",
    "model.compile(optimizer='adam', loss='binary_crossentropy', metrics=['accuracy'])\n"
   ]
  },
  {
   "cell_type": "code",
   "execution_count": 62,
   "metadata": {},
   "outputs": [
    {
     "data": {
      "text/plain": [
       "(12195,)"
      ]
     },
     "execution_count": 62,
     "metadata": {},
     "output_type": "execute_result"
    }
   ],
   "source": [
    "ger_train_contours = ger_train[\"chunks\"]\n",
    "type(ger_train_contours)\n",
    "ger_train_contours.shape"
   ]
  },
  {
   "cell_type": "code",
   "execution_count": 63,
   "metadata": {},
   "outputs": [
    {
     "data": {
      "text/plain": [
       "numpy.ndarray"
      ]
     },
     "execution_count": 63,
     "metadata": {},
     "output_type": "execute_result"
    }
   ],
   "source": [
    "ger_train_contours = np.array(ger_train_contours)\n",
    "type(ger_train_contours)"
   ]
  },
  {
   "cell_type": "code",
   "execution_count": 64,
   "metadata": {},
   "outputs": [],
   "source": [
    "ger_train_contours\n",
    "ger_train_2d = np.stack(contours_train_rp)"
   ]
  },
  {
   "cell_type": "code",
   "execution_count": 65,
   "metadata": {},
   "outputs": [],
   "source": [
    "# Convert the input data to TensorFlow tensors\n",
    "X_tensor = tf.convert_to_tensor(ger_train_2d, dtype=tf.float32)\n",
    "y_tensor = tf.convert_to_tensor(ger_train_labels, dtype=tf.float32)"
   ]
  },
  {
   "cell_type": "code",
   "execution_count": null,
   "metadata": {},
   "outputs": [],
   "source": []
  },
  {
   "cell_type": "code",
   "execution_count": 66,
   "metadata": {},
   "outputs": [
    {
     "name": "stdout",
     "output_type": "stream",
     "text": [
      "Epoch 1/10\n"
     ]
    },
    {
     "ename": "ValueError",
     "evalue": "in user code:\n\n    File \"C:\\Users\\abhay\\AppData\\Local\\Packages\\PythonSoftwareFoundation.Python.3.10_qbz5n2kfra8p0\\LocalCache\\local-packages\\Python310\\site-packages\\keras\\src\\engine\\training.py\", line 1401, in train_function  *\n        return step_function(self, iterator)\n    File \"C:\\Users\\abhay\\AppData\\Local\\Packages\\PythonSoftwareFoundation.Python.3.10_qbz5n2kfra8p0\\LocalCache\\local-packages\\Python310\\site-packages\\keras\\src\\engine\\training.py\", line 1384, in step_function  **\n        outputs = model.distribute_strategy.run(run_step, args=(data,))\n    File \"C:\\Users\\abhay\\AppData\\Local\\Packages\\PythonSoftwareFoundation.Python.3.10_qbz5n2kfra8p0\\LocalCache\\local-packages\\Python310\\site-packages\\keras\\src\\engine\\training.py\", line 1373, in run_step  **\n        outputs = model.train_step(data)\n    File \"C:\\Users\\abhay\\AppData\\Local\\Packages\\PythonSoftwareFoundation.Python.3.10_qbz5n2kfra8p0\\LocalCache\\local-packages\\Python310\\site-packages\\keras\\src\\engine\\training.py\", line 1150, in train_step\n        y_pred = self(x, training=True)\n    File \"C:\\Users\\abhay\\AppData\\Local\\Packages\\PythonSoftwareFoundation.Python.3.10_qbz5n2kfra8p0\\LocalCache\\local-packages\\Python310\\site-packages\\keras\\src\\utils\\traceback_utils.py\", line 70, in error_handler\n        raise e.with_traceback(filtered_tb) from None\n    File \"C:\\Users\\abhay\\AppData\\Local\\Packages\\PythonSoftwareFoundation.Python.3.10_qbz5n2kfra8p0\\LocalCache\\local-packages\\Python310\\site-packages\\keras\\src\\engine\\input_spec.py\", line 298, in assert_input_compatibility\n        raise ValueError(\n\n    ValueError: Input 0 of layer \"model\" is incompatible with the layer: expected shape=(None, 138, 1), found shape=(None, 285)\n",
     "output_type": "error",
     "traceback": [
      "\u001b[1;31m---------------------------------------------------------------------------\u001b[0m",
      "\u001b[1;31mValueError\u001b[0m                                Traceback (most recent call last)",
      "Cell \u001b[1;32mIn[66], line 1\u001b[0m\n\u001b[1;32m----> 1\u001b[0m \u001b[43mmodel\u001b[49m\u001b[38;5;241;43m.\u001b[39;49m\u001b[43mfit\u001b[49m\u001b[43m(\u001b[49m\u001b[43m[\u001b[49m\u001b[43mger_train_2d\u001b[49m\u001b[43m,\u001b[49m\u001b[43m \u001b[49m\u001b[43mlengths_train\u001b[49m\u001b[43m]\u001b[49m\u001b[43m,\u001b[49m\u001b[43m \u001b[49m\u001b[43mger_train_labels\u001b[49m\u001b[43m,\u001b[49m\u001b[43m \u001b[49m\u001b[43mepochs\u001b[49m\u001b[38;5;241;43m=\u001b[39;49m\u001b[38;5;241;43m10\u001b[39;49m\u001b[43m,\u001b[49m\u001b[43m \u001b[49m\u001b[43mbatch_size\u001b[49m\u001b[38;5;241;43m=\u001b[39;49m\u001b[38;5;241;43m32\u001b[39;49m\u001b[43m,\u001b[49m\u001b[43m \u001b[49m\u001b[43mvalidation_split\u001b[49m\u001b[38;5;241;43m=\u001b[39;49m\u001b[38;5;241;43m0.2\u001b[39;49m\u001b[43m)\u001b[49m\n",
      "File \u001b[1;32m~\\AppData\\Local\\Packages\\PythonSoftwareFoundation.Python.3.10_qbz5n2kfra8p0\\LocalCache\\local-packages\\Python310\\site-packages\\keras\\src\\utils\\traceback_utils.py:70\u001b[0m, in \u001b[0;36mfilter_traceback.<locals>.error_handler\u001b[1;34m(*args, **kwargs)\u001b[0m\n\u001b[0;32m     67\u001b[0m     filtered_tb \u001b[38;5;241m=\u001b[39m _process_traceback_frames(e\u001b[38;5;241m.\u001b[39m__traceback__)\n\u001b[0;32m     68\u001b[0m     \u001b[38;5;66;03m# To get the full stack trace, call:\u001b[39;00m\n\u001b[0;32m     69\u001b[0m     \u001b[38;5;66;03m# `tf.debugging.disable_traceback_filtering()`\u001b[39;00m\n\u001b[1;32m---> 70\u001b[0m     \u001b[38;5;28;01mraise\u001b[39;00m e\u001b[38;5;241m.\u001b[39mwith_traceback(filtered_tb) \u001b[38;5;28;01mfrom\u001b[39;00m \u001b[38;5;28;01mNone\u001b[39;00m\n\u001b[0;32m     71\u001b[0m \u001b[38;5;28;01mfinally\u001b[39;00m:\n\u001b[0;32m     72\u001b[0m     \u001b[38;5;28;01mdel\u001b[39;00m filtered_tb\n",
      "File \u001b[1;32m~\\AppData\\Local\\Temp\\__autograph_generated_filerl1fgmla.py:15\u001b[0m, in \u001b[0;36mouter_factory.<locals>.inner_factory.<locals>.tf__train_function\u001b[1;34m(iterator)\u001b[0m\n\u001b[0;32m     13\u001b[0m \u001b[38;5;28;01mtry\u001b[39;00m:\n\u001b[0;32m     14\u001b[0m     do_return \u001b[38;5;241m=\u001b[39m \u001b[38;5;28;01mTrue\u001b[39;00m\n\u001b[1;32m---> 15\u001b[0m     retval_ \u001b[38;5;241m=\u001b[39m ag__\u001b[38;5;241m.\u001b[39mconverted_call(ag__\u001b[38;5;241m.\u001b[39mld(step_function), (ag__\u001b[38;5;241m.\u001b[39mld(\u001b[38;5;28mself\u001b[39m), ag__\u001b[38;5;241m.\u001b[39mld(iterator)), \u001b[38;5;28;01mNone\u001b[39;00m, fscope)\n\u001b[0;32m     16\u001b[0m \u001b[38;5;28;01mexcept\u001b[39;00m:\n\u001b[0;32m     17\u001b[0m     do_return \u001b[38;5;241m=\u001b[39m \u001b[38;5;28;01mFalse\u001b[39;00m\n",
      "\u001b[1;31mValueError\u001b[0m: in user code:\n\n    File \"C:\\Users\\abhay\\AppData\\Local\\Packages\\PythonSoftwareFoundation.Python.3.10_qbz5n2kfra8p0\\LocalCache\\local-packages\\Python310\\site-packages\\keras\\src\\engine\\training.py\", line 1401, in train_function  *\n        return step_function(self, iterator)\n    File \"C:\\Users\\abhay\\AppData\\Local\\Packages\\PythonSoftwareFoundation.Python.3.10_qbz5n2kfra8p0\\LocalCache\\local-packages\\Python310\\site-packages\\keras\\src\\engine\\training.py\", line 1384, in step_function  **\n        outputs = model.distribute_strategy.run(run_step, args=(data,))\n    File \"C:\\Users\\abhay\\AppData\\Local\\Packages\\PythonSoftwareFoundation.Python.3.10_qbz5n2kfra8p0\\LocalCache\\local-packages\\Python310\\site-packages\\keras\\src\\engine\\training.py\", line 1373, in run_step  **\n        outputs = model.train_step(data)\n    File \"C:\\Users\\abhay\\AppData\\Local\\Packages\\PythonSoftwareFoundation.Python.3.10_qbz5n2kfra8p0\\LocalCache\\local-packages\\Python310\\site-packages\\keras\\src\\engine\\training.py\", line 1150, in train_step\n        y_pred = self(x, training=True)\n    File \"C:\\Users\\abhay\\AppData\\Local\\Packages\\PythonSoftwareFoundation.Python.3.10_qbz5n2kfra8p0\\LocalCache\\local-packages\\Python310\\site-packages\\keras\\src\\utils\\traceback_utils.py\", line 70, in error_handler\n        raise e.with_traceback(filtered_tb) from None\n    File \"C:\\Users\\abhay\\AppData\\Local\\Packages\\PythonSoftwareFoundation.Python.3.10_qbz5n2kfra8p0\\LocalCache\\local-packages\\Python310\\site-packages\\keras\\src\\engine\\input_spec.py\", line 298, in assert_input_compatibility\n        raise ValueError(\n\n    ValueError: Input 0 of layer \"model\" is incompatible with the layer: expected shape=(None, 138, 1), found shape=(None, 285)\n"
     ]
    }
   ],
   "source": [
    "model.fit([ger_train_2d, lengths_train], ger_train_labels, epochs=10, batch_size=32, validation_split=0.2)"
   ]
  },
  {
   "attachments": {},
   "cell_type": "markdown",
   "metadata": {},
   "source": [
    "# Duration - Method 1"
   ]
  },
  {
   "cell_type": "code",
   "execution_count": 67,
   "metadata": {},
   "outputs": [],
   "source": [
    "# append length of contours to the end of each contour\n",
    "def append_length_end(contours):\n",
    "    appended_contours = []\n",
    "    for contour in contours:\n",
    "        appended_contours.append(np.append(contour, len(contour)))\n",
    "    return np.array(appended_contours)\n",
    "\n",
    "# append length of contours to the beginning of each contour\n",
    "def append_length_start(contours):\n",
    "    appended_contours = []\n",
    "    for contour in contours:\n",
    "        appended_contours.append(np.append(len(contour), contour))\n",
    "    return np.array(appended_contours)\n",
    "\n",
    "contours_train_rp_duration = append_length_end(contours_train_rp)\n",
    "contours_test_rp_duration = append_length_end(contours_test_rp)\n",
    "contours_train_lp_duration = append_length_start(contours_train_lp)\n",
    "contours_test_lp_duration = append_length_start(contours_test_lp)"
   ]
  },
  {
   "cell_type": "code",
   "execution_count": 68,
   "metadata": {},
   "outputs": [
    {
     "data": {
      "text/plain": [
       "(12195, 286)"
      ]
     },
     "execution_count": 68,
     "metadata": {},
     "output_type": "execute_result"
    }
   ],
   "source": [
    "contours_train_rp_duration.shape"
   ]
  },
  {
   "cell_type": "code",
   "execution_count": 69,
   "metadata": {},
   "outputs": [],
   "source": [
    "model = Sequential()\n",
    "model.add(Dense(64, input_dim=max_length + 1, activation='relu'))\n",
    "model.add(Dense(128, activation='relu'))\n",
    "model.add(Dense(256, activation='relu'))\n",
    "model.add(Dense(512, activation='relu'))\n",
    "model.add(Dense(256, activation='relu'))\n",
    "model.add(Dropout(0.2))\n",
    "model.add(Dense(1, activation='sigmoid'))"
   ]
  },
  {
   "cell_type": "code",
   "execution_count": 70,
   "metadata": {},
   "outputs": [
    {
     "name": "stdout",
     "output_type": "stream",
     "text": [
      "Epoch 1/50\n",
      "610/610 [==============================] - 4s 5ms/step - loss: 0.6160 - accuracy: 0.7440 - val_loss: 0.5603 - val_accuracy: 0.7552\n",
      "Epoch 2/50\n",
      "610/610 [==============================] - 3s 5ms/step - loss: 0.5384 - accuracy: 0.7558 - val_loss: 0.5683 - val_accuracy: 0.7552\n",
      "Epoch 3/50\n",
      "610/610 [==============================] - 3s 5ms/step - loss: 0.5227 - accuracy: 0.7558 - val_loss: 0.5113 - val_accuracy: 0.7552\n",
      "Epoch 4/50\n",
      "610/610 [==============================] - 3s 5ms/step - loss: 0.5145 - accuracy: 0.7558 - val_loss: 0.4976 - val_accuracy: 0.7552\n",
      "Epoch 5/50\n",
      "610/610 [==============================] - 3s 5ms/step - loss: 0.5059 - accuracy: 0.7559 - val_loss: 0.4953 - val_accuracy: 0.7552\n",
      "Epoch 6/50\n",
      "610/610 [==============================] - 3s 5ms/step - loss: 0.5020 - accuracy: 0.7557 - val_loss: 0.4887 - val_accuracy: 0.7552\n",
      "Epoch 7/50\n",
      "610/610 [==============================] - 4s 6ms/step - loss: 0.4951 - accuracy: 0.7558 - val_loss: 0.4867 - val_accuracy: 0.7630\n",
      "Epoch 8/50\n",
      "610/610 [==============================] - 3s 5ms/step - loss: 0.4926 - accuracy: 0.7552 - val_loss: 0.4943 - val_accuracy: 0.7552\n",
      "Epoch 9/50\n",
      "610/610 [==============================] - 3s 5ms/step - loss: 0.4911 - accuracy: 0.7574 - val_loss: 0.4884 - val_accuracy: 0.7552\n",
      "Epoch 10/50\n",
      "610/610 [==============================] - 3s 5ms/step - loss: 0.4919 - accuracy: 0.7553 - val_loss: 0.5103 - val_accuracy: 0.7552\n",
      "Epoch 11/50\n",
      "610/610 [==============================] - 3s 5ms/step - loss: 0.4899 - accuracy: 0.7552 - val_loss: 0.5295 - val_accuracy: 0.7552\n",
      "Epoch 12/50\n",
      "610/610 [==============================] - 3s 5ms/step - loss: 0.4863 - accuracy: 0.7555 - val_loss: 0.4746 - val_accuracy: 0.7581\n",
      "Epoch 13/50\n",
      "610/610 [==============================] - 3s 6ms/step - loss: 0.4840 - accuracy: 0.7611 - val_loss: 0.4861 - val_accuracy: 0.7901\n",
      "Epoch 14/50\n",
      "610/610 [==============================] - 3s 5ms/step - loss: 0.4860 - accuracy: 0.7600 - val_loss: 0.4775 - val_accuracy: 0.7790\n",
      "Epoch 15/50\n",
      "610/610 [==============================] - 3s 5ms/step - loss: 0.4831 - accuracy: 0.7630 - val_loss: 0.4846 - val_accuracy: 0.7696\n",
      "Epoch 16/50\n",
      "610/610 [==============================] - 4s 6ms/step - loss: 0.4803 - accuracy: 0.7680 - val_loss: 0.4859 - val_accuracy: 0.7700\n",
      "Epoch 17/50\n",
      "610/610 [==============================] - 3s 5ms/step - loss: 0.4784 - accuracy: 0.7678 - val_loss: 0.4766 - val_accuracy: 0.7864\n",
      "Epoch 18/50\n",
      "610/610 [==============================] - 3s 6ms/step - loss: 0.4794 - accuracy: 0.7695 - val_loss: 0.4681 - val_accuracy: 0.7733\n",
      "Epoch 19/50\n",
      "610/610 [==============================] - 3s 5ms/step - loss: 0.4772 - accuracy: 0.7700 - val_loss: 0.5013 - val_accuracy: 0.7798\n",
      "Epoch 20/50\n",
      "610/610 [==============================] - 3s 5ms/step - loss: 0.4765 - accuracy: 0.7686 - val_loss: 0.4627 - val_accuracy: 0.7921\n",
      "Epoch 21/50\n",
      "610/610 [==============================] - 3s 5ms/step - loss: 0.4733 - accuracy: 0.7743 - val_loss: 0.4893 - val_accuracy: 0.7610\n",
      "Epoch 22/50\n",
      "610/610 [==============================] - 3s 5ms/step - loss: 0.4754 - accuracy: 0.7688 - val_loss: 0.4875 - val_accuracy: 0.7634\n",
      "Epoch 23/50\n",
      "610/610 [==============================] - 3s 5ms/step - loss: 0.4734 - accuracy: 0.7783 - val_loss: 0.4676 - val_accuracy: 0.7802\n",
      "Epoch 24/50\n",
      "610/610 [==============================] - 3s 5ms/step - loss: 0.4729 - accuracy: 0.7787 - val_loss: 0.5003 - val_accuracy: 0.7770\n",
      "Epoch 25/50\n",
      "610/610 [==============================] - 3s 5ms/step - loss: 0.4726 - accuracy: 0.7787 - val_loss: 0.4652 - val_accuracy: 0.7823\n",
      "Epoch 26/50\n",
      "610/610 [==============================] - 3s 5ms/step - loss: 0.4693 - accuracy: 0.7836 - val_loss: 0.4774 - val_accuracy: 0.7921\n",
      "Epoch 27/50\n",
      "610/610 [==============================] - 3s 5ms/step - loss: 0.4691 - accuracy: 0.7821 - val_loss: 0.4533 - val_accuracy: 0.8052\n",
      "Epoch 28/50\n",
      "610/610 [==============================] - 3s 5ms/step - loss: 0.4676 - accuracy: 0.7856 - val_loss: 0.4705 - val_accuracy: 0.7864\n",
      "Epoch 29/50\n",
      "610/610 [==============================] - 3s 5ms/step - loss: 0.4658 - accuracy: 0.7851 - val_loss: 0.4738 - val_accuracy: 0.7897\n",
      "Epoch 30/50\n",
      "610/610 [==============================] - 3s 5ms/step - loss: 0.4624 - accuracy: 0.7867 - val_loss: 0.4775 - val_accuracy: 0.7729\n",
      "Epoch 31/50\n",
      "610/610 [==============================] - 3s 5ms/step - loss: 0.4650 - accuracy: 0.7869 - val_loss: 0.4533 - val_accuracy: 0.7884\n",
      "Epoch 32/50\n",
      "610/610 [==============================] - 3s 5ms/step - loss: 0.4627 - accuracy: 0.7905 - val_loss: 0.4622 - val_accuracy: 0.7983\n",
      "Epoch 33/50\n",
      "610/610 [==============================] - 3s 5ms/step - loss: 0.4637 - accuracy: 0.7886 - val_loss: 0.4574 - val_accuracy: 0.7954\n",
      "Epoch 34/50\n",
      "610/610 [==============================] - 3s 5ms/step - loss: 0.4627 - accuracy: 0.7850 - val_loss: 0.4588 - val_accuracy: 0.8028\n",
      "Epoch 35/50\n",
      "610/610 [==============================] - 3s 5ms/step - loss: 0.4651 - accuracy: 0.7911 - val_loss: 0.4672 - val_accuracy: 0.7835\n",
      "Epoch 36/50\n",
      "610/610 [==============================] - 3s 5ms/step - loss: 0.4612 - accuracy: 0.7900 - val_loss: 0.4437 - val_accuracy: 0.8028\n",
      "Epoch 37/50\n",
      "610/610 [==============================] - 3s 5ms/step - loss: 0.4616 - accuracy: 0.7920 - val_loss: 0.4503 - val_accuracy: 0.7938\n",
      "Epoch 38/50\n",
      "610/610 [==============================] - 3s 5ms/step - loss: 0.4606 - accuracy: 0.7913 - val_loss: 0.4589 - val_accuracy: 0.7999\n",
      "Epoch 39/50\n",
      "610/610 [==============================] - 3s 5ms/step - loss: 0.4592 - accuracy: 0.7902 - val_loss: 0.4545 - val_accuracy: 0.7831\n",
      "Epoch 40/50\n",
      "610/610 [==============================] - 3s 5ms/step - loss: 0.4609 - accuracy: 0.7910 - val_loss: 0.5314 - val_accuracy: 0.7954\n",
      "Epoch 41/50\n",
      "610/610 [==============================] - 4s 7ms/step - loss: 0.4640 - accuracy: 0.7919 - val_loss: 0.4463 - val_accuracy: 0.8044\n",
      "Epoch 42/50\n",
      "610/610 [==============================] - 4s 7ms/step - loss: 0.4593 - accuracy: 0.7888 - val_loss: 0.4533 - val_accuracy: 0.8036\n",
      "Epoch 43/50\n",
      "610/610 [==============================] - 3s 5ms/step - loss: 0.4642 - accuracy: 0.7902 - val_loss: 0.5001 - val_accuracy: 0.7938\n",
      "Epoch 44/50\n",
      "610/610 [==============================] - 3s 5ms/step - loss: 0.4638 - accuracy: 0.7926 - val_loss: 0.4515 - val_accuracy: 0.7905\n",
      "Epoch 45/50\n",
      "610/610 [==============================] - 3s 5ms/step - loss: 0.4609 - accuracy: 0.7923 - val_loss: 0.4421 - val_accuracy: 0.8020\n",
      "Epoch 46/50\n",
      "610/610 [==============================] - 3s 5ms/step - loss: 0.4595 - accuracy: 0.7920 - val_loss: 0.4498 - val_accuracy: 0.7999\n",
      "Epoch 47/50\n",
      "610/610 [==============================] - 3s 5ms/step - loss: 0.4608 - accuracy: 0.7914 - val_loss: 0.4850 - val_accuracy: 0.7884\n",
      "Epoch 48/50\n",
      "610/610 [==============================] - 3s 5ms/step - loss: 0.4621 - accuracy: 0.7934 - val_loss: 0.4998 - val_accuracy: 0.7888\n",
      "Epoch 49/50\n",
      "610/610 [==============================] - 3s 5ms/step - loss: 0.4574 - accuracy: 0.7945 - val_loss: 0.4697 - val_accuracy: 0.7970\n",
      "Epoch 50/50\n",
      "610/610 [==============================] - 3s 5ms/step - loss: 0.4601 - accuracy: 0.7904 - val_loss: 0.4348 - val_accuracy: 0.8057\n"
     ]
    },
    {
     "data": {
      "text/plain": [
       "<keras.src.callbacks.History at 0x24f2ee8f040>"
      ]
     },
     "execution_count": 70,
     "metadata": {},
     "output_type": "execute_result"
    }
   ],
   "source": [
    "model.compile(loss='binary_crossentropy', optimizer='rmsprop', metrics=['accuracy'])\n",
    "model.fit(contours_train_rp_duration, ger_train[\"labels\"], batch_size=16, epochs=50, validation_split=0.2)"
   ]
  },
  {
   "cell_type": "code",
   "execution_count": 71,
   "metadata": {},
   "outputs": [
    {
     "name": "stdout",
     "output_type": "stream",
     "text": [
      "331/331 [==============================] - 1s 3ms/step\n",
      "Accuracy:  79.94897477085892 %\n"
     ]
    },
    {
     "data": {
      "text/plain": [
       "array([1, 0, 1, ..., 1, 1, 1])"
      ]
     },
     "execution_count": 71,
     "metadata": {},
     "output_type": "execute_result"
    },
    {
     "data": {
      "image/png": "[encoded data removed]",
      "text/plain": [
       "<Figure size 640x480 with 2 Axes>"
      ]
     },
     "metadata": {},
     "output_type": "display_data"
    }
   ],
   "source": [
    "results(model, contours_test_rp_duration, ger_test[\"labels\"])"
   ]
  },
  {
   "cell_type": "code",
   "execution_count": 72,
   "metadata": {},
   "outputs": [
    {
     "name": "stdout",
     "output_type": "stream",
     "text": [
      "331/331 [==============================] - 1s 2ms/step\n"
     ]
    }
   ],
   "source": [
    "# predict on test set\n",
    "pred = model.predict(contours_test_rp_duration)\n",
    "threshold = 0.5\n",
    "pred[pred >= threshold] = 1\n",
    "pred[pred < threshold] = 0\n",
    "pred = pred.reshape(-1)"
   ]
  },
  {
   "cell_type": "code",
   "execution_count": 73,
   "metadata": {},
   "outputs": [],
   "source": [
    "# calculate accuracy\n",
    "num_correct = np.count_nonzero(ger_test_labels == pred)\n",
    "num_wrong = len(ger_test_labels) - num_correct\n",
    "accuracy = num_correct / len(ger_test_labels)\n",
    "num_1as0 = np.count_nonzero((ger_test_labels == 1) & (pred == 0))\n",
    "num_1 = np.count_nonzero(ger_test_labels == 1)\n",
    "num_0as1 = np.count_nonzero((ger_test_labels == 0) & (pred == 1))\n",
    "num_0 = np.count_nonzero(ger_test_labels == 0)\n",
    "perc0as1 = (num_0as1 / num_0 )* 100"
   ]
  },
  {
   "cell_type": "code",
   "execution_count": 74,
   "metadata": {},
   "outputs": [
    {
     "name": "stdout",
     "output_type": "stream",
     "text": [
      "Accuracy: 79.95%\n",
      "Num 1 as 0: 299 out of 8035\n",
      "Num 0 as 1: 1823 out of 2548\n",
      "0 as 1 percentage: 71.55%\n"
     ]
    }
   ],
   "source": [
    "# display results\n",
    "print(f\"Accuracy: {accuracy * 100:.2f}%\")\n",
    "print(f\"Num 1 as 0: {num_1as0} out of {num_1}\")\n",
    "print(f\"Num 0 as 1: {num_0as1} out of {num_0}\")\n",
    "print(f\"0 as 1 percentage: {perc0as1:.2f}%\")"
   ]
  },
  {
   "cell_type": "code",
   "execution_count": 75,
   "metadata": {},
   "outputs": [
    {
     "ename": "NameError",
     "evalue": "name 'train_labels' is not defined",
     "output_type": "error",
     "traceback": [
      "\u001b[1;31m---------------------------------------------------------------------------\u001b[0m",
      "\u001b[1;31mNameError\u001b[0m                                 Traceback (most recent call last)",
      "Cell \u001b[1;32mIn[75], line 2\u001b[0m\n\u001b[0;32m      1\u001b[0m model\u001b[38;5;241m.\u001b[39mcompile(loss\u001b[38;5;241m=\u001b[39m\u001b[38;5;124m'\u001b[39m\u001b[38;5;124mbinary_crossentropy\u001b[39m\u001b[38;5;124m'\u001b[39m, optimizer\u001b[38;5;241m=\u001b[39m\u001b[38;5;124m'\u001b[39m\u001b[38;5;124mrmsprop\u001b[39m\u001b[38;5;124m'\u001b[39m, metrics\u001b[38;5;241m=\u001b[39m[\u001b[38;5;124m'\u001b[39m\u001b[38;5;124maccuracy\u001b[39m\u001b[38;5;124m'\u001b[39m])\n\u001b[1;32m----> 2\u001b[0m model\u001b[38;5;241m.\u001b[39mfit(contours_train_lp_duration, \u001b[43mtrain_labels\u001b[49m, batch_size\u001b[38;5;241m=\u001b[39m\u001b[38;5;241m16\u001b[39m, epochs\u001b[38;5;241m=\u001b[39m\u001b[38;5;241m50\u001b[39m, validation_split\u001b[38;5;241m=\u001b[39m\u001b[38;5;241m0.2\u001b[39m)\n",
      "\u001b[1;31mNameError\u001b[0m: name 'train_labels' is not defined"
     ]
    }
   ],
   "source": [
    "model.compile(loss='binary_crossentropy', optimizer='rmsprop', metrics=['accuracy'])\n",
    "model.fit(contours_train_lp_duration, train_labels, batch_size=16, epochs=50, validation_split=0.2)"
   ]
  },
  {
   "cell_type": "code",
   "execution_count": 76,
   "metadata": {},
   "outputs": [
    {
     "name": "stdout",
     "output_type": "stream",
     "text": [
      "331/331 [==============================] - 1s 2ms/step\n"
     ]
    }
   ],
   "source": [
    "# predict on test set\n",
    "pred = model.predict(contours_test_lp_duration)\n",
    "threshold = 0.5\n",
    "pred[pred >= threshold] = 1\n",
    "pred[pred < threshold] = 0\n",
    "pred = pred.reshape(-1)"
   ]
  },
  {
   "cell_type": "code",
   "execution_count": 77,
   "metadata": {},
   "outputs": [],
   "source": [
    "# calculate accuracy\n",
    "num_correct = np.count_nonzero(ger_test_labels == pred)\n",
    "num_wrong = len(ger_test_labels) - num_correct\n",
    "accuracy = num_correct / len(ger_test_labels)\n",
    "num_1as0 = np.count_nonzero((ger_test_labels == 1) & (pred == 0))\n",
    "num_1 = np.count_nonzero(ger_test_labels == 1)\n",
    "num_0as1 = np.count_nonzero((ger_test_labels == 0) & (pred == 1))\n",
    "num_0 = np.count_nonzero(ger_test_labels == 0)\n",
    "perc0as1 = (num_0as1 / num_0 )* 100"
   ]
  },
  {
   "cell_type": "code",
   "execution_count": 78,
   "metadata": {},
   "outputs": [
    {
     "name": "stdout",
     "output_type": "stream",
     "text": [
      "Accuracy: 75.92%\n",
      "Num 1 as 0: 0 out of 8035\n",
      "Num 0 as 1: 2548 out of 2548\n",
      "0 as 1 percentage: 100.00%\n"
     ]
    }
   ],
   "source": [
    "# display results\n",
    "print(f\"Accuracy: {accuracy * 100:.2f}%\")\n",
    "print(f\"Num 1 as 0: {num_1as0} out of {num_1}\")\n",
    "print(f\"Num 0 as 1: {num_0as1} out of {num_0}\")\n",
    "print(f\"0 as 1 percentage: {perc0as1:.2f}%\")"
   ]
  },
  {
   "cell_type": "code",
   "execution_count": 79,
   "metadata": {},
   "outputs": [
    {
     "data": {
      "text/plain": [
       "(10583, 286)"
      ]
     },
     "execution_count": 79,
     "metadata": {},
     "output_type": "execute_result"
    }
   ],
   "source": [
    "contours_test_lp_duration.shape"
   ]
  },
  {
   "attachments": {},
   "cell_type": "markdown",
   "metadata": {},
   "source": [
    "# Duration - Method 2"
   ]
  },
  {
   "cell_type": "code",
   "execution_count": 80,
   "metadata": {},
   "outputs": [],
   "source": [
    "# Define input shapes\n",
    "contour_shape = (138, )\n",
    "duration_shape = (1, )\n",
    "\n",
    "# Define inputs\n",
    "contour_input = Input(shape=contour_shape, name='contour_input')\n",
    "duration_input = Input(shape=duration_shape, name='duration_input')"
   ]
  },
  {
   "cell_type": "code",
   "execution_count": 81,
   "metadata": {},
   "outputs": [],
   "source": [
    "# Reshape contour input to 3D tensor\n",
    "contour_3d = Reshape(target_shape=(contour_shape[0], 1))(contour_input)\n",
    "\n",
    "# Define RNN layer\n",
    "rnn_layer = LSTM(units=64, name='rnn')(contour_3d)"
   ]
  },
  {
   "cell_type": "code",
   "execution_count": 82,
   "metadata": {},
   "outputs": [],
   "source": [
    "# Concatenate duration and RNN layer outputs\n",
    "concat_layer = concatenate([rnn_layer, duration_input])"
   ]
  },
  {
   "cell_type": "code",
   "execution_count": 83,
   "metadata": {},
   "outputs": [],
   "source": [
    "# Define stress label prediction layer\n",
    "stress_pred = Dense(units=1, activation='sigmoid', name='stress')(concat_layer)"
   ]
  },
  {
   "cell_type": "code",
   "execution_count": 84,
   "metadata": {},
   "outputs": [],
   "source": [
    "# Define model\n",
    "model = Model(inputs=[contour_input, duration_input], outputs=stress_pred)\n",
    "model.compile(optimizer='adam', loss='binary_crossentropy')"
   ]
  },
  {
   "cell_type": "code",
   "execution_count": 85,
   "metadata": {},
   "outputs": [
    {
     "name": "stdout",
     "output_type": "stream",
     "text": [
      "Model: \"model_1\"\n",
      "__________________________________________________________________________________________________\n",
      " Layer (type)                Output Shape                 Param #   Connected to                  \n",
      "==================================================================================================\n",
      " contour_input (InputLayer)  [(None, 138)]                0         []                            \n",
      "                                                                                                  \n",
      " reshape (Reshape)           (None, 138, 1)               0         ['contour_input[0][0]']       \n",
      "                                                                                                  \n",
      " rnn (LSTM)                  (None, 64)                   16896     ['reshape[0][0]']             \n",
      "                                                                                                  \n",
      " duration_input (InputLayer  [(None, 1)]                  0         []                            \n",
      " )                                                                                                \n",
      "                                                                                                  \n",
      " concatenate_1 (Concatenate  (None, 65)                   0         ['rnn[0][0]',                 \n",
      " )                                                                   'duration_input[0][0]']      \n",
      "                                                                                                  \n",
      " stress (Dense)              (None, 1)                    66        ['concatenate_1[0][0]']       \n",
      "                                                                                                  \n",
      "==================================================================================================\n",
      "Total params: 16962 (66.26 KB)\n",
      "Trainable params: 16962 (66.26 KB)\n",
      "Non-trainable params: 0 (0.00 Byte)\n",
      "__________________________________________________________________________________________________\n"
     ]
    }
   ],
   "source": [
    "model.summary()"
   ]
  },
  {
   "cell_type": "code",
   "execution_count": 86,
   "metadata": {},
   "outputs": [
    {
     "ename": "ValueError",
     "evalue": "Failed to find data adapter that can handle input: (<class 'list'> containing values of types {\"<class 'int'>\", \"<class 'numpy.ndarray'>\"}), <class 'pandas.core.series.Series'>",
     "output_type": "error",
     "traceback": [
      "\u001b[1;31m---------------------------------------------------------------------------\u001b[0m",
      "\u001b[1;31mValueError\u001b[0m                                Traceback (most recent call last)",
      "Cell \u001b[1;32mIn[86], line 2\u001b[0m\n\u001b[0;32m      1\u001b[0m \u001b[38;5;66;03m# Train model\u001b[39;00m\n\u001b[1;32m----> 2\u001b[0m \u001b[43mmodel\u001b[49m\u001b[38;5;241;43m.\u001b[39;49m\u001b[43mfit\u001b[49m\u001b[43m(\u001b[49m\u001b[43mx\u001b[49m\u001b[38;5;241;43m=\u001b[39;49m\u001b[43m[\u001b[49m\u001b[43mcontours_train_rp\u001b[49m\u001b[43m,\u001b[49m\u001b[43m \u001b[49m\u001b[43mmax_length\u001b[49m\u001b[43m]\u001b[49m\u001b[43m,\u001b[49m\u001b[43m \u001b[49m\u001b[43my\u001b[49m\u001b[38;5;241;43m=\u001b[39;49m\u001b[43mger_train\u001b[49m\u001b[43m[\u001b[49m\u001b[38;5;124;43m'\u001b[39;49m\u001b[38;5;124;43mlabels\u001b[39;49m\u001b[38;5;124;43m'\u001b[39;49m\u001b[43m]\u001b[49m\u001b[43m,\u001b[49m\u001b[43m \u001b[49m\u001b[43mepochs\u001b[49m\u001b[38;5;241;43m=\u001b[39;49m\u001b[38;5;241;43m50\u001b[39;49m\u001b[43m,\u001b[49m\u001b[43m \u001b[49m\u001b[43mbatch_size\u001b[49m\u001b[38;5;241;43m=\u001b[39;49m\u001b[38;5;241;43m32\u001b[39;49m\u001b[43m)\u001b[49m\n",
      "File \u001b[1;32m~\\AppData\\Local\\Packages\\PythonSoftwareFoundation.Python.3.10_qbz5n2kfra8p0\\LocalCache\\local-packages\\Python310\\site-packages\\keras\\src\\utils\\traceback_utils.py:70\u001b[0m, in \u001b[0;36mfilter_traceback.<locals>.error_handler\u001b[1;34m(*args, **kwargs)\u001b[0m\n\u001b[0;32m     67\u001b[0m     filtered_tb \u001b[38;5;241m=\u001b[39m _process_traceback_frames(e\u001b[38;5;241m.\u001b[39m__traceback__)\n\u001b[0;32m     68\u001b[0m     \u001b[38;5;66;03m# To get the full stack trace, call:\u001b[39;00m\n\u001b[0;32m     69\u001b[0m     \u001b[38;5;66;03m# `tf.debugging.disable_traceback_filtering()`\u001b[39;00m\n\u001b[1;32m---> 70\u001b[0m     \u001b[38;5;28;01mraise\u001b[39;00m e\u001b[38;5;241m.\u001b[39mwith_traceback(filtered_tb) \u001b[38;5;28;01mfrom\u001b[39;00m \u001b[38;5;28;01mNone\u001b[39;00m\n\u001b[0;32m     71\u001b[0m \u001b[38;5;28;01mfinally\u001b[39;00m:\n\u001b[0;32m     72\u001b[0m     \u001b[38;5;28;01mdel\u001b[39;00m filtered_tb\n",
      "File \u001b[1;32m~\\AppData\\Local\\Packages\\PythonSoftwareFoundation.Python.3.10_qbz5n2kfra8p0\\LocalCache\\local-packages\\Python310\\site-packages\\keras\\src\\engine\\data_adapter.py:1105\u001b[0m, in \u001b[0;36mselect_data_adapter\u001b[1;34m(x, y)\u001b[0m\n\u001b[0;32m   1102\u001b[0m adapter_cls \u001b[38;5;241m=\u001b[39m [\u001b[38;5;28mcls\u001b[39m \u001b[38;5;28;01mfor\u001b[39;00m \u001b[38;5;28mcls\u001b[39m \u001b[38;5;129;01min\u001b[39;00m ALL_ADAPTER_CLS \u001b[38;5;28;01mif\u001b[39;00m \u001b[38;5;28mcls\u001b[39m\u001b[38;5;241m.\u001b[39mcan_handle(x, y)]\n\u001b[0;32m   1103\u001b[0m \u001b[38;5;28;01mif\u001b[39;00m \u001b[38;5;129;01mnot\u001b[39;00m adapter_cls:\n\u001b[0;32m   1104\u001b[0m     \u001b[38;5;66;03m# TODO(scottzhu): This should be a less implementation-specific error.\u001b[39;00m\n\u001b[1;32m-> 1105\u001b[0m     \u001b[38;5;28;01mraise\u001b[39;00m \u001b[38;5;167;01mValueError\u001b[39;00m(\n\u001b[0;32m   1106\u001b[0m         \u001b[38;5;124m\"\u001b[39m\u001b[38;5;124mFailed to find data adapter that can handle input: \u001b[39m\u001b[38;5;132;01m{}\u001b[39;00m\u001b[38;5;124m, \u001b[39m\u001b[38;5;132;01m{}\u001b[39;00m\u001b[38;5;124m\"\u001b[39m\u001b[38;5;241m.\u001b[39mformat(\n\u001b[0;32m   1107\u001b[0m             _type_name(x), _type_name(y)\n\u001b[0;32m   1108\u001b[0m         )\n\u001b[0;32m   1109\u001b[0m     )\n\u001b[0;32m   1110\u001b[0m \u001b[38;5;28;01melif\u001b[39;00m \u001b[38;5;28mlen\u001b[39m(adapter_cls) \u001b[38;5;241m>\u001b[39m \u001b[38;5;241m1\u001b[39m:\n\u001b[0;32m   1111\u001b[0m     \u001b[38;5;28;01mraise\u001b[39;00m \u001b[38;5;167;01mRuntimeError\u001b[39;00m(\n\u001b[0;32m   1112\u001b[0m         \u001b[38;5;124m\"\u001b[39m\u001b[38;5;124mData adapters should be mutually exclusive for \u001b[39m\u001b[38;5;124m\"\u001b[39m\n\u001b[0;32m   1113\u001b[0m         \u001b[38;5;124m\"\u001b[39m\u001b[38;5;124mhandling inputs. Found multiple adapters \u001b[39m\u001b[38;5;132;01m{}\u001b[39;00m\u001b[38;5;124m to handle \u001b[39m\u001b[38;5;124m\"\u001b[39m\n\u001b[0;32m   1114\u001b[0m         \u001b[38;5;124m\"\u001b[39m\u001b[38;5;124minput: \u001b[39m\u001b[38;5;132;01m{}\u001b[39;00m\u001b[38;5;124m, \u001b[39m\u001b[38;5;132;01m{}\u001b[39;00m\u001b[38;5;124m\"\u001b[39m\u001b[38;5;241m.\u001b[39mformat(adapter_cls, _type_name(x), _type_name(y))\n\u001b[0;32m   1115\u001b[0m     )\n",
      "\u001b[1;31mValueError\u001b[0m: Failed to find data adapter that can handle input: (<class 'list'> containing values of types {\"<class 'int'>\", \"<class 'numpy.ndarray'>\"}), <class 'pandas.core.series.Series'>"
     ]
    }
   ],
   "source": [
    "# Train model\n",
    "model.fit(x=[contours_train_rp, max_length], y=ger_train['labels'], epochs=50, batch_size=32)"
   ]
  },
  {
   "cell_type": "code",
   "execution_count": 87,
   "metadata": {},
   "outputs": [
    {
     "ename": "ValueError",
     "evalue": "in user code:\n\n    File \"C:\\Users\\abhay\\AppData\\Local\\Packages\\PythonSoftwareFoundation.Python.3.10_qbz5n2kfra8p0\\LocalCache\\local-packages\\Python310\\site-packages\\keras\\src\\engine\\training.py\", line 2440, in predict_function  *\n        return step_function(self, iterator)\n    File \"C:\\Users\\abhay\\AppData\\Local\\Packages\\PythonSoftwareFoundation.Python.3.10_qbz5n2kfra8p0\\LocalCache\\local-packages\\Python310\\site-packages\\keras\\src\\engine\\training.py\", line 2425, in step_function  **\n        outputs = model.distribute_strategy.run(run_step, args=(data,))\n    File \"C:\\Users\\abhay\\AppData\\Local\\Packages\\PythonSoftwareFoundation.Python.3.10_qbz5n2kfra8p0\\LocalCache\\local-packages\\Python310\\site-packages\\keras\\src\\engine\\training.py\", line 2413, in run_step  **\n        outputs = model.predict_step(data)\n    File \"C:\\Users\\abhay\\AppData\\Local\\Packages\\PythonSoftwareFoundation.Python.3.10_qbz5n2kfra8p0\\LocalCache\\local-packages\\Python310\\site-packages\\keras\\src\\engine\\training.py\", line 2381, in predict_step\n        return self(x, training=False)\n    File \"C:\\Users\\abhay\\AppData\\Local\\Packages\\PythonSoftwareFoundation.Python.3.10_qbz5n2kfra8p0\\LocalCache\\local-packages\\Python310\\site-packages\\keras\\src\\utils\\traceback_utils.py\", line 70, in error_handler\n        raise e.with_traceback(filtered_tb) from None\n    File \"C:\\Users\\abhay\\AppData\\Local\\Packages\\PythonSoftwareFoundation.Python.3.10_qbz5n2kfra8p0\\LocalCache\\local-packages\\Python310\\site-packages\\keras\\src\\engine\\input_spec.py\", line 298, in assert_input_compatibility\n        raise ValueError(\n\n    ValueError: Input 0 of layer \"model_1\" is incompatible with the layer: expected shape=(None, 138), found shape=(None, 285)\n",
     "output_type": "error",
     "traceback": [
      "\u001b[1;31m---------------------------------------------------------------------------\u001b[0m",
      "\u001b[1;31mValueError\u001b[0m                                Traceback (most recent call last)",
      "Cell \u001b[1;32mIn[87], line 2\u001b[0m\n\u001b[0;32m      1\u001b[0m \u001b[38;5;66;03m# predict on test set\u001b[39;00m\n\u001b[1;32m----> 2\u001b[0m pred \u001b[38;5;241m=\u001b[39m \u001b[43mmodel\u001b[49m\u001b[38;5;241;43m.\u001b[39;49m\u001b[43mpredict\u001b[49m\u001b[43m(\u001b[49m\u001b[43m[\u001b[49m\u001b[43mcontours_test_rp\u001b[49m\u001b[43m,\u001b[49m\u001b[43m \u001b[49m\u001b[43mlengths_test\u001b[49m\u001b[43m]\u001b[49m\u001b[43m)\u001b[49m  \n\u001b[0;32m      3\u001b[0m threshold \u001b[38;5;241m=\u001b[39m \u001b[38;5;241m0.5\u001b[39m\n\u001b[0;32m      4\u001b[0m pred[pred \u001b[38;5;241m>\u001b[39m\u001b[38;5;241m=\u001b[39m threshold] \u001b[38;5;241m=\u001b[39m \u001b[38;5;241m1\u001b[39m\n",
      "File \u001b[1;32m~\\AppData\\Local\\Packages\\PythonSoftwareFoundation.Python.3.10_qbz5n2kfra8p0\\LocalCache\\local-packages\\Python310\\site-packages\\keras\\src\\utils\\traceback_utils.py:70\u001b[0m, in \u001b[0;36mfilter_traceback.<locals>.error_handler\u001b[1;34m(*args, **kwargs)\u001b[0m\n\u001b[0;32m     67\u001b[0m     filtered_tb \u001b[38;5;241m=\u001b[39m _process_traceback_frames(e\u001b[38;5;241m.\u001b[39m__traceback__)\n\u001b[0;32m     68\u001b[0m     \u001b[38;5;66;03m# To get the full stack trace, call:\u001b[39;00m\n\u001b[0;32m     69\u001b[0m     \u001b[38;5;66;03m# `tf.debugging.disable_traceback_filtering()`\u001b[39;00m\n\u001b[1;32m---> 70\u001b[0m     \u001b[38;5;28;01mraise\u001b[39;00m e\u001b[38;5;241m.\u001b[39mwith_traceback(filtered_tb) \u001b[38;5;28;01mfrom\u001b[39;00m \u001b[38;5;28;01mNone\u001b[39;00m\n\u001b[0;32m     71\u001b[0m \u001b[38;5;28;01mfinally\u001b[39;00m:\n\u001b[0;32m     72\u001b[0m     \u001b[38;5;28;01mdel\u001b[39;00m filtered_tb\n",
      "File \u001b[1;32m~\\AppData\\Local\\Temp\\__autograph_generated_fileb_cn9f_5.py:15\u001b[0m, in \u001b[0;36mouter_factory.<locals>.inner_factory.<locals>.tf__predict_function\u001b[1;34m(iterator)\u001b[0m\n\u001b[0;32m     13\u001b[0m \u001b[38;5;28;01mtry\u001b[39;00m:\n\u001b[0;32m     14\u001b[0m     do_return \u001b[38;5;241m=\u001b[39m \u001b[38;5;28;01mTrue\u001b[39;00m\n\u001b[1;32m---> 15\u001b[0m     retval_ \u001b[38;5;241m=\u001b[39m ag__\u001b[38;5;241m.\u001b[39mconverted_call(ag__\u001b[38;5;241m.\u001b[39mld(step_function), (ag__\u001b[38;5;241m.\u001b[39mld(\u001b[38;5;28mself\u001b[39m), ag__\u001b[38;5;241m.\u001b[39mld(iterator)), \u001b[38;5;28;01mNone\u001b[39;00m, fscope)\n\u001b[0;32m     16\u001b[0m \u001b[38;5;28;01mexcept\u001b[39;00m:\n\u001b[0;32m     17\u001b[0m     do_return \u001b[38;5;241m=\u001b[39m \u001b[38;5;28;01mFalse\u001b[39;00m\n",
      "\u001b[1;31mValueError\u001b[0m: in user code:\n\n    File \"C:\\Users\\abhay\\AppData\\Local\\Packages\\PythonSoftwareFoundation.Python.3.10_qbz5n2kfra8p0\\LocalCache\\local-packages\\Python310\\site-packages\\keras\\src\\engine\\training.py\", line 2440, in predict_function  *\n        return step_function(self, iterator)\n    File \"C:\\Users\\abhay\\AppData\\Local\\Packages\\PythonSoftwareFoundation.Python.3.10_qbz5n2kfra8p0\\LocalCache\\local-packages\\Python310\\site-packages\\keras\\src\\engine\\training.py\", line 2425, in step_function  **\n        outputs = model.distribute_strategy.run(run_step, args=(data,))\n    File \"C:\\Users\\abhay\\AppData\\Local\\Packages\\PythonSoftwareFoundation.Python.3.10_qbz5n2kfra8p0\\LocalCache\\local-packages\\Python310\\site-packages\\keras\\src\\engine\\training.py\", line 2413, in run_step  **\n        outputs = model.predict_step(data)\n    File \"C:\\Users\\abhay\\AppData\\Local\\Packages\\PythonSoftwareFoundation.Python.3.10_qbz5n2kfra8p0\\LocalCache\\local-packages\\Python310\\site-packages\\keras\\src\\engine\\training.py\", line 2381, in predict_step\n        return self(x, training=False)\n    File \"C:\\Users\\abhay\\AppData\\Local\\Packages\\PythonSoftwareFoundation.Python.3.10_qbz5n2kfra8p0\\LocalCache\\local-packages\\Python310\\site-packages\\keras\\src\\utils\\traceback_utils.py\", line 70, in error_handler\n        raise e.with_traceback(filtered_tb) from None\n    File \"C:\\Users\\abhay\\AppData\\Local\\Packages\\PythonSoftwareFoundation.Python.3.10_qbz5n2kfra8p0\\LocalCache\\local-packages\\Python310\\site-packages\\keras\\src\\engine\\input_spec.py\", line 298, in assert_input_compatibility\n        raise ValueError(\n\n    ValueError: Input 0 of layer \"model_1\" is incompatible with the layer: expected shape=(None, 138), found shape=(None, 285)\n"
     ]
    }
   ],
   "source": [
    "# predict on test set\n",
    "pred = model.predict([contours_test_rp, lengths_test])  \n",
    "threshold = 0.5\n",
    "pred[pred >= threshold] = 1\n",
    "pred[pred < threshold] = 0\n",
    "pred = pred.reshape(-1)"
   ]
  },
  {
   "attachments": {},
   "cell_type": "markdown",
   "metadata": {},
   "source": [
    "## Class Weights\n",
    "* 75% of the labels are stressed\n",
    "* Hence the model is biased towards stressed data\n",
    "* Half the time, the unstressed labels were predicted as stressed\n",
    "* Class weights place a greater importance in getting the unstressed labels correct than the stressed labels"
   ]
  },
  {
   "cell_type": "code",
   "execution_count": 88,
   "metadata": {},
   "outputs": [
    {
     "name": "stdout",
     "output_type": "stream",
     "text": [
      "Model: \"sequential_5\"\n",
      "_________________________________________________________________\n",
      " Layer (type)                Output Shape              Param #   \n",
      "=================================================================\n",
      " dense_28 (Dense)            (None, 64)                18304     \n",
      "                                                                 \n",
      " dense_29 (Dense)            (None, 128)               8320      \n",
      "                                                                 \n",
      " dense_30 (Dense)            (None, 256)               33024     \n",
      "                                                                 \n",
      " dense_31 (Dense)            (None, 1)                 257       \n",
      "                                                                 \n",
      "=================================================================\n",
      "Total params: 59905 (234.00 KB)\n",
      "Trainable params: 59905 (234.00 KB)\n",
      "Non-trainable params: 0 (0.00 Byte)\n",
      "_________________________________________________________________\n"
     ]
    }
   ],
   "source": [
    "# define the model\n",
    "model = Sequential()\n",
    "model.add(Dense(64, input_dim=max_length, activation='relu'))\n",
    "model.add(Dense(128, activation='relu'))\n",
    "model.add(Dense(256, activation='relu'))\n",
    "model.add(Dense(1, activation='sigmoid'))\n",
    "\n",
    "model.summary()"
   ]
  },
  {
   "cell_type": "code",
   "execution_count": 89,
   "metadata": {},
   "outputs": [],
   "source": [
    "model.compile(loss='binary_crossentropy', optimizer='rmsprop', metrics=['accuracy'])"
   ]
  },
  {
   "cell_type": "code",
   "execution_count": 90,
   "metadata": {},
   "outputs": [
    {
     "name": "stdout",
     "output_type": "stream",
     "text": [
      "Epoch 1/100\n",
      "912/912 [==============================] - 3s 3ms/step - loss: 0.5633 - accuracy: 0.7321 - val_loss: 0.4869 - val_accuracy: 0.7805\n",
      "Epoch 2/100\n",
      "912/912 [==============================] - 2s 2ms/step - loss: 0.5299 - accuracy: 0.7605 - val_loss: 0.5890 - val_accuracy: 0.7084\n",
      "Epoch 3/100\n",
      "912/912 [==============================] - 2s 2ms/step - loss: 0.5136 - accuracy: 0.7792 - val_loss: 0.4702 - val_accuracy: 0.7931\n",
      "Epoch 4/100\n",
      "912/912 [==============================] - 2s 3ms/step - loss: 0.5086 - accuracy: 0.7840 - val_loss: 0.4773 - val_accuracy: 0.7920\n",
      "Epoch 5/100\n",
      "912/912 [==============================] - 2s 3ms/step - loss: 0.4997 - accuracy: 0.7865 - val_loss: 0.5401 - val_accuracy: 0.7621\n",
      "Epoch 6/100\n",
      "912/912 [==============================] - 2s 3ms/step - loss: 0.4992 - accuracy: 0.7833 - val_loss: 0.4676 - val_accuracy: 0.7970\n",
      "Epoch 7/100\n",
      "912/912 [==============================] - 2s 3ms/step - loss: 0.4941 - accuracy: 0.7888 - val_loss: 0.4927 - val_accuracy: 0.7885\n",
      "Epoch 8/100\n",
      "912/912 [==============================] - 2s 3ms/step - loss: 0.4915 - accuracy: 0.7923 - val_loss: 0.4656 - val_accuracy: 0.8170\n",
      "Epoch 9/100\n",
      "912/912 [==============================] - 2s 3ms/step - loss: 0.4924 - accuracy: 0.7972 - val_loss: 0.5013 - val_accuracy: 0.7863\n",
      "Epoch 10/100\n",
      "912/912 [==============================] - 2s 2ms/step - loss: 0.4875 - accuracy: 0.7936 - val_loss: 0.4467 - val_accuracy: 0.8008\n",
      "Epoch 11/100\n",
      "912/912 [==============================] - 2s 3ms/step - loss: 0.4868 - accuracy: 0.7950 - val_loss: 0.4700 - val_accuracy: 0.7981\n",
      "Epoch 12/100\n",
      "912/912 [==============================] - 2s 3ms/step - loss: 0.4889 - accuracy: 0.7991 - val_loss: 0.4820 - val_accuracy: 0.7937\n",
      "Epoch 13/100\n",
      "912/912 [==============================] - 3s 3ms/step - loss: 0.4903 - accuracy: 0.8009 - val_loss: 0.4823 - val_accuracy: 0.7926\n",
      "Epoch 14/100\n",
      "912/912 [==============================] - 3s 3ms/step - loss: 0.4874 - accuracy: 0.7973 - val_loss: 0.4785 - val_accuracy: 0.7915\n",
      "Epoch 15/100\n",
      "912/912 [==============================] - 3s 3ms/step - loss: 0.4861 - accuracy: 0.8019 - val_loss: 0.6178 - val_accuracy: 0.7619\n"
     ]
    },
    {
     "data": {
      "text/plain": [
       "<keras.src.callbacks.History at 0x24f2efa9ea0>"
      ]
     },
     "execution_count": 90,
     "metadata": {},
     "output_type": "execute_result"
    }
   ],
   "source": [
    "model.fit(\n",
    "    contours_train_merged, labels_train_merged,\n",
    "    batch_size=16, epochs=100, validation_split=0.2,\n",
    "    callbacks=[early_stopping],\n",
    "    class_weight=class_weights_dict\n",
    ")"
   ]
  },
  {
   "cell_type": "code",
   "execution_count": 91,
   "metadata": {},
   "outputs": [
    {
     "name": "stdout",
     "output_type": "stream",
     "text": [
      "143/143 [==============================] - 0s 2ms/step\n"
     ]
    }
   ],
   "source": [
    "# predict on test set\n",
    "pred = model.predict(contours_test_merged)\n",
    "threshold = 0.5\n",
    "pred[pred >= threshold] = 1\n",
    "pred[pred < threshold] = 0\n",
    "pred = pred.reshape(-1)"
   ]
  },
  {
   "cell_type": "code",
   "execution_count": 92,
   "metadata": {},
   "outputs": [],
   "source": [
    "# calculate accuracy\n",
    "num_correct = np.count_nonzero(labels_test_merged == pred)\n",
    "num_wrong = len(labels_test_merged) - num_correct\n",
    "accuracy = (num_correct / len(labels_test_merged)) * 100\n",
    "\n",
    "num_1as0 = np.count_nonzero((labels_test_merged == 1) & (pred == 0))\n",
    "num_1 = np.count_nonzero(labels_test_merged == 1)\n",
    "perc1as0 = (num_1as0 / num_1 )* 100\n",
    "\n",
    "num_0as1 = np.count_nonzero((labels_test_merged == 0) & (pred == 1))\n",
    "num_0 = np.count_nonzero(labels_test_merged == 0)\n",
    "perc0as1 = (num_0as1 / num_0 )* 100"
   ]
  },
  {
   "cell_type": "code",
   "execution_count": 93,
   "metadata": {},
   "outputs": [
    {
     "name": "stdout",
     "output_type": "stream",
     "text": [
      "Accuracy: 77.81%\n",
      "1 as 0 percentage: 21.41%\n",
      "0 as 1 percentage: 24.58%\n"
     ]
    }
   ],
   "source": [
    "# display results\n",
    "print(f\"Accuracy: {accuracy:.2f}%\")\n",
    "print(f\"1 as 0 percentage: {perc1as0:.2f}%\")\n",
    "print(f\"0 as 1 percentage: {perc0as1:.2f}%\")"
   ]
  },
  {
   "attachments": {},
   "cell_type": "markdown",
   "metadata": {},
   "source": [
    "## Capture the duration\n",
    "The TimeDistributed layer is a wrapper in Keras that allows you to apply a layer to each time step of an input sequence. It is useful for processing sequential data such as time series or video frames where each time step or frame has the same structure and the same layer(s) need to be applied to each time step/frame."
   ]
  },
  {
   "cell_type": "code",
   "execution_count": 94,
   "metadata": {},
   "outputs": [
    {
     "name": "stdout",
     "output_type": "stream",
     "text": [
      "Model: \"sequential_6\"\n",
      "_________________________________________________________________\n",
      " Layer (type)                Output Shape              Param #   \n",
      "=================================================================\n",
      " time_distributed (TimeDist  (None, 1, 64)             18304     \n",
      " ributed)                                                        \n",
      "                                                                 \n",
      " time_distributed_1 (TimeDi  (None, 1, 128)            8320      \n",
      " stributed)                                                      \n",
      "                                                                 \n",
      " time_distributed_2 (TimeDi  (None, 1, 256)            33024     \n",
      " stributed)                                                      \n",
      "                                                                 \n",
      " time_distributed_3 (TimeDi  (None, 1, 1)              257       \n",
      " stributed)                                                      \n",
      "                                                                 \n",
      " flatten (Flatten)           (None, 1)                 0         \n",
      "                                                                 \n",
      "=================================================================\n",
      "Total params: 59905 (234.00 KB)\n",
      "Trainable params: 59905 (234.00 KB)\n",
      "Non-trainable params: 0 (0.00 Byte)\n",
      "_________________________________________________________________\n"
     ]
    }
   ],
   "source": [
    "# use time distributed layer to capture temporal information\n",
    "model = Sequential()\n",
    "model.add(TimeDistributed(Dense(64, input_dim=max_length, activation='relu')))\n",
    "model.add(TimeDistributed(Dense(128, activation='relu')))\n",
    "model.add(TimeDistributed(Dense(256, activation='relu')))\n",
    "model.add(TimeDistributed(Dense(1, activation='sigmoid')))\n",
    "model.add(Flatten())\n",
    "\n",
    "# build the model with model.build()\n",
    "model.build(input_shape=(None, 1, max_length))\n",
    "\n",
    "model.summary()"
   ]
  },
  {
   "cell_type": "code",
   "execution_count": 95,
   "metadata": {},
   "outputs": [],
   "source": [
    "model.compile(loss='binary_crossentropy', optimizer='rmsprop', metrics=['accuracy'])\n",
    "contours_train_merged_rs = np.reshape(contours_train_merged, (contours_train_merged.shape[0], 1, contours_train_merged.shape[1]))"
   ]
  },
  {
   "cell_type": "code",
   "execution_count": 96,
   "metadata": {},
   "outputs": [
    {
     "name": "stdout",
     "output_type": "stream",
     "text": [
      "Epoch 1/100\n"
     ]
    },
    {
     "name": "stdout",
     "output_type": "stream",
     "text": [
      "912/912 [==============================] - 4s 3ms/step - loss: 0.4527 - accuracy: 0.7988 - val_loss: 0.4927 - val_accuracy: 0.7907\n",
      "Epoch 2/100\n",
      "912/912 [==============================] - 2s 2ms/step - loss: 0.4230 - accuracy: 0.8197 - val_loss: 0.4308 - val_accuracy: 0.8236\n",
      "Epoch 3/100\n",
      "912/912 [==============================] - 2s 2ms/step - loss: 0.4094 - accuracy: 0.8261 - val_loss: 0.4264 - val_accuracy: 0.8272\n",
      "Epoch 4/100\n",
      "912/912 [==============================] - 2s 2ms/step - loss: 0.3988 - accuracy: 0.8315 - val_loss: 0.4336 - val_accuracy: 0.8261\n",
      "Epoch 5/100\n",
      "912/912 [==============================] - 2s 2ms/step - loss: 0.3936 - accuracy: 0.8336 - val_loss: 0.4153 - val_accuracy: 0.8285\n",
      "Epoch 6/100\n",
      "912/912 [==============================] - 2s 3ms/step - loss: 0.3895 - accuracy: 0.8400 - val_loss: 0.4183 - val_accuracy: 0.8285\n",
      "Epoch 7/100\n",
      "912/912 [==============================] - 2s 3ms/step - loss: 0.3851 - accuracy: 0.8424 - val_loss: 0.4343 - val_accuracy: 0.8274\n",
      "Epoch 8/100\n",
      "912/912 [==============================] - 2s 3ms/step - loss: 0.3821 - accuracy: 0.8444 - val_loss: 0.4166 - val_accuracy: 0.8280\n",
      "Epoch 9/100\n",
      "912/912 [==============================] - 3s 3ms/step - loss: 0.3805 - accuracy: 0.8460 - val_loss: 0.4337 - val_accuracy: 0.8285\n",
      "Epoch 10/100\n",
      "912/912 [==============================] - 2s 3ms/step - loss: 0.3768 - accuracy: 0.8462 - val_loss: 0.4006 - val_accuracy: 0.8316\n",
      "Epoch 11/100\n",
      "912/912 [==============================] - 2s 3ms/step - loss: 0.3763 - accuracy: 0.8478 - val_loss: 0.3949 - val_accuracy: 0.8379\n",
      "Epoch 12/100\n",
      "912/912 [==============================] - 2s 3ms/step - loss: 0.3725 - accuracy: 0.8493 - val_loss: 0.3995 - val_accuracy: 0.8436\n",
      "Epoch 13/100\n",
      "912/912 [==============================] - 2s 3ms/step - loss: 0.3740 - accuracy: 0.8491 - val_loss: 0.4467 - val_accuracy: 0.8178\n",
      "Epoch 14/100\n",
      "912/912 [==============================] - 2s 3ms/step - loss: 0.3707 - accuracy: 0.8498 - val_loss: 0.6360 - val_accuracy: 0.7067\n",
      "Epoch 15/100\n",
      "912/912 [==============================] - 3s 3ms/step - loss: 0.3682 - accuracy: 0.8524 - val_loss: 0.4469 - val_accuracy: 0.8151\n",
      "Epoch 16/100\n",
      "912/912 [==============================] - 3s 3ms/step - loss: 0.3691 - accuracy: 0.8514 - val_loss: 0.4213 - val_accuracy: 0.8203\n"
     ]
    },
    {
     "data": {
      "text/plain": [
       "<keras.src.callbacks.History at 0x24f329b4b20>"
      ]
     },
     "execution_count": 96,
     "metadata": {},
     "output_type": "execute_result"
    }
   ],
   "source": [
    "model.fit(\n",
    "    contours_train_merged_rs, labels_train_merged,\n",
    "    batch_size=16, epochs=100, validation_split=0.2,\n",
    "    callbacks=[early_stopping],\n",
    ")"
   ]
  },
  {
   "cell_type": "code",
   "execution_count": 97,
   "metadata": {},
   "outputs": [
    {
     "name": "stdout",
     "output_type": "stream",
     "text": [
      "143/143 [==============================] - 0s 2ms/step\n"
     ]
    }
   ],
   "source": [
    "# predict on test set\n",
    "pred = model.predict(contours_test_merged.reshape((contours_test_merged.shape[0], 1, contours_test_merged.shape[1])))\n",
    "# pred = model.predict(contours_test_merged)\n",
    "threshold = 0.5\n",
    "pred[pred >= threshold] = 1\n",
    "pred[pred < threshold] = 0\n",
    "pred = pred.reshape(-1)"
   ]
  },
  {
   "cell_type": "code",
   "execution_count": 98,
   "metadata": {},
   "outputs": [],
   "source": [
    "# calculate accuracy\n",
    "num_correct = np.count_nonzero(labels_test_merged == pred)\n",
    "num_wrong = len(labels_test_merged) - num_correct\n",
    "accuracy = (num_correct / len(labels_test_merged)) * 100\n",
    "\n",
    "num_1as0 = np.count_nonzero((labels_test_merged == 1) & (pred == 0))\n",
    "num_1 = np.count_nonzero(labels_test_merged == 1)\n",
    "perc1as0 = (num_1as0 / num_1 )* 100\n",
    "\n",
    "num_0as1 = np.count_nonzero((labels_test_merged == 0) & (pred == 1))\n",
    "num_0 = np.count_nonzero(labels_test_merged == 0)\n",
    "perc0as1 = (num_0as1 / num_0 )* 100"
   ]
  },
  {
   "cell_type": "code",
   "execution_count": 99,
   "metadata": {},
   "outputs": [
    {
     "name": "stdout",
     "output_type": "stream",
     "text": [
      "Accuracy: 83.21%\n",
      "1 as 0 percentage: 6.47%\n",
      "0 as 1 percentage: 48.18%\n"
     ]
    }
   ],
   "source": [
    "# display results\n",
    "print(f\"Accuracy: {accuracy:.2f}%\")\n",
    "print(f\"1 as 0 percentage: {perc1as0:.2f}%\")\n",
    "print(f\"0 as 1 percentage: {perc0as1:.2f}%\")"
   ]
  },
  {
   "attachments": {},
   "cell_type": "markdown",
   "metadata": {},
   "source": [
    "## Capture the Duration - Class Weights"
   ]
  },
  {
   "cell_type": "code",
   "execution_count": 100,
   "metadata": {},
   "outputs": [
    {
     "name": "stdout",
     "output_type": "stream",
     "text": [
      "Epoch 1/100\n"
     ]
    },
    {
     "name": "stdout",
     "output_type": "stream",
     "text": [
      "912/912 [==============================] - 3s 3ms/step - loss: 0.4794 - accuracy: 0.8146 - val_loss: 0.4888 - val_accuracy: 0.7967\n",
      "Epoch 2/100\n",
      "912/912 [==============================] - 3s 3ms/step - loss: 0.4745 - accuracy: 0.8165 - val_loss: 0.4307 - val_accuracy: 0.8162\n",
      "Epoch 3/100\n",
      "912/912 [==============================] - 3s 3ms/step - loss: 0.4722 - accuracy: 0.8102 - val_loss: 0.4459 - val_accuracy: 0.8145\n",
      "Epoch 4/100\n",
      "912/912 [==============================] - 3s 3ms/step - loss: 0.4833 - accuracy: 0.8137 - val_loss: 0.4523 - val_accuracy: 0.8093\n",
      "Epoch 5/100\n",
      "912/912 [==============================] - 3s 3ms/step - loss: 0.4814 - accuracy: 0.8094 - val_loss: 0.4543 - val_accuracy: 0.7978\n",
      "Epoch 6/100\n",
      "912/912 [==============================] - 3s 3ms/step - loss: 0.4887 - accuracy: 0.8066 - val_loss: 0.4360 - val_accuracy: 0.8230\n",
      "Epoch 7/100\n",
      "912/912 [==============================] - 3s 3ms/step - loss: 0.4923 - accuracy: 0.8053 - val_loss: 0.4615 - val_accuracy: 0.8189\n"
     ]
    },
    {
     "data": {
      "text/plain": [
       "<keras.src.callbacks.History at 0x24f3ed8d4b0>"
      ]
     },
     "execution_count": 100,
     "metadata": {},
     "output_type": "execute_result"
    }
   ],
   "source": [
    "model.fit(\n",
    "    contours_train_merged_rs, labels_train_merged,\n",
    "    batch_size=16, epochs=100, validation_split=0.2,\n",
    "    callbacks=[early_stopping],\n",
    "    class_weight=class_weights_dict\n",
    ")"
   ]
  },
  {
   "cell_type": "code",
   "execution_count": 101,
   "metadata": {},
   "outputs": [
    {
     "name": "stdout",
     "output_type": "stream",
     "text": [
      "143/143 [==============================] - 0s 2ms/step\n"
     ]
    }
   ],
   "source": [
    "# predict on test set\n",
    "pred = model.predict(contours_test_merged.reshape((contours_test_merged.shape[0], 1, contours_test_merged.shape[1])))\n",
    "# pred = model.predict(contours_test_merged)\n",
    "threshold = 0.5\n",
    "pred[pred >= threshold] = 1\n",
    "pred[pred < threshold] = 0\n",
    "pred = pred.reshape(-1)"
   ]
  },
  {
   "cell_type": "code",
   "execution_count": 102,
   "metadata": {},
   "outputs": [],
   "source": [
    "# calculate accuracy\n",
    "num_correct = np.count_nonzero(labels_test_merged == pred)\n",
    "num_wrong = len(labels_test_merged) - num_correct\n",
    "accuracy = (num_correct / len(labels_test_merged)) * 100\n",
    "\n",
    "num_1as0 = np.count_nonzero((labels_test_merged == 1) & (pred == 0))\n",
    "num_1 = np.count_nonzero(labels_test_merged == 1)\n",
    "perc1as0 = (num_1as0 / num_1 )* 100\n",
    "\n",
    "num_0as1 = np.count_nonzero((labels_test_merged == 0) & (pred == 1))\n",
    "num_0 = np.count_nonzero(labels_test_merged == 0)\n",
    "perc0as1 = (num_0as1 / num_0 )* 100"
   ]
  },
  {
   "cell_type": "code",
   "execution_count": 103,
   "metadata": {},
   "outputs": [
    {
     "name": "stdout",
     "output_type": "stream",
     "text": [
      "Accuracy: 82.42%\n",
      "1 as 0 percentage: 11.96%\n",
      "0 as 1 percentage: 34.69%\n"
     ]
    }
   ],
   "source": [
    "# display results\n",
    "print(f\"Accuracy: {accuracy:.2f}%\")\n",
    "print(f\"1 as 0 percentage: {perc1as0:.2f}%\")\n",
    "print(f\"0 as 1 percentage: {perc0as1:.2f}%\")"
   ]
  }
 ],
 "metadata": {
  "kernelspec": {
   "display_name": "Python 3",
   "language": "python",
   "name": "python3"
  },
  "language_info": {
   "codemirror_mode": {
    "name": "ipython",
    "version": 3
   },
   "file_extension": ".py",
   "mimetype": "text/x-python",
   "name": "python",
   "nbconvert_exporter": "python",
   "pygments_lexer": "ipython3",
   "version": "3.10.11"
  },
  "orig_nbformat": 4
 },
 "nbformat": 4,
 "nbformat_minor": 2
}
