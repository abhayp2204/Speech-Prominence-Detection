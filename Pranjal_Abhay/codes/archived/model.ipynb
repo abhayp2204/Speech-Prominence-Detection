{
 "cells": [
  {
   "attachments": {},
   "cell_type": "markdown",
   "metadata": {},
   "source": [
    "# Speech Prominence Detection"
   ]
  },
  {
   "cell_type": "code",
   "execution_count": 1,
   "metadata": {},
   "outputs": [],
   "source": [
    "from matplotlib import pyplot as plt\n",
    "import random\n",
    "import pickle as pkl\n",
    "import pandas as pd\n",
    "import numpy as np\n",
    "import math\n",
    "from IPython.display import clear_output"
   ]
  },
  {
   "cell_type": "code",
   "execution_count": 2,
   "metadata": {},
   "outputs": [],
   "source": [
    "from keras.models import Sequential, Model\n",
    "from keras.layers import Dense, Dropout, Activation, Flatten, LSTM, Conv1D, MaxPooling1D, MaxPooling2D, TimeDistributed, Input, Reshape, concatenate, Conv2D, Concatenate\n",
    "from keras.callbacks import EarlyStopping\n",
    "from keras.optimizers import Adam, SGD\n",
    "import tensorflow as tf\n",
    "\n",
    "from sklearn.model_selection import train_test_split\n",
    "from sklearn.utils.class_weight import compute_class_weight\n"
   ]
  },
  {
   "cell_type": "code",
   "execution_count": 3,
   "metadata": {},
   "outputs": [],
   "source": [
    "# load data in one line\n",
    "ger_train = pkl.load(open(\"../saved/ger_train_syls2.pkl\", \"rb\"))\n",
    "ger_test = pkl.load(open(\"../saved/ger_test_syls2.pkl\", \"rb\"))"
   ]
  },
  {
   "cell_type": "code",
   "execution_count": 13,
   "metadata": {},
   "outputs": [
    {
     "data": {
      "text/html": [
       "<div>\n",
       "<style scoped>\n",
       "    .dataframe tbody tr th:only-of-type {\n",
       "        vertical-align: middle;\n",
       "    }\n",
       "\n",
       "    .dataframe tbody tr th {\n",
       "        vertical-align: top;\n",
       "    }\n",
       "\n",
       "    .dataframe thead th {\n",
       "        text-align: right;\n",
       "    }\n",
       "</style>\n",
       "<table border=\"1\" class=\"dataframe\">\n",
       "  <thead>\n",
       "    <tr style=\"text-align: right;\">\n",
       "      <th></th>\n",
       "      <th>contour</th>\n",
       "      <th>labels</th>\n",
       "    </tr>\n",
       "  </thead>\n",
       "  <tbody>\n",
       "    <tr>\n",
       "      <th>0</th>\n",
       "      <td>[0.019162689527500977, 0.018757457994703516, 0...</td>\n",
       "      <td>1</td>\n",
       "    </tr>\n",
       "    <tr>\n",
       "      <th>1</th>\n",
       "      <td>[0.018529939196573957, 0.01878130137324399, 0....</td>\n",
       "      <td>0</td>\n",
       "    </tr>\n",
       "    <tr>\n",
       "      <th>2</th>\n",
       "      <td>[0.11961875005931769, 0.121682252123691, 0.127...</td>\n",
       "      <td>0</td>\n",
       "    </tr>\n",
       "    <tr>\n",
       "      <th>3</th>\n",
       "      <td>[0.4515408450270049, 0.4999236321142739, 0.540...</td>\n",
       "      <td>1</td>\n",
       "    </tr>\n",
       "    <tr>\n",
       "      <th>4</th>\n",
       "      <td>[0.01805156620491014, 0.016649114626452348, 0....</td>\n",
       "      <td>1</td>\n",
       "    </tr>\n",
       "    <tr>\n",
       "      <th>5</th>\n",
       "      <td>[0.0221645457951925, 0.020668090583902107, 0.0...</td>\n",
       "      <td>0</td>\n",
       "    </tr>\n",
       "    <tr>\n",
       "      <th>6</th>\n",
       "      <td>[0.017896778569518847, 0.017883121295485412, 0...</td>\n",
       "      <td>1</td>\n",
       "    </tr>\n",
       "    <tr>\n",
       "      <th>7</th>\n",
       "      <td>[0.015459333090689314, 0.016919037359458496, 0...</td>\n",
       "      <td>0</td>\n",
       "    </tr>\n",
       "    <tr>\n",
       "      <th>8</th>\n",
       "      <td>[0.41321841177550306, 0.3831763137349164, 0.36...</td>\n",
       "      <td>1</td>\n",
       "    </tr>\n",
       "    <tr>\n",
       "      <th>9</th>\n",
       "      <td>[0.012285927412519342, 0.011123811428877351, 0...</td>\n",
       "      <td>0</td>\n",
       "    </tr>\n",
       "    <tr>\n",
       "      <th>10</th>\n",
       "      <td>[0.1297236155667331, 0.21366342271308927, 0.32...</td>\n",
       "      <td>1</td>\n",
       "    </tr>\n",
       "    <tr>\n",
       "      <th>11</th>\n",
       "      <td>[0.2036950974888927, 0.11135865824377641, 0.05...</td>\n",
       "      <td>0</td>\n",
       "    </tr>\n",
       "    <tr>\n",
       "      <th>12</th>\n",
       "      <td>[0.3136764299691856, 0.2183420145140401, 0.128...</td>\n",
       "      <td>1</td>\n",
       "    </tr>\n",
       "    <tr>\n",
       "      <th>13</th>\n",
       "      <td>[0.1335440646808027, 0.23619514519533633, 0.37...</td>\n",
       "      <td>0</td>\n",
       "    </tr>\n",
       "    <tr>\n",
       "      <th>14</th>\n",
       "      <td>[0.01689872948005325, 0.017755136188633263, 0....</td>\n",
       "      <td>1</td>\n",
       "    </tr>\n",
       "    <tr>\n",
       "      <th>15</th>\n",
       "      <td>[0.016127233972930175, 0.01659330935112996, 0....</td>\n",
       "      <td>0</td>\n",
       "    </tr>\n",
       "    <tr>\n",
       "      <th>16</th>\n",
       "      <td>[0.03762653026468702, 0.03862213522451202, 0.0...</td>\n",
       "      <td>1</td>\n",
       "    </tr>\n",
       "    <tr>\n",
       "      <th>17</th>\n",
       "      <td>[0.030366599672333773, 0.030950773171686752, 0...</td>\n",
       "      <td>0</td>\n",
       "    </tr>\n",
       "    <tr>\n",
       "      <th>18</th>\n",
       "      <td>[0.03565264163611624, 0.036680179218655955, 0....</td>\n",
       "      <td>1</td>\n",
       "    </tr>\n",
       "    <tr>\n",
       "      <th>19</th>\n",
       "      <td>[0.9223780427645196, 0.9660829763791763, 0.961...</td>\n",
       "      <td>0</td>\n",
       "    </tr>\n",
       "  </tbody>\n",
       "</table>\n",
       "</div>"
      ],
      "text/plain": [
       "                                              contour  labels\n",
       "0   [0.019162689527500977, 0.018757457994703516, 0...       1\n",
       "1   [0.018529939196573957, 0.01878130137324399, 0....       0\n",
       "2   [0.11961875005931769, 0.121682252123691, 0.127...       0\n",
       "3   [0.4515408450270049, 0.4999236321142739, 0.540...       1\n",
       "4   [0.01805156620491014, 0.016649114626452348, 0....       1\n",
       "5   [0.0221645457951925, 0.020668090583902107, 0.0...       0\n",
       "6   [0.017896778569518847, 0.017883121295485412, 0...       1\n",
       "7   [0.015459333090689314, 0.016919037359458496, 0...       0\n",
       "8   [0.41321841177550306, 0.3831763137349164, 0.36...       1\n",
       "9   [0.012285927412519342, 0.011123811428877351, 0...       0\n",
       "10  [0.1297236155667331, 0.21366342271308927, 0.32...       1\n",
       "11  [0.2036950974888927, 0.11135865824377641, 0.05...       0\n",
       "12  [0.3136764299691856, 0.2183420145140401, 0.128...       1\n",
       "13  [0.1335440646808027, 0.23619514519533633, 0.37...       0\n",
       "14  [0.01689872948005325, 0.017755136188633263, 0....       1\n",
       "15  [0.016127233972930175, 0.01659330935112996, 0....       0\n",
       "16  [0.03762653026468702, 0.03862213522451202, 0.0...       1\n",
       "17  [0.030366599672333773, 0.030950773171686752, 0...       0\n",
       "18  [0.03565264163611624, 0.036680179218655955, 0....       1\n",
       "19  [0.9223780427645196, 0.9660829763791763, 0.961...       0"
      ]
     },
     "execution_count": 13,
     "metadata": {},
     "output_type": "execute_result"
    }
   ],
   "source": [
    "ger_test.head(20)"
   ]
  },
  {
   "attachments": {},
   "cell_type": "markdown",
   "metadata": {},
   "source": [
    "## Stressed and Unstressed Labels"
   ]
  },
  {
   "cell_type": "code",
   "execution_count": 16,
   "metadata": {},
   "outputs": [
    {
     "name": "stdout",
     "output_type": "stream",
     "text": [
      "Train\n",
      "0s:  1656\n",
      "1s:  1656\n",
      "Percentage of 1s:  0.5\n",
      "Percentage of 0s:  0.5\n",
      "\n",
      "Test\n",
      "0s:  1467\n",
      "1s:  1461\n"
     ]
    }
   ],
   "source": [
    "ger_train_labels = np.array(ger_train[\"labels\"])\n",
    "ger_test_labels = np.array(ger_test[\"labels\"])\n",
    "\n",
    "ger_train_labels = ger_train_labels\n",
    "ger_test_labels = ger_test_labels\n",
    "\n",
    "# count 0s and 1s\n",
    "zeros_train = np.count_nonzero(ger_train_labels == 0)\n",
    "ones_train = np.count_nonzero(ger_train_labels == 1)\n",
    "\n",
    "zeros_test = np.count_nonzero(ger_test_labels == 0)\n",
    "ones_test = np.count_nonzero(ger_test_labels == 1)\n",
    "\n",
    "print(\"Train\")\n",
    "print(\"0s: \", zeros_train)\n",
    "print(\"1s: \", ones_train)\n",
    "# percentage of 1s\n",
    "print(\"Percentage of 1s: \", ones_train / (ones_train + zeros_train))\n",
    "print(\"Percentage of 0s: \", zeros_train / (ones_train + zeros_train))\n",
    "print()\n",
    "print(\"Test\")\n",
    "print(\"0s: \", zeros_test)\n",
    "print(\"1s: \", ones_test)"
   ]
  },
  {
   "attachments": {},
   "cell_type": "markdown",
   "metadata": {},
   "source": [
    "## Contour Lengths"
   ]
  },
  {
   "cell_type": "code",
   "execution_count": 20,
   "metadata": {},
   "outputs": [
    {
     "name": "stdout",
     "output_type": "stream",
     "text": [
      "Train\n",
      "max length:  138\n",
      "mean length:  25.21256038647343\n",
      "\n",
      "Test\n",
      "max length:  135\n",
      "mean length:  25.807718579234972\n"
     ]
    }
   ],
   "source": [
    "# make a list of lengths of all contours\n",
    "lengths_train = np.array([len(contour) for contour in ger_train[\"contour\"]])\n",
    "lengths_train.mean()\n",
    "\n",
    "lengths_test = np.array([len(contour) for contour in ger_test[\"contour\"]])\n",
    "lengths_test.mean()\n",
    "\n",
    "print(\"Train\")\n",
    "print(\"max length: \", lengths_train.max())\n",
    "print(\"mean length: \", lengths_train.mean())\n",
    "print()\n",
    "print(\"Test\")\n",
    "print(\"max length: \", lengths_test.max())\n",
    "print(\"mean length: \", lengths_test.mean())"
   ]
  },
  {
   "cell_type": "code",
   "execution_count": 22,
   "metadata": {},
   "outputs": [],
   "source": [
    "# calculate the max length of all contours\n",
    "max_length_train = max([len(contour) for contour in ger_train[\"contour\"]])\n",
    "max_length_test = max([len(contour) for contour in ger_test[\"contour\"]])\n",
    "max_length = max(max_length_train, max_length_test)"
   ]
  },
  {
   "attachments": {},
   "cell_type": "markdown",
   "metadata": {},
   "source": [
    "## Padding"
   ]
  },
  {
   "cell_type": "code",
   "execution_count": 23,
   "metadata": {},
   "outputs": [],
   "source": [
    "# pad all contours to the same length using left padding, right padding, and both side padding\n",
    "def pad_contours(contours, length, padding=\"both\"):\n",
    "    padded_contours = []\n",
    "    for contour in contours:\n",
    "        if padding == \"left\":\n",
    "            padded_contours.append(np.pad(contour, (length-len(contour), 0), 'constant'))\n",
    "        elif padding == \"right\":\n",
    "            padded = np.pad(contour, (0, length-len(contour)), 'constant')\n",
    "            padded_contours.append(padded)\n",
    "        elif padding == \"both\":\n",
    "            padded = np.pad(contour, (math.floor((length-len(contour))/2), math.ceil((length-len(contour))/2)), 'constant')\n",
    "            padded_contours.append(padded)\n",
    "    return np.array(padded_contours)"
   ]
  },
  {
   "cell_type": "code",
   "execution_count": 25,
   "metadata": {},
   "outputs": [],
   "source": [
    "contours_train_rp = pad_contours(ger_train[\"contour\"], max_length, padding=\"right\")\n",
    "contours_train_lp = pad_contours(ger_train[\"contour\"], max_length, padding=\"left\")\n",
    "contours_train_bp = pad_contours(ger_train[\"contour\"], max_length, padding=\"both\")\n",
    "\n",
    "contours_test_rp = pad_contours(ger_test[\"contour\"], max_length, padding=\"right\")\n",
    "contours_test_lp = pad_contours(ger_test[\"contour\"], max_length, padding=\"left\")\n",
    "contours_test_bp = pad_contours(ger_test[\"contour\"], max_length, padding=\"both\")"
   ]
  },
  {
   "cell_type": "code",
   "execution_count": 26,
   "metadata": {},
   "outputs": [],
   "source": [
    "contours_train_rp_df = pd.DataFrame(contours_train_rp)\n",
    "contours_train_lp_df = pd.DataFrame(contours_train_lp)\n",
    "contours_train_bp_df = pd.DataFrame(contours_train_bp)"
   ]
  },
  {
   "cell_type": "code",
   "execution_count": 27,
   "metadata": {},
   "outputs": [
    {
     "name": "stdout",
     "output_type": "stream",
     "text": [
      "right\n"
     ]
    },
    {
     "data": {
      "image/png": "[encoded data removed]",
      "text/plain": [
       "<Figure size 2000x400 with 5 Axes>"
      ]
     },
     "metadata": {},
     "output_type": "display_data"
    },
    {
     "name": "stdout",
     "output_type": "stream",
     "text": [
      "left\n"
     ]
    },
    {
     "data": {
      "image/png": "[encoded data removed]",
      "text/plain": [
       "<Figure size 2000x400 with 5 Axes>"
      ]
     },
     "metadata": {},
     "output_type": "display_data"
    },
    {
     "name": "stdout",
     "output_type": "stream",
     "text": [
      "both\n"
     ]
    },
    {
     "data": {
      "image/png": "[encoded data removed]",
      "text/plain": [
       "<Figure size 2000x400 with 5 Axes>"
      ]
     },
     "metadata": {},
     "output_type": "display_data"
    }
   ],
   "source": [
    "# visualize the padded contours side by side with subplots\n",
    "def plot_contours(contours, labels, length, padding=\"both\"):\n",
    "    fig, axs = plt.subplots(1, 5, figsize=(20, 4))\n",
    "    print(padding)\n",
    "\n",
    "    for i in range(5):\n",
    "        r = random.randint(0, len(contours)-1)\n",
    "        z = i + 100\n",
    "        axs[i].plot(contours[z])\n",
    "        axs[i].set_title(\"Label: \" + str(labels[z]))\n",
    "\n",
    "\n",
    "        if padding == \"left\":\n",
    "            axs[i].set_xlim(0, length)\n",
    "\n",
    "        elif padding == \"right\":\n",
    "            axs[i].set_xlim(0, length)\n",
    "\n",
    "        elif padding == \"both\":\n",
    "            axs[i].set_xlim(0, length)\n",
    "    plt.show()\n",
    "\n",
    "plot_contours(contours_train_rp, ger_train_labels, max_length, padding=\"right\")\n",
    "plot_contours(contours_train_lp, ger_train_labels, max_length, padding=\"left\")\n",
    "plot_contours(contours_train_bp, ger_train_labels, max_length, padding=\"both\")"
   ]
  },
  {
   "attachments": {},
   "cell_type": "markdown",
   "metadata": {},
   "source": [
    "## Model"
   ]
  },
  {
   "cell_type": "code",
   "execution_count": 28,
   "metadata": {},
   "outputs": [],
   "source": [
    "model = Sequential()\n",
    "model.add(Dense(64, input_dim=max_length, activation='relu'))\n",
    "model.add(Dense(128, activation='relu'))\n",
    "model.add(Dense(256, activation='relu'))\n",
    "model.add(Dense(512, activation='relu'))\n",
    "model.add(Dense(256, activation='relu'))\n",
    "model.add(Dropout(0.2))\n",
    "model.add(Dense(1, activation='sigmoid'))"
   ]
  },
  {
   "cell_type": "code",
   "execution_count": 29,
   "metadata": {},
   "outputs": [
    {
     "name": "stdout",
     "output_type": "stream",
     "text": [
      "Model: \"sequential\"\n",
      "_________________________________________________________________\n",
      " Layer (type)                Output Shape              Param #   \n",
      "=================================================================\n",
      " dense (Dense)               (None, 64)                8896      \n",
      "                                                                 \n",
      " dense_1 (Dense)             (None, 128)               8320      \n",
      "                                                                 \n",
      " dense_2 (Dense)             (None, 256)               33024     \n",
      "                                                                 \n",
      " dense_3 (Dense)             (None, 512)               131584    \n",
      "                                                                 \n",
      " dense_4 (Dense)             (None, 256)               131328    \n",
      "                                                                 \n",
      " dropout (Dropout)           (None, 256)               0         \n",
      "                                                                 \n",
      " dense_5 (Dense)             (None, 1)                 257       \n",
      "                                                                 \n",
      "=================================================================\n",
      "Total params: 313,409\n",
      "Trainable params: 313,409\n",
      "Non-trainable params: 0\n",
      "_________________________________________________________________\n"
     ]
    }
   ],
   "source": [
    "model.summary()"
   ]
  },
  {
   "cell_type": "code",
   "execution_count": 30,
   "metadata": {},
   "outputs": [
    {
     "name": "stdout",
     "output_type": "stream",
     "text": [
      "Epoch 1/40\n",
      "373/373 [==============================] - 4s 6ms/step - loss: 0.6875 - accuracy: 0.5520 - val_loss: 0.6765 - val_accuracy: 0.5843\n",
      "Epoch 2/40\n",
      "373/373 [==============================] - 2s 5ms/step - loss: 0.6810 - accuracy: 0.5725 - val_loss: 0.6626 - val_accuracy: 0.5873\n",
      "Epoch 3/40\n",
      "373/373 [==============================] - 2s 5ms/step - loss: 0.6748 - accuracy: 0.5916 - val_loss: 0.6631 - val_accuracy: 0.5693\n",
      "Epoch 4/40\n",
      "373/373 [==============================] - 2s 5ms/step - loss: 0.6726 - accuracy: 0.6020 - val_loss: 0.6680 - val_accuracy: 0.5753\n",
      "Epoch 5/40\n",
      "373/373 [==============================] - 2s 5ms/step - loss: 0.6695 - accuracy: 0.5943 - val_loss: 0.6645 - val_accuracy: 0.5873\n",
      "Epoch 6/40\n",
      "373/373 [==============================] - 2s 5ms/step - loss: 0.6658 - accuracy: 0.5997 - val_loss: 0.6670 - val_accuracy: 0.5663\n",
      "Epoch 7/40\n",
      "373/373 [==============================] - 2s 5ms/step - loss: 0.6677 - accuracy: 0.6003 - val_loss: 0.6670 - val_accuracy: 0.5964\n",
      "Epoch 8/40\n",
      "373/373 [==============================] - 2s 5ms/step - loss: 0.6621 - accuracy: 0.5983 - val_loss: 0.6597 - val_accuracy: 0.5753\n",
      "Epoch 9/40\n",
      "373/373 [==============================] - 2s 5ms/step - loss: 0.6601 - accuracy: 0.6094 - val_loss: 0.6720 - val_accuracy: 0.5361\n",
      "Epoch 10/40\n",
      "373/373 [==============================] - 2s 5ms/step - loss: 0.6572 - accuracy: 0.5930 - val_loss: 0.6533 - val_accuracy: 0.5542\n",
      "Epoch 11/40\n",
      "373/373 [==============================] - 2s 6ms/step - loss: 0.6518 - accuracy: 0.6134 - val_loss: 0.6692 - val_accuracy: 0.5633\n",
      "Epoch 12/40\n",
      "373/373 [==============================] - 2s 5ms/step - loss: 0.6518 - accuracy: 0.6074 - val_loss: 0.6654 - val_accuracy: 0.5633\n",
      "Epoch 13/40\n",
      "373/373 [==============================] - 2s 5ms/step - loss: 0.6476 - accuracy: 0.6218 - val_loss: 0.6744 - val_accuracy: 0.5392\n",
      "Epoch 14/40\n",
      "373/373 [==============================] - 2s 5ms/step - loss: 0.6441 - accuracy: 0.6245 - val_loss: 0.6633 - val_accuracy: 0.5693\n",
      "Epoch 15/40\n",
      "373/373 [==============================] - 2s 5ms/step - loss: 0.6396 - accuracy: 0.6188 - val_loss: 0.6662 - val_accuracy: 0.5361\n",
      "Epoch 16/40\n",
      "373/373 [==============================] - 2s 5ms/step - loss: 0.6333 - accuracy: 0.6309 - val_loss: 0.6835 - val_accuracy: 0.5633\n",
      "Epoch 17/40\n",
      "373/373 [==============================] - 2s 6ms/step - loss: 0.6299 - accuracy: 0.6376 - val_loss: 0.7098 - val_accuracy: 0.5422\n",
      "Epoch 18/40\n",
      "373/373 [==============================] - 2s 6ms/step - loss: 0.6280 - accuracy: 0.6329 - val_loss: 0.6622 - val_accuracy: 0.5813\n",
      "Epoch 19/40\n",
      "373/373 [==============================] - 2s 6ms/step - loss: 0.6217 - accuracy: 0.6362 - val_loss: 0.6651 - val_accuracy: 0.5843\n",
      "Epoch 20/40\n",
      "373/373 [==============================] - 2s 5ms/step - loss: 0.6152 - accuracy: 0.6477 - val_loss: 0.6934 - val_accuracy: 0.5542\n",
      "Epoch 21/40\n",
      "373/373 [==============================] - 2s 5ms/step - loss: 0.6157 - accuracy: 0.6342 - val_loss: 0.6873 - val_accuracy: 0.5663\n",
      "Epoch 22/40\n",
      "373/373 [==============================] - 2s 5ms/step - loss: 0.6069 - accuracy: 0.6453 - val_loss: 0.6849 - val_accuracy: 0.5723\n",
      "Epoch 23/40\n",
      "373/373 [==============================] - 2s 5ms/step - loss: 0.6056 - accuracy: 0.6523 - val_loss: 0.7032 - val_accuracy: 0.5572\n",
      "Epoch 24/40\n",
      "373/373 [==============================] - 2s 6ms/step - loss: 0.6060 - accuracy: 0.6554 - val_loss: 0.6931 - val_accuracy: 0.5723\n",
      "Epoch 25/40\n",
      "373/373 [==============================] - 2s 5ms/step - loss: 0.5974 - accuracy: 0.6591 - val_loss: 0.7203 - val_accuracy: 0.5633\n",
      "Epoch 26/40\n",
      "373/373 [==============================] - 2s 6ms/step - loss: 0.5887 - accuracy: 0.6658 - val_loss: 0.7347 - val_accuracy: 0.5904\n",
      "Epoch 27/40\n",
      "373/373 [==============================] - 2s 6ms/step - loss: 0.5904 - accuracy: 0.6661 - val_loss: 0.7387 - val_accuracy: 0.5693\n",
      "Epoch 28/40\n",
      "373/373 [==============================] - 2s 6ms/step - loss: 0.5805 - accuracy: 0.6728 - val_loss: 0.6870 - val_accuracy: 0.5813\n",
      "Epoch 29/40\n",
      "373/373 [==============================] - 2s 6ms/step - loss: 0.5740 - accuracy: 0.6852 - val_loss: 0.7547 - val_accuracy: 0.5753\n",
      "Epoch 30/40\n",
      "373/373 [==============================] - 2s 5ms/step - loss: 0.6107 - accuracy: 0.6648 - val_loss: 0.7060 - val_accuracy: 0.5843\n",
      "Epoch 31/40\n",
      "373/373 [==============================] - 2s 5ms/step - loss: 0.5741 - accuracy: 0.6812 - val_loss: 0.7003 - val_accuracy: 0.5994\n",
      "Epoch 32/40\n",
      "373/373 [==============================] - 2s 5ms/step - loss: 0.5700 - accuracy: 0.6842 - val_loss: 0.7522 - val_accuracy: 0.5843\n",
      "Epoch 33/40\n",
      "373/373 [==============================] - 2s 5ms/step - loss: 0.5703 - accuracy: 0.6906 - val_loss: 0.7196 - val_accuracy: 0.5873\n",
      "Epoch 34/40\n",
      "373/373 [==============================] - 2s 5ms/step - loss: 0.5633 - accuracy: 0.6893 - val_loss: 0.7695 - val_accuracy: 0.5813\n",
      "Epoch 35/40\n",
      "373/373 [==============================] - 2s 5ms/step - loss: 0.5565 - accuracy: 0.6909 - val_loss: 0.7510 - val_accuracy: 0.5873\n",
      "Epoch 36/40\n",
      "373/373 [==============================] - 2s 5ms/step - loss: 0.5533 - accuracy: 0.6933 - val_loss: 0.8011 - val_accuracy: 0.6295\n",
      "Epoch 37/40\n",
      "373/373 [==============================] - 2s 5ms/step - loss: 0.5509 - accuracy: 0.7003 - val_loss: 0.7330 - val_accuracy: 0.5813\n",
      "Epoch 38/40\n",
      "373/373 [==============================] - 2s 5ms/step - loss: 0.5496 - accuracy: 0.6993 - val_loss: 0.8578 - val_accuracy: 0.5723\n",
      "Epoch 39/40\n",
      "373/373 [==============================] - 2s 5ms/step - loss: 0.5485 - accuracy: 0.7067 - val_loss: 0.7998 - val_accuracy: 0.5843\n",
      "Epoch 40/40\n",
      "373/373 [==============================] - 2s 5ms/step - loss: 0.5395 - accuracy: 0.7054 - val_loss: 0.7370 - val_accuracy: 0.5602\n"
     ]
    },
    {
     "data": {
      "text/plain": [
       "<keras.callbacks.History at 0x173af801cc0>"
      ]
     },
     "execution_count": 30,
     "metadata": {},
     "output_type": "execute_result"
    }
   ],
   "source": [
    "model.compile(loss='binary_crossentropy', optimizer='adam', metrics=['accuracy'])\n",
    "model.fit(contours_train_rp, ger_train_labels, batch_size=8, epochs=40, validation_split=0.1)"
   ]
  },
  {
   "cell_type": "code",
   "execution_count": 31,
   "metadata": {},
   "outputs": [],
   "source": [
    "import seaborn as sns\n",
    "from sklearn.metrics import confusion_matrix\n",
    "\n",
    "def results(model, x_test, y_test):\n",
    "    y_pred = model.predict(x_test)\n",
    "    y_pred = np.round(y_pred)\n",
    "    y_pred = y_pred.astype(int)\n",
    "    y_pred = y_pred.flatten()\n",
    "\n",
    "    y_test = np.array(y_test)\n",
    "    y_test = y_test.astype(int)\n",
    "\n",
    "    # in percentage\n",
    "    print(\"Accuracy: \", np.sum(y_pred == y_test)/len(y_test)*100, \"%\")\n",
    "\n",
    "    cm = confusion_matrix(y_test, y_pred)\n",
    "    sns.heatmap(cm, annot=True, fmt='g')\n",
    "\n",
    "    return y_pred"
   ]
  },
  {
   "cell_type": "code",
   "execution_count": 32,
   "metadata": {},
   "outputs": [
    {
     "name": "stdout",
     "output_type": "stream",
     "text": [
      "92/92 [==============================] - 0s 3ms/step\n",
      "Accuracy:  59.49453551912568 %\n"
     ]
    },
    {
     "data": {
      "text/plain": [
       "array([1, 0, 0, ..., 1, 0, 0])"
      ]
     },
     "execution_count": 32,
     "metadata": {},
     "output_type": "execute_result"
    },
    {
     "data": {
      "image/png": "[encoded data removed]",
      "text/plain": [
       "<Figure size 640x480 with 2 Axes>"
      ]
     },
     "metadata": {},
     "output_type": "display_data"
    }
   ],
   "source": [
    "results(model, contours_test_rp, ger_test_labels)"
   ]
  },
  {
   "attachments": {},
   "cell_type": "markdown",
   "metadata": {},
   "source": [
    "# Combine the Datasets"
   ]
  },
  {
   "cell_type": "code",
   "execution_count": 33,
   "metadata": {},
   "outputs": [
    {
     "name": "stdout",
     "output_type": "stream",
     "text": [
      "(6240, 138)\n",
      "(6240,)\n"
     ]
    }
   ],
   "source": [
    "# merge the train and test sets for german\n",
    "contours_merged = np.concatenate((contours_train_rp, contours_test_rp), axis=0)\n",
    "labels_merged = np.concatenate((ger_train_labels, ger_test_labels), axis=0)\n",
    "\n",
    "print(contours_merged.shape)\n",
    "print(labels_merged.shape)"
   ]
  },
  {
   "cell_type": "code",
   "execution_count": 34,
   "metadata": {},
   "outputs": [
    {
     "name": "stdout",
     "output_type": "stream",
     "text": [
      "(6059, 138)\n",
      "(6059,)\n"
     ]
    }
   ],
   "source": [
    "# remove the contours whose max value is 0\n",
    "contours_merged_nonzero = contours_merged[contours_merged.max(axis=1) != 0]\n",
    "labels_merged_nonzero = labels_merged[contours_merged.max(axis=1) != 0]\n",
    "\n",
    "print(contours_merged_nonzero.shape)\n",
    "print(labels_merged_nonzero.shape)  "
   ]
  },
  {
   "cell_type": "code",
   "execution_count": 35,
   "metadata": {},
   "outputs": [
    {
     "data": {
      "text/plain": [
       "(6059, 138)"
      ]
     },
     "execution_count": 35,
     "metadata": {},
     "output_type": "execute_result"
    }
   ],
   "source": [
    "contours_merged_normalized = contours_merged_nonzero / contours_merged_nonzero.max(axis=1)[:,None]\n",
    "contours_merged_nonzero.shape"
   ]
  },
  {
   "cell_type": "code",
   "execution_count": 36,
   "metadata": {},
   "outputs": [
    {
     "data": {
      "text/plain": [
       "array([[0.97150155, 0.94850666, 0.93340757, ..., 0.        , 0.        ,\n",
       "        0.        ],\n",
       "       [0.94444678, 0.75349733, 0.6220646 , ..., 0.        , 0.        ,\n",
       "        0.        ],\n",
       "       [0.46069308, 0.51128889, 0.53805957, ..., 0.        , 0.        ,\n",
       "        0.        ],\n",
       "       ...,\n",
       "       [1.        , 0.68841627, 0.41400728, ..., 0.        , 0.        ,\n",
       "        0.        ],\n",
       "       [1.        , 0.95066538, 0.91192892, ..., 0.        , 0.        ,\n",
       "        0.        ],\n",
       "       [0.66881956, 0.69185361, 0.73640195, ..., 0.        , 0.        ,\n",
       "        0.        ]])"
      ]
     },
     "execution_count": 36,
     "metadata": {},
     "output_type": "execute_result"
    }
   ],
   "source": [
    "contours_merged_normalized"
   ]
  },
  {
   "cell_type": "code",
   "execution_count": 37,
   "metadata": {},
   "outputs": [],
   "source": [
    "# do a train test split\n",
    "contours_train_merged, contours_test_merged, labels_train_merged, labels_test_merged = train_test_split(contours_merged_normalized, labels_merged_nonzero, test_size=0.2, random_state=42)"
   ]
  },
  {
   "cell_type": "code",
   "execution_count": 38,
   "metadata": {},
   "outputs": [
    {
     "name": "stdout",
     "output_type": "stream",
     "text": [
      "(4847, 138)\n",
      "(1212, 138)\n",
      "Train\n",
      "0s:  2409\n",
      "1s:  2438\n",
      "\n",
      "Test\n",
      "0s:  613\n",
      "1s:  599\n"
     ]
    }
   ],
   "source": [
    "print(contours_train_merged.shape)\n",
    "print(contours_test_merged.shape)\n",
    "\n",
    "# count 0s and 1s in the train and test sets\n",
    "print(\"Train\")\n",
    "print(\"0s: \", np.sum(labels_train_merged == 0))\n",
    "print(\"1s: \", np.sum(labels_train_merged == 1))\n",
    "\n",
    "print()\n",
    "print(\"Test\")\n",
    "print(\"0s: \", np.sum(labels_test_merged == 0))\n",
    "print(\"1s: \", np.sum(labels_test_merged == 1))"
   ]
  },
  {
   "cell_type": "code",
   "execution_count": 39,
   "metadata": {},
   "outputs": [
    {
     "name": "stdout",
     "output_type": "stream",
     "text": [
      "Class weights:\n",
      "0:    1.01\n",
      "1:    0.99\n"
     ]
    }
   ],
   "source": [
    "# class weights\n",
    "class_weights = compute_class_weight(\"balanced\", classes=[0, 1], y=labels_train_merged)\n",
    "class_weights_dict = dict(enumerate(class_weights))\n",
    "print(\"Class weights:\")\n",
    "for label, weight in class_weights_dict.items():\n",
    "    print(f\"{label}:    {weight:.2f}\")"
   ]
  },
  {
   "cell_type": "code",
   "execution_count": 40,
   "metadata": {},
   "outputs": [],
   "source": [
    "# early stopping\n",
    "early_stopping = EarlyStopping(monitor='val_loss', patience=5)"
   ]
  },
  {
   "cell_type": "code",
   "execution_count": 41,
   "metadata": {},
   "outputs": [
    {
     "name": "stdout",
     "output_type": "stream",
     "text": [
      "Model: \"sequential_1\"\n",
      "_________________________________________________________________\n",
      " Layer (type)                Output Shape              Param #   \n",
      "=================================================================\n",
      " dense_6 (Dense)             (None, 64)                8896      \n",
      "                                                                 \n",
      " dense_7 (Dense)             (None, 128)               8320      \n",
      "                                                                 \n",
      " dense_8 (Dense)             (None, 256)               33024     \n",
      "                                                                 \n",
      " dense_9 (Dense)             (None, 512)               131584    \n",
      "                                                                 \n",
      " dense_10 (Dense)            (None, 256)               131328    \n",
      "                                                                 \n",
      " dense_11 (Dense)            (None, 128)               32896     \n",
      "                                                                 \n",
      " dense_12 (Dense)            (None, 64)                8256      \n",
      "                                                                 \n",
      " dense_13 (Dense)            (None, 1)                 65        \n",
      "                                                                 \n",
      "=================================================================\n",
      "Total params: 354,369\n",
      "Trainable params: 354,369\n",
      "Non-trainable params: 0\n",
      "_________________________________________________________________\n"
     ]
    }
   ],
   "source": [
    "# Define the model\n",
    "model = Sequential()\n",
    "model.add(Dense(64, input_dim=max_length, activation='relu'))\n",
    "model.add(Dense(128, activation='relu'))\n",
    "model.add(Dense(256, activation='relu'))\n",
    "model.add(Dense(512, activation='relu'))\n",
    "model.add(Dense(256, activation='relu'))\n",
    "model.add(Dense(128, activation='relu'))\n",
    "model.add(Dense(64, activation='relu'))\n",
    "model.add(Dense(1, activation='sigmoid'))\n",
    "\n",
    "model.summary()"
   ]
  },
  {
   "cell_type": "code",
   "execution_count": 42,
   "metadata": {},
   "outputs": [],
   "source": [
    "# compile with adam optimizer with learning rate 0.0001\n",
    "model.compile(loss='binary_crossentropy', optimizer=Adam(learning_rate=0.0001), metrics=['accuracy'])"
   ]
  },
  {
   "cell_type": "code",
   "execution_count": 43,
   "metadata": {},
   "outputs": [
    {
     "name": "stdout",
     "output_type": "stream",
     "text": [
      "Epoch 1/100\n",
      "1939/1939 [==============================] - 9s 4ms/step - loss: 0.6872 - accuracy: 0.5424 - val_loss: 0.6739 - val_accuracy: 0.5742\n",
      "Epoch 2/100\n",
      "1939/1939 [==============================] - 7s 4ms/step - loss: 0.6737 - accuracy: 0.5672 - val_loss: 0.6665 - val_accuracy: 0.5814\n",
      "Epoch 3/100\n",
      "1939/1939 [==============================] - 8s 4ms/step - loss: 0.6648 - accuracy: 0.5822 - val_loss: 0.6701 - val_accuracy: 0.5866\n",
      "Epoch 4/100\n",
      "1939/1939 [==============================] - 8s 4ms/step - loss: 0.6626 - accuracy: 0.5881 - val_loss: 0.6578 - val_accuracy: 0.6041\n",
      "Epoch 5/100\n",
      "1939/1939 [==============================] - 8s 4ms/step - loss: 0.6584 - accuracy: 0.6018 - val_loss: 0.6643 - val_accuracy: 0.5845\n",
      "Epoch 6/100\n",
      "1939/1939 [==============================] - 7s 4ms/step - loss: 0.6541 - accuracy: 0.6059 - val_loss: 0.6623 - val_accuracy: 0.5804\n",
      "Epoch 7/100\n",
      "1939/1939 [==============================] - 7s 4ms/step - loss: 0.6487 - accuracy: 0.6149 - val_loss: 0.6614 - val_accuracy: 0.5784\n",
      "Epoch 8/100\n",
      "1939/1939 [==============================] - 7s 4ms/step - loss: 0.6464 - accuracy: 0.6162 - val_loss: 0.6609 - val_accuracy: 0.5845\n",
      "Epoch 9/100\n",
      "1939/1939 [==============================] - 8s 4ms/step - loss: 0.6422 - accuracy: 0.6180 - val_loss: 0.6591 - val_accuracy: 0.6062\n"
     ]
    },
    {
     "data": {
      "text/plain": [
       "<keras.callbacks.History at 0x173b36139a0>"
      ]
     },
     "execution_count": 43,
     "metadata": {},
     "output_type": "execute_result"
    }
   ],
   "source": [
    "model.fit(\n",
    "    contours_train_merged, labels_train_merged,\n",
    "    batch_size=2, epochs=100, validation_split=0.2,\n",
    "    callbacks=[early_stopping]\n",
    ")"
   ]
  },
  {
   "cell_type": "code",
   "execution_count": 44,
   "metadata": {},
   "outputs": [
    {
     "name": "stdout",
     "output_type": "stream",
     "text": [
      "38/38 [==============================] - 0s 2ms/step\n",
      "Accuracy:  56.188118811881196 %\n"
     ]
    },
    {
     "data": {
      "image/png": "[encoded data removed]",
      "text/plain": [
       "<Figure size 640x480 with 2 Axes>"
      ]
     },
     "metadata": {},
     "output_type": "display_data"
    }
   ],
   "source": [
    "ans = results(model, contours_test_merged, labels_test_merged)"
   ]
  },
  {
   "cell_type": "code",
   "execution_count": 45,
   "metadata": {},
   "outputs": [
    {
     "data": {
      "text/plain": [
       "array([1, 1, 0, ..., 1, 0, 1])"
      ]
     },
     "execution_count": 45,
     "metadata": {},
     "output_type": "execute_result"
    }
   ],
   "source": [
    "ans"
   ]
  },
  {
   "cell_type": "code",
   "execution_count": 46,
   "metadata": {},
   "outputs": [
    {
     "data": {
      "text/plain": [
       "138"
      ]
     },
     "execution_count": 46,
     "metadata": {},
     "output_type": "execute_result"
    }
   ],
   "source": [
    "max_length"
   ]
  },
  {
   "attachments": {},
   "cell_type": "markdown",
   "metadata": {},
   "source": [
    "# Augmentation"
   ]
  },
  {
   "cell_type": "code",
   "execution_count": 47,
   "metadata": {},
   "outputs": [
    {
     "data": {
      "text/html": [
       "<div>\n",
       "<style scoped>\n",
       "    .dataframe tbody tr th:only-of-type {\n",
       "        vertical-align: middle;\n",
       "    }\n",
       "\n",
       "    .dataframe tbody tr th {\n",
       "        vertical-align: top;\n",
       "    }\n",
       "\n",
       "    .dataframe thead th {\n",
       "        text-align: right;\n",
       "    }\n",
       "</style>\n",
       "<table border=\"1\" class=\"dataframe\">\n",
       "  <thead>\n",
       "    <tr style=\"text-align: right;\">\n",
       "      <th></th>\n",
       "      <th>contour</th>\n",
       "      <th>labels</th>\n",
       "    </tr>\n",
       "  </thead>\n",
       "  <tbody>\n",
       "    <tr>\n",
       "      <th>0</th>\n",
       "      <td>[0.03177828067373946, 0.03102610675462413, 0.0...</td>\n",
       "      <td>1</td>\n",
       "    </tr>\n",
       "    <tr>\n",
       "      <th>1</th>\n",
       "      <td>[]</td>\n",
       "      <td>0</td>\n",
       "    </tr>\n",
       "    <tr>\n",
       "      <th>2</th>\n",
       "      <td>[0.29295377456846683, 0.23372400800342857, 0.1...</td>\n",
       "      <td>0</td>\n",
       "    </tr>\n",
       "    <tr>\n",
       "      <th>3</th>\n",
       "      <td>[0.3558331626873156, 0.39491268819019043, 0.41...</td>\n",
       "      <td>1</td>\n",
       "    </tr>\n",
       "    <tr>\n",
       "      <th>4</th>\n",
       "      <td>[0.025010218876618886, 0.024972723808391342, 0...</td>\n",
       "      <td>1</td>\n",
       "    </tr>\n",
       "    <tr>\n",
       "      <th>...</th>\n",
       "      <td>...</td>\n",
       "      <td>...</td>\n",
       "    </tr>\n",
       "    <tr>\n",
       "      <th>3307</th>\n",
       "      <td>[0.2383755903657169, 0.257137209119076, 0.2676...</td>\n",
       "      <td>0</td>\n",
       "    </tr>\n",
       "    <tr>\n",
       "      <th>3308</th>\n",
       "      <td>[0.036857771050576686, 0.03435310170471866, 0....</td>\n",
       "      <td>1</td>\n",
       "    </tr>\n",
       "    <tr>\n",
       "      <th>3309</th>\n",
       "      <td>[0.022904583654710153, 0.02171224026991739, 0....</td>\n",
       "      <td>0</td>\n",
       "    </tr>\n",
       "    <tr>\n",
       "      <th>3310</th>\n",
       "      <td>[0.00959550945037777, 0.009706386715890893, 0....</td>\n",
       "      <td>1</td>\n",
       "    </tr>\n",
       "    <tr>\n",
       "      <th>3311</th>\n",
       "      <td>[0.020417742062976245, 0.021199029817241605, 0...</td>\n",
       "      <td>0</td>\n",
       "    </tr>\n",
       "  </tbody>\n",
       "</table>\n",
       "<p>3312 rows × 2 columns</p>\n",
       "</div>"
      ],
      "text/plain": [
       "                                                contour  labels\n",
       "0     [0.03177828067373946, 0.03102610675462413, 0.0...       1\n",
       "1                                                    []       0\n",
       "2     [0.29295377456846683, 0.23372400800342857, 0.1...       0\n",
       "3     [0.3558331626873156, 0.39491268819019043, 0.41...       1\n",
       "4     [0.025010218876618886, 0.024972723808391342, 0...       1\n",
       "...                                                 ...     ...\n",
       "3307  [0.2383755903657169, 0.257137209119076, 0.2676...       0\n",
       "3308  [0.036857771050576686, 0.03435310170471866, 0....       1\n",
       "3309  [0.022904583654710153, 0.02171224026991739, 0....       0\n",
       "3310  [0.00959550945037777, 0.009706386715890893, 0....       1\n",
       "3311  [0.020417742062976245, 0.021199029817241605, 0...       0\n",
       "\n",
       "[3312 rows x 2 columns]"
      ]
     },
     "execution_count": 47,
     "metadata": {},
     "output_type": "execute_result"
    }
   ],
   "source": [
    "ger_train"
   ]
  },
  {
   "cell_type": "code",
   "execution_count": 48,
   "metadata": {},
   "outputs": [
    {
     "data": {
      "text/plain": [
       "(3312, 2)"
      ]
     },
     "execution_count": 48,
     "metadata": {},
     "output_type": "execute_result"
    }
   ],
   "source": [
    "ger_train.shape"
   ]
  },
  {
   "cell_type": "code",
   "execution_count": 51,
   "metadata": {},
   "outputs": [],
   "source": [
    "# augment the data\n",
    "def augment(contours, labels, length):\n",
    "    contours_aug = []\n",
    "    labels_aug = []\n",
    "\n",
    "    for i, contour in enumerate(contours):\n",
    "        label = labels[i]\n",
    "\n",
    "        for p in range(0, length - len(contour), 10):\n",
    "            padded_contour = np.pad(contour, (p, length-len(contour) - p), 'constant')\n",
    "            contours_aug.append(padded_contour)\n",
    "            labels_aug.append(label)\n",
    "        clear_output(wait=True)\n",
    "        \n",
    "        \n",
    "        # print progress\n",
    "        if i % 100 == 0:\n",
    "            print(f\"Augmenting contour {i} out of {len(contours)}\")\n",
    "            print(\"Percentage: \", i/len(contours)*100, \"%\")\n",
    "\n",
    "        if i == len(contours) - 1:\n",
    "            print(\"Done\")\n",
    "            return contours_aug, labels_aug"
   ]
  },
  {
   "cell_type": "code",
   "execution_count": 52,
   "metadata": {},
   "outputs": [
    {
     "name": "stdout",
     "output_type": "stream",
     "text": [
      "Done\n"
     ]
    },
    {
     "ename": "KeyboardInterrupt",
     "evalue": "",
     "output_type": "error",
     "traceback": [
      "\u001b[1;31m---------------------------------------------------------------------------\u001b[0m",
      "\u001b[1;31mKeyboardInterrupt\u001b[0m                         Traceback (most recent call last)",
      "\u001b[1;32mc:\\Users\\abhay\\Desktop\\Code\\Speech-Prominence-Detection\\Pranjal_Abhay\\codes\\model.ipynb Cell 41\u001b[0m in \u001b[0;36m3\n\u001b[0;32m      <a href='vscode-notebook-cell:/c%3A/Users/abhay/Desktop/Code/Speech-Prominence-Detection/Pranjal_Abhay/codes/model.ipynb#X54sZmlsZQ%3D%3D?line=0'>1</a>\u001b[0m \u001b[39m# get augmented data\u001b[39;00m\n\u001b[0;32m      <a href='vscode-notebook-cell:/c%3A/Users/abhay/Desktop/Code/Speech-Prominence-Detection/Pranjal_Abhay/codes/model.ipynb#X54sZmlsZQ%3D%3D?line=1'>2</a>\u001b[0m contours_aug, labels_aug \u001b[39m=\u001b[39m augment(ger_train[\u001b[39m\"\u001b[39m\u001b[39mcontour\u001b[39m\u001b[39m\"\u001b[39m], ger_train[\u001b[39m\"\u001b[39m\u001b[39mlabels\u001b[39m\u001b[39m\"\u001b[39m], max_length)\n\u001b[1;32m----> <a href='vscode-notebook-cell:/c%3A/Users/abhay/Desktop/Code/Speech-Prominence-Detection/Pranjal_Abhay/codes/model.ipynb#X54sZmlsZQ%3D%3D?line=2'>3</a>\u001b[0m \u001b[39mprint\u001b[39;49m(contours_aug)\n",
      "File \u001b[1;32m~\\AppData\\Local\\Packages\\PythonSoftwareFoundation.Python.3.10_qbz5n2kfra8p0\\LocalCache\\local-packages\\Python310\\site-packages\\numpy\\core\\arrayprint.py:1488\u001b[0m, in \u001b[0;36m_array_repr_implementation\u001b[1;34m(arr, max_line_width, precision, suppress_small, array2string)\u001b[0m\n\u001b[0;32m   1486\u001b[0m     lst \u001b[39m=\u001b[39m \u001b[39mrepr\u001b[39m(arr\u001b[39m.\u001b[39mitem())\n\u001b[0;32m   1487\u001b[0m \u001b[39melif\u001b[39;00m arr\u001b[39m.\u001b[39msize \u001b[39m>\u001b[39m \u001b[39m0\u001b[39m \u001b[39mor\u001b[39;00m arr\u001b[39m.\u001b[39mshape \u001b[39m==\u001b[39m (\u001b[39m0\u001b[39m,):\n\u001b[1;32m-> 1488\u001b[0m     lst \u001b[39m=\u001b[39m array2string(arr, max_line_width, precision, suppress_small,\n\u001b[0;32m   1489\u001b[0m                        \u001b[39m'\u001b[39;49m\u001b[39m, \u001b[39;49m\u001b[39m'\u001b[39;49m, prefix, suffix\u001b[39m=\u001b[39;49msuffix)\n\u001b[0;32m   1490\u001b[0m \u001b[39melse\u001b[39;00m:  \u001b[39m# show zero-length shape unless it is (0,)\u001b[39;00m\n\u001b[0;32m   1491\u001b[0m     lst \u001b[39m=\u001b[39m \u001b[39m\"\u001b[39m\u001b[39m[], shape=\u001b[39m\u001b[39m%s\u001b[39;00m\u001b[39m\"\u001b[39m \u001b[39m%\u001b[39m (\u001b[39mrepr\u001b[39m(arr\u001b[39m.\u001b[39mshape),)\n",
      "File \u001b[1;32m~\\AppData\\Local\\Packages\\PythonSoftwareFoundation.Python.3.10_qbz5n2kfra8p0\\LocalCache\\local-packages\\Python310\\site-packages\\numpy\\core\\arrayprint.py:736\u001b[0m, in \u001b[0;36marray2string\u001b[1;34m(a, max_line_width, precision, suppress_small, separator, prefix, style, formatter, threshold, edgeitems, sign, floatmode, suffix, legacy)\u001b[0m\n\u001b[0;32m    733\u001b[0m \u001b[39mif\u001b[39;00m a\u001b[39m.\u001b[39msize \u001b[39m==\u001b[39m \u001b[39m0\u001b[39m:\n\u001b[0;32m    734\u001b[0m     \u001b[39mreturn\u001b[39;00m \u001b[39m\"\u001b[39m\u001b[39m[]\u001b[39m\u001b[39m\"\u001b[39m\n\u001b[1;32m--> 736\u001b[0m \u001b[39mreturn\u001b[39;00m _array2string(a, options, separator, prefix)\n",
      "File \u001b[1;32m~\\AppData\\Local\\Packages\\PythonSoftwareFoundation.Python.3.10_qbz5n2kfra8p0\\LocalCache\\local-packages\\Python310\\site-packages\\numpy\\core\\arrayprint.py:513\u001b[0m, in \u001b[0;36m_recursive_guard.<locals>.decorating_function.<locals>.wrapper\u001b[1;34m(self, *args, **kwargs)\u001b[0m\n\u001b[0;32m    511\u001b[0m repr_running\u001b[39m.\u001b[39madd(key)\n\u001b[0;32m    512\u001b[0m \u001b[39mtry\u001b[39;00m:\n\u001b[1;32m--> 513\u001b[0m     \u001b[39mreturn\u001b[39;00m f(\u001b[39mself\u001b[39m, \u001b[39m*\u001b[39margs, \u001b[39m*\u001b[39m\u001b[39m*\u001b[39mkwargs)\n\u001b[0;32m    514\u001b[0m \u001b[39mfinally\u001b[39;00m:\n\u001b[0;32m    515\u001b[0m     repr_running\u001b[39m.\u001b[39mdiscard(key)\n",
      "File \u001b[1;32m~\\AppData\\Local\\Packages\\PythonSoftwareFoundation.Python.3.10_qbz5n2kfra8p0\\LocalCache\\local-packages\\Python310\\site-packages\\numpy\\core\\arrayprint.py:546\u001b[0m, in \u001b[0;36m_array2string\u001b[1;34m(a, options, separator, prefix)\u001b[0m\n\u001b[0;32m    543\u001b[0m \u001b[39m# skip over array(\u001b[39;00m\n\u001b[0;32m    544\u001b[0m next_line_prefix \u001b[39m+\u001b[39m\u001b[39m=\u001b[39m \u001b[39m\"\u001b[39m\u001b[39m \u001b[39m\u001b[39m\"\u001b[39m\u001b[39m*\u001b[39m\u001b[39mlen\u001b[39m(prefix)\n\u001b[1;32m--> 546\u001b[0m lst \u001b[39m=\u001b[39m _formatArray(a, format_function, options[\u001b[39m'\u001b[39;49m\u001b[39mlinewidth\u001b[39;49m\u001b[39m'\u001b[39;49m],\n\u001b[0;32m    547\u001b[0m                    next_line_prefix, separator, options[\u001b[39m'\u001b[39;49m\u001b[39medgeitems\u001b[39;49m\u001b[39m'\u001b[39;49m],\n\u001b[0;32m    548\u001b[0m                    summary_insert, options[\u001b[39m'\u001b[39;49m\u001b[39mlegacy\u001b[39;49m\u001b[39m'\u001b[39;49m])\n\u001b[0;32m    549\u001b[0m \u001b[39mreturn\u001b[39;00m lst\n",
      "File \u001b[1;32m~\\AppData\\Local\\Packages\\PythonSoftwareFoundation.Python.3.10_qbz5n2kfra8p0\\LocalCache\\local-packages\\Python310\\site-packages\\numpy\\core\\arrayprint.py:889\u001b[0m, in \u001b[0;36m_formatArray\u001b[1;34m(a, format_function, line_width, next_line_prefix, separator, edge_items, summary_insert, legacy)\u001b[0m\n\u001b[0;32m    885\u001b[0m     \u001b[39mreturn\u001b[39;00m s\n\u001b[0;32m    887\u001b[0m \u001b[39mtry\u001b[39;00m:\n\u001b[0;32m    888\u001b[0m     \u001b[39m# invoke the recursive part with an initial index and prefix\u001b[39;00m\n\u001b[1;32m--> 889\u001b[0m     \u001b[39mreturn\u001b[39;00m recurser(index\u001b[39m=\u001b[39;49m(),\n\u001b[0;32m    890\u001b[0m                     hanging_indent\u001b[39m=\u001b[39;49mnext_line_prefix,\n\u001b[0;32m    891\u001b[0m                     curr_width\u001b[39m=\u001b[39;49mline_width)\n\u001b[0;32m    892\u001b[0m \u001b[39mfinally\u001b[39;00m:\n\u001b[0;32m    893\u001b[0m     \u001b[39m# recursive closures have a cyclic reference to themselves, which\u001b[39;00m\n\u001b[0;32m    894\u001b[0m     \u001b[39m# requires gc to collect (gh-10620). To avoid this problem, for\u001b[39;00m\n\u001b[0;32m    895\u001b[0m     \u001b[39m# performance and PyPy friendliness, we break the cycle:\u001b[39;00m\n\u001b[0;32m    896\u001b[0m     recurser \u001b[39m=\u001b[39m \u001b[39mNone\u001b[39;00m\n",
      "File \u001b[1;32m~\\AppData\\Local\\Packages\\PythonSoftwareFoundation.Python.3.10_qbz5n2kfra8p0\\LocalCache\\local-packages\\Python310\\site-packages\\numpy\\core\\arrayprint.py:845\u001b[0m, in \u001b[0;36m_formatArray.<locals>.recurser\u001b[1;34m(index, hanging_indent, curr_width)\u001b[0m\n\u001b[0;32m    842\u001b[0m         line \u001b[39m+\u001b[39m\u001b[39m=\u001b[39m separator\n\u001b[0;32m    844\u001b[0m \u001b[39mfor\u001b[39;00m i \u001b[39min\u001b[39;00m \u001b[39mrange\u001b[39m(trailing_items, \u001b[39m1\u001b[39m, \u001b[39m-\u001b[39m\u001b[39m1\u001b[39m):\n\u001b[1;32m--> 845\u001b[0m     word \u001b[39m=\u001b[39m recurser(index \u001b[39m+\u001b[39;49m (\u001b[39m-\u001b[39;49mi,), next_hanging_indent, next_width)\n\u001b[0;32m    846\u001b[0m     s, line \u001b[39m=\u001b[39m _extendLine_pretty(\n\u001b[0;32m    847\u001b[0m         s, line, word, elem_width, hanging_indent, legacy)\n\u001b[0;32m    848\u001b[0m     line \u001b[39m+\u001b[39m\u001b[39m=\u001b[39m separator\n",
      "File \u001b[1;32m~\\AppData\\Local\\Packages\\PythonSoftwareFoundation.Python.3.10_qbz5n2kfra8p0\\LocalCache\\local-packages\\Python310\\site-packages\\numpy\\core\\arrayprint.py:799\u001b[0m, in \u001b[0;36m_formatArray.<locals>.recurser\u001b[1;34m(index, hanging_indent, curr_width)\u001b[0m\n\u001b[0;32m    796\u001b[0m axes_left \u001b[39m=\u001b[39m a\u001b[39m.\u001b[39mndim \u001b[39m-\u001b[39m axis\n\u001b[0;32m    798\u001b[0m \u001b[39mif\u001b[39;00m axes_left \u001b[39m==\u001b[39m \u001b[39m0\u001b[39m:\n\u001b[1;32m--> 799\u001b[0m     \u001b[39mreturn\u001b[39;00m format_function(a[index])\n\u001b[0;32m    801\u001b[0m \u001b[39m# when recursing, add a space to align with the [ added, and reduce the\u001b[39;00m\n\u001b[0;32m    802\u001b[0m \u001b[39m# length of the line by 1\u001b[39;00m\n\u001b[0;32m    803\u001b[0m next_hanging_indent \u001b[39m=\u001b[39m hanging_indent \u001b[39m+\u001b[39m \u001b[39m'\u001b[39m\u001b[39m \u001b[39m\u001b[39m'\u001b[39m\n",
      "File \u001b[1;32m~\\AppData\\Local\\Packages\\PythonSoftwareFoundation.Python.3.10_qbz5n2kfra8p0\\LocalCache\\local-packages\\Python310\\site-packages\\numpy\\core\\arrayprint.py:1019\u001b[0m, in \u001b[0;36mFloatingFormat.__call__\u001b[1;34m(self, x)\u001b[0m\n\u001b[0;32m   1018\u001b[0m \u001b[39mdef\u001b[39;00m \u001b[39m__call__\u001b[39m(\u001b[39mself\u001b[39m, x):\n\u001b[1;32m-> 1019\u001b[0m     \u001b[39mif\u001b[39;00m \u001b[39mnot\u001b[39;00m np\u001b[39m.\u001b[39misfinite(x):\n\u001b[0;32m   1020\u001b[0m         \u001b[39mwith\u001b[39;00m errstate(invalid\u001b[39m=\u001b[39m\u001b[39m'\u001b[39m\u001b[39mignore\u001b[39m\u001b[39m'\u001b[39m):\n\u001b[0;32m   1021\u001b[0m             \u001b[39mif\u001b[39;00m np\u001b[39m.\u001b[39misnan(x):\n",
      "\u001b[1;31mKeyboardInterrupt\u001b[0m: "
     ]
    }
   ],
   "source": [
    "# get augmented data\n",
    "contours_aug, labels_aug = augment(ger_train[\"contour\"], ger_train[\"labels\"], max_length)\n",
    "print(contours_aug)"
   ]
  },
  {
   "cell_type": "code",
   "execution_count": 58,
   "metadata": {},
   "outputs": [],
   "source": [
    "# convert to numpy arrays\n",
    "contours_aug = np.array(contours_aug)\n",
    "labels_aug = np.array(labels_aug)"
   ]
  },
  {
   "cell_type": "code",
   "execution_count": 59,
   "metadata": {},
   "outputs": [
    {
     "data": {
      "text/plain": [
       "(38818, 138)"
      ]
     },
     "execution_count": 59,
     "metadata": {},
     "output_type": "execute_result"
    }
   ],
   "source": [
    "contours_aug.shape"
   ]
  },
  {
   "cell_type": "code",
   "execution_count": 60,
   "metadata": {},
   "outputs": [
    {
     "name": "stdout",
     "output_type": "stream",
     "text": [
      "19820\n",
      "18998\n"
     ]
    }
   ],
   "source": [
    "zeros_aug = np.count_nonzero(labels_aug == 0)\n",
    "ones_aug = np.count_nonzero(labels_aug == 1)\n",
    "\n",
    "print(zeros_aug)\n",
    "print(ones_aug)"
   ]
  },
  {
   "cell_type": "code",
   "execution_count": 56,
   "metadata": {},
   "outputs": [],
   "source": [
    "N = 160000\n",
    "indices_to_drop = np.where(labels_aug == 1)[0][:N]\n",
    "\n",
    "filtered_contours_aug = np.delete(contours_aug, indices_to_drop, axis=0)\n",
    "filtered_labels_aug = np.delete(labels_aug, indices_to_drop)"
   ]
  },
  {
   "cell_type": "code",
   "execution_count": 57,
   "metadata": {},
   "outputs": [
    {
     "name": "stdout",
     "output_type": "stream",
     "text": [
      "19820\n",
      "0\n"
     ]
    }
   ],
   "source": [
    "zeros_aug = np.count_nonzero(labels_aug == 0)\n",
    "ones_aug = np.count_nonzero(filtered_labels_aug == 1)\n",
    "\n",
    "print(zeros_aug)\n",
    "print(ones_aug)"
   ]
  },
  {
   "cell_type": "code",
   "execution_count": 61,
   "metadata": {},
   "outputs": [],
   "source": [
    "# visualize the padded contours side by side with subplots\n",
    "def plot_contours(contours, labels, length, padding=\"both\"):\n",
    "    fig, axs = plt.subplots(1, 5, figsize=(20, 4))\n",
    "    print(padding)\n",
    "\n",
    "    for i in range(5):\n",
    "        r = random.randint(0, len(contours)-1)\n",
    "        z = i * 10\n",
    "        axs[i].plot(contours[z])\n",
    "        axs[i].set_title(\"Label: \" + str(labels[z]))\n",
    "\n",
    "\n",
    "        if padding == \"left\":\n",
    "            axs[i].set_xlim(0, length)\n",
    "\n",
    "        elif padding == \"right\":\n",
    "            axs[i].set_xlim(0, length)\n",
    "\n",
    "        elif padding == \"both\":\n",
    "            axs[i].set_xlim(0, length)\n",
    "    plt.show()"
   ]
  },
  {
   "cell_type": "code",
   "execution_count": 62,
   "metadata": {},
   "outputs": [
    {
     "name": "stdout",
     "output_type": "stream",
     "text": [
      "both\n"
     ]
    },
    {
     "data": {
      "image/png": "[encoded data removed]",
      "text/plain": [
       "<Figure size 2000x400 with 5 Axes>"
      ]
     },
     "metadata": {},
     "output_type": "display_data"
    }
   ],
   "source": [
    "plot_contours(contours_aug, labels_aug, max_length)"
   ]
  },
  {
   "cell_type": "code",
   "execution_count": 63,
   "metadata": {},
   "outputs": [
    {
     "name": "stdout",
     "output_type": "stream",
     "text": [
      "(19820, 138)\n",
      "(19820,)\n"
     ]
    }
   ],
   "source": [
    "print(filtered_contours_aug.shape)\n",
    "print(filtered_labels_aug.shape)"
   ]
  },
  {
   "attachments": {},
   "cell_type": "markdown",
   "metadata": {},
   "source": [
    "# Augmented Contours Skewed"
   ]
  },
  {
   "cell_type": "code",
   "execution_count": 67,
   "metadata": {},
   "outputs": [
    {
     "name": "stdout",
     "output_type": "stream",
     "text": [
      "Model: \"sequential_3\"\n",
      "_________________________________________________________________\n",
      " Layer (type)                Output Shape              Param #   \n",
      "=================================================================\n",
      " dense_17 (Dense)            (None, 128)               17792     \n",
      "                                                                 \n",
      " dense_18 (Dense)            (None, 64)                8256      \n",
      "                                                                 \n",
      " dense_19 (Dense)            (None, 1)                 65        \n",
      "                                                                 \n",
      "=================================================================\n",
      "Total params: 26,113\n",
      "Trainable params: 26,113\n",
      "Non-trainable params: 0\n",
      "_________________________________________________________________\n"
     ]
    }
   ],
   "source": [
    "# Define the input shape\n",
    "input_shape = (max_length,)\n",
    "\n",
    "# Define the model\n",
    "model = Sequential()\n",
    "model.add(Dense(128, activation='relu', input_shape=input_shape))\n",
    "model.add(Dense(64, activation='relu'))\n",
    "model.add(Dense(1, activation='sigmoid'))\n",
    "\n",
    "model.summary()"
   ]
  },
  {
   "cell_type": "code",
   "execution_count": 68,
   "metadata": {},
   "outputs": [],
   "source": [
    "# Compile the model\n",
    "model.compile(optimizer='adam', loss='binary_crossentropy', metrics=['accuracy'])"
   ]
  },
  {
   "cell_type": "code",
   "execution_count": 69,
   "metadata": {},
   "outputs": [
    {
     "name": "stdout",
     "output_type": "stream",
     "text": [
      "Epoch 1/10\n",
      "3882/3882 [==============================] - 8s 2ms/step - loss: 0.6784 - accuracy: 0.5735 - val_loss: 0.6698 - val_accuracy: 0.5962\n",
      "Epoch 2/10\n",
      "3882/3882 [==============================] - 8s 2ms/step - loss: 0.6711 - accuracy: 0.5878 - val_loss: 0.6659 - val_accuracy: 0.5966\n",
      "Epoch 3/10\n",
      "3882/3882 [==============================] - 8s 2ms/step - loss: 0.6684 - accuracy: 0.5917 - val_loss: 0.6647 - val_accuracy: 0.5970\n",
      "Epoch 4/10\n",
      "3882/3882 [==============================] - 7s 2ms/step - loss: 0.6661 - accuracy: 0.5962 - val_loss: 0.6643 - val_accuracy: 0.5997\n",
      "Epoch 5/10\n",
      "3882/3882 [==============================] - 8s 2ms/step - loss: 0.6642 - accuracy: 0.6002 - val_loss: 0.6652 - val_accuracy: 0.5929\n",
      "Epoch 6/10\n",
      "3882/3882 [==============================] - 9s 2ms/step - loss: 0.6626 - accuracy: 0.6027 - val_loss: 0.6624 - val_accuracy: 0.5939\n",
      "Epoch 7/10\n",
      "3882/3882 [==============================] - 8s 2ms/step - loss: 0.6608 - accuracy: 0.6034 - val_loss: 0.6647 - val_accuracy: 0.5902\n",
      "Epoch 8/10\n",
      "3882/3882 [==============================] - 8s 2ms/step - loss: 0.6589 - accuracy: 0.6038 - val_loss: 0.6623 - val_accuracy: 0.5938\n",
      "Epoch 9/10\n",
      "3882/3882 [==============================] - 8s 2ms/step - loss: 0.6575 - accuracy: 0.6072 - val_loss: 0.6608 - val_accuracy: 0.5961\n",
      "Epoch 10/10\n",
      "3882/3882 [==============================] - 8s 2ms/step - loss: 0.6555 - accuracy: 0.6057 - val_loss: 0.6606 - val_accuracy: 0.5961\n"
     ]
    },
    {
     "data": {
      "text/plain": [
       "<keras.callbacks.History at 0x173aaafb280>"
      ]
     },
     "execution_count": 69,
     "metadata": {},
     "output_type": "execute_result"
    }
   ],
   "source": [
    "model.fit(contours_aug, labels_aug, epochs=10, batch_size=8, validation_split=0.2)"
   ]
  },
  {
   "cell_type": "code",
   "execution_count": 70,
   "metadata": {},
   "outputs": [
    {
     "name": "stdout",
     "output_type": "stream",
     "text": [
      "1214/1214 [==============================] - 2s 1ms/step\n",
      "Accuracy:  60.848060178267815 %\n"
     ]
    },
    {
     "data": {
      "text/plain": [
       "array([0, 0, 0, ..., 0, 0, 0])"
      ]
     },
     "execution_count": 70,
     "metadata": {},
     "output_type": "execute_result"
    },
    {
     "data": {
      "image/png": "[encoded data removed]",
      "text/plain": [
       "<Figure size 640x480 with 2 Axes>"
      ]
     },
     "metadata": {},
     "output_type": "display_data"
    }
   ],
   "source": [
    "results(model, contours_aug, labels_aug)"
   ]
  },
  {
   "attachments": {},
   "cell_type": "markdown",
   "metadata": {},
   "source": [
    "# Augmented Contours Balanced"
   ]
  },
  {
   "cell_type": "code",
   "execution_count": 84,
   "metadata": {},
   "outputs": [
    {
     "name": "stdout",
     "output_type": "stream",
     "text": [
      "Model: \"sequential_5\"\n",
      "_________________________________________________________________\n",
      " Layer (type)                Output Shape              Param #   \n",
      "=================================================================\n",
      " dense_26 (Dense)            (None, 128)               36608     \n",
      "                                                                 \n",
      " dense_27 (Dense)            (None, 64)                8256      \n",
      "                                                                 \n",
      " dense_28 (Dense)            (None, 1)                 65        \n",
      "                                                                 \n",
      "=================================================================\n",
      "Total params: 44,929\n",
      "Trainable params: 44,929\n",
      "Non-trainable params: 0\n",
      "_________________________________________________________________\n"
     ]
    }
   ],
   "source": [
    "# Define the input shape\n",
    "input_shape = (285,)\n",
    " \n",
    "# Define the model\n",
    "model = Sequential()\n",
    "model.add(Dense(128, activation='relu', input_shape=input_shape))\n",
    "model.add(Dense(64, activation='relu'))\n",
    "model.add(Dense(1, activation='sigmoid'))\n",
    "\n",
    "model.summary()"
   ]
  },
  {
   "cell_type": "code",
   "execution_count": 85,
   "metadata": {},
   "outputs": [],
   "source": [
    "# Compile the model\n",
    "model.compile(optimizer='adam', loss='binary_crossentropy', metrics=['accuracy'])"
   ]
  },
  {
   "cell_type": "code",
   "execution_count": 87,
   "metadata": {},
   "outputs": [
    {
     "name": "stdout",
     "output_type": "stream",
     "text": [
      "Epoch 1/10\n",
      "16220/16220 [==============================] - 53s 3ms/step - loss: 0.5505 - accuracy: 0.7214 - val_loss: 0.6469 - val_accuracy: 0.6703\n",
      "Epoch 2/10\n",
      "16220/16220 [==============================] - 43s 3ms/step - loss: 0.5128 - accuracy: 0.7547 - val_loss: 0.6433 - val_accuracy: 0.6703\n",
      "Epoch 3/10\n",
      "16220/16220 [==============================] - 45s 3ms/step - loss: 0.5014 - accuracy: 0.7601 - val_loss: 0.6408 - val_accuracy: 0.6724\n",
      "Epoch 4/10\n",
      "16220/16220 [==============================] - 43s 3ms/step - loss: 0.4937 - accuracy: 0.7647 - val_loss: 0.6812 - val_accuracy: 0.6579\n",
      "Epoch 5/10\n",
      "16220/16220 [==============================] - 43s 3ms/step - loss: 0.4872 - accuracy: 0.7676 - val_loss: 0.6627 - val_accuracy: 0.6622\n",
      "Epoch 6/10\n",
      "16220/16220 [==============================] - 44s 3ms/step - loss: 0.4812 - accuracy: 0.7704 - val_loss: 0.6576 - val_accuracy: 0.6625\n",
      "Epoch 7/10\n",
      "16220/16220 [==============================] - 43s 3ms/step - loss: 0.4764 - accuracy: 0.7734 - val_loss: 0.5680 - val_accuracy: 0.7122\n",
      "Epoch 8/10\n",
      "16220/16220 [==============================] - 43s 3ms/step - loss: 0.4712 - accuracy: 0.7760 - val_loss: 0.6677 - val_accuracy: 0.6594\n",
      "Epoch 9/10\n",
      "16220/16220 [==============================] - 44s 3ms/step - loss: 0.4679 - accuracy: 0.7769 - val_loss: 0.6441 - val_accuracy: 0.6647\n",
      "Epoch 10/10\n",
      "16220/16220 [==============================] - 43s 3ms/step - loss: 0.4638 - accuracy: 0.7791 - val_loss: 0.6684 - val_accuracy: 0.6665\n"
     ]
    },
    {
     "data": {
      "text/plain": [
       "<keras.callbacks.History at 0x1714ba22bc0>"
      ]
     },
     "execution_count": 87,
     "metadata": {},
     "output_type": "execute_result"
    }
   ],
   "source": [
    "model.fit(filtered_contours_aug, filtered_labels_aug, epochs=10, batch_size=8, validation_split=0.2)"
   ]
  },
  {
   "cell_type": "code",
   "execution_count": 88,
   "metadata": {},
   "outputs": [
    {
     "name": "stdout",
     "output_type": "stream",
     "text": [
      "10069/10069 [==============================] - 18s 2ms/step\n",
      "Accuracy:  69.64921972960558 %\n"
     ]
    },
    {
     "data": {
      "text/plain": [
       "array([1, 1, 1, ..., 0, 0, 0])"
      ]
     },
     "execution_count": 88,
     "metadata": {},
     "output_type": "execute_result"
    },
    {
     "data": {
      "image/png": "[encoded data removed]",
      "text/plain": [
       "<Figure size 640x480 with 2 Axes>"
      ]
     },
     "metadata": {},
     "output_type": "display_data"
    }
   ],
   "source": [
    "results(model, contours_aug, labels_aug)    "
   ]
  },
  {
   "attachments": {},
   "cell_type": "markdown",
   "metadata": {},
   "source": [
    "# Augmented Contours Balanced - More Layers"
   ]
  },
  {
   "cell_type": "code",
   "execution_count": 71,
   "metadata": {},
   "outputs": [
    {
     "name": "stdout",
     "output_type": "stream",
     "text": [
      "Model: \"sequential_4\"\n",
      "_________________________________________________________________\n",
      " Layer (type)                Output Shape              Param #   \n",
      "=================================================================\n",
      " dense_20 (Dense)            (None, 128)               17792     \n",
      "                                                                 \n",
      " dense_21 (Dense)            (None, 64)                8256      \n",
      "                                                                 \n",
      " dense_22 (Dense)            (None, 32)                2080      \n",
      "                                                                 \n",
      " dense_23 (Dense)            (None, 16)                528       \n",
      "                                                                 \n",
      " dense_24 (Dense)            (None, 8)                 136       \n",
      "                                                                 \n",
      " dense_25 (Dense)            (None, 1)                 9         \n",
      "                                                                 \n",
      "=================================================================\n",
      "Total params: 28,801\n",
      "Trainable params: 28,801\n",
      "Non-trainable params: 0\n",
      "_________________________________________________________________\n"
     ]
    }
   ],
   "source": [
    "# Define the input shape\n",
    "input_shape = (max_length,)\n",
    "\n",
    "# Define the model\n",
    "model = Sequential()\n",
    "model.add(Dense(128, activation='relu', input_shape=input_shape))\n",
    "model.add(Dense(64, activation='relu'))\n",
    "model.add(Dense(32, activation='relu'))  # New layer\n",
    "model.add(Dense(16, activation='relu'))  # New layer\n",
    "model.add(Dense(8, activation='relu'))   # New layer\n",
    "model.add(Dense(1, activation='sigmoid'))\n",
    "\n",
    "model.summary()"
   ]
  },
  {
   "cell_type": "code",
   "execution_count": 72,
   "metadata": {},
   "outputs": [],
   "source": [
    "# Compile the model\n",
    "model.compile(optimizer='adam', loss='binary_crossentropy', metrics=['accuracy'])"
   ]
  },
  {
   "cell_type": "code",
   "execution_count": 75,
   "metadata": {},
   "outputs": [
    {
     "name": "stdout",
     "output_type": "stream",
     "text": [
      "Epoch 1/20\n",
      "7764/7764 [==============================] - 15s 2ms/step - loss: 0.6498 - accuracy: 0.6138 - val_loss: 0.6586 - val_accuracy: 0.5917\n",
      "Epoch 2/20\n",
      "7764/7764 [==============================] - 15s 2ms/step - loss: 0.6478 - accuracy: 0.6145 - val_loss: 0.6604 - val_accuracy: 0.5878\n",
      "Epoch 3/20\n",
      "7764/7764 [==============================] - 15s 2ms/step - loss: 0.6463 - accuracy: 0.6185 - val_loss: 0.6694 - val_accuracy: 0.5994\n",
      "Epoch 4/20\n",
      "7764/7764 [==============================] - 15s 2ms/step - loss: 0.6446 - accuracy: 0.6173 - val_loss: 0.6614 - val_accuracy: 0.5962\n",
      "Epoch 5/20\n",
      "7764/7764 [==============================] - 15s 2ms/step - loss: 0.6427 - accuracy: 0.6230 - val_loss: 0.6603 - val_accuracy: 0.6001\n",
      "Epoch 6/20\n",
      "7764/7764 [==============================] - 15s 2ms/step - loss: 0.6393 - accuracy: 0.6266 - val_loss: 0.6644 - val_accuracy: 0.5943\n",
      "Epoch 7/20\n",
      "7764/7764 [==============================] - 15s 2ms/step - loss: 0.6375 - accuracy: 0.6250 - val_loss: 0.6638 - val_accuracy: 0.5872\n",
      "Epoch 8/20\n",
      "7764/7764 [==============================] - 15s 2ms/step - loss: 0.6357 - accuracy: 0.6278 - val_loss: 0.6619 - val_accuracy: 0.5956\n",
      "Epoch 9/20\n",
      "7764/7764 [==============================] - 15s 2ms/step - loss: 0.6333 - accuracy: 0.6325 - val_loss: 0.6598 - val_accuracy: 0.5933\n",
      "Epoch 10/20\n",
      "7764/7764 [==============================] - 15s 2ms/step - loss: 0.6313 - accuracy: 0.6343 - val_loss: 0.6590 - val_accuracy: 0.6001\n",
      "Epoch 11/20\n",
      "7764/7764 [==============================] - 15s 2ms/step - loss: 0.6293 - accuracy: 0.6352 - val_loss: 0.6717 - val_accuracy: 0.5835\n",
      "Epoch 12/20\n",
      "7764/7764 [==============================] - 15s 2ms/step - loss: 0.6270 - accuracy: 0.6390 - val_loss: 0.6666 - val_accuracy: 0.5898\n",
      "Epoch 13/20\n",
      "7764/7764 [==============================] - 15s 2ms/step - loss: 0.6254 - accuracy: 0.6409 - val_loss: 0.6644 - val_accuracy: 0.5996\n",
      "Epoch 14/20\n",
      "7764/7764 [==============================] - 15s 2ms/step - loss: 0.6223 - accuracy: 0.6448 - val_loss: 0.6637 - val_accuracy: 0.6042\n",
      "Epoch 15/20\n",
      "7764/7764 [==============================] - 15s 2ms/step - loss: 0.6206 - accuracy: 0.6439 - val_loss: 0.6618 - val_accuracy: 0.6007\n",
      "Epoch 16/20\n",
      "7764/7764 [==============================] - 15s 2ms/step - loss: 0.6182 - accuracy: 0.6471 - val_loss: 0.6727 - val_accuracy: 0.5842\n",
      "Epoch 17/20\n",
      "7764/7764 [==============================] - 14s 2ms/step - loss: 0.6164 - accuracy: 0.6491 - val_loss: 0.6810 - val_accuracy: 0.5947\n",
      "Epoch 18/20\n",
      "7764/7764 [==============================] - 14s 2ms/step - loss: 0.6128 - accuracy: 0.6529 - val_loss: 0.6737 - val_accuracy: 0.5980\n",
      "Epoch 19/20\n",
      "7764/7764 [==============================] - 14s 2ms/step - loss: 0.6116 - accuracy: 0.6489 - val_loss: 0.6773 - val_accuracy: 0.5972\n",
      "Epoch 20/20\n",
      "7764/7764 [==============================] - 15s 2ms/step - loss: 0.6086 - accuracy: 0.6540 - val_loss: 0.6674 - val_accuracy: 0.6015\n"
     ]
    },
    {
     "data": {
      "text/plain": [
       "<keras.callbacks.History at 0x173beec7760>"
      ]
     },
     "execution_count": 75,
     "metadata": {},
     "output_type": "execute_result"
    }
   ],
   "source": [
    "model.fit(contours_aug, labels_aug, epochs=20, batch_size=4, validation_split=0.2)"
   ]
  },
  {
   "cell_type": "code",
   "execution_count": 76,
   "metadata": {},
   "outputs": [
    {
     "name": "stdout",
     "output_type": "stream",
     "text": [
      "1214/1214 [==============================] - 2s 1ms/step\n",
      "Accuracy:  64.9492503477768 %\n"
     ]
    },
    {
     "data": {
      "text/plain": [
       "array([1, 1, 1, ..., 1, 1, 0])"
      ]
     },
     "execution_count": 76,
     "metadata": {},
     "output_type": "execute_result"
    },
    {
     "data": {
      "image/png": "[encoded data removed]",
      "text/plain": [
       "<Figure size 640x480 with 2 Axes>"
      ]
     },
     "metadata": {},
     "output_type": "display_data"
    }
   ],
   "source": [
    "results(model, contours_aug, labels_aug)  "
   ]
  },
  {
   "attachments": {},
   "cell_type": "markdown",
   "metadata": {},
   "source": [
    "# Merging CNN and DNN"
   ]
  },
  {
   "cell_type": "code",
   "execution_count": 48,
   "metadata": {},
   "outputs": [],
   "source": [
    "# Define the input shapes\n",
    "input_shape1 = (138, 1)\n",
    "input_shape2 = (1,)\n",
    "\n",
    "# Define the input layers\n",
    "input1 = Input(shape=input_shape1)\n",
    "input2 = Input(shape=input_shape2)\n"
   ]
  },
  {
   "cell_type": "code",
   "execution_count": 49,
   "metadata": {},
   "outputs": [],
   "source": [
    "# Define the LSTM layer\n",
    "lstm_output = LSTM(128)(input1)\n",
    "\n",
    "# Concatenate the LSTM output and the length input\n",
    "concatenated = Concatenate()([lstm_output, input2])\n",
    "\n",
    "# reduce the dimension, 128 is too high (32, 16, ...)\n",
    "# dropouts"
   ]
  },
  {
   "cell_type": "code",
   "execution_count": 50,
   "metadata": {},
   "outputs": [],
   "source": [
    "# Define the dense layers\n",
    "dense1 = Dense(64, activation='relu')(concatenated)\n",
    "dense2 = Dense(1, activation='sigmoid')(dense1)"
   ]
  },
  {
   "cell_type": "code",
   "execution_count": 51,
   "metadata": {},
   "outputs": [],
   "source": [
    "# Define the model with two inputs\n",
    "model = Model(inputs=[input1, input2], outputs=dense2)"
   ]
  },
  {
   "cell_type": "code",
   "execution_count": 52,
   "metadata": {},
   "outputs": [
    {
     "name": "stdout",
     "output_type": "stream",
     "text": [
      "Model: \"model\"\n",
      "__________________________________________________________________________________________________\n",
      " Layer (type)                   Output Shape         Param #     Connected to                     \n",
      "==================================================================================================\n",
      " input_1 (InputLayer)           [(None, 138, 1)]     0           []                               \n",
      "                                                                                                  \n",
      " lstm (LSTM)                    (None, 128)          66560       ['input_1[0][0]']                \n",
      "                                                                                                  \n",
      " input_2 (InputLayer)           [(None, 1)]          0           []                               \n",
      "                                                                                                  \n",
      " concatenate (Concatenate)      (None, 129)          0           ['lstm[0][0]',                   \n",
      "                                                                  'input_2[0][0]']                \n",
      "                                                                                                  \n",
      " dense_17 (Dense)               (None, 64)           8320        ['concatenate[0][0]']            \n",
      "                                                                                                  \n",
      " dense_18 (Dense)               (None, 1)            65          ['dense_17[0][0]']               \n",
      "                                                                                                  \n",
      "==================================================================================================\n",
      "Total params: 74,945\n",
      "Trainable params: 74,945\n",
      "Non-trainable params: 0\n",
      "__________________________________________________________________________________________________\n"
     ]
    }
   ],
   "source": [
    "# Print the model summary\n",
    "model.summary()"
   ]
  },
  {
   "cell_type": "code",
   "execution_count": 53,
   "metadata": {},
   "outputs": [],
   "source": [
    "# Compile the model\n",
    "model.compile(optimizer='adam', loss='binary_crossentropy', metrics=['accuracy'])\n"
   ]
  },
  {
   "cell_type": "code",
   "execution_count": 55,
   "metadata": {},
   "outputs": [
    {
     "data": {
      "text/plain": [
       "(12195,)"
      ]
     },
     "execution_count": 55,
     "metadata": {},
     "output_type": "execute_result"
    }
   ],
   "source": [
    "ger_train_contours = ger_train[\"chunks\"]\n",
    "type(ger_train_contours)\n",
    "ger_train_contours.shape"
   ]
  },
  {
   "cell_type": "code",
   "execution_count": 56,
   "metadata": {},
   "outputs": [
    {
     "data": {
      "text/plain": [
       "numpy.ndarray"
      ]
     },
     "execution_count": 56,
     "metadata": {},
     "output_type": "execute_result"
    }
   ],
   "source": [
    "ger_train_contours = np.array(ger_train_contours)\n",
    "type(ger_train_contours)"
   ]
  },
  {
   "cell_type": "code",
   "execution_count": 57,
   "metadata": {},
   "outputs": [],
   "source": [
    "ger_train_contours\n",
    "ger_train_2d = np.stack(contours_train_rp)"
   ]
  },
  {
   "cell_type": "code",
   "execution_count": 58,
   "metadata": {},
   "outputs": [],
   "source": [
    "# Convert the input data to TensorFlow tensors\n",
    "X_tensor = tf.convert_to_tensor(ger_train_2d, dtype=tf.float32)\n",
    "y_tensor = tf.convert_to_tensor(ger_train_labels, dtype=tf.float32)"
   ]
  },
  {
   "cell_type": "code",
   "execution_count": 59,
   "metadata": {},
   "outputs": [
    {
     "name": "stdout",
     "output_type": "stream",
     "text": [
      "Epoch 1/10\n"
     ]
    },
    {
     "ename": "ValueError",
     "evalue": "in user code:\n\n    File \"C:\\Users\\abhay\\AppData\\Local\\Packages\\PythonSoftwareFoundation.Python.3.10_qbz5n2kfra8p0\\LocalCache\\local-packages\\Python310\\site-packages\\keras\\engine\\training.py\", line 1249, in train_function  *\n        return step_function(self, iterator)\n    File \"C:\\Users\\abhay\\AppData\\Local\\Packages\\PythonSoftwareFoundation.Python.3.10_qbz5n2kfra8p0\\LocalCache\\local-packages\\Python310\\site-packages\\keras\\engine\\training.py\", line 1233, in step_function  **\n        outputs = model.distribute_strategy.run(run_step, args=(data,))\n    File \"C:\\Users\\abhay\\AppData\\Local\\Packages\\PythonSoftwareFoundation.Python.3.10_qbz5n2kfra8p0\\LocalCache\\local-packages\\Python310\\site-packages\\keras\\engine\\training.py\", line 1222, in run_step  **\n        outputs = model.train_step(data)\n    File \"C:\\Users\\abhay\\AppData\\Local\\Packages\\PythonSoftwareFoundation.Python.3.10_qbz5n2kfra8p0\\LocalCache\\local-packages\\Python310\\site-packages\\keras\\engine\\training.py\", line 1023, in train_step\n        y_pred = self(x, training=True)\n    File \"C:\\Users\\abhay\\AppData\\Local\\Packages\\PythonSoftwareFoundation.Python.3.10_qbz5n2kfra8p0\\LocalCache\\local-packages\\Python310\\site-packages\\keras\\utils\\traceback_utils.py\", line 70, in error_handler\n        raise e.with_traceback(filtered_tb) from None\n    File \"C:\\Users\\abhay\\AppData\\Local\\Packages\\PythonSoftwareFoundation.Python.3.10_qbz5n2kfra8p0\\LocalCache\\local-packages\\Python310\\site-packages\\keras\\engine\\input_spec.py\", line 295, in assert_input_compatibility\n        raise ValueError(\n\n    ValueError: Input 0 of layer \"model\" is incompatible with the layer: expected shape=(None, 138, 1), found shape=(None, 285)\n",
     "output_type": "error",
     "traceback": [
      "\u001b[1;31m---------------------------------------------------------------------------\u001b[0m",
      "\u001b[1;31mValueError\u001b[0m                                Traceback (most recent call last)",
      "\u001b[1;32mc:\\Users\\abhay\\Desktop\\Code\\Speech-Prominence-Detection\\Pranjal_Abhay\\codes\\model.ipynb Cell 61\u001b[0m in \u001b[0;36m1\n\u001b[1;32m----> <a href='vscode-notebook-cell:/c%3A/Users/abhay/Desktop/Code/Speech-Prominence-Detection/Pranjal_Abhay/codes/model.ipynb#Y122sZmlsZQ%3D%3D?line=0'>1</a>\u001b[0m model\u001b[39m.\u001b[39;49mfit([ger_train_2d, lengths_train], ger_train_labels, epochs\u001b[39m=\u001b[39;49m\u001b[39m10\u001b[39;49m, batch_size\u001b[39m=\u001b[39;49m\u001b[39m32\u001b[39;49m, validation_split\u001b[39m=\u001b[39;49m\u001b[39m0.2\u001b[39;49m)\n",
      "File \u001b[1;32m~\\AppData\\Local\\Packages\\PythonSoftwareFoundation.Python.3.10_qbz5n2kfra8p0\\LocalCache\\local-packages\\Python310\\site-packages\\keras\\utils\\traceback_utils.py:70\u001b[0m, in \u001b[0;36mfilter_traceback.<locals>.error_handler\u001b[1;34m(*args, **kwargs)\u001b[0m\n\u001b[0;32m     67\u001b[0m     filtered_tb \u001b[39m=\u001b[39m _process_traceback_frames(e\u001b[39m.\u001b[39m__traceback__)\n\u001b[0;32m     68\u001b[0m     \u001b[39m# To get the full stack trace, call:\u001b[39;00m\n\u001b[0;32m     69\u001b[0m     \u001b[39m# `tf.debugging.disable_traceback_filtering()`\u001b[39;00m\n\u001b[1;32m---> 70\u001b[0m     \u001b[39mraise\u001b[39;00m e\u001b[39m.\u001b[39mwith_traceback(filtered_tb) \u001b[39mfrom\u001b[39;00m \u001b[39mNone\u001b[39m\n\u001b[0;32m     71\u001b[0m \u001b[39mfinally\u001b[39;00m:\n\u001b[0;32m     72\u001b[0m     \u001b[39mdel\u001b[39;00m filtered_tb\n",
      "File \u001b[1;32m~\\AppData\\Local\\Temp\\__autograph_generated_filewt_09y06.py:15\u001b[0m, in \u001b[0;36mouter_factory.<locals>.inner_factory.<locals>.tf__train_function\u001b[1;34m(iterator)\u001b[0m\n\u001b[0;32m     13\u001b[0m \u001b[39mtry\u001b[39;00m:\n\u001b[0;32m     14\u001b[0m     do_return \u001b[39m=\u001b[39m \u001b[39mTrue\u001b[39;00m\n\u001b[1;32m---> 15\u001b[0m     retval_ \u001b[39m=\u001b[39m ag__\u001b[39m.\u001b[39mconverted_call(ag__\u001b[39m.\u001b[39mld(step_function), (ag__\u001b[39m.\u001b[39mld(\u001b[39mself\u001b[39m), ag__\u001b[39m.\u001b[39mld(iterator)), \u001b[39mNone\u001b[39;00m, fscope)\n\u001b[0;32m     16\u001b[0m \u001b[39mexcept\u001b[39;00m:\n\u001b[0;32m     17\u001b[0m     do_return \u001b[39m=\u001b[39m \u001b[39mFalse\u001b[39;00m\n",
      "\u001b[1;31mValueError\u001b[0m: in user code:\n\n    File \"C:\\Users\\abhay\\AppData\\Local\\Packages\\PythonSoftwareFoundation.Python.3.10_qbz5n2kfra8p0\\LocalCache\\local-packages\\Python310\\site-packages\\keras\\engine\\training.py\", line 1249, in train_function  *\n        return step_function(self, iterator)\n    File \"C:\\Users\\abhay\\AppData\\Local\\Packages\\PythonSoftwareFoundation.Python.3.10_qbz5n2kfra8p0\\LocalCache\\local-packages\\Python310\\site-packages\\keras\\engine\\training.py\", line 1233, in step_function  **\n        outputs = model.distribute_strategy.run(run_step, args=(data,))\n    File \"C:\\Users\\abhay\\AppData\\Local\\Packages\\PythonSoftwareFoundation.Python.3.10_qbz5n2kfra8p0\\LocalCache\\local-packages\\Python310\\site-packages\\keras\\engine\\training.py\", line 1222, in run_step  **\n        outputs = model.train_step(data)\n    File \"C:\\Users\\abhay\\AppData\\Local\\Packages\\PythonSoftwareFoundation.Python.3.10_qbz5n2kfra8p0\\LocalCache\\local-packages\\Python310\\site-packages\\keras\\engine\\training.py\", line 1023, in train_step\n        y_pred = self(x, training=True)\n    File \"C:\\Users\\abhay\\AppData\\Local\\Packages\\PythonSoftwareFoundation.Python.3.10_qbz5n2kfra8p0\\LocalCache\\local-packages\\Python310\\site-packages\\keras\\utils\\traceback_utils.py\", line 70, in error_handler\n        raise e.with_traceback(filtered_tb) from None\n    File \"C:\\Users\\abhay\\AppData\\Local\\Packages\\PythonSoftwareFoundation.Python.3.10_qbz5n2kfra8p0\\LocalCache\\local-packages\\Python310\\site-packages\\keras\\engine\\input_spec.py\", line 295, in assert_input_compatibility\n        raise ValueError(\n\n    ValueError: Input 0 of layer \"model\" is incompatible with the layer: expected shape=(None, 138, 1), found shape=(None, 285)\n"
     ]
    }
   ],
   "source": [
    "model.fit([ger_train_2d, lengths_train], ger_train_labels, epochs=10, batch_size=32, validation_split=0.2)"
   ]
  },
  {
   "attachments": {},
   "cell_type": "markdown",
   "metadata": {},
   "source": [
    "# Duration - Method 1"
   ]
  },
  {
   "cell_type": "code",
   "execution_count": null,
   "metadata": {},
   "outputs": [],
   "source": [
    "# append length of contours to the end of each contour\n",
    "def append_length_end(contours):\n",
    "    appended_contours = []\n",
    "    for contour in contours:\n",
    "        appended_contours.append(np.append(contour, len(contour)))\n",
    "    return np.array(appended_contours)\n",
    "\n",
    "# append length of contours to the beginning of each contour\n",
    "def append_length_start(contours):\n",
    "    appended_contours = []\n",
    "    for contour in contours:\n",
    "        appended_contours.append(np.append(len(contour), contour))\n",
    "    return np.array(appended_contours)\n",
    "\n",
    "contours_train_rp_duration = append_length_end(contours_train_rp)\n",
    "contours_test_rp_duration = append_length_end(contours_test_rp)\n",
    "contours_train_lp_duration = append_length_start(contours_train_lp)\n",
    "contours_test_lp_duration = append_length_start(contours_test_lp)"
   ]
  },
  {
   "cell_type": "code",
   "execution_count": null,
   "metadata": {},
   "outputs": [
    {
     "data": {
      "text/plain": [
       "(12195, 286)"
      ]
     },
     "execution_count": 75,
     "metadata": {},
     "output_type": "execute_result"
    }
   ],
   "source": [
    "contours_train_rp_duration.shape"
   ]
  },
  {
   "cell_type": "code",
   "execution_count": null,
   "metadata": {},
   "outputs": [],
   "source": [
    "model = Sequential()\n",
    "model.add(Dense(64, input_dim=max_length + 1, activation='relu'))\n",
    "model.add(Dense(128, activation='relu'))\n",
    "model.add(Dense(256, activation='relu'))\n",
    "model.add(Dense(512, activation='relu'))\n",
    "model.add(Dense(256, activation='relu'))\n",
    "model.add(Dropout(0.2))\n",
    "model.add(Dense(1, activation='sigmoid'))"
   ]
  },
  {
   "cell_type": "code",
   "execution_count": null,
   "metadata": {},
   "outputs": [
    {
     "name": "stdout",
     "output_type": "stream",
     "text": [
      "Epoch 1/50\n",
      "610/610 [==============================] - 4s 6ms/step - loss: 0.6109 - accuracy: 0.7487 - val_loss: 0.5440 - val_accuracy: 0.7552\n",
      "Epoch 2/50\n",
      "610/610 [==============================] - 3s 5ms/step - loss: 0.5326 - accuracy: 0.7556 - val_loss: 0.5375 - val_accuracy: 0.7552\n",
      "Epoch 3/50\n",
      "610/610 [==============================] - 3s 5ms/step - loss: 0.5221 - accuracy: 0.7558 - val_loss: 0.5103 - val_accuracy: 0.7552\n",
      "Epoch 4/50\n",
      "610/610 [==============================] - 3s 5ms/step - loss: 0.5087 - accuracy: 0.7558 - val_loss: 0.5185 - val_accuracy: 0.7552\n",
      "Epoch 5/50\n",
      "610/610 [==============================] - 3s 5ms/step - loss: 0.5050 - accuracy: 0.7558 - val_loss: 0.5186 - val_accuracy: 0.7552\n",
      "Epoch 6/50\n",
      "610/610 [==============================] - 3s 5ms/step - loss: 0.4981 - accuracy: 0.7558 - val_loss: 0.4914 - val_accuracy: 0.7552\n",
      "Epoch 7/50\n",
      "610/610 [==============================] - 3s 5ms/step - loss: 0.4955 - accuracy: 0.7556 - val_loss: 0.5131 - val_accuracy: 0.7552\n",
      "Epoch 8/50\n",
      "610/610 [==============================] - 3s 5ms/step - loss: 0.4902 - accuracy: 0.7549 - val_loss: 0.5247 - val_accuracy: 0.7552\n",
      "Epoch 9/50\n",
      "610/610 [==============================] - 3s 5ms/step - loss: 0.4896 - accuracy: 0.7562 - val_loss: 0.4833 - val_accuracy: 0.7548\n",
      "Epoch 10/50\n",
      "610/610 [==============================] - 3s 5ms/step - loss: 0.4887 - accuracy: 0.7556 - val_loss: 0.5348 - val_accuracy: 0.7560\n",
      "Epoch 11/50\n",
      "610/610 [==============================] - 3s 5ms/step - loss: 0.4876 - accuracy: 0.7550 - val_loss: 0.4775 - val_accuracy: 0.7770\n",
      "Epoch 12/50\n",
      "610/610 [==============================] - 3s 5ms/step - loss: 0.4833 - accuracy: 0.7672 - val_loss: 0.5018 - val_accuracy: 0.7581\n",
      "Epoch 13/50\n",
      "610/610 [==============================] - 3s 5ms/step - loss: 0.4830 - accuracy: 0.7596 - val_loss: 0.4865 - val_accuracy: 0.7778\n",
      "Epoch 14/50\n",
      "610/610 [==============================] - 3s 5ms/step - loss: 0.4824 - accuracy: 0.7641 - val_loss: 0.4756 - val_accuracy: 0.7614\n",
      "Epoch 15/50\n",
      "610/610 [==============================] - 3s 5ms/step - loss: 0.4778 - accuracy: 0.7687 - val_loss: 0.4743 - val_accuracy: 0.7782\n",
      "Epoch 16/50\n",
      "610/610 [==============================] - 3s 4ms/step - loss: 0.4799 - accuracy: 0.7677 - val_loss: 0.4708 - val_accuracy: 0.7708\n",
      "Epoch 17/50\n",
      "610/610 [==============================] - 3s 4ms/step - loss: 0.4769 - accuracy: 0.7726 - val_loss: 0.4775 - val_accuracy: 0.7909\n",
      "Epoch 18/50\n",
      "610/610 [==============================] - 3s 5ms/step - loss: 0.4761 - accuracy: 0.7727 - val_loss: 0.4797 - val_accuracy: 0.7688\n",
      "Epoch 19/50\n",
      "610/610 [==============================] - 3s 4ms/step - loss: 0.4754 - accuracy: 0.7735 - val_loss: 0.4601 - val_accuracy: 0.7790\n",
      "Epoch 20/50\n",
      "610/610 [==============================] - 3s 5ms/step - loss: 0.4724 - accuracy: 0.7759 - val_loss: 0.4672 - val_accuracy: 0.7872\n",
      "Epoch 21/50\n",
      "610/610 [==============================] - 3s 4ms/step - loss: 0.4713 - accuracy: 0.7778 - val_loss: 0.4481 - val_accuracy: 0.7983\n",
      "Epoch 22/50\n",
      "610/610 [==============================] - 3s 5ms/step - loss: 0.4692 - accuracy: 0.7817 - val_loss: 0.4705 - val_accuracy: 0.7774\n",
      "Epoch 23/50\n",
      "610/610 [==============================] - 3s 5ms/step - loss: 0.4679 - accuracy: 0.7813 - val_loss: 0.4631 - val_accuracy: 0.8036\n",
      "Epoch 24/50\n",
      "610/610 [==============================] - 3s 4ms/step - loss: 0.4679 - accuracy: 0.7826 - val_loss: 0.4772 - val_accuracy: 0.7884\n",
      "Epoch 25/50\n",
      "610/610 [==============================] - 3s 5ms/step - loss: 0.4656 - accuracy: 0.7834 - val_loss: 0.4488 - val_accuracy: 0.7975\n",
      "Epoch 26/50\n",
      "610/610 [==============================] - 3s 5ms/step - loss: 0.4665 - accuracy: 0.7857 - val_loss: 0.4662 - val_accuracy: 0.7749\n",
      "Epoch 27/50\n",
      "610/610 [==============================] - 3s 4ms/step - loss: 0.4635 - accuracy: 0.7852 - val_loss: 0.5321 - val_accuracy: 0.7729\n",
      "Epoch 28/50\n",
      "610/610 [==============================] - 3s 4ms/step - loss: 0.4630 - accuracy: 0.7883 - val_loss: 0.4451 - val_accuracy: 0.8020\n",
      "Epoch 29/50\n",
      "610/610 [==============================] - 3s 4ms/step - loss: 0.4597 - accuracy: 0.7912 - val_loss: 0.4487 - val_accuracy: 0.7983\n",
      "Epoch 30/50\n",
      "610/610 [==============================] - 3s 4ms/step - loss: 0.4609 - accuracy: 0.7899 - val_loss: 0.4529 - val_accuracy: 0.7995\n",
      "Epoch 31/50\n",
      "610/610 [==============================] - 3s 4ms/step - loss: 0.4612 - accuracy: 0.7879 - val_loss: 0.4504 - val_accuracy: 0.8016\n",
      "Epoch 32/50\n",
      "610/610 [==============================] - 3s 4ms/step - loss: 0.4618 - accuracy: 0.7896 - val_loss: 0.4557 - val_accuracy: 0.8011\n",
      "Epoch 33/50\n",
      "610/610 [==============================] - 3s 4ms/step - loss: 0.4602 - accuracy: 0.7921 - val_loss: 0.4738 - val_accuracy: 0.7909\n",
      "Epoch 34/50\n",
      "610/610 [==============================] - 3s 4ms/step - loss: 0.4624 - accuracy: 0.7902 - val_loss: 0.4928 - val_accuracy: 0.7774\n",
      "Epoch 35/50\n",
      "610/610 [==============================] - 3s 4ms/step - loss: 0.4595 - accuracy: 0.7922 - val_loss: 0.4457 - val_accuracy: 0.8036\n",
      "Epoch 36/50\n",
      "610/610 [==============================] - 3s 4ms/step - loss: 0.4589 - accuracy: 0.7904 - val_loss: 0.4554 - val_accuracy: 0.8016\n",
      "Epoch 37/50\n",
      "610/610 [==============================] - 3s 4ms/step - loss: 0.4581 - accuracy: 0.7934 - val_loss: 0.4491 - val_accuracy: 0.7966\n",
      "Epoch 38/50\n",
      "610/610 [==============================] - 3s 4ms/step - loss: 0.4545 - accuracy: 0.7963 - val_loss: 0.4795 - val_accuracy: 0.7983\n",
      "Epoch 39/50\n",
      "610/610 [==============================] - 3s 4ms/step - loss: 0.4552 - accuracy: 0.7946 - val_loss: 0.4510 - val_accuracy: 0.7987\n",
      "Epoch 40/50\n",
      "610/610 [==============================] - 3s 4ms/step - loss: 0.4533 - accuracy: 0.7935 - val_loss: 0.4597 - val_accuracy: 0.7901\n",
      "Epoch 41/50\n",
      "610/610 [==============================] - 3s 4ms/step - loss: 0.4542 - accuracy: 0.7952 - val_loss: 0.5062 - val_accuracy: 0.7893\n",
      "Epoch 42/50\n",
      "610/610 [==============================] - 3s 4ms/step - loss: 0.4538 - accuracy: 0.7944 - val_loss: 0.4546 - val_accuracy: 0.7934\n",
      "Epoch 43/50\n",
      "610/610 [==============================] - 3s 4ms/step - loss: 0.4568 - accuracy: 0.7943 - val_loss: 0.4435 - val_accuracy: 0.8065\n",
      "Epoch 44/50\n",
      "610/610 [==============================] - 3s 4ms/step - loss: 0.4572 - accuracy: 0.7901 - val_loss: 0.4581 - val_accuracy: 0.7958\n",
      "Epoch 45/50\n",
      "610/610 [==============================] - 3s 4ms/step - loss: 0.4546 - accuracy: 0.7956 - val_loss: 0.4689 - val_accuracy: 0.7884\n",
      "Epoch 46/50\n",
      "610/610 [==============================] - 3s 4ms/step - loss: 0.4579 - accuracy: 0.7918 - val_loss: 0.4468 - val_accuracy: 0.7946\n",
      "Epoch 47/50\n",
      "610/610 [==============================] - 3s 4ms/step - loss: 0.4543 - accuracy: 0.7924 - val_loss: 0.4475 - val_accuracy: 0.8110\n",
      "Epoch 48/50\n",
      "610/610 [==============================] - 3s 5ms/step - loss: 0.4513 - accuracy: 0.7968 - val_loss: 0.4698 - val_accuracy: 0.8048\n",
      "Epoch 49/50\n",
      "610/610 [==============================] - 3s 5ms/step - loss: 0.4527 - accuracy: 0.7978 - val_loss: 0.4786 - val_accuracy: 0.7991\n",
      "Epoch 50/50\n",
      "610/610 [==============================] - 3s 4ms/step - loss: 0.4503 - accuracy: 0.7980 - val_loss: 0.4523 - val_accuracy: 0.8065\n"
     ]
    },
    {
     "data": {
      "text/plain": [
       "<keras.callbacks.History at 0x2271ff67820>"
      ]
     },
     "execution_count": 78,
     "metadata": {},
     "output_type": "execute_result"
    }
   ],
   "source": [
    "model.compile(loss='binary_crossentropy', optimizer='rmsprop', metrics=['accuracy'])\n",
    "model.fit(contours_train_rp_duration, ger_train[\"labels\"], batch_size=16, epochs=50, validation_split=0.2)"
   ]
  },
  {
   "cell_type": "code",
   "execution_count": null,
   "metadata": {},
   "outputs": [
    {
     "name": "stdout",
     "output_type": "stream",
     "text": [
      "331/331 [==============================] - 1s 2ms/step\n",
      "Accuracy:  80.19465180005669 %\n"
     ]
    },
    {
     "data": {
      "text/plain": [
       "array([1, 0, 1, ..., 1, 0, 1])"
      ]
     },
     "execution_count": 80,
     "metadata": {},
     "output_type": "execute_result"
    },
    {
     "data": {
      "image/png": "[encoded data removed]",
      "text/plain": [
       "<Figure size 640x480 with 2 Axes>"
      ]
     },
     "metadata": {},
     "output_type": "display_data"
    }
   ],
   "source": [
    "results(model, contours_test_rp_duration, ger_test[\"labels\"])"
   ]
  },
  {
   "cell_type": "code",
   "execution_count": null,
   "metadata": {},
   "outputs": [
    {
     "name": "stdout",
     "output_type": "stream",
     "text": [
      "137/137 [==============================] - 0s 2ms/step\n"
     ]
    }
   ],
   "source": [
    "# predict on test set\n",
    "pred = model.predict(contours_test_rp_duration)\n",
    "threshold = 0.5\n",
    "pred[pred >= threshold] = 1\n",
    "pred[pred < threshold] = 0\n",
    "pred = pred.reshape(-1)"
   ]
  },
  {
   "cell_type": "code",
   "execution_count": null,
   "metadata": {},
   "outputs": [],
   "source": [
    "# calculate accuracy\n",
    "num_correct = np.count_nonzero(ger_test_labels == pred)\n",
    "num_wrong = len(ger_test_labels) - num_correct\n",
    "accuracy = num_correct / len(ger_test_labels)\n",
    "num_1as0 = np.count_nonzero((ger_test_labels == 1) & (pred == 0))\n",
    "num_1 = np.count_nonzero(ger_test_labels == 1)\n",
    "num_0as1 = np.count_nonzero((ger_test_labels == 0) & (pred == 1))\n",
    "num_0 = np.count_nonzero(ger_test_labels == 0)\n",
    "perc0as1 = (num_0as1 / num_0 )* 100"
   ]
  },
  {
   "cell_type": "code",
   "execution_count": null,
   "metadata": {},
   "outputs": [
    {
     "name": "stdout",
     "output_type": "stream",
     "text": [
      "Accuracy: 62.93%\n",
      "Num 1 as 0: 1023 out of 1919\n",
      "Num 0 as 1: 598 out of 2454\n",
      "0 as 1 percentage: 24.37%\n"
     ]
    }
   ],
   "source": [
    "# display results\n",
    "print(f\"Accuracy: {accuracy * 100:.2f}%\")\n",
    "print(f\"Num 1 as 0: {num_1as0} out of {num_1}\")\n",
    "print(f\"Num 0 as 1: {num_0as1} out of {num_0}\")\n",
    "print(f\"0 as 1 percentage: {perc0as1:.2f}%\")"
   ]
  },
  {
   "cell_type": "code",
   "execution_count": null,
   "metadata": {},
   "outputs": [
    {
     "name": "stdout",
     "output_type": "stream",
     "text": [
      "Epoch 1/50\n",
      "254/254 [==============================] - 2s 5ms/step - loss: 0.6951 - accuracy: 0.5505 - val_loss: 0.6902 - val_accuracy: 0.5621\n",
      "Epoch 2/50\n",
      "254/254 [==============================] - 1s 5ms/step - loss: 0.6882 - accuracy: 0.5514 - val_loss: 0.6822 - val_accuracy: 0.5621\n",
      "Epoch 3/50\n",
      "254/254 [==============================] - 1s 5ms/step - loss: 0.6819 - accuracy: 0.5662 - val_loss: 0.6634 - val_accuracy: 0.6124\n",
      "Epoch 4/50\n",
      "254/254 [==============================] - 1s 5ms/step - loss: 0.6719 - accuracy: 0.5951 - val_loss: 0.7431 - val_accuracy: 0.5759\n",
      "Epoch 5/50\n",
      "254/254 [==============================] - 1s 5ms/step - loss: 0.6693 - accuracy: 0.6040 - val_loss: 0.6585 - val_accuracy: 0.6262\n",
      "Epoch 6/50\n",
      "254/254 [==============================] - 1s 5ms/step - loss: 0.6662 - accuracy: 0.6077 - val_loss: 0.6631 - val_accuracy: 0.6183\n",
      "Epoch 7/50\n",
      "254/254 [==============================] - 1s 5ms/step - loss: 0.6625 - accuracy: 0.6190 - val_loss: 0.6533 - val_accuracy: 0.6410\n",
      "Epoch 8/50\n",
      "254/254 [==============================] - 1s 5ms/step - loss: 0.6609 - accuracy: 0.6161 - val_loss: 0.6568 - val_accuracy: 0.6183\n",
      "Epoch 9/50\n",
      "254/254 [==============================] - 1s 5ms/step - loss: 0.6637 - accuracy: 0.6161 - val_loss: 0.6613 - val_accuracy: 0.6174\n",
      "Epoch 10/50\n",
      "254/254 [==============================] - 1s 5ms/step - loss: 0.6624 - accuracy: 0.6203 - val_loss: 0.6795 - val_accuracy: 0.5888\n",
      "Epoch 11/50\n",
      "254/254 [==============================] - 1s 5ms/step - loss: 0.6616 - accuracy: 0.6163 - val_loss: 0.6604 - val_accuracy: 0.6233\n",
      "Epoch 12/50\n",
      "254/254 [==============================] - 1s 5ms/step - loss: 0.6596 - accuracy: 0.6205 - val_loss: 0.6566 - val_accuracy: 0.6351\n",
      "Epoch 13/50\n",
      "254/254 [==============================] - 1s 5ms/step - loss: 0.6606 - accuracy: 0.6279 - val_loss: 0.6531 - val_accuracy: 0.6381\n",
      "Epoch 14/50\n",
      "254/254 [==============================] - 1s 5ms/step - loss: 0.6614 - accuracy: 0.6208 - val_loss: 0.6579 - val_accuracy: 0.6203\n",
      "Epoch 15/50\n",
      "254/254 [==============================] - 1s 5ms/step - loss: 0.6608 - accuracy: 0.6176 - val_loss: 0.6557 - val_accuracy: 0.6400\n",
      "Epoch 16/50\n",
      "254/254 [==============================] - 1s 5ms/step - loss: 0.6621 - accuracy: 0.6161 - val_loss: 0.6607 - val_accuracy: 0.6262\n",
      "Epoch 17/50\n",
      "254/254 [==============================] - 1s 5ms/step - loss: 0.6584 - accuracy: 0.6218 - val_loss: 0.6794 - val_accuracy: 0.5976\n",
      "Epoch 18/50\n",
      "254/254 [==============================] - 1s 5ms/step - loss: 0.6592 - accuracy: 0.6252 - val_loss: 0.6562 - val_accuracy: 0.6183\n",
      "Epoch 19/50\n",
      "254/254 [==============================] - 1s 5ms/step - loss: 0.6582 - accuracy: 0.6227 - val_loss: 0.6589 - val_accuracy: 0.6272\n",
      "Epoch 20/50\n",
      "254/254 [==============================] - 1s 5ms/step - loss: 0.6597 - accuracy: 0.6210 - val_loss: 0.6547 - val_accuracy: 0.6193\n",
      "Epoch 21/50\n",
      "254/254 [==============================] - 1s 5ms/step - loss: 0.6601 - accuracy: 0.6183 - val_loss: 0.6546 - val_accuracy: 0.6292\n",
      "Epoch 22/50\n",
      "254/254 [==============================] - 1s 5ms/step - loss: 0.6576 - accuracy: 0.6213 - val_loss: 0.6625 - val_accuracy: 0.6223\n",
      "Epoch 23/50\n",
      "254/254 [==============================] - 1s 5ms/step - loss: 0.6606 - accuracy: 0.6213 - val_loss: 0.6557 - val_accuracy: 0.6223\n",
      "Epoch 24/50\n",
      "254/254 [==============================] - 1s 5ms/step - loss: 0.6560 - accuracy: 0.6220 - val_loss: 0.6550 - val_accuracy: 0.6371\n",
      "Epoch 25/50\n",
      "254/254 [==============================] - 1s 4ms/step - loss: 0.6563 - accuracy: 0.6208 - val_loss: 0.6528 - val_accuracy: 0.6351\n",
      "Epoch 26/50\n",
      "254/254 [==============================] - 1s 4ms/step - loss: 0.6573 - accuracy: 0.6225 - val_loss: 0.6548 - val_accuracy: 0.6331\n",
      "Epoch 27/50\n",
      "254/254 [==============================] - 1s 5ms/step - loss: 0.6591 - accuracy: 0.6208 - val_loss: 0.6567 - val_accuracy: 0.6144\n",
      "Epoch 28/50\n",
      "254/254 [==============================] - 1s 4ms/step - loss: 0.6564 - accuracy: 0.6227 - val_loss: 0.6601 - val_accuracy: 0.6262\n",
      "Epoch 29/50\n",
      "254/254 [==============================] - 1s 5ms/step - loss: 0.6591 - accuracy: 0.6186 - val_loss: 0.6611 - val_accuracy: 0.6193\n",
      "Epoch 30/50\n",
      "254/254 [==============================] - 1s 5ms/step - loss: 0.6567 - accuracy: 0.6255 - val_loss: 0.6525 - val_accuracy: 0.6351\n",
      "Epoch 31/50\n",
      "254/254 [==============================] - 1s 4ms/step - loss: 0.6582 - accuracy: 0.6210 - val_loss: 0.6668 - val_accuracy: 0.5986\n",
      "Epoch 32/50\n",
      "254/254 [==============================] - 1s 5ms/step - loss: 0.6562 - accuracy: 0.6260 - val_loss: 0.6588 - val_accuracy: 0.6243\n",
      "Epoch 33/50\n",
      "254/254 [==============================] - 1s 5ms/step - loss: 0.6583 - accuracy: 0.6156 - val_loss: 0.6536 - val_accuracy: 0.6381\n",
      "Epoch 34/50\n",
      "254/254 [==============================] - 1s 4ms/step - loss: 0.6572 - accuracy: 0.6218 - val_loss: 0.6564 - val_accuracy: 0.6075\n",
      "Epoch 35/50\n",
      "254/254 [==============================] - 1s 5ms/step - loss: 0.6571 - accuracy: 0.6215 - val_loss: 0.6558 - val_accuracy: 0.6361\n",
      "Epoch 36/50\n",
      "254/254 [==============================] - 1s 4ms/step - loss: 0.6583 - accuracy: 0.6223 - val_loss: 0.6531 - val_accuracy: 0.6302\n",
      "Epoch 37/50\n",
      "254/254 [==============================] - 1s 4ms/step - loss: 0.6571 - accuracy: 0.6208 - val_loss: 0.6534 - val_accuracy: 0.6361\n",
      "Epoch 38/50\n",
      "254/254 [==============================] - 1s 4ms/step - loss: 0.6566 - accuracy: 0.6220 - val_loss: 0.6529 - val_accuracy: 0.6371\n",
      "Epoch 39/50\n",
      "254/254 [==============================] - 1s 5ms/step - loss: 0.6574 - accuracy: 0.6240 - val_loss: 0.6535 - val_accuracy: 0.6331\n",
      "Epoch 40/50\n",
      "254/254 [==============================] - 1s 5ms/step - loss: 0.6568 - accuracy: 0.6235 - val_loss: 0.6612 - val_accuracy: 0.6223\n",
      "Epoch 41/50\n",
      "254/254 [==============================] - 1s 5ms/step - loss: 0.6557 - accuracy: 0.6279 - val_loss: 0.6553 - val_accuracy: 0.6193\n",
      "Epoch 42/50\n",
      "254/254 [==============================] - 1s 5ms/step - loss: 0.6577 - accuracy: 0.6220 - val_loss: 0.6530 - val_accuracy: 0.6371\n",
      "Epoch 43/50\n",
      "254/254 [==============================] - 1s 4ms/step - loss: 0.6560 - accuracy: 0.6203 - val_loss: 0.6555 - val_accuracy: 0.6331\n",
      "Epoch 44/50\n",
      "254/254 [==============================] - 1s 5ms/step - loss: 0.6567 - accuracy: 0.6200 - val_loss: 0.6573 - val_accuracy: 0.6262\n",
      "Epoch 45/50\n",
      "254/254 [==============================] - 1s 5ms/step - loss: 0.6545 - accuracy: 0.6247 - val_loss: 0.6571 - val_accuracy: 0.6351\n",
      "Epoch 46/50\n",
      "254/254 [==============================] - 1s 4ms/step - loss: 0.6562 - accuracy: 0.6267 - val_loss: 0.6571 - val_accuracy: 0.6272\n",
      "Epoch 47/50\n",
      "254/254 [==============================] - 1s 4ms/step - loss: 0.6571 - accuracy: 0.6242 - val_loss: 0.6586 - val_accuracy: 0.6233\n",
      "Epoch 48/50\n",
      "254/254 [==============================] - 1s 4ms/step - loss: 0.6557 - accuracy: 0.6297 - val_loss: 0.6592 - val_accuracy: 0.6075\n",
      "Epoch 49/50\n",
      "254/254 [==============================] - 1s 4ms/step - loss: 0.6558 - accuracy: 0.6225 - val_loss: 0.6550 - val_accuracy: 0.6292\n",
      "Epoch 50/50\n",
      "254/254 [==============================] - 1s 4ms/step - loss: 0.6555 - accuracy: 0.6220 - val_loss: 0.6545 - val_accuracy: 0.6233\n"
     ]
    },
    {
     "data": {
      "text/plain": [
       "<keras.callbacks.History at 0x2042e9517b0>"
      ]
     },
     "execution_count": 88,
     "metadata": {},
     "output_type": "execute_result"
    }
   ],
   "source": [
    "model.compile(loss='binary_crossentropy', optimizer='rmsprop', metrics=['accuracy'])\n",
    "model.fit(contours_train_lp_duration, train_labels, batch_size=16, epochs=50, validation_split=0.2)"
   ]
  },
  {
   "cell_type": "code",
   "execution_count": null,
   "metadata": {},
   "outputs": [
    {
     "name": "stdout",
     "output_type": "stream",
     "text": [
      "137/137 [==============================] - 0s 2ms/step\n"
     ]
    }
   ],
   "source": [
    "# predict on test set\n",
    "pred = model.predict(contours_test_lp_duration)\n",
    "threshold = 0.5\n",
    "pred[pred >= threshold] = 1\n",
    "pred[pred < threshold] = 0\n",
    "pred = pred.reshape(-1)"
   ]
  },
  {
   "cell_type": "code",
   "execution_count": null,
   "metadata": {},
   "outputs": [],
   "source": [
    "# calculate accuracy\n",
    "num_correct = np.count_nonzero(ger_test_labels == pred)\n",
    "num_wrong = len(ger_test_labels) - num_correct\n",
    "accuracy = num_correct / len(ger_test_labels)\n",
    "num_1as0 = np.count_nonzero((ger_test_labels == 1) & (pred == 0))\n",
    "num_1 = np.count_nonzero(ger_test_labels == 1)\n",
    "num_0as1 = np.count_nonzero((ger_test_labels == 0) & (pred == 1))\n",
    "num_0 = np.count_nonzero(ger_test_labels == 0)\n",
    "perc0as1 = (num_0as1 / num_0 )* 100"
   ]
  },
  {
   "cell_type": "code",
   "execution_count": null,
   "metadata": {},
   "outputs": [
    {
     "name": "stdout",
     "output_type": "stream",
     "text": [
      "Accuracy: 63.11%\n",
      "Num 1 as 0: 800 out of 1919\n",
      "Num 0 as 1: 813 out of 2454\n",
      "0 as 1 percentage: 33.13%\n"
     ]
    }
   ],
   "source": [
    "# display results\n",
    "print(f\"Accuracy: {accuracy * 100:.2f}%\")\n",
    "print(f\"Num 1 as 0: {num_1as0} out of {num_1}\")\n",
    "print(f\"Num 0 as 1: {num_0as1} out of {num_0}\")\n",
    "print(f\"0 as 1 percentage: {perc0as1:.2f}%\")"
   ]
  },
  {
   "cell_type": "code",
   "execution_count": null,
   "metadata": {},
   "outputs": [
    {
     "data": {
      "text/plain": [
       "(4373, 139)"
      ]
     },
     "execution_count": 95,
     "metadata": {},
     "output_type": "execute_result"
    }
   ],
   "source": [
    "contours_test_lp_duration.shape"
   ]
  },
  {
   "attachments": {},
   "cell_type": "markdown",
   "metadata": {},
   "source": [
    "# Duration - Method 2"
   ]
  },
  {
   "cell_type": "code",
   "execution_count": null,
   "metadata": {},
   "outputs": [],
   "source": [
    "# Define input shapes\n",
    "contour_shape = (138, )\n",
    "duration_shape = (1, )\n",
    "\n",
    "# Define inputs\n",
    "contour_input = Input(shape=contour_shape, name='contour_input')\n",
    "duration_input = Input(shape=duration_shape, name='duration_input')"
   ]
  },
  {
   "cell_type": "code",
   "execution_count": null,
   "metadata": {},
   "outputs": [],
   "source": [
    "# Reshape contour input to 3D tensor\n",
    "contour_3d = Reshape(target_shape=(contour_shape[0], 1))(contour_input)\n",
    "\n",
    "# Define RNN layer\n",
    "rnn_layer = LSTM(units=64, name='rnn')(contour_3d)"
   ]
  },
  {
   "cell_type": "code",
   "execution_count": null,
   "metadata": {},
   "outputs": [],
   "source": [
    "# Concatenate duration and RNN layer outputs\n",
    "concat_layer = concatenate([rnn_layer, duration_input])"
   ]
  },
  {
   "cell_type": "code",
   "execution_count": null,
   "metadata": {},
   "outputs": [],
   "source": [
    "# Define stress label prediction layer\n",
    "stress_pred = Dense(units=1, activation='sigmoid', name='stress')(concat_layer)"
   ]
  },
  {
   "cell_type": "code",
   "execution_count": null,
   "metadata": {},
   "outputs": [],
   "source": [
    "# Define model\n",
    "model = Model(inputs=[contour_input, duration_input], outputs=stress_pred)\n",
    "model.compile(optimizer='adam', loss='binary_crossentropy')"
   ]
  },
  {
   "cell_type": "code",
   "execution_count": null,
   "metadata": {},
   "outputs": [
    {
     "name": "stdout",
     "output_type": "stream",
     "text": [
      "Model: \"model\"\n",
      "__________________________________________________________________________________________________\n",
      " Layer (type)                   Output Shape         Param #     Connected to                     \n",
      "==================================================================================================\n",
      " contour_input (InputLayer)     [(None, 138)]        0           []                               \n",
      "                                                                                                  \n",
      " reshape_1 (Reshape)            (None, 138, 1)       0           ['contour_input[0][0]']          \n",
      "                                                                                                  \n",
      " rnn (LSTM)                     (None, 64)           16896       ['reshape_1[0][0]']              \n",
      "                                                                                                  \n",
      " duration_input (InputLayer)    [(None, 1)]          0           []                               \n",
      "                                                                                                  \n",
      " concatenate (Concatenate)      (None, 65)           0           ['rnn[0][0]',                    \n",
      "                                                                  'duration_input[0][0]']         \n",
      "                                                                                                  \n",
      " stress (Dense)                 (None, 1)            66          ['concatenate[0][0]']            \n",
      "                                                                                                  \n",
      "==================================================================================================\n",
      "Total params: 16,962\n",
      "Trainable params: 16,962\n",
      "Non-trainable params: 0\n",
      "__________________________________________________________________________________________________\n"
     ]
    }
   ],
   "source": [
    "model.summary()"
   ]
  },
  {
   "cell_type": "code",
   "execution_count": null,
   "metadata": {},
   "outputs": [
    {
     "name": "stdout",
     "output_type": "stream",
     "text": [
      "Epoch 1/50\n",
      "159/159 [==============================] - 6s 39ms/step - loss: 0.6721\n",
      "Epoch 2/50\n",
      "159/159 [==============================] - 6s 40ms/step - loss: 0.6719\n",
      "Epoch 3/50\n",
      "159/159 [==============================] - 6s 36ms/step - loss: 0.6712\n",
      "Epoch 4/50\n",
      "159/159 [==============================] - 6s 36ms/step - loss: 0.6719\n",
      "Epoch 5/50\n",
      "159/159 [==============================] - 6s 36ms/step - loss: 0.6720\n",
      "Epoch 6/50\n",
      "159/159 [==============================] - 6s 35ms/step - loss: 0.6727\n",
      "Epoch 7/50\n",
      "159/159 [==============================] - 6s 36ms/step - loss: 0.6715\n",
      "Epoch 8/50\n",
      "159/159 [==============================] - 6s 35ms/step - loss: 0.6715\n",
      "Epoch 9/50\n",
      "159/159 [==============================] - 6s 35ms/step - loss: 0.6725\n",
      "Epoch 10/50\n",
      "159/159 [==============================] - 6s 37ms/step - loss: 0.6718\n",
      "Epoch 11/50\n",
      "159/159 [==============================] - 6s 36ms/step - loss: 0.6715\n",
      "Epoch 12/50\n",
      "159/159 [==============================] - 6s 35ms/step - loss: 0.6727\n",
      "Epoch 13/50\n",
      "159/159 [==============================] - 6s 35ms/step - loss: 0.6724\n",
      "Epoch 14/50\n",
      "159/159 [==============================] - 6s 35ms/step - loss: 0.6719\n",
      "Epoch 15/50\n",
      "159/159 [==============================] - 6s 35ms/step - loss: 0.6728\n",
      "Epoch 16/50\n",
      "159/159 [==============================] - 6s 35ms/step - loss: 0.6725\n",
      "Epoch 17/50\n",
      "159/159 [==============================] - 6s 35ms/step - loss: 0.6715\n",
      "Epoch 18/50\n",
      "159/159 [==============================] - 6s 35ms/step - loss: 0.6713\n",
      "Epoch 19/50\n",
      "159/159 [==============================] - 6s 35ms/step - loss: 0.6716\n",
      "Epoch 20/50\n",
      "159/159 [==============================] - 6s 35ms/step - loss: 0.6716\n",
      "Epoch 21/50\n",
      "159/159 [==============================] - 6s 35ms/step - loss: 0.6719\n",
      "Epoch 22/50\n",
      "159/159 [==============================] - 6s 35ms/step - loss: 0.6726\n",
      "Epoch 23/50\n",
      "159/159 [==============================] - 6s 35ms/step - loss: 0.6718\n",
      "Epoch 24/50\n",
      "159/159 [==============================] - 6s 35ms/step - loss: 0.6722\n",
      "Epoch 25/50\n",
      "159/159 [==============================] - 6s 35ms/step - loss: 0.6727\n",
      "Epoch 26/50\n",
      "159/159 [==============================] - 6s 35ms/step - loss: 0.6714\n",
      "Epoch 27/50\n",
      "  9/159 [>.............................] - ETA: 5s - loss: 0.6707"
     ]
    },
    {
     "ename": "KeyboardInterrupt",
     "evalue": "",
     "output_type": "error",
     "traceback": [
      "\u001b[1;31m---------------------------------------------------------------------------\u001b[0m",
      "\u001b[1;31mKeyboardInterrupt\u001b[0m                         Traceback (most recent call last)",
      "\u001b[1;32mc:\\Users\\abhay\\Desktop\\Code\\Speech-Prominence-Detection\\Pranjal_Abhay\\codes\\model.ipynb Cell 51\u001b[0m in \u001b[0;36m2\n\u001b[0;32m      <a href='vscode-notebook-cell:/c%3A/Users/abhay/Desktop/Code/Speech-Prominence-Detection/Pranjal_Abhay/codes/model.ipynb#Y163sZmlsZQ%3D%3D?line=0'>1</a>\u001b[0m \u001b[39m# Train model\u001b[39;00m\n\u001b[1;32m----> <a href='vscode-notebook-cell:/c%3A/Users/abhay/Desktop/Code/Speech-Prominence-Detection/Pranjal_Abhay/codes/model.ipynb#Y163sZmlsZQ%3D%3D?line=1'>2</a>\u001b[0m model\u001b[39m.\u001b[39;49mfit(x\u001b[39m=\u001b[39;49m[contours_train_rp, lengths], y\u001b[39m=\u001b[39;49mtrain_labels, epochs\u001b[39m=\u001b[39;49m\u001b[39m50\u001b[39;49m, batch_size\u001b[39m=\u001b[39;49m\u001b[39m32\u001b[39;49m)\n",
      "File \u001b[1;32m~\\AppData\\Local\\Packages\\PythonSoftwareFoundation.Python.3.10_qbz5n2kfra8p0\\LocalCache\\local-packages\\Python310\\site-packages\\keras\\utils\\traceback_utils.py:65\u001b[0m, in \u001b[0;36mfilter_traceback.<locals>.error_handler\u001b[1;34m(*args, **kwargs)\u001b[0m\n\u001b[0;32m     63\u001b[0m filtered_tb \u001b[39m=\u001b[39m \u001b[39mNone\u001b[39;00m\n\u001b[0;32m     64\u001b[0m \u001b[39mtry\u001b[39;00m:\n\u001b[1;32m---> 65\u001b[0m     \u001b[39mreturn\u001b[39;00m fn(\u001b[39m*\u001b[39margs, \u001b[39m*\u001b[39m\u001b[39m*\u001b[39mkwargs)\n\u001b[0;32m     66\u001b[0m \u001b[39mexcept\u001b[39;00m \u001b[39mException\u001b[39;00m \u001b[39mas\u001b[39;00m e:\n\u001b[0;32m     67\u001b[0m     filtered_tb \u001b[39m=\u001b[39m _process_traceback_frames(e\u001b[39m.\u001b[39m__traceback__)\n",
      "File \u001b[1;32m~\\AppData\\Local\\Packages\\PythonSoftwareFoundation.Python.3.10_qbz5n2kfra8p0\\LocalCache\\local-packages\\Python310\\site-packages\\keras\\engine\\training.py:1650\u001b[0m, in \u001b[0;36mModel.fit\u001b[1;34m(self, x, y, batch_size, epochs, verbose, callbacks, validation_split, validation_data, shuffle, class_weight, sample_weight, initial_epoch, steps_per_epoch, validation_steps, validation_batch_size, validation_freq, max_queue_size, workers, use_multiprocessing)\u001b[0m\n\u001b[0;32m   1642\u001b[0m \u001b[39mwith\u001b[39;00m tf\u001b[39m.\u001b[39mprofiler\u001b[39m.\u001b[39mexperimental\u001b[39m.\u001b[39mTrace(\n\u001b[0;32m   1643\u001b[0m     \u001b[39m\"\u001b[39m\u001b[39mtrain\u001b[39m\u001b[39m\"\u001b[39m,\n\u001b[0;32m   1644\u001b[0m     epoch_num\u001b[39m=\u001b[39mepoch,\n\u001b[1;32m   (...)\u001b[0m\n\u001b[0;32m   1647\u001b[0m     _r\u001b[39m=\u001b[39m\u001b[39m1\u001b[39m,\n\u001b[0;32m   1648\u001b[0m ):\n\u001b[0;32m   1649\u001b[0m     callbacks\u001b[39m.\u001b[39mon_train_batch_begin(step)\n\u001b[1;32m-> 1650\u001b[0m     tmp_logs \u001b[39m=\u001b[39m \u001b[39mself\u001b[39;49m\u001b[39m.\u001b[39;49mtrain_function(iterator)\n\u001b[0;32m   1651\u001b[0m     \u001b[39mif\u001b[39;00m data_handler\u001b[39m.\u001b[39mshould_sync:\n\u001b[0;32m   1652\u001b[0m         context\u001b[39m.\u001b[39masync_wait()\n",
      "File \u001b[1;32m~\\AppData\\Local\\Packages\\PythonSoftwareFoundation.Python.3.10_qbz5n2kfra8p0\\LocalCache\\local-packages\\Python310\\site-packages\\tensorflow\\python\\util\\traceback_utils.py:150\u001b[0m, in \u001b[0;36mfilter_traceback.<locals>.error_handler\u001b[1;34m(*args, **kwargs)\u001b[0m\n\u001b[0;32m    148\u001b[0m filtered_tb \u001b[39m=\u001b[39m \u001b[39mNone\u001b[39;00m\n\u001b[0;32m    149\u001b[0m \u001b[39mtry\u001b[39;00m:\n\u001b[1;32m--> 150\u001b[0m   \u001b[39mreturn\u001b[39;00m fn(\u001b[39m*\u001b[39margs, \u001b[39m*\u001b[39m\u001b[39m*\u001b[39mkwargs)\n\u001b[0;32m    151\u001b[0m \u001b[39mexcept\u001b[39;00m \u001b[39mException\u001b[39;00m \u001b[39mas\u001b[39;00m e:\n\u001b[0;32m    152\u001b[0m   filtered_tb \u001b[39m=\u001b[39m _process_traceback_frames(e\u001b[39m.\u001b[39m__traceback__)\n",
      "File \u001b[1;32m~\\AppData\\Local\\Packages\\PythonSoftwareFoundation.Python.3.10_qbz5n2kfra8p0\\LocalCache\\local-packages\\Python310\\site-packages\\tensorflow\\python\\eager\\polymorphic_function\\polymorphic_function.py:880\u001b[0m, in \u001b[0;36mFunction.__call__\u001b[1;34m(self, *args, **kwds)\u001b[0m\n\u001b[0;32m    877\u001b[0m compiler \u001b[39m=\u001b[39m \u001b[39m\"\u001b[39m\u001b[39mxla\u001b[39m\u001b[39m\"\u001b[39m \u001b[39mif\u001b[39;00m \u001b[39mself\u001b[39m\u001b[39m.\u001b[39m_jit_compile \u001b[39melse\u001b[39;00m \u001b[39m\"\u001b[39m\u001b[39mnonXla\u001b[39m\u001b[39m\"\u001b[39m\n\u001b[0;32m    879\u001b[0m \u001b[39mwith\u001b[39;00m OptionalXlaContext(\u001b[39mself\u001b[39m\u001b[39m.\u001b[39m_jit_compile):\n\u001b[1;32m--> 880\u001b[0m   result \u001b[39m=\u001b[39m \u001b[39mself\u001b[39m\u001b[39m.\u001b[39m_call(\u001b[39m*\u001b[39margs, \u001b[39m*\u001b[39m\u001b[39m*\u001b[39mkwds)\n\u001b[0;32m    882\u001b[0m new_tracing_count \u001b[39m=\u001b[39m \u001b[39mself\u001b[39m\u001b[39m.\u001b[39mexperimental_get_tracing_count()\n\u001b[0;32m    883\u001b[0m without_tracing \u001b[39m=\u001b[39m (tracing_count \u001b[39m==\u001b[39m new_tracing_count)\n",
      "File \u001b[1;32m~\\AppData\\Local\\Packages\\PythonSoftwareFoundation.Python.3.10_qbz5n2kfra8p0\\LocalCache\\local-packages\\Python310\\site-packages\\tensorflow\\python\\eager\\polymorphic_function\\polymorphic_function.py:912\u001b[0m, in \u001b[0;36mFunction._call\u001b[1;34m(self, *args, **kwds)\u001b[0m\n\u001b[0;32m    909\u001b[0m   \u001b[39mself\u001b[39m\u001b[39m.\u001b[39m_lock\u001b[39m.\u001b[39mrelease()\n\u001b[0;32m    910\u001b[0m   \u001b[39m# In this case we have created variables on the first call, so we run the\u001b[39;00m\n\u001b[0;32m    911\u001b[0m   \u001b[39m# defunned version which is guaranteed to never create variables.\u001b[39;00m\n\u001b[1;32m--> 912\u001b[0m   \u001b[39mreturn\u001b[39;00m \u001b[39mself\u001b[39m\u001b[39m.\u001b[39m_no_variable_creation_fn(\u001b[39m*\u001b[39margs, \u001b[39m*\u001b[39m\u001b[39m*\u001b[39mkwds)  \u001b[39m# pylint: disable=not-callable\u001b[39;00m\n\u001b[0;32m    913\u001b[0m \u001b[39melif\u001b[39;00m \u001b[39mself\u001b[39m\u001b[39m.\u001b[39m_variable_creation_fn \u001b[39mis\u001b[39;00m \u001b[39mnot\u001b[39;00m \u001b[39mNone\u001b[39;00m:\n\u001b[0;32m    914\u001b[0m   \u001b[39m# Release the lock early so that multiple threads can perform the call\u001b[39;00m\n\u001b[0;32m    915\u001b[0m   \u001b[39m# in parallel.\u001b[39;00m\n\u001b[0;32m    916\u001b[0m   \u001b[39mself\u001b[39m\u001b[39m.\u001b[39m_lock\u001b[39m.\u001b[39mrelease()\n",
      "File \u001b[1;32m~\\AppData\\Local\\Packages\\PythonSoftwareFoundation.Python.3.10_qbz5n2kfra8p0\\LocalCache\\local-packages\\Python310\\site-packages\\tensorflow\\python\\eager\\polymorphic_function\\tracing_compiler.py:134\u001b[0m, in \u001b[0;36mTracingCompiler.__call__\u001b[1;34m(self, *args, **kwargs)\u001b[0m\n\u001b[0;32m    131\u001b[0m \u001b[39mwith\u001b[39;00m \u001b[39mself\u001b[39m\u001b[39m.\u001b[39m_lock:\n\u001b[0;32m    132\u001b[0m   (concrete_function,\n\u001b[0;32m    133\u001b[0m    filtered_flat_args) \u001b[39m=\u001b[39m \u001b[39mself\u001b[39m\u001b[39m.\u001b[39m_maybe_define_function(args, kwargs)\n\u001b[1;32m--> 134\u001b[0m \u001b[39mreturn\u001b[39;00m concrete_function\u001b[39m.\u001b[39;49m_call_flat(\n\u001b[0;32m    135\u001b[0m     filtered_flat_args, captured_inputs\u001b[39m=\u001b[39;49mconcrete_function\u001b[39m.\u001b[39;49mcaptured_inputs)\n",
      "File \u001b[1;32m~\\AppData\\Local\\Packages\\PythonSoftwareFoundation.Python.3.10_qbz5n2kfra8p0\\LocalCache\\local-packages\\Python310\\site-packages\\tensorflow\\python\\eager\\polymorphic_function\\monomorphic_function.py:1745\u001b[0m, in \u001b[0;36mConcreteFunction._call_flat\u001b[1;34m(self, args, captured_inputs, cancellation_manager)\u001b[0m\n\u001b[0;32m   1741\u001b[0m possible_gradient_type \u001b[39m=\u001b[39m gradients_util\u001b[39m.\u001b[39mPossibleTapeGradientTypes(args)\n\u001b[0;32m   1742\u001b[0m \u001b[39mif\u001b[39;00m (possible_gradient_type \u001b[39m==\u001b[39m gradients_util\u001b[39m.\u001b[39mPOSSIBLE_GRADIENT_TYPES_NONE\n\u001b[0;32m   1743\u001b[0m     \u001b[39mand\u001b[39;00m executing_eagerly):\n\u001b[0;32m   1744\u001b[0m   \u001b[39m# No tape is watching; skip to running the function.\u001b[39;00m\n\u001b[1;32m-> 1745\u001b[0m   \u001b[39mreturn\u001b[39;00m \u001b[39mself\u001b[39m\u001b[39m.\u001b[39m_build_call_outputs(\u001b[39mself\u001b[39;49m\u001b[39m.\u001b[39;49m_inference_function\u001b[39m.\u001b[39;49mcall(\n\u001b[0;32m   1746\u001b[0m       ctx, args, cancellation_manager\u001b[39m=\u001b[39;49mcancellation_manager))\n\u001b[0;32m   1747\u001b[0m forward_backward \u001b[39m=\u001b[39m \u001b[39mself\u001b[39m\u001b[39m.\u001b[39m_select_forward_and_backward_functions(\n\u001b[0;32m   1748\u001b[0m     args,\n\u001b[0;32m   1749\u001b[0m     possible_gradient_type,\n\u001b[0;32m   1750\u001b[0m     executing_eagerly)\n\u001b[0;32m   1751\u001b[0m forward_function, args_with_tangents \u001b[39m=\u001b[39m forward_backward\u001b[39m.\u001b[39mforward()\n",
      "File \u001b[1;32m~\\AppData\\Local\\Packages\\PythonSoftwareFoundation.Python.3.10_qbz5n2kfra8p0\\LocalCache\\local-packages\\Python310\\site-packages\\tensorflow\\python\\eager\\polymorphic_function\\monomorphic_function.py:378\u001b[0m, in \u001b[0;36m_EagerDefinedFunction.call\u001b[1;34m(self, ctx, args, cancellation_manager)\u001b[0m\n\u001b[0;32m    376\u001b[0m \u001b[39mwith\u001b[39;00m _InterpolateFunctionError(\u001b[39mself\u001b[39m):\n\u001b[0;32m    377\u001b[0m   \u001b[39mif\u001b[39;00m cancellation_manager \u001b[39mis\u001b[39;00m \u001b[39mNone\u001b[39;00m:\n\u001b[1;32m--> 378\u001b[0m     outputs \u001b[39m=\u001b[39m execute\u001b[39m.\u001b[39;49mexecute(\n\u001b[0;32m    379\u001b[0m         \u001b[39mstr\u001b[39;49m(\u001b[39mself\u001b[39;49m\u001b[39m.\u001b[39;49msignature\u001b[39m.\u001b[39;49mname),\n\u001b[0;32m    380\u001b[0m         num_outputs\u001b[39m=\u001b[39;49m\u001b[39mself\u001b[39;49m\u001b[39m.\u001b[39;49m_num_outputs,\n\u001b[0;32m    381\u001b[0m         inputs\u001b[39m=\u001b[39;49margs,\n\u001b[0;32m    382\u001b[0m         attrs\u001b[39m=\u001b[39;49mattrs,\n\u001b[0;32m    383\u001b[0m         ctx\u001b[39m=\u001b[39;49mctx)\n\u001b[0;32m    384\u001b[0m   \u001b[39melse\u001b[39;00m:\n\u001b[0;32m    385\u001b[0m     outputs \u001b[39m=\u001b[39m execute\u001b[39m.\u001b[39mexecute_with_cancellation(\n\u001b[0;32m    386\u001b[0m         \u001b[39mstr\u001b[39m(\u001b[39mself\u001b[39m\u001b[39m.\u001b[39msignature\u001b[39m.\u001b[39mname),\n\u001b[0;32m    387\u001b[0m         num_outputs\u001b[39m=\u001b[39m\u001b[39mself\u001b[39m\u001b[39m.\u001b[39m_num_outputs,\n\u001b[1;32m   (...)\u001b[0m\n\u001b[0;32m    390\u001b[0m         ctx\u001b[39m=\u001b[39mctx,\n\u001b[0;32m    391\u001b[0m         cancellation_manager\u001b[39m=\u001b[39mcancellation_manager)\n",
      "File \u001b[1;32m~\\AppData\\Local\\Packages\\PythonSoftwareFoundation.Python.3.10_qbz5n2kfra8p0\\LocalCache\\local-packages\\Python310\\site-packages\\tensorflow\\python\\eager\\execute.py:52\u001b[0m, in \u001b[0;36mquick_execute\u001b[1;34m(op_name, num_outputs, inputs, attrs, ctx, name)\u001b[0m\n\u001b[0;32m     50\u001b[0m \u001b[39mtry\u001b[39;00m:\n\u001b[0;32m     51\u001b[0m   ctx\u001b[39m.\u001b[39mensure_initialized()\n\u001b[1;32m---> 52\u001b[0m   tensors \u001b[39m=\u001b[39m pywrap_tfe\u001b[39m.\u001b[39;49mTFE_Py_Execute(ctx\u001b[39m.\u001b[39;49m_handle, device_name, op_name,\n\u001b[0;32m     53\u001b[0m                                       inputs, attrs, num_outputs)\n\u001b[0;32m     54\u001b[0m \u001b[39mexcept\u001b[39;00m core\u001b[39m.\u001b[39m_NotOkStatusException \u001b[39mas\u001b[39;00m e:\n\u001b[0;32m     55\u001b[0m   \u001b[39mif\u001b[39;00m name \u001b[39mis\u001b[39;00m \u001b[39mnot\u001b[39;00m \u001b[39mNone\u001b[39;00m:\n",
      "\u001b[1;31mKeyboardInterrupt\u001b[0m: "
     ]
    }
   ],
   "source": [
    "# Train model\n",
    "model.fit(x=[contours_train_rp, max_length], y=ger_train['labels'], epochs=50, batch_size=32)"
   ]
  },
  {
   "cell_type": "code",
   "execution_count": null,
   "metadata": {},
   "outputs": [
    {
     "name": "stdout",
     "output_type": "stream",
     "text": [
      "137/137 [==============================] - 2s 15ms/step\n"
     ]
    }
   ],
   "source": [
    "# predict on test set\n",
    "pred = model.predict([contours_test_rp, lengths_test])  \n",
    "threshold = 0.5\n",
    "pred[pred >= threshold] = 1\n",
    "pred[pred < threshold] = 0\n",
    "pred = pred.reshape(-1)"
   ]
  },
  {
   "attachments": {},
   "cell_type": "markdown",
   "metadata": {},
   "source": [
    "## Class Weights\n",
    "* 75% of the labels are stressed\n",
    "* Hence the model is biased towards stressed data\n",
    "* Half the time, the unstressed labels were predicted as stressed\n",
    "* Class weights place a greater importance in getting the unstressed labels correct than the stressed labels"
   ]
  },
  {
   "cell_type": "code",
   "execution_count": 60,
   "metadata": {},
   "outputs": [
    {
     "name": "stdout",
     "output_type": "stream",
     "text": [
      "Model: \"sequential_3\"\n",
      "_________________________________________________________________\n",
      " Layer (type)                Output Shape              Param #   \n",
      "=================================================================\n",
      " dense_19 (Dense)            (None, 64)                18304     \n",
      "                                                                 \n",
      " dense_20 (Dense)            (None, 128)               8320      \n",
      "                                                                 \n",
      " dense_21 (Dense)            (None, 256)               33024     \n",
      "                                                                 \n",
      " dense_22 (Dense)            (None, 1)                 257       \n",
      "                                                                 \n",
      "=================================================================\n",
      "Total params: 59,905\n",
      "Trainable params: 59,905\n",
      "Non-trainable params: 0\n",
      "_________________________________________________________________\n"
     ]
    }
   ],
   "source": [
    "# define the model\n",
    "model = Sequential()\n",
    "model.add(Dense(64, input_dim=max_length, activation='relu'))\n",
    "model.add(Dense(128, activation='relu'))\n",
    "model.add(Dense(256, activation='relu'))\n",
    "model.add(Dense(1, activation='sigmoid'))\n",
    "\n",
    "model.summary()"
   ]
  },
  {
   "cell_type": "code",
   "execution_count": null,
   "metadata": {},
   "outputs": [],
   "source": [
    "model.compile(loss='binary_crossentropy', optimizer='rmsprop', metrics=['accuracy'])"
   ]
  },
  {
   "cell_type": "code",
   "execution_count": null,
   "metadata": {},
   "outputs": [
    {
     "name": "stdout",
     "output_type": "stream",
     "text": [
      "Epoch 1/100\n",
      "770/770 [==============================] - 2s 2ms/step - loss: 0.5816 - accuracy: 0.6864 - val_loss: 0.5096 - val_accuracy: 0.7715\n",
      "Epoch 2/100\n",
      "770/770 [==============================] - 2s 2ms/step - loss: 0.5477 - accuracy: 0.7421 - val_loss: 0.8136 - val_accuracy: 0.5934\n",
      "Epoch 3/100\n",
      "770/770 [==============================] - 2s 2ms/step - loss: 0.5350 - accuracy: 0.7556 - val_loss: 0.4843 - val_accuracy: 0.7985\n",
      "Epoch 4/100\n",
      "770/770 [==============================] - 2s 2ms/step - loss: 0.5262 - accuracy: 0.7654 - val_loss: 0.5009 - val_accuracy: 0.7914\n",
      "Epoch 5/100\n",
      "770/770 [==============================] - 2s 2ms/step - loss: 0.5164 - accuracy: 0.7657 - val_loss: 0.4640 - val_accuracy: 0.7871\n",
      "Epoch 6/100\n",
      "770/770 [==============================] - 2s 2ms/step - loss: 0.5124 - accuracy: 0.7651 - val_loss: 0.4577 - val_accuracy: 0.7943\n",
      "Epoch 7/100\n",
      "770/770 [==============================] - 2s 2ms/step - loss: 0.5095 - accuracy: 0.7672 - val_loss: 0.4733 - val_accuracy: 0.7920\n",
      "Epoch 8/100\n",
      "770/770 [==============================] - 2s 2ms/step - loss: 0.5061 - accuracy: 0.7707 - val_loss: 0.5234 - val_accuracy: 0.7449\n",
      "Epoch 9/100\n",
      "770/770 [==============================] - 2s 2ms/step - loss: 0.5030 - accuracy: 0.7711 - val_loss: 0.5262 - val_accuracy: 0.7728\n",
      "Epoch 10/100\n",
      "770/770 [==============================] - 2s 2ms/step - loss: 0.5011 - accuracy: 0.7772 - val_loss: 0.4720 - val_accuracy: 0.7894\n",
      "Epoch 11/100\n",
      "770/770 [==============================] - 2s 2ms/step - loss: 0.5006 - accuracy: 0.7779 - val_loss: 0.4608 - val_accuracy: 0.7888\n"
     ]
    },
    {
     "data": {
      "text/plain": [
       "<keras.callbacks.History at 0x125955ab070>"
      ]
     },
     "execution_count": 57,
     "metadata": {},
     "output_type": "execute_result"
    }
   ],
   "source": [
    "model.fit(\n",
    "    contours_train_merged, labels_train_merged,\n",
    "    batch_size=16, epochs=100, validation_split=0.2,\n",
    "    callbacks=[early_stopping],\n",
    "    class_weight=class_weights_dict\n",
    ")"
   ]
  },
  {
   "cell_type": "code",
   "execution_count": null,
   "metadata": {},
   "outputs": [
    {
     "name": "stdout",
     "output_type": "stream",
     "text": [
      "121/121 [==============================] - 0s 1ms/step\n"
     ]
    }
   ],
   "source": [
    "# predict on test set\n",
    "pred = model.predict(contours_test_merged)\n",
    "threshold = 0.5\n",
    "pred[pred >= threshold] = 1\n",
    "pred[pred < threshold] = 0\n",
    "pred = pred.reshape(-1)"
   ]
  },
  {
   "cell_type": "code",
   "execution_count": null,
   "metadata": {},
   "outputs": [],
   "source": [
    "# calculate accuracy\n",
    "num_correct = np.count_nonzero(labels_test_merged == pred)\n",
    "num_wrong = len(labels_test_merged) - num_correct\n",
    "accuracy = (num_correct / len(labels_test_merged)) * 100\n",
    "\n",
    "num_1as0 = np.count_nonzero((labels_test_merged == 1) & (pred == 0))\n",
    "num_1 = np.count_nonzero(labels_test_merged == 1)\n",
    "perc1as0 = (num_1as0 / num_1 )* 100\n",
    "\n",
    "num_0as1 = np.count_nonzero((labels_test_merged == 0) & (pred == 1))\n",
    "num_0 = np.count_nonzero(labels_test_merged == 0)\n",
    "perc0as1 = (num_0as1 / num_0 )* 100"
   ]
  },
  {
   "cell_type": "code",
   "execution_count": null,
   "metadata": {},
   "outputs": [
    {
     "name": "stdout",
     "output_type": "stream",
     "text": [
      "Accuracy: 78.45%\n",
      "1 as 0 percentage: 15.68%\n",
      "0 as 1 percentage: 36.50%\n"
     ]
    }
   ],
   "source": [
    "# display results\n",
    "print(f\"Accuracy: {accuracy:.2f}%\")\n",
    "print(f\"1 as 0 percentage: {perc1as0:.2f}%\")\n",
    "print(f\"0 as 1 percentage: {perc0as1:.2f}%\")"
   ]
  },
  {
   "attachments": {},
   "cell_type": "markdown",
   "metadata": {},
   "source": [
    "## Capture the duration\n",
    "The TimeDistributed layer is a wrapper in Keras that allows you to apply a layer to each time step of an input sequence. It is useful for processing sequential data such as time series or video frames where each time step or frame has the same structure and the same layer(s) need to be applied to each time step/frame."
   ]
  },
  {
   "cell_type": "code",
   "execution_count": null,
   "metadata": {},
   "outputs": [
    {
     "name": "stdout",
     "output_type": "stream",
     "text": [
      "Model: \"sequential_9\"\n",
      "_________________________________________________________________\n",
      " Layer (type)                Output Shape              Param #   \n",
      "=================================================================\n",
      " time_distributed_20 (TimeDi  (None, 1, 64)            18304     \n",
      " stributed)                                                      \n",
      "                                                                 \n",
      " time_distributed_21 (TimeDi  (None, 1, 128)           8320      \n",
      " stributed)                                                      \n",
      "                                                                 \n",
      " time_distributed_22 (TimeDi  (None, 1, 256)           33024     \n",
      " stributed)                                                      \n",
      "                                                                 \n",
      " time_distributed_23 (TimeDi  (None, 1, 1)             257       \n",
      " stributed)                                                      \n",
      "                                                                 \n",
      " flatten_5 (Flatten)         (None, 1)                 0         \n",
      "                                                                 \n",
      "=================================================================\n",
      "Total params: 59,905\n",
      "Trainable params: 59,905\n",
      "Non-trainable params: 0\n",
      "_________________________________________________________________\n"
     ]
    }
   ],
   "source": [
    "# use time distributed layer to capture temporal information\n",
    "model = Sequential()\n",
    "model.add(TimeDistributed(Dense(64, input_dim=max_length, activation='relu')))\n",
    "model.add(TimeDistributed(Dense(128, activation='relu')))\n",
    "model.add(TimeDistributed(Dense(256, activation='relu')))\n",
    "model.add(TimeDistributed(Dense(1, activation='sigmoid')))\n",
    "model.add(Flatten())\n",
    "\n",
    "# build the model with model.build()\n",
    "model.build(input_shape=(None, 1, max_length))\n",
    "\n",
    "model.summary()"
   ]
  },
  {
   "cell_type": "code",
   "execution_count": 62,
   "metadata": {},
   "outputs": [],
   "source": [
    "model.compile(loss='binary_crossentropy', optimizer='rmsprop', metrics=['accuracy'])\n",
    "contours_train_merged_rs = np.reshape(contours_train_merged, (contours_train_merged.shape[0], 1, contours_train_merged.shape[1]))"
   ]
  },
  {
   "cell_type": "code",
   "execution_count": null,
   "metadata": {},
   "outputs": [
    {
     "name": "stdout",
     "output_type": "stream",
     "text": [
      "Epoch 1/100\n",
      "912/912 [==============================] - 3s 3ms/step - loss: 0.4498 - accuracy: 0.7974 - val_loss: 0.5247 - val_accuracy: 0.7698\n",
      "Epoch 2/100\n",
      "912/912 [==============================] - 2s 2ms/step - loss: 0.4219 - accuracy: 0.8134 - val_loss: 0.4713 - val_accuracy: 0.8016\n",
      "Epoch 3/100\n",
      "912/912 [==============================] - 2s 2ms/step - loss: 0.4082 - accuracy: 0.8226 - val_loss: 0.4569 - val_accuracy: 0.8044\n",
      "Epoch 4/100\n",
      "912/912 [==============================] - 2s 2ms/step - loss: 0.3983 - accuracy: 0.8297 - val_loss: 0.4091 - val_accuracy: 0.8274\n",
      "Epoch 5/100\n",
      "912/912 [==============================] - 2s 2ms/step - loss: 0.3927 - accuracy: 0.8336 - val_loss: 0.4151 - val_accuracy: 0.8228\n",
      "Epoch 6/100\n",
      "912/912 [==============================] - 2s 2ms/step - loss: 0.3908 - accuracy: 0.8336 - val_loss: 0.4263 - val_accuracy: 0.8203\n",
      "Epoch 7/100\n",
      "912/912 [==============================] - 2s 2ms/step - loss: 0.3849 - accuracy: 0.8373 - val_loss: 0.4099 - val_accuracy: 0.8332\n",
      "Epoch 8/100\n",
      "912/912 [==============================] - 2s 2ms/step - loss: 0.3832 - accuracy: 0.8384 - val_loss: 0.4169 - val_accuracy: 0.8299\n",
      "Epoch 9/100\n",
      "912/912 [==============================] - 2s 2ms/step - loss: 0.3813 - accuracy: 0.8404 - val_loss: 0.4443 - val_accuracy: 0.8225\n"
     ]
    },
    {
     "data": {
      "text/plain": [
       "<keras.callbacks.History at 0x20a7f17f760>"
      ]
     },
     "execution_count": 175,
     "metadata": {},
     "output_type": "execute_result"
    }
   ],
   "source": [
    "model.fit(\n",
    "    contours_train_merged_rs, labels_train_merged,\n",
    "    batch_size=16, epochs=100, validation_split=0.2,\n",
    "    callbacks=[early_stopping],\n",
    ")"
   ]
  },
  {
   "cell_type": "code",
   "execution_count": null,
   "metadata": {},
   "outputs": [
    {
     "name": "stdout",
     "output_type": "stream",
     "text": [
      "143/143 [==============================] - 0s 1ms/step\n"
     ]
    }
   ],
   "source": [
    "# predict on test set\n",
    "pred = model.predict(contours_test_merged.reshape((contours_test_merged.shape[0], 1, contours_test_merged.shape[1])))\n",
    "# pred = model.predict(contours_test_merged)\n",
    "threshold = 0.5\n",
    "pred[pred >= threshold] = 1\n",
    "pred[pred < threshold] = 0\n",
    "pred = pred.reshape(-1)"
   ]
  },
  {
   "cell_type": "code",
   "execution_count": null,
   "metadata": {},
   "outputs": [],
   "source": [
    "# calculate accuracy\n",
    "num_correct = np.count_nonzero(labels_test_merged == pred)\n",
    "num_wrong = len(labels_test_merged) - num_correct\n",
    "accuracy = (num_correct / len(labels_test_merged)) * 100\n",
    "\n",
    "num_1as0 = np.count_nonzero((labels_test_merged == 1) & (pred == 0))\n",
    "num_1 = np.count_nonzero(labels_test_merged == 1)\n",
    "perc1as0 = (num_1as0 / num_1 )* 100\n",
    "\n",
    "num_0as1 = np.count_nonzero((labels_test_merged == 0) & (pred == 1))\n",
    "num_0 = np.count_nonzero(labels_test_merged == 0)\n",
    "perc0as1 = (num_0as1 / num_0 )* 100"
   ]
  },
  {
   "cell_type": "code",
   "execution_count": null,
   "metadata": {},
   "outputs": [
    {
     "name": "stdout",
     "output_type": "stream",
     "text": [
      "Accuracy: 82.53%\n",
      "1 as 0 percentage: 0.90%\n",
      "0 as 1 percentage: 67.88%\n"
     ]
    }
   ],
   "source": [
    "# display results\n",
    "print(f\"Accuracy: {accuracy:.2f}%\")\n",
    "print(f\"1 as 0 percentage: {perc1as0:.2f}%\")\n",
    "print(f\"0 as 1 percentage: {perc0as1:.2f}%\")"
   ]
  },
  {
   "attachments": {},
   "cell_type": "markdown",
   "metadata": {},
   "source": [
    "## Capture the Duration - Class Weights"
   ]
  },
  {
   "cell_type": "code",
   "execution_count": 63,
   "metadata": {},
   "outputs": [
    {
     "name": "stdout",
     "output_type": "stream",
     "text": [
      "Epoch 1/100\n"
     ]
    },
    {
     "ename": "ValueError",
     "evalue": "in user code:\n\n    File \"C:\\Users\\abhay\\AppData\\Local\\Packages\\PythonSoftwareFoundation.Python.3.10_qbz5n2kfra8p0\\LocalCache\\local-packages\\Python310\\site-packages\\keras\\engine\\training.py\", line 1249, in train_function  *\n        return step_function(self, iterator)\n    File \"C:\\Users\\abhay\\AppData\\Local\\Packages\\PythonSoftwareFoundation.Python.3.10_qbz5n2kfra8p0\\LocalCache\\local-packages\\Python310\\site-packages\\keras\\engine\\training.py\", line 1233, in step_function  **\n        outputs = model.distribute_strategy.run(run_step, args=(data,))\n    File \"C:\\Users\\abhay\\AppData\\Local\\Packages\\PythonSoftwareFoundation.Python.3.10_qbz5n2kfra8p0\\LocalCache\\local-packages\\Python310\\site-packages\\keras\\engine\\training.py\", line 1222, in run_step  **\n        outputs = model.train_step(data)\n    File \"C:\\Users\\abhay\\AppData\\Local\\Packages\\PythonSoftwareFoundation.Python.3.10_qbz5n2kfra8p0\\LocalCache\\local-packages\\Python310\\site-packages\\keras\\engine\\training.py\", line 1023, in train_step\n        y_pred = self(x, training=True)\n    File \"C:\\Users\\abhay\\AppData\\Local\\Packages\\PythonSoftwareFoundation.Python.3.10_qbz5n2kfra8p0\\LocalCache\\local-packages\\Python310\\site-packages\\keras\\utils\\traceback_utils.py\", line 70, in error_handler\n        raise e.with_traceback(filtered_tb) from None\n    File \"C:\\Users\\abhay\\AppData\\Local\\Packages\\PythonSoftwareFoundation.Python.3.10_qbz5n2kfra8p0\\LocalCache\\local-packages\\Python310\\site-packages\\keras\\engine\\input_spec.py\", line 295, in assert_input_compatibility\n        raise ValueError(\n\n    ValueError: Input 0 of layer \"sequential_3\" is incompatible with the layer: expected shape=(None, 285), found shape=(None, 1, 285)\n",
     "output_type": "error",
     "traceback": [
      "\u001b[1;31m---------------------------------------------------------------------------\u001b[0m",
      "\u001b[1;31mValueError\u001b[0m                                Traceback (most recent call last)",
      "\u001b[1;32mc:\\Users\\abhay\\Desktop\\Code\\Speech-Prominence-Detection\\Pranjal_Abhay\\codes\\model.ipynb Cell 100\u001b[0m in \u001b[0;36m1\n\u001b[1;32m----> <a href='vscode-notebook-cell:/c%3A/Users/abhay/Desktop/Code/Speech-Prominence-Detection/Pranjal_Abhay/codes/model.ipynb#Y206sZmlsZQ%3D%3D?line=0'>1</a>\u001b[0m model\u001b[39m.\u001b[39;49mfit(\n\u001b[0;32m      <a href='vscode-notebook-cell:/c%3A/Users/abhay/Desktop/Code/Speech-Prominence-Detection/Pranjal_Abhay/codes/model.ipynb#Y206sZmlsZQ%3D%3D?line=1'>2</a>\u001b[0m     contours_train_merged_rs, labels_train_merged,\n\u001b[0;32m      <a href='vscode-notebook-cell:/c%3A/Users/abhay/Desktop/Code/Speech-Prominence-Detection/Pranjal_Abhay/codes/model.ipynb#Y206sZmlsZQ%3D%3D?line=2'>3</a>\u001b[0m     batch_size\u001b[39m=\u001b[39;49m\u001b[39m16\u001b[39;49m, epochs\u001b[39m=\u001b[39;49m\u001b[39m100\u001b[39;49m, validation_split\u001b[39m=\u001b[39;49m\u001b[39m0.2\u001b[39;49m,\n\u001b[0;32m      <a href='vscode-notebook-cell:/c%3A/Users/abhay/Desktop/Code/Speech-Prominence-Detection/Pranjal_Abhay/codes/model.ipynb#Y206sZmlsZQ%3D%3D?line=3'>4</a>\u001b[0m     callbacks\u001b[39m=\u001b[39;49m[early_stopping],\n\u001b[0;32m      <a href='vscode-notebook-cell:/c%3A/Users/abhay/Desktop/Code/Speech-Prominence-Detection/Pranjal_Abhay/codes/model.ipynb#Y206sZmlsZQ%3D%3D?line=4'>5</a>\u001b[0m     class_weight\u001b[39m=\u001b[39;49mclass_weights_dict\n\u001b[0;32m      <a href='vscode-notebook-cell:/c%3A/Users/abhay/Desktop/Code/Speech-Prominence-Detection/Pranjal_Abhay/codes/model.ipynb#Y206sZmlsZQ%3D%3D?line=5'>6</a>\u001b[0m )\n",
      "File \u001b[1;32m~\\AppData\\Local\\Packages\\PythonSoftwareFoundation.Python.3.10_qbz5n2kfra8p0\\LocalCache\\local-packages\\Python310\\site-packages\\keras\\utils\\traceback_utils.py:70\u001b[0m, in \u001b[0;36mfilter_traceback.<locals>.error_handler\u001b[1;34m(*args, **kwargs)\u001b[0m\n\u001b[0;32m     67\u001b[0m     filtered_tb \u001b[39m=\u001b[39m _process_traceback_frames(e\u001b[39m.\u001b[39m__traceback__)\n\u001b[0;32m     68\u001b[0m     \u001b[39m# To get the full stack trace, call:\u001b[39;00m\n\u001b[0;32m     69\u001b[0m     \u001b[39m# `tf.debugging.disable_traceback_filtering()`\u001b[39;00m\n\u001b[1;32m---> 70\u001b[0m     \u001b[39mraise\u001b[39;00m e\u001b[39m.\u001b[39mwith_traceback(filtered_tb) \u001b[39mfrom\u001b[39;00m \u001b[39mNone\u001b[39m\n\u001b[0;32m     71\u001b[0m \u001b[39mfinally\u001b[39;00m:\n\u001b[0;32m     72\u001b[0m     \u001b[39mdel\u001b[39;00m filtered_tb\n",
      "File \u001b[1;32m~\\AppData\\Local\\Temp\\__autograph_generated_filewt_09y06.py:15\u001b[0m, in \u001b[0;36mouter_factory.<locals>.inner_factory.<locals>.tf__train_function\u001b[1;34m(iterator)\u001b[0m\n\u001b[0;32m     13\u001b[0m \u001b[39mtry\u001b[39;00m:\n\u001b[0;32m     14\u001b[0m     do_return \u001b[39m=\u001b[39m \u001b[39mTrue\u001b[39;00m\n\u001b[1;32m---> 15\u001b[0m     retval_ \u001b[39m=\u001b[39m ag__\u001b[39m.\u001b[39mconverted_call(ag__\u001b[39m.\u001b[39mld(step_function), (ag__\u001b[39m.\u001b[39mld(\u001b[39mself\u001b[39m), ag__\u001b[39m.\u001b[39mld(iterator)), \u001b[39mNone\u001b[39;00m, fscope)\n\u001b[0;32m     16\u001b[0m \u001b[39mexcept\u001b[39;00m:\n\u001b[0;32m     17\u001b[0m     do_return \u001b[39m=\u001b[39m \u001b[39mFalse\u001b[39;00m\n",
      "\u001b[1;31mValueError\u001b[0m: in user code:\n\n    File \"C:\\Users\\abhay\\AppData\\Local\\Packages\\PythonSoftwareFoundation.Python.3.10_qbz5n2kfra8p0\\LocalCache\\local-packages\\Python310\\site-packages\\keras\\engine\\training.py\", line 1249, in train_function  *\n        return step_function(self, iterator)\n    File \"C:\\Users\\abhay\\AppData\\Local\\Packages\\PythonSoftwareFoundation.Python.3.10_qbz5n2kfra8p0\\LocalCache\\local-packages\\Python310\\site-packages\\keras\\engine\\training.py\", line 1233, in step_function  **\n        outputs = model.distribute_strategy.run(run_step, args=(data,))\n    File \"C:\\Users\\abhay\\AppData\\Local\\Packages\\PythonSoftwareFoundation.Python.3.10_qbz5n2kfra8p0\\LocalCache\\local-packages\\Python310\\site-packages\\keras\\engine\\training.py\", line 1222, in run_step  **\n        outputs = model.train_step(data)\n    File \"C:\\Users\\abhay\\AppData\\Local\\Packages\\PythonSoftwareFoundation.Python.3.10_qbz5n2kfra8p0\\LocalCache\\local-packages\\Python310\\site-packages\\keras\\engine\\training.py\", line 1023, in train_step\n        y_pred = self(x, training=True)\n    File \"C:\\Users\\abhay\\AppData\\Local\\Packages\\PythonSoftwareFoundation.Python.3.10_qbz5n2kfra8p0\\LocalCache\\local-packages\\Python310\\site-packages\\keras\\utils\\traceback_utils.py\", line 70, in error_handler\n        raise e.with_traceback(filtered_tb) from None\n    File \"C:\\Users\\abhay\\AppData\\Local\\Packages\\PythonSoftwareFoundation.Python.3.10_qbz5n2kfra8p0\\LocalCache\\local-packages\\Python310\\site-packages\\keras\\engine\\input_spec.py\", line 295, in assert_input_compatibility\n        raise ValueError(\n\n    ValueError: Input 0 of layer \"sequential_3\" is incompatible with the layer: expected shape=(None, 285), found shape=(None, 1, 285)\n"
     ]
    }
   ],
   "source": [
    "model.fit(\n",
    "    contours_train_merged_rs, labels_train_merged,\n",
    "    batch_size=16, epochs=100, validation_split=0.2,\n",
    "    callbacks=[early_stopping],\n",
    "    class_weight=class_weights_dict\n",
    ")"
   ]
  },
  {
   "cell_type": "code",
   "execution_count": null,
   "metadata": {},
   "outputs": [
    {
     "name": "stdout",
     "output_type": "stream",
     "text": [
      "143/143 [==============================] - 0s 2ms/step\n"
     ]
    }
   ],
   "source": [
    "# predict on test set\n",
    "pred = model.predict(contours_test_merged.reshape((contours_test_merged.shape[0], 1, contours_test_merged.shape[1])))\n",
    "# pred = model.predict(contours_test_merged)\n",
    "threshold = 0.5\n",
    "pred[pred >= threshold] = 1\n",
    "pred[pred < threshold] = 0\n",
    "pred = pred.reshape(-1)"
   ]
  },
  {
   "cell_type": "code",
   "execution_count": null,
   "metadata": {},
   "outputs": [],
   "source": [
    "# calculate accuracy\n",
    "num_correct = np.count_nonzero(labels_test_merged == pred)\n",
    "num_wrong = len(labels_test_merged) - num_correct\n",
    "accuracy = (num_correct / len(labels_test_merged)) * 100\n",
    "\n",
    "num_1as0 = np.count_nonzero((labels_test_merged == 1) & (pred == 0))\n",
    "num_1 = np.count_nonzero(labels_test_merged == 1)\n",
    "perc1as0 = (num_1as0 / num_1 )* 100\n",
    "\n",
    "num_0as1 = np.count_nonzero((labels_test_merged == 0) & (pred == 1))\n",
    "num_0 = np.count_nonzero(labels_test_merged == 0)\n",
    "perc0as1 = (num_0as1 / num_0 )* 100"
   ]
  },
  {
   "cell_type": "code",
   "execution_count": null,
   "metadata": {},
   "outputs": [
    {
     "name": "stdout",
     "output_type": "stream",
     "text": [
      "Accuracy: 65.06%\n",
      "1 as 0 percentage: 41.67%\n",
      "0 as 1 percentage: 14.46%\n"
     ]
    }
   ],
   "source": [
    "# display results\n",
    "print(f\"Accuracy: {accuracy:.2f}%\")\n",
    "print(f\"1 as 0 percentage: {perc1as0:.2f}%\")\n",
    "print(f\"0 as 1 percentage: {perc0as1:.2f}%\")"
   ]
  }
 ],
 "metadata": {
  "kernelspec": {
   "display_name": "Python 3",
   "language": "python",
   "name": "python3"
  },
  "language_info": {
   "codemirror_mode": {
    "name": "ipython",
    "version": 3
   },
   "file_extension": ".py",
   "mimetype": "text/x-python",
   "name": "python",
   "nbconvert_exporter": "python",
   "pygments_lexer": "ipython3",
   "version": "3.10.11"
  },
  "orig_nbformat": 4
 },
 "nbformat": 4,
 "nbformat_minor": 2
}
