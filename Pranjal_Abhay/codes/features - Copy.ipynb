{
 "cells": [
  {
   "attachments": {},
   "cell_type": "markdown",
   "metadata": {},
   "source": [
    "# Speech Prominence Detection\n",
    "Speech Prominence Detection is the process of identifying the most important or prominent parts of speech in an audio signal. Prominence refers to the degree of emphasis or attention that a particular word or phrase receives in spoken language, which is often conveyed through variations in pitch, loudness, and timing. Speech Prominence Detection is an essential task in speech processing and natural language understanding, with a wide range of applications including speech recognition, sentiment analysis, and language translation. The goal of this project is to develop a machine learning model that can accurately identify the prominent parts of speech in a given audio signal. This project will involve feature extraction, model training, and evaluation, with the aim of achieving high accuracy and generalizability on a diverse range of speech datasets. The results of this project could have significant implications for improving speech recognition and understanding systems in real-world applications."
   ]
  },
  {
   "cell_type": "code",
   "execution_count": 2,
   "metadata": {},
   "outputs": [],
   "source": [
    "# imports\n",
    "import numpy as np\n",
    "import pandas as pd\n",
    "import re\n",
    "import os\n",
    "import collections\n",
    "import scipy\n",
    "from scipy.signal import medfilt\n",
    "from IPython.display import clear_output\n",
    "\n",
    "import warnings\n",
    "warnings.filterwarnings('ignore')"
   ]
  },
  {
   "cell_type": "code",
   "execution_count": 3,
   "metadata": {},
   "outputs": [],
   "source": [
    "from myfunctions import spectral_selection,  temporal_corr, get_labels_seq2seq\n",
    "from myfunctions import spectral_corr, smooth, vocoder_func"
   ]
  },
  {
   "cell_type": "markdown",
   "metadata": {},
   "source": [
    "## Datasets"
   ]
  },
  {
   "cell_type": "code",
   "execution_count": 4,
   "metadata": {},
   "outputs": [],
   "source": [
    "data_dir = \"../data/\"\n",
    "ger_test_dir = os.path.join(data_dir, \"GER/test/\")\n",
    "ger_train_dir = os.path.join(data_dir, \"GER/train/\")\n",
    "ita_test_dir = os.path.join(data_dir, \"ITA/test/\")\n",
    "ita_train_dir = os.path.join(data_dir, \"ITA/train/\")\n",
    "\n",
    "phn_dir = os.path.join(data_dir, \"fisher-2000_FA_GT_ESTphnTrans_estStress/lab/txt/phn/\")\n",
    "dict_name = \"nativeEnglishDict_gt100_manoj.syl\"\n",
    "stressLabelspath = data_dir + \"FA_htkCorrectedLabWithFullAudio\" + \"/lab/mat/sylStress/\""
   ]
  },
  {
   "cell_type": "code",
   "execution_count": 5,
   "metadata": {},
   "outputs": [],
   "source": [
    "# chech if the directories exist\n",
    "if not os.path.exists(data_dir):\n",
    "    print(\"Data directory does not exist\")\n",
    "if not os.path.exists(ger_train_dir):\n",
    "    print(\"German Train directory does not exist\")\n",
    "if not os.path.exists(ita_train_dir):\n",
    "    print(\"Italian Train directory does not exist\")\n",
    "if not os.path.exists(phn_dir):\n",
    "    print(\"Phoneme directory does not exist\")"
   ]
  },
  {
   "cell_type": "code",
   "execution_count": 6,
   "metadata": {},
   "outputs": [],
   "source": [
    "ger_test_files = os.listdir(ger_test_dir)\n",
    "ger_train_files = os.listdir(ger_train_dir)\n",
    "ita_test_files = os.listdir(ita_test_dir)\n",
    "ita_train_files = os.listdir(ita_train_dir)"
   ]
  },
  {
   "cell_type": "markdown",
   "metadata": {},
   "source": [
    "## Variables"
   ]
  },
  {
   "cell_type": "code",
   "execution_count": 7,
   "metadata": {},
   "outputs": [],
   "source": [
    "# Compute features\n",
    "twin = 5\n",
    "t_sigma = 1.4\n",
    "swin = 7\n",
    "s_sigma = 1.5\n",
    "mwin = 13\n",
    "max_threshold = 25\n",
    "\n",
    "vwlSB_num = 4\n",
    "vowelSB = [1, 2, 4, 5, 6, 7, 8, 13, 14, 15, 16, 17]\n",
    "sylSB_num = 5\n",
    "sylSB = [1, 2, 3, 4, 5, 6, 13, 14, 15, 16, 17, 18]\n",
    "\n",
    "startWordFrame_all = []\n",
    "spurtStartFrame_all = []\n",
    "spurtEndFrame_all = []\n",
    "vowelStartFrame_all = []\n",
    "vowelEndFrame_all = []\n",
    "eng_full_all = []\n",
    "spurtStress_all = []"
   ]
  },
  {
   "cell_type": "code",
   "execution_count": 8,
   "metadata": {},
   "outputs": [],
   "source": [
    "def get_data_array(phn_file):\n",
    "    data_array = []\n",
    "    try:\n",
    "        fid = open(phn_file, 'r')\n",
    "        data_array = np.loadtxt(fid, dtype={'names': ('a', 'b', 'c'), 'formats': ('f4', 'f4', 'S16')})\n",
    "        fid.close\n",
    "    except:\n",
    "        print('File does not exist')\n",
    "        return\n",
    "\n",
    "    ghastly = []\n",
    "    for i in range(len(data_array)):\n",
    "        tuple_list = list(data_array[i])\n",
    "        tuple_list[2] = tuple_list[2].decode()\n",
    "        ghastly.append((tuple_list[0], tuple_list[1], tuple_list[2]))\n",
    "    return np.array(ghastly)"
   ]
  },
  {
   "cell_type": "code",
   "execution_count": 9,
   "metadata": {},
   "outputs": [],
   "source": [
    "def get_phone_data(data_array):\n",
    "    phnTimes1 = [row[0] for row in data_array]\n",
    "    phnTimes1 = np.array([phnTimes1]).T\n",
    "\n",
    "    phnTimes2 = [row[1] for row in data_array]\n",
    "    phnTimes2 = np.array([phnTimes2]).T\n",
    "\n",
    "    phnTimes = np.hstack((phnTimes1, phnTimes2))\n",
    "    phones = [row[2] for row in data_array]\n",
    "    phones = np.array([phones])\n",
    "\n",
    "    # Made them lowercase since the syl dictionary is in lowercase\n",
    "    for i in range(0, len(phones[0])):\n",
    "        phones[0][i] = phones[0][i].lower()\n",
    "        \n",
    "    origPhones = phones\n",
    "    index = np.argwhere(origPhones[0] == 'sil')\n",
    "    phones = phones[phones != 'sil']\n",
    "    phones = np.array([phones])\n",
    "    phones = phones.reshape(1, -1)\n",
    "\n",
    "    phnTimes2 = np.delete(phnTimes2, index, axis=0)\n",
    "    phnTimes = np.delete(phnTimes, index, axis=0)\n",
    "    \n",
    "    return phones, phnTimes"
   ]
  },
  {
   "cell_type": "code",
   "execution_count": 10,
   "metadata": {},
   "outputs": [],
   "source": [
    "# Getting vowel data\n",
    "def get_vowel_data(data_array):\n",
    "    # VOWEL LIST\n",
    "    vowelList = ['aa', 'ae', 'ah', 'ao', 'aw', 'ay', 'eh', 'er', 'ey', 'ih', 'iy', 'ow', 'oy', 'uh', 'uw']\n",
    "    vowel_start_time = []\n",
    "    vowel_end_time = []\n",
    "    vowel = []\n",
    "\n",
    "    for i in range(0, len(data_array)):\n",
    "        if data_array[i][2].lower() in vowelList:\n",
    "            vowel_start_time.append(data_array[i][0])\n",
    "            vowel_end_time.append(data_array[i][1])\n",
    "            vowel.append(data_array[i][2].lower())\n",
    "            \n",
    "    vowel_start_time = np.array([vowel_start_time])\n",
    "    vowel_end_time = np.array([vowel_end_time])\n",
    "    vowel = np.array([vowel])\n",
    "    return vowel, vowel_start_time, vowel_end_time"
   ]
  },
  {
   "cell_type": "code",
   "execution_count": 11,
   "metadata": {},
   "outputs": [],
   "source": [
    "def get_words(file_name):\n",
    "    # Define the path to the transcript file\n",
    "    trans_path = data_dir + \"ISLEtrans.txt\"\n",
    "\n",
    "    # Read the contents of the transcript file\n",
    "    with open(trans_path, 'r') as trans_file:\n",
    "        trans_contents = trans_file.read()\n",
    "\n",
    "    # Extract the lines containing the specified filename from the transcript\n",
    "    lines = [line for line in trans_contents.split('\\n') if file_name in line]\n",
    "\n",
    "    # Extract the words from the lines and clean them up\n",
    "    words = []\n",
    "    for line in lines:\n",
    "        _, word_list = line.split(' ', 1)\n",
    "        words.extend(re.findall(r'\\b\\w+\\b', word_list))\n",
    "    words = [word.lower() for word in words]\n",
    "    return words"
   ]
  },
  {
   "cell_type": "code",
   "execution_count": 12,
   "metadata": {},
   "outputs": [],
   "source": [
    "def get_word_syls(words):\n",
    "    d = collections.defaultdict(list)\n",
    "    with open(data_dir + dict_name, 'r') as f:\n",
    "        for line in f:\n",
    "            key = line.split()[0]\n",
    "            val = line.split('=')[1].strip()\n",
    "            d[key].append(val)\n",
    "\n",
    "    word_syls = []\n",
    "    for i in range(len(words)):\n",
    "        curr_word_syls = []\n",
    "        if words[i] in d:\n",
    "            curr_word_syls = d[words[i]]\n",
    "        word_syls.append(curr_word_syls)\n",
    "    return word_syls"
   ]
  },
  {
   "cell_type": "code",
   "execution_count": 13,
   "metadata": {},
   "outputs": [],
   "source": [
    "def get_path_indices(words, word_syls, phones):\n",
    "    newSuccessInds_all = []\n",
    "    newSuccessInds_all2 = []\n",
    "\n",
    "    prevSuccessInds_all = []\n",
    "    prevSuccessInds_all.append(0)\n",
    "\n",
    "    # I said got not goat\n",
    "    for iterWord in range(0, len(words)):\n",
    "        currWordSyls = word_syls[iterWord]\n",
    "        countSuccess = 1\n",
    "\n",
    "        for iterPrev in range(0, len(prevSuccessInds_all)):\n",
    "            prevWordSyls = \"\"\n",
    "            if prevSuccessInds_all[iterPrev] == 0:\n",
    "                currPrevSylInds = []\n",
    "            else:\n",
    "                currPrevSylInds = prevSuccessInds_all[iterPrev]\n",
    "                for iterPrevSyls in range(0, len(currPrevSylInds)):\n",
    "                    temp = word_syls[iterPrevSyls]\n",
    "                    prevWordSyls = prevWordSyls + \\\n",
    "                        temp[currPrevSylInds[iterPrevSyls]]+\" \"\n",
    "\n",
    "            # iterating through the syllables of the current word\n",
    "            for iterCurr in range(0, len(currWordSyls)):\n",
    "                currTestWordSyls = prevWordSyls + currWordSyls[iterCurr]\n",
    "                temp2 = currTestWordSyls.replace(' . ', ' ')\n",
    "                \n",
    "                \n",
    "                inds = [m.start() for m in re.finditer(' ', temp2)]\n",
    "                if len(inds) == 0:\n",
    "                    inds = [len(temp2)]\n",
    "\n",
    "                count = 1\n",
    "                temp = []\n",
    "\n",
    "                for iterTemp in range(len(inds)):\n",
    "                    if iterTemp == 0:\n",
    "                        temp1 = temp2[0:inds[iterTemp]]\n",
    "                        # print(temp2 + \"\\t\\t| \" + temp1)\n",
    "                    else:\n",
    "                        temp1 = temp2[inds[iterTemp-1]+1:inds[iterTemp]]\n",
    "                    if not ((np.unique(temp1) == ' ').any() or (len(temp1) == 0)):\n",
    "                        temp.append(temp1)\n",
    "                        count += 1\n",
    "                        \n",
    "                if iterTemp == len(inds) - 1 and len(inds) < len(currTestWordSyls):\n",
    "                    temp1 = temp2[inds[iterTemp]+1:len(temp2)]\n",
    "                    if not ((len(temp1) == 0) or (np.unique(temp1) == ' ').any()):\n",
    "                        temp.append(temp1)\n",
    "                        count = count+1\n",
    "\n",
    "                if iterWord + 1 == len(words):\n",
    "                    currPhones = phones[0, 0:len(phones[0])]\n",
    "                else:\n",
    "                    currPhones = phones[0][0:len(temp)]\n",
    "\n",
    "                    \n",
    "                flag = 1\n",
    "                for iterFlag in range(0, len(currPhones), 1):\n",
    "                    if len(currPhones) != len(temp):\n",
    "                        flag = 0\n",
    "                    else:\n",
    "                        if currPhones[iterFlag] != temp[iterFlag]:\n",
    "                            flag = 0\n",
    "                if flag == 1:\n",
    "                    if not currPrevSylInds == []:\n",
    "                        for i in range(0, len(currPrevSylInds)):\n",
    "                            #                            print('line 122::::::yes')\n",
    "                            newSuccessInds_all.append(currPrevSylInds[i])\n",
    "                    newSuccessInds_all.append(iterCurr)\n",
    "                    newSuccessInds_all2.append(newSuccessInds_all)\n",
    "                    newSuccessInds_all = []\n",
    "                    countSuccess = countSuccess+1\n",
    "                    \n",
    "        prevSuccessInds_all = newSuccessInds_all2\n",
    "        newSuccessInds_all2 = []\n",
    "    if len(prevSuccessInds_all) == 0:\n",
    "        return None, None\n",
    "    return prevSuccessInds_all[0], currTestWordSyls"
   ]
  },
  {
   "cell_type": "code",
   "execution_count": 14,
   "metadata": {},
   "outputs": [],
   "source": [
    "def get_syls_count(path_indices, currTestWordSyls, words, word_syls):\n",
    "    sylCount = 1\n",
    "    phnCount = 1\n",
    "    spurtSyl = []  # spurtSylTimes= np.zeros((len(phnTimes),2))\n",
    "\n",
    "    syls_word = np.zeros((1, len(path_indices)))\n",
    "    spurtWordTimes = np.zeros((len(path_indices), 2))\n",
    "\n",
    "    for iterPath in range(0, len(path_indices)):\n",
    "        # current word and syllables\n",
    "        currWord = words[iterPath]\n",
    "        currWordSyls = word_syls[iterPath]\n",
    "\n",
    "        currSyl = currWordSyls[path_indices[iterPath]]\n",
    "        currSyl = currSyl.replace(' . ', '.')\n",
    "        # print(currSyl)\n",
    "        inds = [m.start() for m in re.finditer('\\.', currSyl)]\n",
    "\n",
    "        if len(inds) == 0:\n",
    "            inds = [len(currSyl)]\n",
    "\n",
    "        count = 0\n",
    "        for iterTemp in range(0, len(inds)):\n",
    "            if iterTemp == 0:\n",
    "                temp1 = currSyl[0:inds[iterTemp]]\n",
    "            else:\n",
    "                temp1 = currSyl[inds[iterTemp-1]+1:inds[iterTemp]]\n",
    "            if not (temp1 == ' ' or len(temp1) == 0):\n",
    "                spurtSyl.append(temp1)\n",
    "                sylCount = sylCount + 1\n",
    "                count = count + 1\n",
    "                \n",
    "        if iterTemp is len(inds)-1 and len(inds) < len(currTestWordSyls):\n",
    "            temp1 = currSyl[inds[iterTemp]+1:len(currSyl)]\n",
    "            if not (temp1 == ' ' or len(temp1) == 0):\n",
    "                spurtSyl.append(temp1)\n",
    "                sylCount = sylCount + 1\n",
    "                count = count + 1\n",
    "        syls_word[0][iterPath] = count\n",
    "\n",
    "    return syls_word, spurtSyl, spurtWordTimes"
   ]
  },
  {
   "cell_type": "code",
   "execution_count": 15,
   "metadata": {},
   "outputs": [],
   "source": [
    "def get_spurts(spurtSyl, currTestWordSyls, phnTimes):\n",
    "    phnCount = 1\n",
    "    spurtSylTimes = np.zeros((len(spurtSyl), 2))\n",
    "\n",
    "    for iterSyl in range(0, len(spurtSyl)):\n",
    "        temp2 = spurtSyl[iterSyl]\n",
    "        inds = [m.start() for m in re.finditer(' ', temp2)]\n",
    "        if len(inds) == 0:\n",
    "            inds = [len(temp2)]\n",
    "        count = 1\n",
    "        temp = []\n",
    "        for iterTemp in range(0, len(inds)):\n",
    "            if iterTemp == 0:\n",
    "                temp1 = temp2[0:inds[iterTemp]]\n",
    "            else:\n",
    "                temp1 = temp2[inds[iterTemp-1]+1:inds[iterTemp]]\n",
    "            if not (temp1 == ' ' or len(temp1) == 0):\n",
    "                temp.append(temp1)\n",
    "                count = count+1\n",
    "        if iterTemp == len(inds)-1 and len(inds) < len(currTestWordSyls):\n",
    "            temp1 = temp2[inds[iterTemp]+1:len(temp2)]\n",
    "            if not (temp1 == ' ' or len(temp1) == 0):\n",
    "                temp.append(temp1)\n",
    "                count = count+1\n",
    "\n",
    "        nPhns_syl = len(temp)\n",
    "        spurtSylTimes[iterSyl, 0] = phnTimes[phnCount-1, 0]\n",
    "        phnCount = phnCount + nPhns_syl\n",
    "        spurtSylTimes[iterSyl, 1] = phnTimes[phnCount-1-1, 1]\n",
    "    return spurtSylTimes"
   ]
  },
  {
   "cell_type": "code",
   "execution_count": 16,
   "metadata": {},
   "outputs": [],
   "source": [
    "def get_spurt_word_times(path_indices, syls_word, spurtSylTimes):\n",
    "    spurtWordTimes = np.zeros((len(path_indices), 2))\n",
    "    sylIdx = 1\n",
    "\n",
    "    for iterWordTimes in range(0, len(syls_word[0])):\n",
    "        spurtWordTimes[iterWordTimes][0] = spurtSylTimes[sylIdx-1][0]\n",
    "        sylIdx = sylIdx + syls_word[0][iterWordTimes].astype(int)\n",
    "        spurtWordTimes[iterWordTimes][1] = spurtSylTimes[sylIdx-1-1][1]\n",
    "    length_spurtWordTimes = iterWordTimes + 1\n",
    "    return spurtWordTimes"
   ]
  },
  {
   "cell_type": "code",
   "execution_count": 17,
   "metadata": {},
   "outputs": [],
   "source": [
    "def process_word_boundaries(spurtWordTimes, words, spurtSylTimes):\n",
    "    # Processing word boundary file\n",
    "    # FILE READ DELETED HERE\n",
    "    a = spurtWordTimes\n",
    "    b = words\n",
    "    if (len(a) is not len(b)):\n",
    "        print(\"error\")\n",
    "    wordData = np.hstack((a, np.array([b], dtype='S32').T))\n",
    "\n",
    "    # Extract first coloumn of wordData\n",
    "    startWordTime = [row[0] for row in wordData]\n",
    "    endWordTime = [row[1] for row in wordData]\n",
    "\n",
    "    startWordFrame = np.round((np.subtract(np.array(startWordTime, dtype='float'), spurtSylTimes[0][0].astype(float))*100))\n",
    "    endWordFrame = np.round((np.subtract(np.array(endWordTime, dtype='float'), spurtSylTimes[0][0].astype(float))*100) + 1)\n",
    "    startWordFrame = np.append(startWordFrame, endWordFrame[-1])\n",
    "\n",
    "    return startWordFrame, endWordFrame"
   ]
  },
  {
   "cell_type": "code",
   "execution_count": 18,
   "metadata": {},
   "outputs": [],
   "source": [
    "def get_sylTCSSBC(sylSB, eng_full, sylSB_num, twin, t_sigma, swin, s_sigma, spurtStartTime, vowelStartTime, startWordFrame):\n",
    "    # TCSSBC computation\n",
    "    if len(sylSB) > sylSB_num:\n",
    "        eng = spectral_selection(\n",
    "            eng_full[np.subtract(sylSB, 1), :], sylSB_num)\n",
    "    else:\n",
    "        eng = eng_full[sylSB, :]\n",
    "\n",
    "    t_cor = temporal_corr(eng, twin, t_sigma)\n",
    "    s_cor = spectral_corr(t_cor)\n",
    "    sylTCSSBC = smooth(s_cor, swin, s_sigma)\n",
    "    sylTCSSBC = np.array([sylTCSSBC])\n",
    "\n",
    "    start_idx = np.round(spurtStartTime[0]*100).astype(int)\n",
    "    sylTCSSBC = np.array([sylTCSSBC[0][start_idx:-1]])\n",
    "\n",
    "    sylTCSSBC = np.divide(sylTCSSBC, max(sylTCSSBC[0]))\n",
    "\n",
    "    if len(vowelSB) > vwlSB_num:\n",
    "        eng = spectral_selection(\n",
    "            eng_full[np.subtract(vowelSB, 1), :], vwlSB_num)\n",
    "    else:\n",
    "        eng = eng_full[vowelSB, :]\n",
    "    t_cor = temporal_corr(eng, twin, t_sigma)\n",
    "    s_cor = spectral_corr(t_cor)\n",
    "    vwlTCSSBC = smooth(s_cor, swin, s_sigma)\n",
    "\n",
    "    vwlTCSSBC = np.array([vwlTCSSBC])\n",
    "\n",
    "    # Modify TCSSBC contour by clipping from the vowel start\n",
    "    start_idx = np.round(vowelStartTime[0][0]*100).astype(int)\n",
    "    vwlTCSSBC = np.array([vwlTCSSBC[0][start_idx:-1]])\n",
    "\n",
    "    vwlTCSSBC = np.divide(vwlTCSSBC, max(vwlTCSSBC[0]))\n",
    "\n",
    "    # Compute silence statistics\n",
    "    # Preprocessing of the data\n",
    "    word_duration = np.zeros((1, len(startWordFrame) - 1))\n",
    "    word_Sylsum = np.zeros((1, len(startWordFrame) - 1))\n",
    "    word_Vwlsum = np.zeros((1, len(startWordFrame) - 1))\n",
    "\n",
    "    for j in range(0, len(startWordFrame) - 1):\n",
    "        temp_start = startWordFrame[j].astype(int)\n",
    "        temp_end = startWordFrame[j + 1].astype(int) - 1\n",
    "        # jhansi\n",
    "        if (temp_end >= sylTCSSBC.shape[1]):\n",
    "            temp_end1 = sylTCSSBC.shape[1]-1\n",
    "            sylTCSSBC[0, np.arange(temp_start, temp_end1)] = medfilt(\n",
    "                sylTCSSBC[0, np.arange(temp_start, temp_end1)], 3)\n",
    "            sylTCSSBC[0, temp_start] = sylTCSSBC[0, temp_start+1]\n",
    "            sylTCSSBC[0, temp_end1] = sylTCSSBC[0, temp_end1 - 1]\n",
    "            tempArr = sylTCSSBC[0, np.arange(temp_start, temp_end1)]\n",
    "            word_Sylsum[0, j] = tempArr.sum(axis=0)\n",
    "        else:\n",
    "            sylTCSSBC[0, np.arange(temp_start, temp_end)] = medfilt(\n",
    "                sylTCSSBC[0, np.arange(temp_start, temp_end)], 3)\n",
    "            sylTCSSBC[0, temp_start] = sylTCSSBC[0, temp_start+1]\n",
    "            sylTCSSBC[0, temp_end] = sylTCSSBC[0, temp_end - 1]\n",
    "            tempArr = sylTCSSBC[0, np.arange(temp_start, temp_end)]\n",
    "            word_Sylsum[0, j] = tempArr.sum(axis=0)\n",
    "        if (temp_end >= vwlTCSSBC.shape[1]):\n",
    "            temp_end = vwlTCSSBC.shape[1]-1\n",
    "\n",
    "        #    temp_end = np.min([temp_end,len(vwlTCSSBC)])\n",
    "        vwlTCSSBC[0, np.arange(temp_start, temp_end)] = medfilt(\n",
    "            vwlTCSSBC[0, np.arange(temp_start, temp_end)], 3)\n",
    "        vwlTCSSBC[0, temp_start] = vwlTCSSBC[0, temp_start+1]\n",
    "        vwlTCSSBC[0, temp_end] = vwlTCSSBC[0, temp_end - 1]\n",
    "\n",
    "        word_duration[0, j] = temp_end - temp_start + 1\n",
    "\n",
    "        tempArr = vwlTCSSBC[0, np.arange(temp_start, temp_end)]\n",
    "        word_Vwlsum[0, j] = tempArr.sum(axis=0)\n",
    "\n",
    "    sylTCSSBC[np.isnan(sylTCSSBC)] = 0   # Feature vector 1\n",
    "    vwlTCSSBC[np.isnan(vwlTCSSBC)] = 0   # Feature vector 2\n",
    "    return sylTCSSBC[0]"
   ]
  },
  {
   "cell_type": "code",
   "execution_count": 19,
   "metadata": {},
   "outputs": [],
   "source": [
    "def chunk_feature_contour(sylTCSSBC, spurtStartFrame, spurtEndFrame):\n",
    "    # Chunking the feature contour\n",
    "    sylTCSSBC_chunk = []\n",
    "    for i in range(0, len(spurtStartFrame)):\n",
    "        sylTCSSBC_chunk.append(sylTCSSBC[int(spurtStartFrame[i]):int(spurtEndFrame[i])])\n",
    "    return np.array(sylTCSSBC_chunk)"
   ]
  },
  {
   "cell_type": "markdown",
   "metadata": {},
   "source": [
    "## Feature Contour Generator\n",
    "This function extracts the relevant information from raw speech data and composes feature contours for the dataset."
   ]
  },
  {
   "cell_type": "code",
   "execution_count": 20,
   "metadata": {},
   "outputs": [],
   "source": [
    "def feature_contour(wav_file, test_data):\n",
    "    file_name = wav_file[:-4]\n",
    "    phn_file = phn_dir + file_name + \".txt\"\n",
    "    mat_file = stressLabelspath + file_name + \".mat\"\n",
    "\n",
    "    \n",
    "\n",
    "    if not os.path.exists(phn_file):\n",
    "        print(\"phn file doesn't exist\")\n",
    "        return None, None, False, None\n",
    "    \n",
    "    if not os.path.exists(mat_file):\n",
    "        print(\"mat file doesn't exist\")\n",
    "        return None, None, False, None\n",
    "\n",
    "    data_array = get_data_array(phn_file)\n",
    "    phones, phn_times = get_phone_data(data_array)\n",
    "    vowel, vowel_start_time, vowel_end_time = get_vowel_data(data_array)\n",
    "    words = get_words(file_name)\n",
    "    word_syls = get_word_syls(words)\n",
    "    path_indices, currTestWordSyls = get_path_indices(words, word_syls, phones)\n",
    "\n",
    "    \n",
    "    \n",
    "\n",
    "    if path_indices == None:\n",
    "        return None, None, False, None\n",
    "    syls_word, spurtSyl, spurtWordTimes = get_syls_count(path_indices, currTestWordSyls, words, word_syls)\n",
    "    spurtSylTimes = get_spurts(spurtSyl, currTestWordSyls, phn_times)\n",
    "    syls_word = syls_word.astype('i')\n",
    "\n",
    "    spurtWordTimes = get_spurt_word_times(path_indices, syls_word, spurtSylTimes)\n",
    "\n",
    "    \n",
    "\n",
    "    \n",
    "\n",
    "    # Execute the vocoder [MODIFICATION]: Get the audio file back so that it can be stored in a text file for C code.\n",
    "    file_dir = ger_test_dir if test_data else ger_train_dir\n",
    "    eng_full, xx = vocoder_func(file_dir + wav_file)\n",
    "    eng_full = eng_full.conj().transpose()\n",
    "\n",
    "\n",
    "    startWordFrame, endWordFrame = process_word_boundaries(spurtWordTimes, words, spurtSylTimes)\n",
    "\n",
    "    # Processing of stress and syllable boundary file\n",
    "    spurtSylTime = spurtSylTimes\n",
    "    spurtStartTime = spurtSylTime[:, 0]\n",
    "    spurtEndTime = spurtSylTime[:, 1]\n",
    "    spurtStartFrame = np.round((spurtStartTime - spurtStartTime[0]) * 100)\n",
    "    spurtEndFrame = np.round((spurtEndTime - spurtStartTime[0]) * 100)\n",
    "\n",
    "    # Processing of Vowel boundary file\n",
    "    vowel_start_time = vowel_start_time.astype(float)\n",
    "    vowel_end_time = vowel_end_time.astype(float)\n",
    "\n",
    "    vowelStartFrame = np.round(vowel_start_time*100 - spurtStartTime[0]*100)\n",
    "    vowelEndFrame = np.round(vowel_end_time*100 - spurtStartTime[0]*100)\n",
    "\n",
    "\n",
    "    # print(\"words = \", words)\n",
    "    # print(\"spurt start time = \", spurtStartTime, len(spurtStartTime))\n",
    "    # print(\"vowel start time = \", vowel_start_time, len(vowel_start_time[0]))\n",
    "    # print(\"start word frame = \", startWordFrame, len(startWordFrame))\n",
    "    # print(\"spurt start frame = \", spurtStartFrame, len(spurtStartFrame))\n",
    "    # print(\"spurt end frame = \", spurtEndFrame, len(spurtEndFrame))\n",
    "    print(\"words = \", words)\n",
    "    print(\"syls word = \", syls_word, len(syls_word))\n",
    "\n",
    "    polym = []\n",
    "    poly = []\n",
    "    origsyls_word = syls_word\n",
    "\n",
    "    # Filter by number of syllables\n",
    "    FILTER = 2\n",
    "    for n in syls_word[0]:\n",
    "        if n != FILTER:\n",
    "            polym.extend([False] * n)\n",
    "            poly.append(False)\n",
    "        else:\n",
    "            polym.extend([True] * n)\n",
    "            poly.append(True)\n",
    "    num_poly = np.sum(polym)\n",
    "    if num_poly == 0:\n",
    "        return None, None, None, None\n",
    "\n",
    "    # eliminate the monosyllabic words using the poly list\n",
    "    print(\"Poly = \", poly)\n",
    "    print(\"polym = \", polym)\n",
    "    \n",
    "    syls_word = syls_word[0][poly]\n",
    "    spurtStartTime = spurtStartTime[polym]\n",
    "    vowel_start_time = np.array([vowel_start_time[0][polym]])\n",
    "    startWordFrame = startWordFrame[poly.append(True)]\n",
    "    spurtStartFrame = spurtStartFrame[polym]\n",
    "    spurtEndFrame = spurtEndFrame[polym]\n",
    "\n",
    "\n",
    "    # print()\n",
    "    print(\"syls word = \", syls_word, len(syls_word))\n",
    "\n",
    "    # print(\"spurt start time = \", spurtStartTime, len(spurtStartTime))\n",
    "    # print(\"vowel start time = \", vowel_start_time, len(vowel_start_time))\n",
    "    # print(\"start word frame = \", startWordFrame, len(startWordFrame))\n",
    "    # print(\"spurt start frame = \", spurtStartFrame, len(spurtStartFrame))\n",
    "    # print(\"spurt end frame = \", spurtEndFrame, len(spurtEndFrame))\n",
    "\n",
    "\n",
    "\n",
    "\n",
    "    sylTCSSBC = get_sylTCSSBC(sylSB, eng_full, sylSB_num, twin, t_sigma, swin, s_sigma, spurtStartTime, vowel_start_time, startWordFrame)\n",
    "    sylTCSSBC_chunk = chunk_feature_contour(sylTCSSBC, spurtStartFrame, spurtEndFrame)\n",
    "    print(sylTCSSBC_chunk.shape)\n",
    "    print(\"Len of sylTCSSBC_chunk = \", len(sylTCSSBC_chunk))\n",
    "    print(\"Syl TCSSBC = \", sylTCSSBC_chunk)\n",
    "\n",
    "\n",
    "\n",
    "\n",
    "    # extract label\n",
    "    mat = scipy.io.loadmat(stressLabelspath + file_name + '.mat')\n",
    "    lab = mat['spurtStress']\n",
    "    lab_list = lab.tolist()\n",
    "    labels = get_labels_seq2seq(lab_list)  # Labels\n",
    "    if len(labels) != len(polym):\n",
    "        return None, None, False, None\n",
    "    \n",
    "    labels = [labels[i] for i in range(len(labels)) if polym[i]]\n",
    "\n",
    "    if len(sylTCSSBC_chunk) != len(labels):\n",
    "        return None, None, False, None\n",
    "\n",
    "    onlypoly_words = [words[i] for i in range(len(words)) if polym[i]]\n",
    "    return sylTCSSBC_chunk, labels, onlypoly_words, syls_word"
   ]
  },
  {
   "cell_type": "markdown",
   "metadata": {},
   "source": [
    "## Test Dataset Generation Code"
   ]
  },
  {
   "cell_type": "code",
   "execution_count": 21,
   "metadata": {},
   "outputs": [
    {
     "name": "stdout",
     "output_type": "stream",
     "text": [
      "0\n",
      "words =  ['an', 'airport', 'terminal']\n",
      "syls word =  [[1 2 3]] 1\n",
      "Poly =  [False, True, False]\n",
      "polym =  [False, True, True, False, False, False]\n",
      "syls word =  [2] 1\n"
     ]
    },
    {
     "ename": "ValueError",
     "evalue": "setting an array element with a sequence. The requested array has an inhomogeneous shape after 1 dimensions. The detected shape was (2,) + inhomogeneous part.",
     "output_type": "error",
     "traceback": [
      "\u001b[1;31m---------------------------------------------------------------------------\u001b[0m",
      "\u001b[1;31mValueError\u001b[0m                                Traceback (most recent call last)",
      "Cell \u001b[1;32mIn[21], line 9\u001b[0m\n\u001b[0;32m      7\u001b[0m \u001b[38;5;28;01mfor\u001b[39;00m i, file \u001b[38;5;129;01min\u001b[39;00m \u001b[38;5;28menumerate\u001b[39m(ger_train_files_subset):\n\u001b[0;32m      8\u001b[0m     \u001b[38;5;28mprint\u001b[39m(i)\n\u001b[1;32m----> 9\u001b[0m     contours, labels, words, syls_word \u001b[38;5;241m=\u001b[39m \u001b[43mfeature_contour\u001b[49m\u001b[43m(\u001b[49m\u001b[43mfile\u001b[49m\u001b[43m,\u001b[49m\u001b[43m \u001b[49m\u001b[38;5;28;43;01mFalse\u001b[39;49;00m\u001b[43m)\u001b[49m\n\u001b[0;32m     10\u001b[0m     \u001b[38;5;28mprint\u001b[39m(words)\n\u001b[0;32m     11\u001b[0m     \u001b[38;5;28mprint\u001b[39m()\n",
      "Cell \u001b[1;32mIn[20], line 112\u001b[0m, in \u001b[0;36mfeature_contour\u001b[1;34m(wav_file, test_data)\u001b[0m\n\u001b[0;32m    102\u001b[0m \u001b[38;5;66;03m# print(\"spurt start time = \", spurtStartTime, len(spurtStartTime))\u001b[39;00m\n\u001b[0;32m    103\u001b[0m \u001b[38;5;66;03m# print(\"vowel start time = \", vowel_start_time, len(vowel_start_time))\u001b[39;00m\n\u001b[0;32m    104\u001b[0m \u001b[38;5;66;03m# print(\"start word frame = \", startWordFrame, len(startWordFrame))\u001b[39;00m\n\u001b[0;32m    105\u001b[0m \u001b[38;5;66;03m# print(\"spurt start frame = \", spurtStartFrame, len(spurtStartFrame))\u001b[39;00m\n\u001b[0;32m    106\u001b[0m \u001b[38;5;66;03m# print(\"spurt end frame = \", spurtEndFrame, len(spurtEndFrame))\u001b[39;00m\n\u001b[0;32m    111\u001b[0m sylTCSSBC \u001b[38;5;241m=\u001b[39m get_sylTCSSBC(sylSB, eng_full, sylSB_num, twin, t_sigma, swin, s_sigma, spurtStartTime, vowel_start_time, startWordFrame)\n\u001b[1;32m--> 112\u001b[0m sylTCSSBC_chunk \u001b[38;5;241m=\u001b[39m \u001b[43mchunk_feature_contour\u001b[49m\u001b[43m(\u001b[49m\u001b[43msylTCSSBC\u001b[49m\u001b[43m,\u001b[49m\u001b[43m \u001b[49m\u001b[43mspurtStartFrame\u001b[49m\u001b[43m,\u001b[49m\u001b[43m \u001b[49m\u001b[43mspurtEndFrame\u001b[49m\u001b[43m)\u001b[49m\n\u001b[0;32m    113\u001b[0m \u001b[38;5;28mprint\u001b[39m(sylTCSSBC_chunk\u001b[38;5;241m.\u001b[39mshape)\n\u001b[0;32m    114\u001b[0m \u001b[38;5;28mprint\u001b[39m(\u001b[38;5;124m\"\u001b[39m\u001b[38;5;124mLen of sylTCSSBC_chunk = \u001b[39m\u001b[38;5;124m\"\u001b[39m, \u001b[38;5;28mlen\u001b[39m(sylTCSSBC_chunk))\n",
      "Cell \u001b[1;32mIn[19], line 6\u001b[0m, in \u001b[0;36mchunk_feature_contour\u001b[1;34m(sylTCSSBC, spurtStartFrame, spurtEndFrame)\u001b[0m\n\u001b[0;32m      4\u001b[0m \u001b[38;5;28;01mfor\u001b[39;00m i \u001b[38;5;129;01min\u001b[39;00m \u001b[38;5;28mrange\u001b[39m(\u001b[38;5;241m0\u001b[39m, \u001b[38;5;28mlen\u001b[39m(spurtStartFrame)):\n\u001b[0;32m      5\u001b[0m     sylTCSSBC_chunk\u001b[38;5;241m.\u001b[39mappend(sylTCSSBC[\u001b[38;5;28mint\u001b[39m(spurtStartFrame[i]):\u001b[38;5;28mint\u001b[39m(spurtEndFrame[i])])\n\u001b[1;32m----> 6\u001b[0m \u001b[38;5;28;01mreturn\u001b[39;00m \u001b[43mnp\u001b[49m\u001b[38;5;241;43m.\u001b[39;49m\u001b[43marray\u001b[49m\u001b[43m(\u001b[49m\u001b[43msylTCSSBC_chunk\u001b[49m\u001b[43m)\u001b[49m\n",
      "\u001b[1;31mValueError\u001b[0m: setting an array element with a sequence. The requested array has an inhomogeneous shape after 1 dimensions. The detected shape was (2,) + inhomogeneous part."
     ]
    }
   ],
   "source": [
    "ger_train_files_subset = ger_train_files[56:58]\n",
    "all_contours = []\n",
    "all_labels = []\n",
    "all_words = []\n",
    "all_syls_word = []\n",
    "\n",
    "for i, file in enumerate(ger_train_files_subset):\n",
    "    print(i)\n",
    "    contours, labels, words, syls_word = feature_contour(file, False)\n",
    "    print(words)\n",
    "    print()\n",
    "    print()\n",
    "    \n",
    "    if contours == None: continue\n",
    "\n",
    "    all_contours.extend(contours)\n",
    "    all_labels.extend(labels)\n",
    "    all_words.extend(words)\n",
    "    all_syls_word.extend(syls_word)"
   ]
  },
  {
   "cell_type": "markdown",
   "metadata": {},
   "source": [
    "## Generate the Dataset\n",
    "Use `ger_train_files` for `train` and `ger_test_files` for `test` respectively. <br />\n",
    "This process may take anywhere betweeen 1 and 2 hours."
   ]
  },
  {
   "cell_type": "code",
   "execution_count": 21,
   "metadata": {},
   "outputs": [
    {
     "name": "stdout",
     "output_type": "stream",
     "text": [
      "Processed: 1768/1768\rProgress: 100.00%\r"
     ]
    }
   ],
   "source": [
    "# train data\n",
    "all_chunks = []\n",
    "all_labels = []\n",
    "for i, file in enumerate(ger_test_files):\n",
    "    chunks, labels, success, _ = feature_contour(file, True)\n",
    "\n",
    "    if success: \n",
    "        all_chunks.extend(chunks)\n",
    "        all_labels.extend(labels)   \n",
    "\n",
    "    clear_output(wait=True)\n",
    "    if success:\n",
    "        print(\"Chunk length = \", len(chunks))\n",
    "\n",
    "    print(\"Processed: {}/{}\".format(i+1, len(ger_test_files)), end=\"\\r\")\n",
    "    print(\"Progress: {:.2f}%\".format((i+1)/len(ger_test_files)*100), end=\"\\r\")"
   ]
  },
  {
   "cell_type": "code",
   "execution_count": 22,
   "metadata": {},
   "outputs": [],
   "source": [
    "# save train data as pickle\n",
    "df = pd.DataFrame({'contour': all_chunks, 'labels': all_labels})\n",
    "df.to_pickle('../saved/ger_test_syls3.pkl')"
   ]
  },
  {
   "cell_type": "code",
   "execution_count": 21,
   "metadata": {},
   "outputs": [
    {
     "name": "stdout",
     "output_type": "stream",
     "text": [
      "0\n",
      "words =  ['an', 'airport', 'terminal']\n",
      "syls word =  [[1 2 3]] 1\n",
      "syls word =  [2 3] 2\n",
      "(5,)\n",
      "Len of sylTCSSBC_chunk =  5\n",
      "Syl TCSSBC =  [array([0.98497767, 0.99461823, 1.        , 0.98990266, 0.95111697,\n",
      "        0.87190801, 0.74674895, 0.58338007, 0.40559315, 0.24521739,\n",
      "        0.12708604, 0.05755976, 0.0257983 , 0.01506617, 0.01330798,\n",
      "        0.01653358, 0.02675887, 0.04678707, 0.0772311 , 0.11758193])\n",
      " array([0.17291263, 0.25554124, 0.37504223, 0.52223942, 0.66585791,\n",
      "        0.76752219, 0.80341387, 0.77043479, 0.67717787, 0.5383631 ,\n",
      "        0.37855638, 0.22968349, 0.11843518, 0.05330051, 0.0250247 ,\n",
      "        0.02001105, 0.03154989, 0.05966381, 0.10256843, 0.14975695,\n",
      "        0.1856775 , 0.19936193, 0.19158553, 0.17403582, 0.16485429,\n",
      "        0.18549753, 0.2526919 ])\n",
      " array([0.36456421, 0.49453219, 0.60337479, 0.66295721, 0.67221314,\n",
      "        0.64951052, 0.61342481, 0.57172596, 0.52352574, 0.46581942,\n",
      "        0.39878017, 0.32758565, 0.26143885, 0.20940347, 0.17617078,\n",
      "        0.16122392, 0.16170309, 0.17476093, 0.19614169, 0.21758163,\n",
      "        0.22866958, 0.22320014, 0.20457178])\n",
      " array([0.18483481, 0.17882023, 0.19710608, 0.24173727, 0.30508578,\n",
      "        0.3725052 , 0.42837885, 0.46299973, 0.47524807, 0.47011907])\n",
      " array([0.45453859, 0.43460787, 0.41376838, 0.39198845, 0.36599912,\n",
      "        0.33114977, 0.28471527, 0.22859142, 0.16932401, 0.11557867,\n",
      "        0.07410178, 0.04708964, 0.03244101, 0.02599668, 0.0237676 ,\n",
      "        0.02312685, 0.02274103, 0.02211583, 0.02113801, 0.01987977,\n",
      "        0.01853673, 0.01728931, 0.01623267, 0.01535621, 0.01461655,\n",
      "        0.01401556, 0.01356739, 0.01323283, 0.0129046 , 0.01252673])]\n",
      "\n",
      "\n",
      "1\n",
      "words =  ['an', 'art', 'gallery']\n",
      "syls word =  [[1 1 3]] 1\n",
      "syls word =  [3] 1\n",
      "(3,)\n",
      "Len of sylTCSSBC_chunk =  3\n",
      "Syl TCSSBC =  [array([0.09778043, 0.0692172 , 0.0487014 , 0.03654928, 0.03109466,\n",
      "        0.02967604, 0.02993013, 0.03046311, 0.03072974, 0.03038576])\n",
      " array([0.02917535, 0.02705089, 0.02437544, 0.02172549, 0.01952114,\n",
      "        0.01776731, 0.01628884, 0.01500908, 0.0140664 , 0.01358464,\n",
      "        0.01346745, 0.01343745, 0.01328592, 0.01300887, 0.01273456,\n",
      "        0.01257497, 0.01254968, 0.01261126, 0.01273461, 0.01294218])\n",
      " array([0.01322251, 0.01351213, 0.01375138, 0.01394395, 0.01412677,\n",
      "        0.01432302, 0.01446909, 0.01444039, 0.01415484, 0.01364203,\n",
      "        0.01297649, 0.01227212, 0.01165686, 0.01124245, 0.01110006,\n",
      "        0.01117516, 0.01119704, 0.01057808, 0.00888556])           ]\n",
      "\n",
      "\n"
     ]
    }
   ],
   "source": [
    "ger_train_files_subset = ger_train_files[56:58]\n",
    "all_contours = []\n",
    "all_labels = []\n",
    "all_words = []\n",
    "all_syls_word = []\n",
    "\n",
    "for i, file in enumerate(ger_train_files_subset):\n",
    "    print(i)\n",
    "    contours, labels, words, syls_word = feature_contour(file, False)\n",
    "    print()\n",
    "    print()\n",
    "    \n",
    "    # if not valid: continue\n",
    "\n",
    "    all_contours.extend(contours)\n",
    "    all_labels.extend(labels)\n",
    "    all_words.extend(words)\n",
    "    all_syls_word.extend(syls_word)"
   ]
  },
  {
   "cell_type": "code",
   "execution_count": 21,
   "metadata": {},
   "outputs": [
    {
     "name": "stdout",
     "output_type": "stream",
     "text": [
      "[1, 0, 1, 0, 0, 1, 0, 0]\n",
      "['airport', 'terminal', 'gallery']\n",
      "[2, 3, 3]\n"
     ]
    }
   ],
   "source": [
    "# print(all_contours)\n",
    "print(all_labels)\n",
    "print(all_words)\n",
    "print(all_syls_word)"
   ]
  },
  {
   "cell_type": "code",
   "execution_count": 22,
   "metadata": {},
   "outputs": [],
   "source": [
    "contours_combined = []\n",
    "contlens = []\n",
    "all_contours_copy = all_contours.copy()\n",
    "for num_syls in all_syls_word:\n",
    "    current_contour = []\n",
    "    current_contlen = []\n",
    "    for i in range(num_syls):\n",
    "        z = all_contours.pop(0)\n",
    "        current_contour.extend(z)\n",
    "        current_contlen.append(len(z))\n",
    "    contlens.append(current_contlen)\n",
    "    contours_combined.append(current_contour)"
   ]
  },
  {
   "cell_type": "code",
   "execution_count": 23,
   "metadata": {},
   "outputs": [
    {
     "name": "stdout",
     "output_type": "stream",
     "text": [
      "20\n",
      "27\n",
      "23\n",
      "10\n",
      "30\n",
      "10\n",
      "20\n",
      "19\n"
     ]
    }
   ],
   "source": [
    "for cont in all_contours_copy:\n",
    "    print(len(cont))"
   ]
  },
  {
   "cell_type": "code",
   "execution_count": 24,
   "metadata": {},
   "outputs": [],
   "source": [
    "contlens\n",
    "\n",
    "contlens_cumsum = []\n",
    "for contlen in contlens:\n",
    "    contlens_cumsum.append(np.cumsum(contlen))"
   ]
  },
  {
   "cell_type": "code",
   "execution_count": 25,
   "metadata": {},
   "outputs": [
    {
     "name": "stdout",
     "output_type": "stream",
     "text": [
      "47\n",
      "63\n",
      "49\n"
     ]
    }
   ],
   "source": [
    "contours_combined = np.array(contours_combined)\n",
    "for cont in contours_combined:\n",
    "    print(len(cont))"
   ]
  },
  {
   "cell_type": "code",
   "execution_count": 26,
   "metadata": {},
   "outputs": [
    {
     "data": {
      "text/plain": [
       "[1, 0, 1, 0, 0, 1, 0, 0]"
      ]
     },
     "execution_count": 26,
     "metadata": {},
     "output_type": "execute_result"
    }
   ],
   "source": [
    "contlens_cumsum\n",
    "all_labels"
   ]
  },
  {
   "cell_type": "markdown",
   "metadata": {},
   "source": [
    "# Syllable Boundaries in Words\n",
    "This code can be used to create a microservice that detects syllable boundaries in speech data. <br />\n",
    "In the context of Speech Prominence Detection, this can be used to understand how the syllable shapes the feature contours."
   ]
  },
  {
   "cell_type": "code",
   "execution_count": 27,
   "metadata": {},
   "outputs": [
    {
     "data": {
      "image/png": "[encoded data removed]",
      "text/plain": [
       "<Figure size 1600x400 with 3 Axes>"
      ]
     },
     "metadata": {},
     "output_type": "display_data"
    }
   ],
   "source": [
    "# plot the contours\n",
    "import matplotlib.pyplot as plt\n",
    "# create a figure with one row and the number of columns equal to the number of contours_combined\n",
    "fig, axs = plt.subplots(nrows=1, ncols=len(contours_combined), figsize=(16,4))\n",
    "\n",
    "# iterate over the contours_combined and plot each on a different subplot\n",
    "k = 0\n",
    "for i, cont in enumerate(contours_combined):\n",
    "    axs[i].plot(cont)\n",
    "\n",
    "    prev = 0\n",
    "    for vertical_line_position in contlens_cumsum[i]:\n",
    "        axs[i].axvline(x=vertical_line_position, color='gray', linestyle='--')\n",
    "        # display a number at the top of each vertical line\n",
    "        axs[i].text(vertical_line_position - 7, 0.5, str(all_labels[k]), rotation=0, color='gray')\n",
    "        k += 1\n",
    "        prev = vertical_line_position\n",
    "\n",
    "    axs[i].set_title(all_words[i])\n",
    "\n",
    "plt.show()"
   ]
  },
  {
   "cell_type": "code",
   "execution_count": null,
   "metadata": {},
   "outputs": [],
   "source": []
  },
  {
   "cell_type": "code",
   "execution_count": 28,
   "metadata": {},
   "outputs": [
    {
     "name": "stdout",
     "output_type": "stream",
     "text": [
      "Processed: 1/1965\rProgress: 0.05%\r"
     ]
    },
    {
     "ename": "KeyboardInterrupt",
     "evalue": "",
     "output_type": "error",
     "traceback": [
      "\u001b[1;31m---------------------------------------------------------------------------\u001b[0m",
      "\u001b[1;31mKeyboardInterrupt\u001b[0m                         Traceback (most recent call last)",
      "\u001b[1;32mc:\\Users\\abhay\\Desktop\\Code\\Speech-Prominence-Detection\\Pranjal_Abhay\\codes\\features - Copy.ipynb Cell 30\u001b[0m in \u001b[0;36m5\n\u001b[0;32m      <a href='vscode-notebook-cell:/c%3A/Users/abhay/Desktop/Code/Speech-Prominence-Detection/Pranjal_Abhay/codes/features%20-%20Copy.ipynb#X41sZmlsZQ%3D%3D?line=2'>3</a>\u001b[0m all_labels \u001b[39m=\u001b[39m []\n\u001b[0;32m      <a href='vscode-notebook-cell:/c%3A/Users/abhay/Desktop/Code/Speech-Prominence-Detection/Pranjal_Abhay/codes/features%20-%20Copy.ipynb#X41sZmlsZQ%3D%3D?line=3'>4</a>\u001b[0m \u001b[39mfor\u001b[39;00m i, file \u001b[39min\u001b[39;00m \u001b[39menumerate\u001b[39m(ger_train_files):\n\u001b[1;32m----> <a href='vscode-notebook-cell:/c%3A/Users/abhay/Desktop/Code/Speech-Prominence-Detection/Pranjal_Abhay/codes/features%20-%20Copy.ipynb#X41sZmlsZQ%3D%3D?line=4'>5</a>\u001b[0m     chunks, labels, success \u001b[39m=\u001b[39m feature_contour(file, \u001b[39mFalse\u001b[39;49;00m)\n\u001b[0;32m      <a href='vscode-notebook-cell:/c%3A/Users/abhay/Desktop/Code/Speech-Prominence-Detection/Pranjal_Abhay/codes/features%20-%20Copy.ipynb#X41sZmlsZQ%3D%3D?line=6'>7</a>\u001b[0m     \u001b[39mif\u001b[39;00m success:\n\u001b[0;32m      <a href='vscode-notebook-cell:/c%3A/Users/abhay/Desktop/Code/Speech-Prominence-Detection/Pranjal_Abhay/codes/features%20-%20Copy.ipynb#X41sZmlsZQ%3D%3D?line=7'>8</a>\u001b[0m         all_chunks\u001b[39m.\u001b[39mextend(chunks)\n",
      "\u001b[1;32mc:\\Users\\abhay\\Desktop\\Code\\Speech-Prominence-Detection\\Pranjal_Abhay\\codes\\features - Copy.ipynb Cell 30\u001b[0m in \u001b[0;36m4\n\u001b[0;32m     <a href='vscode-notebook-cell:/c%3A/Users/abhay/Desktop/Code/Speech-Prominence-Detection/Pranjal_Abhay/codes/features%20-%20Copy.ipynb#X41sZmlsZQ%3D%3D?line=37'>38</a>\u001b[0m \u001b[39m# Execute the vocoder [MODIFICATION]: Get the audio file back so that it can be stored in a text file for C code.\u001b[39;00m\n\u001b[0;32m     <a href='vscode-notebook-cell:/c%3A/Users/abhay/Desktop/Code/Speech-Prominence-Detection/Pranjal_Abhay/codes/features%20-%20Copy.ipynb#X41sZmlsZQ%3D%3D?line=38'>39</a>\u001b[0m file_dir \u001b[39m=\u001b[39m ger_test_dir \u001b[39mif\u001b[39;00m test_data \u001b[39melse\u001b[39;00m ger_train_dir\n\u001b[1;32m---> <a href='vscode-notebook-cell:/c%3A/Users/abhay/Desktop/Code/Speech-Prominence-Detection/Pranjal_Abhay/codes/features%20-%20Copy.ipynb#X41sZmlsZQ%3D%3D?line=39'>40</a>\u001b[0m eng_full, xx \u001b[39m=\u001b[39m vocoder_func(file_dir \u001b[39m+\u001b[39;49m wav_file)\n\u001b[0;32m     <a href='vscode-notebook-cell:/c%3A/Users/abhay/Desktop/Code/Speech-Prominence-Detection/Pranjal_Abhay/codes/features%20-%20Copy.ipynb#X41sZmlsZQ%3D%3D?line=40'>41</a>\u001b[0m eng_full \u001b[39m=\u001b[39m eng_full\u001b[39m.\u001b[39mconj()\u001b[39m.\u001b[39mtranspose()\n\u001b[0;32m     <a href='vscode-notebook-cell:/c%3A/Users/abhay/Desktop/Code/Speech-Prominence-Detection/Pranjal_Abhay/codes/features%20-%20Copy.ipynb#X41sZmlsZQ%3D%3D?line=43'>44</a>\u001b[0m startWordFrame, endWordFrame \u001b[39m=\u001b[39m process_word_boundaries(spurtWordTimes, words, spurtSylTimes)\n",
      "File \u001b[1;32mc:\\Users\\abhay\\Desktop\\Code\\Speech-Prominence-Detection\\Pranjal_Abhay\\codes\\myfunctions.py:277\u001b[0m, in \u001b[0;36mvocoder_func\u001b[1;34m(wavPath)\u001b[0m\n\u001b[0;32m    275\u001b[0m fltFrame \u001b[39m=\u001b[39m butter_bandpass_filter(currFrame[\u001b[39m0\u001b[39m], fltFc[\u001b[39m0\u001b[39m][i], fltFc[\u001b[39m1\u001b[39m][i], Fs, \u001b[39m2\u001b[39m); fltFrame \u001b[39m=\u001b[39m fltFrame\u001b[39m.\u001b[39mT\n\u001b[0;32m    276\u001b[0m rectFrame \u001b[39m=\u001b[39m np\u001b[39m.\u001b[39mabs(fltFrame[\u001b[39m0\u001b[39m:nWndw])\n\u001b[1;32m--> 277\u001b[0m lpFltFrame \u001b[39m=\u001b[39m butter_lowpass_filter(rectFrame, \u001b[39mfloat\u001b[39;49m(fltLpFc), Fs, \u001b[39m2\u001b[39;49m)\n\u001b[0;32m    278\u001b[0m currEnergy \u001b[39m=\u001b[39m lpFltFrame[nWndw\u001b[39m-\u001b[39m\u001b[39m1\u001b[39m]\n\u001b[0;32m    279\u001b[0m \u001b[39mif\u001b[39;00m currEnergy \u001b[39m<\u001b[39m \u001b[39m1\u001b[39m:\n",
      "File \u001b[1;32mc:\\Users\\abhay\\Desktop\\Code\\Speech-Prominence-Detection\\Pranjal_Abhay\\codes\\myfunctions.py:204\u001b[0m, in \u001b[0;36mvocoder_func.<locals>.butter_lowpass_filter\u001b[1;34m(data, lowcut, fs, order)\u001b[0m\n\u001b[0;32m    203\u001b[0m \u001b[39mdef\u001b[39;00m \u001b[39mbutter_lowpass_filter\u001b[39m(data, lowcut, fs, order):\n\u001b[1;32m--> 204\u001b[0m     b, a \u001b[39m=\u001b[39m butter_lowpass(lowcut, fs, order\u001b[39m=\u001b[39;49morder)\n\u001b[0;32m    205\u001b[0m     y \u001b[39m=\u001b[39m lfilter(b, a, data)\n\u001b[0;32m    206\u001b[0m     \u001b[39mreturn\u001b[39;00m y\n",
      "File \u001b[1;32mc:\\Users\\abhay\\Desktop\\Code\\Speech-Prominence-Detection\\Pranjal_Abhay\\codes\\myfunctions.py:195\u001b[0m, in \u001b[0;36mvocoder_func.<locals>.butter_lowpass\u001b[1;34m(lowcut, fs, order)\u001b[0m\n\u001b[0;32m    193\u001b[0m nyq \u001b[39m=\u001b[39m \u001b[39m0.5\u001b[39m\u001b[39m*\u001b[39mfs\n\u001b[0;32m    194\u001b[0m low \u001b[39m=\u001b[39m \u001b[39mfloat\u001b[39m(lowcut) \u001b[39m/\u001b[39m nyq\n\u001b[1;32m--> 195\u001b[0m b ,a \u001b[39m=\u001b[39m butter(order, low, btype\u001b[39m=\u001b[39;49m\u001b[39m'\u001b[39;49m\u001b[39mlowpass\u001b[39;49m\u001b[39m'\u001b[39;49m)\n\u001b[0;32m    196\u001b[0m \u001b[39mreturn\u001b[39;00m b, a\n",
      "File \u001b[1;32m~\\AppData\\Local\\Packages\\PythonSoftwareFoundation.Python.3.10_qbz5n2kfra8p0\\LocalCache\\local-packages\\Python310\\site-packages\\scipy\\signal\\_filter_design.py:3053\u001b[0m, in \u001b[0;36mbutter\u001b[1;34m(N, Wn, btype, analog, output, fs)\u001b[0m\n\u001b[0;32m   2940\u001b[0m \u001b[39mdef\u001b[39;00m \u001b[39mbutter\u001b[39m(N, Wn, btype\u001b[39m=\u001b[39m\u001b[39m'\u001b[39m\u001b[39mlow\u001b[39m\u001b[39m'\u001b[39m, analog\u001b[39m=\u001b[39m\u001b[39mFalse\u001b[39;00m, output\u001b[39m=\u001b[39m\u001b[39m'\u001b[39m\u001b[39mba\u001b[39m\u001b[39m'\u001b[39m, fs\u001b[39m=\u001b[39m\u001b[39mNone\u001b[39;00m):\n\u001b[0;32m   2941\u001b[0m     \u001b[39m\"\"\"\u001b[39;00m\n\u001b[0;32m   2942\u001b[0m \u001b[39m    Butterworth digital and analog filter design.\u001b[39;00m\n\u001b[0;32m   2943\u001b[0m \n\u001b[1;32m   (...)\u001b[0m\n\u001b[0;32m   3051\u001b[0m \u001b[39m    >>> plt.show()\u001b[39;00m\n\u001b[0;32m   3052\u001b[0m \u001b[39m    \"\"\"\u001b[39;00m\n\u001b[1;32m-> 3053\u001b[0m     \u001b[39mreturn\u001b[39;00m iirfilter(N, Wn, btype\u001b[39m=\u001b[39;49mbtype, analog\u001b[39m=\u001b[39;49manalog,\n\u001b[0;32m   3054\u001b[0m                      output\u001b[39m=\u001b[39;49moutput, ftype\u001b[39m=\u001b[39;49m\u001b[39m'\u001b[39;49m\u001b[39mbutter\u001b[39;49m\u001b[39m'\u001b[39;49m, fs\u001b[39m=\u001b[39;49mfs)\n",
      "File \u001b[1;32m~\\AppData\\Local\\Packages\\PythonSoftwareFoundation.Python.3.10_qbz5n2kfra8p0\\LocalCache\\local-packages\\Python310\\site-packages\\scipy\\signal\\_filter_design.py:2557\u001b[0m, in \u001b[0;36miirfilter\u001b[1;34m(N, Wn, rp, rs, btype, analog, ftype, output, fs)\u001b[0m\n\u001b[0;32m   2555\u001b[0m     \u001b[39mreturn\u001b[39;00m z, p, k\n\u001b[0;32m   2556\u001b[0m \u001b[39melif\u001b[39;00m output \u001b[39m==\u001b[39m \u001b[39m'\u001b[39m\u001b[39mba\u001b[39m\u001b[39m'\u001b[39m:\n\u001b[1;32m-> 2557\u001b[0m     \u001b[39mreturn\u001b[39;00m zpk2tf(z, p, k)\n\u001b[0;32m   2558\u001b[0m \u001b[39melif\u001b[39;00m output \u001b[39m==\u001b[39m \u001b[39m'\u001b[39m\u001b[39msos\u001b[39m\u001b[39m'\u001b[39m:\n\u001b[0;32m   2559\u001b[0m     \u001b[39mreturn\u001b[39;00m zpk2sos(z, p, k, analog\u001b[39m=\u001b[39manalog)\n",
      "File \u001b[1;32m~\\AppData\\Local\\Packages\\PythonSoftwareFoundation.Python.3.10_qbz5n2kfra8p0\\LocalCache\\local-packages\\Python310\\site-packages\\scipy\\signal\\_filter_design.py:1121\u001b[0m, in \u001b[0;36mzpk2tf\u001b[1;34m(z, p, k)\u001b[0m\n\u001b[0;32m   1119\u001b[0m \u001b[39melse\u001b[39;00m:\n\u001b[0;32m   1120\u001b[0m     b \u001b[39m=\u001b[39m k \u001b[39m*\u001b[39m poly(z)\n\u001b[1;32m-> 1121\u001b[0m a \u001b[39m=\u001b[39m atleast_1d(poly(p))\n\u001b[0;32m   1123\u001b[0m \u001b[39m# Use real output if possible. Copied from numpy.poly, since\u001b[39;00m\n\u001b[0;32m   1124\u001b[0m \u001b[39m# we can't depend on a specific version of numpy.\u001b[39;00m\n\u001b[0;32m   1125\u001b[0m \u001b[39mif\u001b[39;00m \u001b[39missubclass\u001b[39m(b\u001b[39m.\u001b[39mdtype\u001b[39m.\u001b[39mtype, numpy\u001b[39m.\u001b[39mcomplexfloating):\n\u001b[0;32m   1126\u001b[0m     \u001b[39m# if complex roots are all complex conjugates, the roots are real.\u001b[39;00m\n",
      "File \u001b[1;32m<__array_function__ internals>:180\u001b[0m, in \u001b[0;36mpoly\u001b[1;34m(*args, **kwargs)\u001b[0m\n",
      "File \u001b[1;32m~\\AppData\\Local\\Packages\\PythonSoftwareFoundation.Python.3.10_qbz5n2kfra8p0\\LocalCache\\local-packages\\Python310\\site-packages\\numpy\\lib\\polynomial.py:156\u001b[0m, in \u001b[0;36mpoly\u001b[1;34m(seq_of_zeros)\u001b[0m\n\u001b[0;32m    154\u001b[0m a \u001b[39m=\u001b[39m ones((\u001b[39m1\u001b[39m,), dtype\u001b[39m=\u001b[39mdt)\n\u001b[0;32m    155\u001b[0m \u001b[39mfor\u001b[39;00m zero \u001b[39min\u001b[39;00m seq_of_zeros:\n\u001b[1;32m--> 156\u001b[0m     a \u001b[39m=\u001b[39m NX\u001b[39m.\u001b[39;49mconvolve(a, array([\u001b[39m1\u001b[39;49m, \u001b[39m-\u001b[39;49mzero], dtype\u001b[39m=\u001b[39;49mdt), mode\u001b[39m=\u001b[39;49m\u001b[39m'\u001b[39;49m\u001b[39mfull\u001b[39;49m\u001b[39m'\u001b[39;49m)\n\u001b[0;32m    158\u001b[0m \u001b[39mif\u001b[39;00m \u001b[39missubclass\u001b[39m(a\u001b[39m.\u001b[39mdtype\u001b[39m.\u001b[39mtype, NX\u001b[39m.\u001b[39mcomplexfloating):\n\u001b[0;32m    159\u001b[0m     \u001b[39m# if complex roots are all complex conjugates, the roots are real.\u001b[39;00m\n\u001b[0;32m    160\u001b[0m     roots \u001b[39m=\u001b[39m NX\u001b[39m.\u001b[39masarray(seq_of_zeros, \u001b[39mcomplex\u001b[39m)\n",
      "File \u001b[1;32m<__array_function__ internals>:180\u001b[0m, in \u001b[0;36mconvolve\u001b[1;34m(*args, **kwargs)\u001b[0m\n",
      "File \u001b[1;32m~\\AppData\\Local\\Packages\\PythonSoftwareFoundation.Python.3.10_qbz5n2kfra8p0\\LocalCache\\local-packages\\Python310\\site-packages\\numpy\\core\\numeric.py:850\u001b[0m, in \u001b[0;36mconvolve\u001b[1;34m(a, v, mode)\u001b[0m\n\u001b[0;32m    848\u001b[0m \u001b[39mif\u001b[39;00m \u001b[39mlen\u001b[39m(v) \u001b[39m==\u001b[39m \u001b[39m0\u001b[39m:\n\u001b[0;32m    849\u001b[0m     \u001b[39mraise\u001b[39;00m \u001b[39mValueError\u001b[39;00m(\u001b[39m'\u001b[39m\u001b[39mv cannot be empty\u001b[39m\u001b[39m'\u001b[39m)\n\u001b[1;32m--> 850\u001b[0m \u001b[39mreturn\u001b[39;00m multiarray\u001b[39m.\u001b[39;49mcorrelate(a, v[::\u001b[39m-\u001b[39;49m\u001b[39m1\u001b[39;49m], mode)\n",
      "\u001b[1;31mKeyboardInterrupt\u001b[0m: "
     ]
    }
   ],
   "source": [
    "# train data\n",
    "all_chunks = []\n",
    "all_labels = []\n",
    "for i, file in enumerate(ger_train_files):\n",
    "    chunks, labels, success = feature_contour(file, False)\n",
    "\n",
    "    if success:\n",
    "        all_chunks.extend(chunks)\n",
    "        all_labels.extend(labels)   \n",
    "\n",
    "    clear_output(wait=True)\n",
    "    print(\"Processed: {}/{}\".format(i+1, len(ger_train_files)), end=\"\\r\")\n",
    "    print(\"Progress: {:.2f}%\".format((i+1)/len(ger_train_files)*100), end=\"\\r\")"
   ]
  },
  {
   "cell_type": "code",
   "execution_count": null,
   "metadata": {},
   "outputs": [
    {
     "name": "stdout",
     "output_type": "stream",
     "text": [
      "Progress: 99.96%\rProcessed: 2290/2291\r"
     ]
    }
   ],
   "source": [
    "# train data\n",
    "all_chunks = []\n",
    "all_labels = []\n",
    "for i, file in enumerate(ita_train_files):\n",
    "    chunks, labels = feature_contour(file, False)\n",
    "    if chunks == None:\n",
    "        continue\n",
    "    all_chunks.extend(chunks)\n",
    "    all_labels.extend(labels)\n",
    "\n",
    "    print(\"Progress: {:.2f}%\".format((i+1)/len(ita_train_files)*100), end=\"\\r\")\n",
    "    print(\"Processed: {}/{}\".format(i+1, len(ita_train_files)), end=\"\\r\")\n",
    "    clear_output(wait=True)"
   ]
  },
  {
   "cell_type": "code",
   "execution_count": null,
   "metadata": {},
   "outputs": [],
   "source": [
    "# save train data as pickle\n",
    "df = pd.DataFrame({'contour': all_chunks, 'labels': all_labels})\n",
    "df.to_pickle('../saved/ger_train_onlypoly.pkl')"
   ]
  },
  {
   "cell_type": "code",
   "execution_count": null,
   "metadata": {},
   "outputs": [
    {
     "name": "stdout",
     "output_type": "stream",
     "text": [
      "Progress: 100.00%\rProcessed: 1768/1768\r"
     ]
    }
   ],
   "source": [
    "# test data\n",
    "test_chunks = []\n",
    "test_labels = []\n",
    "\n",
    "for i, file in enumerate(ger_test_files):\n",
    "    chunks, labels, success = feature_contour(file, True)\n",
    "    \n",
    "    if success:\n",
    "        test_chunks.extend(chunks)\n",
    "        test_labels.extend(labels)\n",
    "\n",
    "    clear_output(wait=True)\n",
    "    print(\"Progress: {:.2f}%\".format((i+1)/len(ger_test_files)*100), end=\"\\r\")\n",
    "    print(\"Processed: {}/{}\".format(i+1, len(ger_test_files)), end=\"\\r\")"
   ]
  },
  {
   "cell_type": "code",
   "execution_count": null,
   "metadata": {},
   "outputs": [],
   "source": [
    "# save train data as pickle\n",
    "df = pd.DataFrame({'contour': test_chunks, 'labels': test_labels})\n",
    "df.to_pickle('../saved/ger_test_onlypoly.pkl')"
   ]
  },
  {
   "cell_type": "code",
   "execution_count": null,
   "metadata": {},
   "outputs": [
    {
     "name": "stdout",
     "output_type": "stream",
     "text": [
      "Progress: 99.70%\rProcessed: 1685/1690\r"
     ]
    }
   ],
   "source": [
    "# test data\n",
    "test_chunks = []\n",
    "test_labels = []\n",
    "\n",
    "for i, file in enumerate(ger_test_files):\n",
    "    chunks, labels, success = feature_contour(file, True)\n",
    "    if not success:\n",
    "        continue\n",
    "    test_chunks.extend(chunks)\n",
    "    test_labels.extend(labels)\n",
    "\n",
    "    print(\"Progress: {:.2f}%\".format((i+1)/len(ita_test_files)*100), end=\"\\r\")\n",
    "    print(\"Processed: {}/{}\".format(i+1, len(ita_test_files)), end=\"\\r\")\n",
    "    clear_output(wait=True)"
   ]
  },
  {
   "cell_type": "code",
   "execution_count": null,
   "metadata": {},
   "outputs": [],
   "source": [
    "# save train data as pickle\n",
    "df = pd.DataFrame({'contour': test_chunks, 'labels': test_labels})\n",
    "df.to_pickle('ita_test.pkl')"
   ]
  },
  {
   "cell_type": "code",
   "execution_count": null,
   "metadata": {},
   "outputs": [
    {
     "name": "stdout",
     "output_type": "stream",
     "text": [
      "12524\n"
     ]
    }
   ],
   "source": [
    "print(len(test_chunks))"
   ]
  },
  {
   "cell_type": "code",
   "execution_count": null,
   "metadata": {},
   "outputs": [
    {
     "data": {
      "text/html": [
       "<div>\n",
       "<style scoped>\n",
       "    .dataframe tbody tr th:only-of-type {\n",
       "        vertical-align: middle;\n",
       "    }\n",
       "\n",
       "    .dataframe tbody tr th {\n",
       "        vertical-align: top;\n",
       "    }\n",
       "\n",
       "    .dataframe thead th {\n",
       "        text-align: right;\n",
       "    }\n",
       "</style>\n",
       "<table border=\"1\" class=\"dataframe\">\n",
       "  <thead>\n",
       "    <tr style=\"text-align: right;\">\n",
       "      <th></th>\n",
       "      <th>chunks</th>\n",
       "      <th>labels</th>\n",
       "    </tr>\n",
       "  </thead>\n",
       "  <tbody>\n",
       "    <tr>\n",
       "      <th>0</th>\n",
       "      <td>[0.01659550862520646, 0.01659550862520646, 0.0...</td>\n",
       "      <td>1</td>\n",
       "    </tr>\n",
       "    <tr>\n",
       "      <th>1</th>\n",
       "      <td>[0.20705475938828283, 0.20705475938828283, 0.1...</td>\n",
       "      <td>1</td>\n",
       "    </tr>\n",
       "    <tr>\n",
       "      <th>2</th>\n",
       "      <td>[0.0853309212266154, 0.0853309212266154, 0.085...</td>\n",
       "      <td>1</td>\n",
       "    </tr>\n",
       "    <tr>\n",
       "      <th>3</th>\n",
       "      <td>[0.017483717247693344, 0.017483717247693344, 0...</td>\n",
       "      <td>1</td>\n",
       "    </tr>\n",
       "    <tr>\n",
       "      <th>4</th>\n",
       "      <td>[0.015928296040650866, 0.015928296040650866, 0...</td>\n",
       "      <td>1</td>\n",
       "    </tr>\n",
       "  </tbody>\n",
       "</table>\n",
       "</div>"
      ],
      "text/plain": [
       "                                              chunks  labels\n",
       "0  [0.01659550862520646, 0.01659550862520646, 0.0...       1\n",
       "1  [0.20705475938828283, 0.20705475938828283, 0.1...       1\n",
       "2  [0.0853309212266154, 0.0853309212266154, 0.085...       1\n",
       "3  [0.017483717247693344, 0.017483717247693344, 0...       1\n",
       "4  [0.015928296040650866, 0.015928296040650866, 0...       1"
      ]
     },
     "execution_count": 27,
     "metadata": {},
     "output_type": "execute_result"
    }
   ],
   "source": [
    "# make a dataframe\n",
    "df = pd.DataFrame({'contour': all_chunks, 'labels': all_labels})\n",
    "df.head()"
   ]
  },
  {
   "cell_type": "code",
   "execution_count": null,
   "metadata": {},
   "outputs": [],
   "source": [
    "# save the dataframe\n",
    "df.to_pickle('data.pkl')"
   ]
  },
  {
   "cell_type": "code",
   "execution_count": null,
   "metadata": {},
   "outputs": [],
   "source": [
    "# load the dataframe\n",
    "df2 = pd.read_pickle('data.pkl')"
   ]
  },
  {
   "cell_type": "code",
   "execution_count": null,
   "metadata": {},
   "outputs": [
    {
     "data": {
      "text/html": [
       "<div>\n",
       "<style scoped>\n",
       "    .dataframe tbody tr th:only-of-type {\n",
       "        vertical-align: middle;\n",
       "    }\n",
       "\n",
       "    .dataframe tbody tr th {\n",
       "        vertical-align: top;\n",
       "    }\n",
       "\n",
       "    .dataframe thead th {\n",
       "        text-align: right;\n",
       "    }\n",
       "</style>\n",
       "<table border=\"1\" class=\"dataframe\">\n",
       "  <thead>\n",
       "    <tr style=\"text-align: right;\">\n",
       "      <th></th>\n",
       "      <th>chunks</th>\n",
       "    </tr>\n",
       "  </thead>\n",
       "  <tbody>\n",
       "    <tr>\n",
       "      <th>0</th>\n",
       "      <td>[0.013564021110304844, 0.013564021110304844, 0...</td>\n",
       "    </tr>\n",
       "    <tr>\n",
       "      <th>1</th>\n",
       "      <td>[0.4396198379683321, 0.4396198379683321, 0.280...</td>\n",
       "    </tr>\n",
       "    <tr>\n",
       "      <th>2</th>\n",
       "      <td>[0.08664379438552769, 0.08664379438552769, 0.1...</td>\n",
       "    </tr>\n",
       "    <tr>\n",
       "      <th>3</th>\n",
       "      <td>[0.05106373959591337, 0.05106373959591337, 0.0...</td>\n",
       "    </tr>\n",
       "    <tr>\n",
       "      <th>4</th>\n",
       "      <td>[0.011421340988226685, 0.011421340988226685, 0...</td>\n",
       "    </tr>\n",
       "  </tbody>\n",
       "</table>\n",
       "</div>"
      ],
      "text/plain": [
       "                                              chunks\n",
       "0  [0.013564021110304844, 0.013564021110304844, 0...\n",
       "1  [0.4396198379683321, 0.4396198379683321, 0.280...\n",
       "2  [0.08664379438552769, 0.08664379438552769, 0.1...\n",
       "3  [0.05106373959591337, 0.05106373959591337, 0.0...\n",
       "4  [0.011421340988226685, 0.011421340988226685, 0..."
      ]
     },
     "execution_count": 32,
     "metadata": {},
     "output_type": "execute_result"
    }
   ],
   "source": [
    "df = pd.DataFrame({'contour': test_chunks})\n",
    "df.head()"
   ]
  },
  {
   "cell_type": "code",
   "execution_count": null,
   "metadata": {},
   "outputs": [],
   "source": [
    "df.to_pickle('test.pkl')"
   ]
  }
 ],
 "metadata": {
  "kernelspec": {
   "display_name": "Python 3",
   "language": "python",
   "name": "python3"
  },
  "language_info": {
   "codemirror_mode": {
    "name": "ipython",
    "version": 3
   },
   "file_extension": ".py",
   "mimetype": "text/x-python",
   "name": "python",
   "nbconvert_exporter": "python",
   "pygments_lexer": "ipython3",
   "version": "3.10.11"
  },
  "orig_nbformat": 4,
  "vscode": {
   "interpreter": {
    "hash": "94f4693ad758032fd28f9ecc08daa4776caeeaf7af79843cea3e1525fe817927"
   }
  }
 },
 "nbformat": 4,
 "nbformat_minor": 2
}
